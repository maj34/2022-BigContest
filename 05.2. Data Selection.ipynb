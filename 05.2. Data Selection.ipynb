{
 "cells": [
  {
   "cell_type": "markdown",
   "id": "63e6a4ed",
   "metadata": {},
   "source": [
    "# <font color='CC3D3D'> Data Selection\n",
    "    \n",
    "### 1. Pycaret\n",
    "- 통합한 <span style=\"color:green\">**Master_df.csv** </span>를 가지고 Pycaret을 가지고 Feature Importance를 확인"
   ]
  },
  {
   "cell_type": "markdown",
   "id": "c96f590f-9adc-4075-8a66-8e6f15caf398",
   "metadata": {},
   "source": [
    "# Import"
   ]
  },
  {
   "cell_type": "code",
   "execution_count": 1,
   "id": "06899787-196f-46c2-b749-a2befe998457",
   "metadata": {},
   "outputs": [],
   "source": [
    "import pandas as pd\n",
    "from pycaret.classification import *"
   ]
  },
  {
   "cell_type": "markdown",
   "id": "5e138c95-a09c-4f63-bed9-cb733f20d65c",
   "metadata": {},
   "source": [
    "# Data Load"
   ]
  },
  {
   "cell_type": "code",
   "execution_count": 2,
   "id": "46378126-3512-4988-82bd-d32805eafd0a",
   "metadata": {},
   "outputs": [],
   "source": [
    "Master_df = pd.read_csv('../Data/Master_df.csv')"
   ]
  },
  {
   "cell_type": "code",
   "execution_count": null,
   "id": "ccc28b05",
   "metadata": {},
   "outputs": [],
   "source": [
    "Master_train = Master_df[Master_df.month < 6].reset_index(drop=True)"
   ]
  },
  {
   "cell_type": "code",
   "execution_count": 3,
   "id": "76f41658-4d5c-425d-a6b6-cadf6582e052",
   "metadata": {},
   "outputs": [],
   "source": [
    "Master_train.drop(['application_id','user_id'],axis=1,inplace=True)"
   ]
  },
  {
   "cell_type": "markdown",
   "id": "9f48653d-abfb-43cf-8b46-0e197c89f60e",
   "metadata": {},
   "source": [
    "# Pycaret"
   ]
  },
  {
   "cell_type": "code",
   "execution_count": null,
   "id": "4c2274ff-18db-45d3-9151-5c41bae120fe",
   "metadata": {},
   "outputs": [
    {
     "data": {
      "application/vnd.jupyter.widget-view+json": {
       "model_id": "24777b2408384d99836460857e6d7f5a",
       "version_major": 2,
       "version_minor": 0
      },
      "text/plain": [
       "IntProgress(value=0, description='Processing: ', max=3)"
      ]
     },
     "metadata": {},
     "output_type": "display_data"
    },
    {
     "data": {
      "text/html": [
       "<div>\n",
       "<style scoped>\n",
       "    .dataframe tbody tr th:only-of-type {\n",
       "        vertical-align: middle;\n",
       "    }\n",
       "\n",
       "    .dataframe tbody tr th {\n",
       "        vertical-align: top;\n",
       "    }\n",
       "\n",
       "    .dataframe thead th {\n",
       "        text-align: right;\n",
       "    }\n",
       "</style>\n",
       "<table border=\"1\" class=\"dataframe\">\n",
       "  <thead>\n",
       "    <tr style=\"text-align: right;\">\n",
       "      <th></th>\n",
       "      <th></th>\n",
       "      <th></th>\n",
       "    </tr>\n",
       "    <tr>\n",
       "      <th></th>\n",
       "      <th></th>\n",
       "      <th></th>\n",
       "    </tr>\n",
       "  </thead>\n",
       "  <tbody>\n",
       "    <tr>\n",
       "      <th>Initiated</th>\n",
       "      <td>. . . . . . . . . . . . . . . . . .</td>\n",
       "      <td>13:49:42</td>\n",
       "    </tr>\n",
       "    <tr>\n",
       "      <th>Status</th>\n",
       "      <td>. . . . . . . . . . . . . . . . . .</td>\n",
       "      <td>Preprocessing Data</td>\n",
       "    </tr>\n",
       "  </tbody>\n",
       "</table>\n",
       "</div>"
      ],
      "text/plain": [
       "                                                                  \n",
       "                                                                  \n",
       "Initiated  . . . . . . . . . . . . . . . . . .            13:49:42\n",
       "Status     . . . . . . . . . . . . . . . . . .  Preprocessing Data"
      ]
     },
     "metadata": {},
     "output_type": "display_data"
    }
   ],
   "source": [
    "exp_clf = setup(data = Master_train, target = 'is_applied', session_id=123)"
   ]
  },
  {
   "cell_type": "code",
   "execution_count": 7,
   "id": "ed2ee6dd-4ea9-47ee-a3d3-9b09b5bea6f6",
   "metadata": {},
   "outputs": [
    {
     "data": {
      "text/html": [
       "<style type=\"text/css\">\n",
       "#T_7b59e th {\n",
       "  text-align: left;\n",
       "}\n",
       "#T_7b59e_row0_col0, #T_7b59e_row0_col1, #T_7b59e_row0_col2, #T_7b59e_row0_col4, #T_7b59e_row0_col7, #T_7b59e_row1_col0, #T_7b59e_row1_col2, #T_7b59e_row1_col3, #T_7b59e_row1_col4, #T_7b59e_row1_col5, #T_7b59e_row1_col6, #T_7b59e_row2_col0, #T_7b59e_row2_col1, #T_7b59e_row2_col3, #T_7b59e_row2_col4, #T_7b59e_row2_col5, #T_7b59e_row2_col6, #T_7b59e_row2_col7, #T_7b59e_row3_col0, #T_7b59e_row3_col1, #T_7b59e_row3_col2, #T_7b59e_row3_col3, #T_7b59e_row3_col4, #T_7b59e_row3_col5, #T_7b59e_row3_col6, #T_7b59e_row3_col7, #T_7b59e_row4_col0, #T_7b59e_row4_col1, #T_7b59e_row4_col2, #T_7b59e_row4_col3, #T_7b59e_row4_col4, #T_7b59e_row4_col5, #T_7b59e_row4_col6, #T_7b59e_row4_col7, #T_7b59e_row5_col0, #T_7b59e_row5_col1, #T_7b59e_row5_col2, #T_7b59e_row5_col3, #T_7b59e_row5_col5, #T_7b59e_row5_col6, #T_7b59e_row5_col7, #T_7b59e_row6_col0, #T_7b59e_row6_col1, #T_7b59e_row6_col2, #T_7b59e_row6_col3, #T_7b59e_row6_col4, #T_7b59e_row6_col5, #T_7b59e_row6_col6, #T_7b59e_row6_col7, #T_7b59e_row7_col0, #T_7b59e_row7_col1, #T_7b59e_row7_col2, #T_7b59e_row7_col3, #T_7b59e_row7_col4, #T_7b59e_row7_col5, #T_7b59e_row7_col6, #T_7b59e_row7_col7, #T_7b59e_row8_col0, #T_7b59e_row8_col1, #T_7b59e_row8_col2, #T_7b59e_row8_col3, #T_7b59e_row8_col4, #T_7b59e_row8_col5, #T_7b59e_row8_col6, #T_7b59e_row8_col7, #T_7b59e_row9_col0, #T_7b59e_row9_col1, #T_7b59e_row9_col2, #T_7b59e_row9_col3, #T_7b59e_row9_col4, #T_7b59e_row9_col5, #T_7b59e_row9_col6, #T_7b59e_row9_col7, #T_7b59e_row10_col0, #T_7b59e_row10_col1, #T_7b59e_row10_col2, #T_7b59e_row10_col3, #T_7b59e_row10_col4, #T_7b59e_row10_col5, #T_7b59e_row10_col6, #T_7b59e_row10_col7, #T_7b59e_row11_col0, #T_7b59e_row11_col1, #T_7b59e_row11_col2, #T_7b59e_row11_col3, #T_7b59e_row11_col4, #T_7b59e_row11_col5, #T_7b59e_row11_col6, #T_7b59e_row11_col7, #T_7b59e_row12_col0, #T_7b59e_row12_col1, #T_7b59e_row12_col2, #T_7b59e_row12_col3, #T_7b59e_row12_col4, #T_7b59e_row12_col5, #T_7b59e_row12_col6, #T_7b59e_row12_col7, #T_7b59e_row13_col0, #T_7b59e_row13_col1, #T_7b59e_row13_col2, #T_7b59e_row13_col3, #T_7b59e_row13_col4, #T_7b59e_row13_col5, #T_7b59e_row13_col6, #T_7b59e_row13_col7, #T_7b59e_row14_col0, #T_7b59e_row14_col1, #T_7b59e_row14_col2, #T_7b59e_row14_col3, #T_7b59e_row14_col4, #T_7b59e_row14_col5, #T_7b59e_row14_col6, #T_7b59e_row14_col7, #T_7b59e_row15_col0, #T_7b59e_row15_col1, #T_7b59e_row15_col2, #T_7b59e_row15_col3, #T_7b59e_row15_col4, #T_7b59e_row15_col5, #T_7b59e_row15_col6, #T_7b59e_row15_col7 {\n",
       "  text-align: left;\n",
       "}\n",
       "#T_7b59e_row0_col3, #T_7b59e_row0_col5, #T_7b59e_row0_col6, #T_7b59e_row1_col1, #T_7b59e_row1_col7, #T_7b59e_row2_col2, #T_7b59e_row5_col4 {\n",
       "  text-align: left;\n",
       "  background-color: yellow;\n",
       "}\n",
       "#T_7b59e_row0_col8, #T_7b59e_row1_col8, #T_7b59e_row2_col8, #T_7b59e_row3_col8, #T_7b59e_row4_col8, #T_7b59e_row5_col8, #T_7b59e_row6_col8, #T_7b59e_row7_col8, #T_7b59e_row8_col8, #T_7b59e_row9_col8, #T_7b59e_row10_col8, #T_7b59e_row11_col8, #T_7b59e_row12_col8, #T_7b59e_row13_col8, #T_7b59e_row14_col8 {\n",
       "  text-align: left;\n",
       "  background-color: lightgrey;\n",
       "}\n",
       "#T_7b59e_row15_col8 {\n",
       "  text-align: left;\n",
       "  background-color: yellow;\n",
       "  background-color: lightgrey;\n",
       "}\n",
       "</style>\n",
       "<table id=\"T_7b59e\">\n",
       "  <thead>\n",
       "    <tr>\n",
       "      <th class=\"blank level0\" >&nbsp;</th>\n",
       "      <th id=\"T_7b59e_level0_col0\" class=\"col_heading level0 col0\" >Model</th>\n",
       "      <th id=\"T_7b59e_level0_col1\" class=\"col_heading level0 col1\" >Accuracy</th>\n",
       "      <th id=\"T_7b59e_level0_col2\" class=\"col_heading level0 col2\" >AUC</th>\n",
       "      <th id=\"T_7b59e_level0_col3\" class=\"col_heading level0 col3\" >Recall</th>\n",
       "      <th id=\"T_7b59e_level0_col4\" class=\"col_heading level0 col4\" >Prec.</th>\n",
       "      <th id=\"T_7b59e_level0_col5\" class=\"col_heading level0 col5\" >F1</th>\n",
       "      <th id=\"T_7b59e_level0_col6\" class=\"col_heading level0 col6\" >Kappa</th>\n",
       "      <th id=\"T_7b59e_level0_col7\" class=\"col_heading level0 col7\" >MCC</th>\n",
       "      <th id=\"T_7b59e_level0_col8\" class=\"col_heading level0 col8\" >TT (Sec)</th>\n",
       "    </tr>\n",
       "  </thead>\n",
       "  <tbody>\n",
       "    <tr>\n",
       "      <th id=\"T_7b59e_level0_row0\" class=\"row_heading level0 row0\" >dt</th>\n",
       "      <td id=\"T_7b59e_row0_col0\" class=\"data row0 col0\" >Decision Tree Classifier</td>\n",
       "      <td id=\"T_7b59e_row0_col1\" class=\"data row0 col1\" >0.9176</td>\n",
       "      <td id=\"T_7b59e_row0_col2\" class=\"data row0 col2\" >0.6151</td>\n",
       "      <td id=\"T_7b59e_row0_col3\" class=\"data row0 col3\" >0.2744</td>\n",
       "      <td id=\"T_7b59e_row0_col4\" class=\"data row0 col4\" >0.2592</td>\n",
       "      <td id=\"T_7b59e_row0_col5\" class=\"data row0 col5\" >0.2666</td>\n",
       "      <td id=\"T_7b59e_row0_col6\" class=\"data row0 col6\" >0.2230</td>\n",
       "      <td id=\"T_7b59e_row0_col7\" class=\"data row0 col7\" >0.2231</td>\n",
       "      <td id=\"T_7b59e_row0_col8\" class=\"data row0 col8\" >123.3810</td>\n",
       "    </tr>\n",
       "    <tr>\n",
       "      <th id=\"T_7b59e_level0_row1\" class=\"row_heading level0 row1\" >catboost</th>\n",
       "      <td id=\"T_7b59e_row1_col0\" class=\"data row1 col0\" >CatBoost Classifier</td>\n",
       "      <td id=\"T_7b59e_row1_col1\" class=\"data row1 col1\" >0.9469</td>\n",
       "      <td id=\"T_7b59e_row1_col2\" class=\"data row1 col2\" >0.8856</td>\n",
       "      <td id=\"T_7b59e_row1_col3\" class=\"data row1 col3\" >0.1011</td>\n",
       "      <td id=\"T_7b59e_row1_col4\" class=\"data row1 col4\" >0.5763</td>\n",
       "      <td id=\"T_7b59e_row1_col5\" class=\"data row1 col5\" >0.1721</td>\n",
       "      <td id=\"T_7b59e_row1_col6\" class=\"data row1 col6\" >0.1583</td>\n",
       "      <td id=\"T_7b59e_row1_col7\" class=\"data row1 col7\" >0.2258</td>\n",
       "      <td id=\"T_7b59e_row1_col8\" class=\"data row1 col8\" >432.6930</td>\n",
       "    </tr>\n",
       "    <tr>\n",
       "      <th id=\"T_7b59e_level0_row2\" class=\"row_heading level0 row2\" >rf</th>\n",
       "      <td id=\"T_7b59e_row2_col0\" class=\"data row2 col0\" >Random Forest Classifier</td>\n",
       "      <td id=\"T_7b59e_row2_col1\" class=\"data row2 col1\" >0.9455</td>\n",
       "      <td id=\"T_7b59e_row2_col2\" class=\"data row2 col2\" >0.8971</td>\n",
       "      <td id=\"T_7b59e_row2_col3\" class=\"data row2 col3\" >0.0629</td>\n",
       "      <td id=\"T_7b59e_row2_col4\" class=\"data row2 col4\" >0.5099</td>\n",
       "      <td id=\"T_7b59e_row2_col5\" class=\"data row2 col5\" >0.1119</td>\n",
       "      <td id=\"T_7b59e_row2_col6\" class=\"data row2 col6\" >0.1012</td>\n",
       "      <td id=\"T_7b59e_row2_col7\" class=\"data row2 col7\" >0.1650</td>\n",
       "      <td id=\"T_7b59e_row2_col8\" class=\"data row2 col8\" >788.1160</td>\n",
       "    </tr>\n",
       "    <tr>\n",
       "      <th id=\"T_7b59e_level0_row3\" class=\"row_heading level0 row3\" >ada</th>\n",
       "      <td id=\"T_7b59e_row3_col0\" class=\"data row3 col0\" >Ada Boost Classifier</td>\n",
       "      <td id=\"T_7b59e_row3_col1\" class=\"data row3 col1\" >0.9432</td>\n",
       "      <td id=\"T_7b59e_row3_col2\" class=\"data row3 col2\" >0.8278</td>\n",
       "      <td id=\"T_7b59e_row3_col3\" class=\"data row3 col3\" >0.0472</td>\n",
       "      <td id=\"T_7b59e_row3_col4\" class=\"data row3 col4\" >0.3520</td>\n",
       "      <td id=\"T_7b59e_row3_col5\" class=\"data row3 col5\" >0.0833</td>\n",
       "      <td id=\"T_7b59e_row3_col6\" class=\"data row3 col6\" >0.0713</td>\n",
       "      <td id=\"T_7b59e_row3_col7\" class=\"data row3 col7\" >0.1124</td>\n",
       "      <td id=\"T_7b59e_row3_col8\" class=\"data row3 col8\" >355.2560</td>\n",
       "    </tr>\n",
       "    <tr>\n",
       "      <th id=\"T_7b59e_level0_row4\" class=\"row_heading level0 row4\" >xgboost</th>\n",
       "      <td id=\"T_7b59e_row4_col0\" class=\"data row4 col0\" >Extreme Gradient Boosting</td>\n",
       "      <td id=\"T_7b59e_row4_col1\" class=\"data row4 col1\" >0.5678</td>\n",
       "      <td id=\"T_7b59e_row4_col2\" class=\"data row4 col2\" >0.5252</td>\n",
       "      <td id=\"T_7b59e_row4_col3\" class=\"data row4 col3\" >0.0405</td>\n",
       "      <td id=\"T_7b59e_row4_col4\" class=\"data row4 col4\" >0.3440</td>\n",
       "      <td id=\"T_7b59e_row4_col5\" class=\"data row4 col5\" >0.0724</td>\n",
       "      <td id=\"T_7b59e_row4_col6\" class=\"data row4 col6\" >0.0663</td>\n",
       "      <td id=\"T_7b59e_row4_col7\" class=\"data row4 col7\" >0.1101</td>\n",
       "      <td id=\"T_7b59e_row4_col8\" class=\"data row4 col8\" >1121.6630</td>\n",
       "    </tr>\n",
       "    <tr>\n",
       "      <th id=\"T_7b59e_level0_row5\" class=\"row_heading level0 row5\" >lightgbm</th>\n",
       "      <td id=\"T_7b59e_row5_col0\" class=\"data row5 col0\" >Light Gradient Boosting Machine</td>\n",
       "      <td id=\"T_7b59e_row5_col1\" class=\"data row5 col1\" >0.9460</td>\n",
       "      <td id=\"T_7b59e_row5_col2\" class=\"data row5 col2\" >0.8679</td>\n",
       "      <td id=\"T_7b59e_row5_col3\" class=\"data row5 col3\" >0.0379</td>\n",
       "      <td id=\"T_7b59e_row5_col4\" class=\"data row5 col4\" >0.5867</td>\n",
       "      <td id=\"T_7b59e_row5_col5\" class=\"data row5 col5\" >0.0711</td>\n",
       "      <td id=\"T_7b59e_row5_col6\" class=\"data row5 col6\" >0.0649</td>\n",
       "      <td id=\"T_7b59e_row5_col7\" class=\"data row5 col7\" >0.1392</td>\n",
       "      <td id=\"T_7b59e_row5_col8\" class=\"data row5 col8\" >37.6920</td>\n",
       "    </tr>\n",
       "    <tr>\n",
       "      <th id=\"T_7b59e_level0_row6\" class=\"row_heading level0 row6\" >knn</th>\n",
       "      <td id=\"T_7b59e_row6_col0\" class=\"data row6 col0\" >K Neighbors Classifier</td>\n",
       "      <td id=\"T_7b59e_row6_col1\" class=\"data row6 col1\" >0.5653</td>\n",
       "      <td id=\"T_7b59e_row6_col2\" class=\"data row6 col2\" >0.3868</td>\n",
       "      <td id=\"T_7b59e_row6_col3\" class=\"data row6 col3\" >0.0283</td>\n",
       "      <td id=\"T_7b59e_row6_col4\" class=\"data row6 col4\" >0.1840</td>\n",
       "      <td id=\"T_7b59e_row6_col5\" class=\"data row6 col5\" >0.0490</td>\n",
       "      <td id=\"T_7b59e_row6_col6\" class=\"data row6 col6\" >0.0409</td>\n",
       "      <td id=\"T_7b59e_row6_col7\" class=\"data row6 col7\" >0.0612</td>\n",
       "      <td id=\"T_7b59e_row6_col8\" class=\"data row6 col8\" >587.7040</td>\n",
       "    </tr>\n",
       "    <tr>\n",
       "      <th id=\"T_7b59e_level0_row7\" class=\"row_heading level0 row7\" >gbc</th>\n",
       "      <td id=\"T_7b59e_row7_col0\" class=\"data row7 col0\" >Gradient Boosting Classifier</td>\n",
       "      <td id=\"T_7b59e_row7_col1\" class=\"data row7 col1\" >0.9453</td>\n",
       "      <td id=\"T_7b59e_row7_col2\" class=\"data row7 col2\" >0.8451</td>\n",
       "      <td id=\"T_7b59e_row7_col3\" class=\"data row7 col3\" >0.0243</td>\n",
       "      <td id=\"T_7b59e_row7_col4\" class=\"data row7 col4\" >0.4878</td>\n",
       "      <td id=\"T_7b59e_row7_col5\" class=\"data row7 col5\" >0.0463</td>\n",
       "      <td id=\"T_7b59e_row7_col6\" class=\"data row7 col6\" >0.0414</td>\n",
       "      <td id=\"T_7b59e_row7_col7\" class=\"data row7 col7\" >0.0996</td>\n",
       "      <td id=\"T_7b59e_row7_col8\" class=\"data row7 col8\" >1777.7680</td>\n",
       "    </tr>\n",
       "    <tr>\n",
       "      <th id=\"T_7b59e_level0_row8\" class=\"row_heading level0 row8\" >lda</th>\n",
       "      <td id=\"T_7b59e_row8_col0\" class=\"data row8 col0\" >Linear Discriminant Analysis</td>\n",
       "      <td id=\"T_7b59e_row8_col1\" class=\"data row8 col1\" >0.2794</td>\n",
       "      <td id=\"T_7b59e_row8_col2\" class=\"data row8 col2\" >0.2303</td>\n",
       "      <td id=\"T_7b59e_row8_col3\" class=\"data row8 col3\" >0.0303</td>\n",
       "      <td id=\"T_7b59e_row8_col4\" class=\"data row8 col4\" >0.0747</td>\n",
       "      <td id=\"T_7b59e_row8_col5\" class=\"data row8 col5\" >0.0385</td>\n",
       "      <td id=\"T_7b59e_row8_col6\" class=\"data row8 col6\" >0.0304</td>\n",
       "      <td id=\"T_7b59e_row8_col7\" class=\"data row8 col7\" >0.0357</td>\n",
       "      <td id=\"T_7b59e_row8_col8\" class=\"data row8 col8\" >207.9540</td>\n",
       "    </tr>\n",
       "    <tr>\n",
       "      <th id=\"T_7b59e_level0_row9\" class=\"row_heading level0 row9\" >qda</th>\n",
       "      <td id=\"T_7b59e_row9_col0\" class=\"data row9 col0\" >Quadratic Discriminant Analysis</td>\n",
       "      <td id=\"T_7b59e_row9_col1\" class=\"data row9 col1\" >0.4681</td>\n",
       "      <td id=\"T_7b59e_row9_col2\" class=\"data row9 col2\" >0.1205</td>\n",
       "      <td id=\"T_7b59e_row9_col3\" class=\"data row9 col3\" >0.1237</td>\n",
       "      <td id=\"T_7b59e_row9_col4\" class=\"data row9 col4\" >0.0243</td>\n",
       "      <td id=\"T_7b59e_row9_col5\" class=\"data row9 col5\" >0.0313</td>\n",
       "      <td id=\"T_7b59e_row9_col6\" class=\"data row9 col6\" >0.0098</td>\n",
       "      <td id=\"T_7b59e_row9_col7\" class=\"data row9 col7\" >0.0110</td>\n",
       "      <td id=\"T_7b59e_row9_col8\" class=\"data row9 col8\" >41.0430</td>\n",
       "    </tr>\n",
       "    <tr>\n",
       "      <th id=\"T_7b59e_level0_row10\" class=\"row_heading level0 row10\" >et</th>\n",
       "      <td id=\"T_7b59e_row10_col0\" class=\"data row10 col0\" >Extra Trees Classifier</td>\n",
       "      <td id=\"T_7b59e_row10_col1\" class=\"data row10 col1\" >0.1887</td>\n",
       "      <td id=\"T_7b59e_row10_col2\" class=\"data row10 col2\" >0.1732</td>\n",
       "      <td id=\"T_7b59e_row10_col3\" class=\"data row10 col3\" >0.0180</td>\n",
       "      <td id=\"T_7b59e_row10_col4\" class=\"data row10 col4\" >0.0829</td>\n",
       "      <td id=\"T_7b59e_row10_col5\" class=\"data row10 col5\" >0.0296</td>\n",
       "      <td id=\"T_7b59e_row10_col6\" class=\"data row10 col6\" >0.0262</td>\n",
       "      <td id=\"T_7b59e_row10_col7\" class=\"data row10 col7\" >0.0347</td>\n",
       "      <td id=\"T_7b59e_row10_col8\" class=\"data row10 col8\" >456.2260</td>\n",
       "    </tr>\n",
       "    <tr>\n",
       "      <th id=\"T_7b59e_level0_row11\" class=\"row_heading level0 row11\" >nb</th>\n",
       "      <td id=\"T_7b59e_row11_col0\" class=\"data row11 col0\" >Naive Bayes</td>\n",
       "      <td id=\"T_7b59e_row11_col1\" class=\"data row11 col1\" >0.9391</td>\n",
       "      <td id=\"T_7b59e_row11_col2\" class=\"data row11 col2\" >0.5168</td>\n",
       "      <td id=\"T_7b59e_row11_col3\" class=\"data row11 col3\" >0.0084</td>\n",
       "      <td id=\"T_7b59e_row11_col4\" class=\"data row11 col4\" >0.0634</td>\n",
       "      <td id=\"T_7b59e_row11_col5\" class=\"data row11 col5\" >0.0148</td>\n",
       "      <td id=\"T_7b59e_row11_col6\" class=\"data row11 col6\" >0.0021</td>\n",
       "      <td id=\"T_7b59e_row11_col7\" class=\"data row11 col7\" >0.0033</td>\n",
       "      <td id=\"T_7b59e_row11_col8\" class=\"data row11 col8\" >27.5680</td>\n",
       "    </tr>\n",
       "    <tr>\n",
       "      <th id=\"T_7b59e_level0_row12\" class=\"row_heading level0 row12\" >svm</th>\n",
       "      <td id=\"T_7b59e_row12_col0\" class=\"data row12 col0\" >SVM - Linear Kernel</td>\n",
       "      <td id=\"T_7b59e_row12_col1\" class=\"data row12 col1\" >0.4707</td>\n",
       "      <td id=\"T_7b59e_row12_col2\" class=\"data row12 col2\" >0.0000</td>\n",
       "      <td id=\"T_7b59e_row12_col3\" class=\"data row12 col3\" >0.0039</td>\n",
       "      <td id=\"T_7b59e_row12_col4\" class=\"data row12 col4\" >0.0959</td>\n",
       "      <td id=\"T_7b59e_row12_col5\" class=\"data row12 col5\" >0.0055</td>\n",
       "      <td id=\"T_7b59e_row12_col6\" class=\"data row12 col6\" >0.0021</td>\n",
       "      <td id=\"T_7b59e_row12_col7\" class=\"data row12 col7\" >0.0047</td>\n",
       "      <td id=\"T_7b59e_row12_col8\" class=\"data row12 col8\" >355.2510</td>\n",
       "    </tr>\n",
       "    <tr>\n",
       "      <th id=\"T_7b59e_level0_row13\" class=\"row_heading level0 row13\" >ridge</th>\n",
       "      <td id=\"T_7b59e_row13_col0\" class=\"data row13 col0\" >Ridge Classifier</td>\n",
       "      <td id=\"T_7b59e_row13_col1\" class=\"data row13 col1\" >0.4727</td>\n",
       "      <td id=\"T_7b59e_row13_col2\" class=\"data row13 col2\" >0.0000</td>\n",
       "      <td id=\"T_7b59e_row13_col3\" class=\"data row13 col3\" >0.0001</td>\n",
       "      <td id=\"T_7b59e_row13_col4\" class=\"data row13 col4\" >0.0602</td>\n",
       "      <td id=\"T_7b59e_row13_col5\" class=\"data row13 col5\" >0.0002</td>\n",
       "      <td id=\"T_7b59e_row13_col6\" class=\"data row13 col6\" >0.0001</td>\n",
       "      <td id=\"T_7b59e_row13_col7\" class=\"data row13 col7\" >0.0012</td>\n",
       "      <td id=\"T_7b59e_row13_col8\" class=\"data row13 col8\" >42.3830</td>\n",
       "    </tr>\n",
       "    <tr>\n",
       "      <th id=\"T_7b59e_level0_row14\" class=\"row_heading level0 row14\" >lr</th>\n",
       "      <td id=\"T_7b59e_row14_col0\" class=\"data row14 col0\" >Logistic Regression</td>\n",
       "      <td id=\"T_7b59e_row14_col1\" class=\"data row14 col1\" >0.2836</td>\n",
       "      <td id=\"T_7b59e_row14_col2\" class=\"data row14 col2\" >0.1908</td>\n",
       "      <td id=\"T_7b59e_row14_col3\" class=\"data row14 col3\" >0.0000</td>\n",
       "      <td id=\"T_7b59e_row14_col4\" class=\"data row14 col4\" >0.0000</td>\n",
       "      <td id=\"T_7b59e_row14_col5\" class=\"data row14 col5\" >0.0000</td>\n",
       "      <td id=\"T_7b59e_row14_col6\" class=\"data row14 col6\" >0.0000</td>\n",
       "      <td id=\"T_7b59e_row14_col7\" class=\"data row14 col7\" >0.0000</td>\n",
       "      <td id=\"T_7b59e_row14_col8\" class=\"data row14 col8\" >22.8070</td>\n",
       "    </tr>\n",
       "    <tr>\n",
       "      <th id=\"T_7b59e_level0_row15\" class=\"row_heading level0 row15\" >dummy</th>\n",
       "      <td id=\"T_7b59e_row15_col0\" class=\"data row15 col0\" >Dummy Classifier</td>\n",
       "      <td id=\"T_7b59e_row15_col1\" class=\"data row15 col1\" >0.9454</td>\n",
       "      <td id=\"T_7b59e_row15_col2\" class=\"data row15 col2\" >0.5000</td>\n",
       "      <td id=\"T_7b59e_row15_col3\" class=\"data row15 col3\" >0.0000</td>\n",
       "      <td id=\"T_7b59e_row15_col4\" class=\"data row15 col4\" >0.0000</td>\n",
       "      <td id=\"T_7b59e_row15_col5\" class=\"data row15 col5\" >0.0000</td>\n",
       "      <td id=\"T_7b59e_row15_col6\" class=\"data row15 col6\" >0.0000</td>\n",
       "      <td id=\"T_7b59e_row15_col7\" class=\"data row15 col7\" >0.0000</td>\n",
       "      <td id=\"T_7b59e_row15_col8\" class=\"data row15 col8\" >1.7960</td>\n",
       "    </tr>\n",
       "  </tbody>\n",
       "</table>\n"
      ],
      "text/plain": [
       "<pandas.io.formats.style.Styler at 0x282509ffaf0>"
      ]
     },
     "metadata": {},
     "output_type": "display_data"
    }
   ],
   "source": [
    "best_model = compare_models(sort = \"F1\",n_select=1)"
   ]
  },
  {
   "cell_type": "code",
   "execution_count": 8,
   "id": "29c046cf-a4aa-4f49-bc11-02c41bb46bb2",
   "metadata": {
    "scrolled": false
   },
   "outputs": [
    {
     "data": {
      "image/png": "[encoded data removed]",
      "text/plain": [
       "<Figure size 800x500 with 1 Axes>"
      ]
     },
     "metadata": {},
     "output_type": "display_data"
    }
   ],
   "source": [
    "plot_model(estimator = best_model, plot = 'feature')"
   ]
  },
  {
   "cell_type": "code",
   "execution_count": null,
   "id": "bf8dec13-eebf-453f-b970-f51a8027fc8d",
   "metadata": {},
   "outputs": [],
   "source": []
  }
 ],
 "metadata": {
  "kernelspec": {
   "display_name": "Python 3 (ipykernel)",
   "language": "python",
   "name": "python3"
  },
  "language_info": {
   "codemirror_mode": {
    "name": "ipython",
    "version": 3
   },
   "file_extension": ".py",
   "mimetype": "text/x-python",
   "name": "python",
   "nbconvert_exporter": "python",
   "pygments_lexer": "ipython3",
   "version": "3.9.12"
  }
 },
 "nbformat": 4,
 "nbformat_minor": 5
}
