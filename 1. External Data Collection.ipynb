{
 "cells": [
  {
   "cell_type": "markdown",
   "id": "a4c4987d",
   "metadata": {},
   "source": [
    "# <font color='CC3D3D'> 0.1 External Data Collection\n",
    "    \n",
    "- 일별 KOSPI 지수 크롤링\n",
    "- **KO**rea Composite **S**tock **P**rice **I**ndex의 약어로 우리나라의 주가 동향을 대표하는 Index  \n",
    "- 증권 거래소에 상장된 종목들의 주식 가격을 종합적으로 표시한 수치로 시장 전체의 주가 움직임을 이해할 수 있는 지표\n",
    "- 1981년부터 2022년 데이터까지 수집한 데이터라 2022년 2월 28일 이전의 데이터는 CSV에서 제거\n",
    "\t- <span style=\"color:blue\"> **Kospi_Index.csv** </span> 생성"
   ]
  },
  {
   "cell_type": "markdown",
   "id": "60512f52",
   "metadata": {},
   "source": [
    "## Import"
   ]
  },
  {
   "cell_type": "code",
   "execution_count": 1,
   "id": "7a6290e5",
   "metadata": {},
   "outputs": [],
   "source": [
    "import FinanceDataReader as fdr\n",
    "import pandas as pd"
   ]
  },
  {
   "cell_type": "code",
   "execution_count": 2,
   "id": "1fccaca3",
   "metadata": {},
   "outputs": [
    {
     "data": {
      "text/plain": [
       "'0.9.42'"
      ]
     },
     "execution_count": 2,
     "metadata": {},
     "output_type": "execute_result"
    }
   ],
   "source": [
    "fdr.__version__"
   ]
  },
  {
   "cell_type": "markdown",
   "id": "85c5d108",
   "metadata": {},
   "source": [
    "Close : 종가  \n",
    "Open : 시가  \n",
    "High : 고가  \n",
    "Low : 저가  \n",
    "Volume : 거래량  \n",
    "Change : 등락률(전일대비 등락률)  \n",
    "➡️ 등락률 = (현재 종가 - 전일 종가) / 전일종가  "
   ]
  },
  {
   "cell_type": "markdown",
   "id": "6422a28b",
   "metadata": {},
   "source": [
    "## Data Load"
   ]
  },
  {
   "cell_type": "code",
   "execution_count": 3,
   "id": "99f3bcb8",
   "metadata": {},
   "outputs": [],
   "source": [
    "# 존재하는 첫 시점부터 마지막으로 장이 끝난 시점까지의 지수 데이터 다운로드\n",
    "\n",
    "kospi = fdr.DataReader('KS11')"
   ]
  },
  {
   "cell_type": "code",
   "execution_count": 4,
   "id": "7c5739c0",
   "metadata": {},
   "outputs": [
    {
     "name": "stdout",
     "output_type": "stream",
     "text": [
      "<class 'pandas.core.frame.DataFrame'>\n",
      "DatetimeIndex: 11050 entries, 1981-05-01 to 2022-10-12\n",
      "Data columns (total 6 columns):\n",
      " #   Column  Non-Null Count  Dtype  \n",
      "---  ------  --------------  -----  \n",
      " 0   Close   11050 non-null  float64\n",
      " 1   Open    11050 non-null  float64\n",
      " 2   High    11050 non-null  float64\n",
      " 3   Low     11050 non-null  float64\n",
      " 4   Volume  11050 non-null  float64\n",
      " 5   Change  11050 non-null  float64\n",
      "dtypes: float64(6)\n",
      "memory usage: 604.3 KB\n"
     ]
    }
   ],
   "source": [
    "kospi.info()"
   ]
  },
  {
   "cell_type": "code",
   "execution_count": 5,
   "id": "de9e2c0b",
   "metadata": {},
   "outputs": [
    {
     "data": {
      "text/html": [
       "<div>\n",
       "<style scoped>\n",
       "    .dataframe tbody tr th:only-of-type {\n",
       "        vertical-align: middle;\n",
       "    }\n",
       "\n",
       "    .dataframe tbody tr th {\n",
       "        vertical-align: top;\n",
       "    }\n",
       "\n",
       "    .dataframe thead th {\n",
       "        text-align: right;\n",
       "    }\n",
       "</style>\n",
       "<table border=\"1\" class=\"dataframe\">\n",
       "  <thead>\n",
       "    <tr style=\"text-align: right;\">\n",
       "      <th></th>\n",
       "      <th>Close</th>\n",
       "      <th>Open</th>\n",
       "      <th>High</th>\n",
       "      <th>Low</th>\n",
       "      <th>Volume</th>\n",
       "      <th>Change</th>\n",
       "    </tr>\n",
       "    <tr>\n",
       "      <th>Date</th>\n",
       "      <th></th>\n",
       "      <th></th>\n",
       "      <th></th>\n",
       "      <th></th>\n",
       "      <th></th>\n",
       "      <th></th>\n",
       "    </tr>\n",
       "  </thead>\n",
       "  <tbody>\n",
       "    <tr>\n",
       "      <th>1981-05-01</th>\n",
       "      <td>123.6</td>\n",
       "      <td>123.6</td>\n",
       "      <td>123.6</td>\n",
       "      <td>123.6</td>\n",
       "      <td>3330000.0</td>\n",
       "      <td>0.0098</td>\n",
       "    </tr>\n",
       "    <tr>\n",
       "      <th>1981-05-02</th>\n",
       "      <td>123.5</td>\n",
       "      <td>123.5</td>\n",
       "      <td>123.5</td>\n",
       "      <td>123.5</td>\n",
       "      <td>2040000.0</td>\n",
       "      <td>-0.0008</td>\n",
       "    </tr>\n",
       "    <tr>\n",
       "      <th>1981-05-04</th>\n",
       "      <td>120.6</td>\n",
       "      <td>120.6</td>\n",
       "      <td>120.6</td>\n",
       "      <td>120.6</td>\n",
       "      <td>1930000.0</td>\n",
       "      <td>-0.0235</td>\n",
       "    </tr>\n",
       "    <tr>\n",
       "      <th>1981-05-06</th>\n",
       "      <td>120.7</td>\n",
       "      <td>120.7</td>\n",
       "      <td>120.7</td>\n",
       "      <td>120.7</td>\n",
       "      <td>1690000.0</td>\n",
       "      <td>0.0008</td>\n",
       "    </tr>\n",
       "    <tr>\n",
       "      <th>1981-05-07</th>\n",
       "      <td>119.3</td>\n",
       "      <td>119.3</td>\n",
       "      <td>119.3</td>\n",
       "      <td>119.3</td>\n",
       "      <td>1480000.0</td>\n",
       "      <td>-0.0116</td>\n",
       "    </tr>\n",
       "  </tbody>\n",
       "</table>\n",
       "</div>"
      ],
      "text/plain": [
       "            Close   Open   High    Low     Volume  Change\n",
       "Date                                                     \n",
       "1981-05-01  123.6  123.6  123.6  123.6  3330000.0  0.0098\n",
       "1981-05-02  123.5  123.5  123.5  123.5  2040000.0 -0.0008\n",
       "1981-05-04  120.6  120.6  120.6  120.6  1930000.0 -0.0235\n",
       "1981-05-06  120.7  120.7  120.7  120.7  1690000.0  0.0008\n",
       "1981-05-07  119.3  119.3  119.3  119.3  1480000.0 -0.0116"
      ]
     },
     "execution_count": 5,
     "metadata": {},
     "output_type": "execute_result"
    }
   ],
   "source": [
    "kospi.head()"
   ]
  },
  {
   "cell_type": "code",
   "execution_count": 6,
   "id": "bfa65add",
   "metadata": {},
   "outputs": [
    {
     "data": {
      "text/html": [
       "<div>\n",
       "<style scoped>\n",
       "    .dataframe tbody tr th:only-of-type {\n",
       "        vertical-align: middle;\n",
       "    }\n",
       "\n",
       "    .dataframe tbody tr th {\n",
       "        vertical-align: top;\n",
       "    }\n",
       "\n",
       "    .dataframe thead th {\n",
       "        text-align: right;\n",
       "    }\n",
       "</style>\n",
       "<table border=\"1\" class=\"dataframe\">\n",
       "  <thead>\n",
       "    <tr style=\"text-align: right;\">\n",
       "      <th></th>\n",
       "      <th>Close</th>\n",
       "      <th>Open</th>\n",
       "      <th>High</th>\n",
       "      <th>Low</th>\n",
       "      <th>Volume</th>\n",
       "      <th>Change</th>\n",
       "    </tr>\n",
       "    <tr>\n",
       "      <th>Date</th>\n",
       "      <th></th>\n",
       "      <th></th>\n",
       "      <th></th>\n",
       "      <th></th>\n",
       "      <th></th>\n",
       "      <th></th>\n",
       "    </tr>\n",
       "  </thead>\n",
       "  <tbody>\n",
       "    <tr>\n",
       "      <th>2022-10-05</th>\n",
       "      <td>2215.22</td>\n",
       "      <td>2248.85</td>\n",
       "      <td>2253.93</td>\n",
       "      <td>2204.03</td>\n",
       "      <td>855790000.0</td>\n",
       "      <td>0.0026</td>\n",
       "    </tr>\n",
       "    <tr>\n",
       "      <th>2022-10-06</th>\n",
       "      <td>2237.86</td>\n",
       "      <td>2230.43</td>\n",
       "      <td>2250.87</td>\n",
       "      <td>2223.36</td>\n",
       "      <td>643010000.0</td>\n",
       "      <td>0.0102</td>\n",
       "    </tr>\n",
       "    <tr>\n",
       "      <th>2022-10-07</th>\n",
       "      <td>2232.84</td>\n",
       "      <td>2217.84</td>\n",
       "      <td>2245.88</td>\n",
       "      <td>2215.08</td>\n",
       "      <td>428680000.0</td>\n",
       "      <td>-0.0022</td>\n",
       "    </tr>\n",
       "    <tr>\n",
       "      <th>2022-10-11</th>\n",
       "      <td>2192.07</td>\n",
       "      <td>2193.02</td>\n",
       "      <td>2193.05</td>\n",
       "      <td>2174.06</td>\n",
       "      <td>859510000.0</td>\n",
       "      <td>-0.0183</td>\n",
       "    </tr>\n",
       "    <tr>\n",
       "      <th>2022-10-12</th>\n",
       "      <td>2202.47</td>\n",
       "      <td>2191.35</td>\n",
       "      <td>2205.02</td>\n",
       "      <td>2181.65</td>\n",
       "      <td>658350.0</td>\n",
       "      <td>0.0047</td>\n",
       "    </tr>\n",
       "  </tbody>\n",
       "</table>\n",
       "</div>"
      ],
      "text/plain": [
       "              Close     Open     High      Low       Volume  Change\n",
       "Date                                                               \n",
       "2022-10-05  2215.22  2248.85  2253.93  2204.03  855790000.0  0.0026\n",
       "2022-10-06  2237.86  2230.43  2250.87  2223.36  643010000.0  0.0102\n",
       "2022-10-07  2232.84  2217.84  2245.88  2215.08  428680000.0 -0.0022\n",
       "2022-10-11  2192.07  2193.02  2193.05  2174.06  859510000.0 -0.0183\n",
       "2022-10-12  2202.47  2191.35  2205.02  2181.65     658350.0  0.0047"
      ]
     },
     "execution_count": 6,
     "metadata": {},
     "output_type": "execute_result"
    }
   ],
   "source": [
    "kospi.tail()"
   ]
  },
  {
   "cell_type": "markdown",
   "id": "74329875",
   "metadata": {},
   "source": [
    "# Deployment CSV"
   ]
  },
  {
   "cell_type": "code",
   "execution_count": 7,
   "id": "4960682f",
   "metadata": {
    "scrolled": true
   },
   "outputs": [],
   "source": [
    "# 2022-02-22 일부터 선정\n",
    "kospi.to_csv('../Data/Kospi_Index.csv')"
   ]
  },
  {
   "cell_type": "markdown",
   "id": "fdf7e217",
   "metadata": {},
   "source": [
    "- 수집한 데이터가 1981년부터 2022년 데이터까지 수집한 데이터를 CSV에서 제거"
   ]
  }
 ],
 "metadata": {
  "kernelspec": {
   "display_name": "Python 3 (ipykernel)",
   "language": "python",
   "name": "python3"
  },
  "language_info": {
   "codemirror_mode": {
    "name": "ipython",
    "version": 3
   },
   "file_extension": ".py",
   "mimetype": "text/x-python",
   "name": "python",
   "nbconvert_exporter": "python",
   "pygments_lexer": "ipython3",
   "version": "3.9.12"
  }
 },
 "nbformat": 4,
 "nbformat_minor": 5
}
