{
 "cells": [
  {
   "cell_type": "markdown",
   "id": "ec31c411",
   "metadata": {},
   "source": [
    "# <font color='CC3D3D'> Original Data Clansing\n",
    "    \n",
    "### 1. Outlier preprocessing\n",
    "- <span style=\"color:green\">**user_spec.csv, loan_result, log_data.csv** </span>에 대하여 각 열에 대해 이상치 처리\n",
    "\n",
    "### 2. MissingValue Preprocessing\n",
    "- <span style=\"color:green\">**user_spec.csv, loan_result, log_data.csv** </span>에 대하여 각 열에 대해 결측치 처리\n",
    "    \n",
    "### 3. Deployment CSV\n",
    "- 결측치 처리된 데이터에 대해 <span style=\"color:blue\">**user_spec_clansing.csv, loan_result_clansing, log_data_clansing.csv** </span>로 생성"
   ]
  },
  {
   "cell_type": "markdown",
   "id": "d5facccb",
   "metadata": {},
   "source": [
    "# Import"
   ]
  },
  {
   "cell_type": "code",
   "execution_count": 1,
   "id": "63630aa2",
   "metadata": {},
   "outputs": [],
   "source": [
    "import pandas as pd\n",
    "import numpy as np\n",
    "from tqdm import tqdm\n",
    "\n",
    "from sklearn.impute import KNNImputer\n",
    "from sklearn.preprocessing import MinMaxScaler\n",
    "from pycaret.classification import *\n",
    "\n",
    "# Visualization\n",
    "import matplotlib.pylab as plt\n",
    "from matplotlib import font_manager, rc\n",
    "import seaborn as sns\n",
    "%matplotlib inline\n",
    "\n",
    "# EDA\n",
    "import klib\n",
    "\n",
    "plt.rc(\"font\", family = 'Malgun Gothic')\n",
    "plt.rcParams[\"figure.figsize\"] = (12,8)"
   ]
  },
  {
   "cell_type": "markdown",
   "id": "1bfc69b4",
   "metadata": {},
   "source": [
    "# Data Load"
   ]
  },
  {
   "cell_type": "code",
   "execution_count": 2,
   "id": "3e3dbeaf",
   "metadata": {},
   "outputs": [],
   "source": [
    "data_root = '../Data/2022빅콘테스트_데이터분석리그_데이터분석분야_퓨처스부문_데이터셋_220908'"
   ]
  },
  {
   "cell_type": "code",
   "execution_count": 3,
   "id": "3fbbb9e2",
   "metadata": {},
   "outputs": [],
   "source": [
    "user_spec = pd.read_csv(data_root+'/user_spec.csv')\n",
    "loan_result = pd.read_csv(data_root+'/loan_result.csv')\n",
    "log_data = pd.read_csv(data_root+'/log_data.csv')"
   ]
  },
  {
   "cell_type": "code",
   "execution_count": 4,
   "id": "5f7268e5",
   "metadata": {},
   "outputs": [
    {
     "name": "stdout",
     "output_type": "stream",
     "text": [
      "<class 'pandas.core.frame.DataFrame'>\n",
      "RangeIndex: 1394216 entries, 0 to 1394215\n",
      "Data columns (total 17 columns):\n",
      " #   Column                               Non-Null Count    Dtype  \n",
      "---  ------                               --------------    -----  \n",
      " 0   application_id                       1394216 non-null  int64  \n",
      " 1   user_id                              1394216 non-null  int64  \n",
      " 2   birth_year                           1381255 non-null  float64\n",
      " 3   gender                               1381255 non-null  float64\n",
      " 4   insert_time                          1394216 non-null  object \n",
      " 5   credit_score                         1289101 non-null  float64\n",
      " 6   yearly_income                        1394126 non-null  float64\n",
      " 7   income_type                          1394131 non-null  object \n",
      " 8   company_enter_month                  1222456 non-null  float64\n",
      " 9   employment_type                      1394131 non-null  object \n",
      " 10  houseown_type                        1394131 non-null  object \n",
      " 11  desired_amount                       1394131 non-null  float64\n",
      " 12  purpose                              1394131 non-null  object \n",
      " 13  personal_rehabilitation_yn           806755 non-null   float64\n",
      " 14  personal_rehabilitation_complete_yn  190862 non-null   float64\n",
      " 15  existing_loan_cnt                    1195660 non-null  float64\n",
      " 16  existing_loan_amt                    1080442 non-null  float64\n",
      "dtypes: float64(10), int64(2), object(5)\n",
      "memory usage: 180.8+ MB\n"
     ]
    }
   ],
   "source": [
    "user_spec.info()"
   ]
  },
  {
   "cell_type": "code",
   "execution_count": 5,
   "id": "92055396",
   "metadata": {},
   "outputs": [
    {
     "name": "stdout",
     "output_type": "stream",
     "text": [
      "<class 'pandas.core.frame.DataFrame'>\n",
      "RangeIndex: 13527363 entries, 0 to 13527362\n",
      "Data columns (total 7 columns):\n",
      " #   Column                 Dtype  \n",
      "---  ------                 -----  \n",
      " 0   application_id         int64  \n",
      " 1   loanapply_insert_time  object \n",
      " 2   bank_id                int64  \n",
      " 3   product_id             int64  \n",
      " 4   loan_limit             float64\n",
      " 5   loan_rate              float64\n",
      " 6   is_applied             float64\n",
      "dtypes: float64(3), int64(3), object(1)\n",
      "memory usage: 722.4+ MB\n"
     ]
    }
   ],
   "source": [
    "loan_result.info()"
   ]
  },
  {
   "cell_type": "code",
   "execution_count": 6,
   "id": "cc2f373c",
   "metadata": {},
   "outputs": [
    {
     "name": "stdout",
     "output_type": "stream",
     "text": [
      "<class 'pandas.core.frame.DataFrame'>\n",
      "RangeIndex: 17843993 entries, 0 to 17843992\n",
      "Data columns (total 6 columns):\n",
      " #   Column          Dtype \n",
      "---  ------          ----- \n",
      " 0   user_id         int64 \n",
      " 1   event           object\n",
      " 2   timestamp       object\n",
      " 3   mp_os           object\n",
      " 4   mp_app_version  object\n",
      " 5   date_cd         object\n",
      "dtypes: int64(1), object(5)\n",
      "memory usage: 816.8+ MB\n"
     ]
    }
   ],
   "source": [
    "log_data.info()"
   ]
  },
  {
   "cell_type": "code",
   "execution_count": 7,
   "id": "64549ccb",
   "metadata": {},
   "outputs": [
    {
     "data": {
      "text/plain": [
       "application_id                               0\n",
       "user_id                                      0\n",
       "birth_year                               12961\n",
       "gender                                   12961\n",
       "insert_time                                  0\n",
       "credit_score                            105115\n",
       "yearly_income                               90\n",
       "income_type                                 85\n",
       "company_enter_month                     171760\n",
       "employment_type                             85\n",
       "houseown_type                               85\n",
       "desired_amount                              85\n",
       "purpose                                     85\n",
       "personal_rehabilitation_yn              587461\n",
       "personal_rehabilitation_complete_yn    1203354\n",
       "existing_loan_cnt                       198556\n",
       "existing_loan_amt                       313774\n",
       "dtype: int64"
      ]
     },
     "execution_count": 7,
     "metadata": {},
     "output_type": "execute_result"
    }
   ],
   "source": [
    "user_spec.isnull().sum()"
   ]
  },
  {
   "cell_type": "code",
   "execution_count": 8,
   "id": "bd760c25",
   "metadata": {},
   "outputs": [
    {
     "data": {
      "text/plain": [
       "application_id                 0\n",
       "loanapply_insert_time          0\n",
       "bank_id                        0\n",
       "product_id                     0\n",
       "loan_limit                  7495\n",
       "loan_rate                   7495\n",
       "is_applied               3257239\n",
       "dtype: int64"
      ]
     },
     "execution_count": 8,
     "metadata": {},
     "output_type": "execute_result"
    }
   ],
   "source": [
    "loan_result.isnull().sum()"
   ]
  },
  {
   "cell_type": "code",
   "execution_count": 9,
   "id": "4f27454f",
   "metadata": {},
   "outputs": [
    {
     "data": {
      "text/plain": [
       "user_id                0\n",
       "event                  0\n",
       "timestamp              0\n",
       "mp_os                980\n",
       "mp_app_version    660597\n",
       "date_cd                0\n",
       "dtype: int64"
      ]
     },
     "execution_count": 9,
     "metadata": {},
     "output_type": "execute_result"
    }
   ],
   "source": [
    "log_data.isnull().sum()"
   ]
  },
  {
   "cell_type": "markdown",
   "id": "013a7da7",
   "metadata": {},
   "source": [
    "# Data Preprocessing"
   ]
  },
  {
   "cell_type": "markdown",
   "id": "9c82aa6e",
   "metadata": {},
   "source": [
    "## Application_id"
   ]
  },
  {
   "cell_type": "code",
   "execution_count": 10,
   "id": "6321531e",
   "metadata": {},
   "outputs": [],
   "source": [
    "app_id = loan_result.application_id.unique().tolist()"
   ]
  },
  {
   "cell_type": "code",
   "execution_count": 11,
   "id": "ad33ce86",
   "metadata": {},
   "outputs": [],
   "source": [
    "user_spec = user_spec[user_spec['application_id'].isin(app_id)].reset_index(drop=True)"
   ]
  },
  {
   "cell_type": "code",
   "execution_count": 12,
   "id": "9e58903c",
   "metadata": {},
   "outputs": [
    {
     "data": {
      "text/html": [
       "<div>\n",
       "<style scoped>\n",
       "    .dataframe tbody tr th:only-of-type {\n",
       "        vertical-align: middle;\n",
       "    }\n",
       "\n",
       "    .dataframe tbody tr th {\n",
       "        vertical-align: top;\n",
       "    }\n",
       "\n",
       "    .dataframe thead th {\n",
       "        text-align: right;\n",
       "    }\n",
       "</style>\n",
       "<table border=\"1\" class=\"dataframe\">\n",
       "  <thead>\n",
       "    <tr style=\"text-align: right;\">\n",
       "      <th></th>\n",
       "      <th>application_id</th>\n",
       "      <th>user_id</th>\n",
       "      <th>birth_year</th>\n",
       "      <th>gender</th>\n",
       "      <th>insert_time</th>\n",
       "      <th>credit_score</th>\n",
       "      <th>yearly_income</th>\n",
       "      <th>income_type</th>\n",
       "      <th>company_enter_month</th>\n",
       "      <th>employment_type</th>\n",
       "      <th>houseown_type</th>\n",
       "      <th>desired_amount</th>\n",
       "      <th>purpose</th>\n",
       "      <th>personal_rehabilitation_yn</th>\n",
       "      <th>personal_rehabilitation_complete_yn</th>\n",
       "      <th>existing_loan_cnt</th>\n",
       "      <th>existing_loan_amt</th>\n",
       "    </tr>\n",
       "  </thead>\n",
       "  <tbody>\n",
       "    <tr>\n",
       "      <th>0</th>\n",
       "      <td>954900</td>\n",
       "      <td>553686</td>\n",
       "      <td>1968.0</td>\n",
       "      <td>1.0</td>\n",
       "      <td>2022-06-07 14:29:03</td>\n",
       "      <td>870.0</td>\n",
       "      <td>30000000.0</td>\n",
       "      <td>PRIVATEBUSINESS</td>\n",
       "      <td>20070201.0</td>\n",
       "      <td>정규직</td>\n",
       "      <td>기타가족소유</td>\n",
       "      <td>30000000.0</td>\n",
       "      <td>대환대출</td>\n",
       "      <td>0.0</td>\n",
       "      <td>NaN</td>\n",
       "      <td>1.0</td>\n",
       "      <td>27000000.0</td>\n",
       "    </tr>\n",
       "    <tr>\n",
       "      <th>1</th>\n",
       "      <td>137274</td>\n",
       "      <td>59516</td>\n",
       "      <td>1997.0</td>\n",
       "      <td>1.0</td>\n",
       "      <td>2022-06-07 21:40:22</td>\n",
       "      <td>710.0</td>\n",
       "      <td>30000000.0</td>\n",
       "      <td>FREELANCER</td>\n",
       "      <td>20210901.0</td>\n",
       "      <td>기타</td>\n",
       "      <td>기타가족소유</td>\n",
       "      <td>10000000.0</td>\n",
       "      <td>생활비</td>\n",
       "      <td>0.0</td>\n",
       "      <td>NaN</td>\n",
       "      <td>5.0</td>\n",
       "      <td>15000000.0</td>\n",
       "    </tr>\n",
       "    <tr>\n",
       "      <th>2</th>\n",
       "      <td>1570936</td>\n",
       "      <td>167320</td>\n",
       "      <td>1989.0</td>\n",
       "      <td>1.0</td>\n",
       "      <td>2022-06-07 09:40:27</td>\n",
       "      <td>820.0</td>\n",
       "      <td>62000000.0</td>\n",
       "      <td>EARNEDINCOME</td>\n",
       "      <td>20170101.0</td>\n",
       "      <td>정규직</td>\n",
       "      <td>자가</td>\n",
       "      <td>2000000.0</td>\n",
       "      <td>생활비</td>\n",
       "      <td>0.0</td>\n",
       "      <td>NaN</td>\n",
       "      <td>7.0</td>\n",
       "      <td>344000000.0</td>\n",
       "    </tr>\n",
       "    <tr>\n",
       "      <th>3</th>\n",
       "      <td>967833</td>\n",
       "      <td>33400</td>\n",
       "      <td>2000.0</td>\n",
       "      <td>1.0</td>\n",
       "      <td>2022-06-07 08:55:07</td>\n",
       "      <td>630.0</td>\n",
       "      <td>36000000.0</td>\n",
       "      <td>EARNEDINCOME</td>\n",
       "      <td>20210901.0</td>\n",
       "      <td>정규직</td>\n",
       "      <td>기타가족소유</td>\n",
       "      <td>5000000.0</td>\n",
       "      <td>생활비</td>\n",
       "      <td>0.0</td>\n",
       "      <td>0.0</td>\n",
       "      <td>1.0</td>\n",
       "      <td>16000000.0</td>\n",
       "    </tr>\n",
       "    <tr>\n",
       "      <th>4</th>\n",
       "      <td>1614045</td>\n",
       "      <td>860410</td>\n",
       "      <td>1976.0</td>\n",
       "      <td>1.0</td>\n",
       "      <td>2022-06-07 11:29:05</td>\n",
       "      <td>590.0</td>\n",
       "      <td>45000000.0</td>\n",
       "      <td>OTHERINCOME</td>\n",
       "      <td>NaN</td>\n",
       "      <td>기타</td>\n",
       "      <td>자가</td>\n",
       "      <td>15000000.0</td>\n",
       "      <td>대환대출</td>\n",
       "      <td>0.0</td>\n",
       "      <td>NaN</td>\n",
       "      <td>1.0</td>\n",
       "      <td>20000000.0</td>\n",
       "    </tr>\n",
       "    <tr>\n",
       "      <th>...</th>\n",
       "      <td>...</td>\n",
       "      <td>...</td>\n",
       "      <td>...</td>\n",
       "      <td>...</td>\n",
       "      <td>...</td>\n",
       "      <td>...</td>\n",
       "      <td>...</td>\n",
       "      <td>...</td>\n",
       "      <td>...</td>\n",
       "      <td>...</td>\n",
       "      <td>...</td>\n",
       "      <td>...</td>\n",
       "      <td>...</td>\n",
       "      <td>...</td>\n",
       "      <td>...</td>\n",
       "      <td>...</td>\n",
       "      <td>...</td>\n",
       "    </tr>\n",
       "    <tr>\n",
       "      <th>968748</th>\n",
       "      <td>1864587</td>\n",
       "      <td>489900</td>\n",
       "      <td>2000.0</td>\n",
       "      <td>1.0</td>\n",
       "      <td>2022-03-22 14:55:32</td>\n",
       "      <td>590.0</td>\n",
       "      <td>25000000.0</td>\n",
       "      <td>FREELANCER</td>\n",
       "      <td>202106.0</td>\n",
       "      <td>기타</td>\n",
       "      <td>기타가족소유</td>\n",
       "      <td>5000000.0</td>\n",
       "      <td>사업자금</td>\n",
       "      <td>NaN</td>\n",
       "      <td>NaN</td>\n",
       "      <td>NaN</td>\n",
       "      <td>NaN</td>\n",
       "    </tr>\n",
       "    <tr>\n",
       "      <th>968749</th>\n",
       "      <td>1327066</td>\n",
       "      <td>151422</td>\n",
       "      <td>1955.0</td>\n",
       "      <td>1.0</td>\n",
       "      <td>2022-03-22 01:19:24</td>\n",
       "      <td>980.0</td>\n",
       "      <td>20000000.0</td>\n",
       "      <td>OTHERINCOME</td>\n",
       "      <td>NaN</td>\n",
       "      <td>기타</td>\n",
       "      <td>자가</td>\n",
       "      <td>50000000.0</td>\n",
       "      <td>생활비</td>\n",
       "      <td>NaN</td>\n",
       "      <td>NaN</td>\n",
       "      <td>1.0</td>\n",
       "      <td>NaN</td>\n",
       "    </tr>\n",
       "    <tr>\n",
       "      <th>968750</th>\n",
       "      <td>1319606</td>\n",
       "      <td>173524</td>\n",
       "      <td>1983.0</td>\n",
       "      <td>1.0</td>\n",
       "      <td>2022-03-22 07:34:32</td>\n",
       "      <td>750.0</td>\n",
       "      <td>75000000.0</td>\n",
       "      <td>EARNEDINCOME</td>\n",
       "      <td>200908.0</td>\n",
       "      <td>정규직</td>\n",
       "      <td>자가</td>\n",
       "      <td>100000000.0</td>\n",
       "      <td>대환대출</td>\n",
       "      <td>NaN</td>\n",
       "      <td>NaN</td>\n",
       "      <td>8.0</td>\n",
       "      <td>200000000.0</td>\n",
       "    </tr>\n",
       "    <tr>\n",
       "      <th>968751</th>\n",
       "      <td>1482466</td>\n",
       "      <td>766546</td>\n",
       "      <td>1975.0</td>\n",
       "      <td>1.0</td>\n",
       "      <td>2022-03-22 22:12:35</td>\n",
       "      <td>640.0</td>\n",
       "      <td>50000000.0</td>\n",
       "      <td>EARNEDINCOME</td>\n",
       "      <td>201705.0</td>\n",
       "      <td>정규직</td>\n",
       "      <td>자가</td>\n",
       "      <td>10000000.0</td>\n",
       "      <td>대환대출</td>\n",
       "      <td>NaN</td>\n",
       "      <td>NaN</td>\n",
       "      <td>10.0</td>\n",
       "      <td>117000000.0</td>\n",
       "    </tr>\n",
       "    <tr>\n",
       "      <th>968752</th>\n",
       "      <td>816537</td>\n",
       "      <td>3864</td>\n",
       "      <td>1977.0</td>\n",
       "      <td>0.0</td>\n",
       "      <td>2022-03-22 08:55:14</td>\n",
       "      <td>NaN</td>\n",
       "      <td>35000000.0</td>\n",
       "      <td>FREELANCER</td>\n",
       "      <td>201103.0</td>\n",
       "      <td>기타</td>\n",
       "      <td>자가</td>\n",
       "      <td>20000000.0</td>\n",
       "      <td>생활비</td>\n",
       "      <td>NaN</td>\n",
       "      <td>NaN</td>\n",
       "      <td>NaN</td>\n",
       "      <td>NaN</td>\n",
       "    </tr>\n",
       "  </tbody>\n",
       "</table>\n",
       "<p>968753 rows × 17 columns</p>\n",
       "</div>"
      ],
      "text/plain": [
       "        application_id  user_id  birth_year  gender          insert_time  \\\n",
       "0               954900   553686      1968.0     1.0  2022-06-07 14:29:03   \n",
       "1               137274    59516      1997.0     1.0  2022-06-07 21:40:22   \n",
       "2              1570936   167320      1989.0     1.0  2022-06-07 09:40:27   \n",
       "3               967833    33400      2000.0     1.0  2022-06-07 08:55:07   \n",
       "4              1614045   860410      1976.0     1.0  2022-06-07 11:29:05   \n",
       "...                ...      ...         ...     ...                  ...   \n",
       "968748         1864587   489900      2000.0     1.0  2022-03-22 14:55:32   \n",
       "968749         1327066   151422      1955.0     1.0  2022-03-22 01:19:24   \n",
       "968750         1319606   173524      1983.0     1.0  2022-03-22 07:34:32   \n",
       "968751         1482466   766546      1975.0     1.0  2022-03-22 22:12:35   \n",
       "968752          816537     3864      1977.0     0.0  2022-03-22 08:55:14   \n",
       "\n",
       "        credit_score  yearly_income      income_type  company_enter_month  \\\n",
       "0              870.0     30000000.0  PRIVATEBUSINESS           20070201.0   \n",
       "1              710.0     30000000.0       FREELANCER           20210901.0   \n",
       "2              820.0     62000000.0     EARNEDINCOME           20170101.0   \n",
       "3              630.0     36000000.0     EARNEDINCOME           20210901.0   \n",
       "4              590.0     45000000.0      OTHERINCOME                  NaN   \n",
       "...              ...            ...              ...                  ...   \n",
       "968748         590.0     25000000.0       FREELANCER             202106.0   \n",
       "968749         980.0     20000000.0      OTHERINCOME                  NaN   \n",
       "968750         750.0     75000000.0     EARNEDINCOME             200908.0   \n",
       "968751         640.0     50000000.0     EARNEDINCOME             201705.0   \n",
       "968752           NaN     35000000.0       FREELANCER             201103.0   \n",
       "\n",
       "       employment_type houseown_type  desired_amount purpose  \\\n",
       "0                  정규직        기타가족소유      30000000.0    대환대출   \n",
       "1                   기타        기타가족소유      10000000.0     생활비   \n",
       "2                  정규직            자가       2000000.0     생활비   \n",
       "3                  정규직        기타가족소유       5000000.0     생활비   \n",
       "4                   기타            자가      15000000.0    대환대출   \n",
       "...                ...           ...             ...     ...   \n",
       "968748              기타        기타가족소유       5000000.0    사업자금   \n",
       "968749              기타            자가      50000000.0     생활비   \n",
       "968750             정규직            자가     100000000.0    대환대출   \n",
       "968751             정규직            자가      10000000.0    대환대출   \n",
       "968752              기타            자가      20000000.0     생활비   \n",
       "\n",
       "        personal_rehabilitation_yn  personal_rehabilitation_complete_yn  \\\n",
       "0                              0.0                                  NaN   \n",
       "1                              0.0                                  NaN   \n",
       "2                              0.0                                  NaN   \n",
       "3                              0.0                                  0.0   \n",
       "4                              0.0                                  NaN   \n",
       "...                            ...                                  ...   \n",
       "968748                         NaN                                  NaN   \n",
       "968749                         NaN                                  NaN   \n",
       "968750                         NaN                                  NaN   \n",
       "968751                         NaN                                  NaN   \n",
       "968752                         NaN                                  NaN   \n",
       "\n",
       "        existing_loan_cnt  existing_loan_amt  \n",
       "0                     1.0         27000000.0  \n",
       "1                     5.0         15000000.0  \n",
       "2                     7.0        344000000.0  \n",
       "3                     1.0         16000000.0  \n",
       "4                     1.0         20000000.0  \n",
       "...                   ...                ...  \n",
       "968748                NaN                NaN  \n",
       "968749                1.0                NaN  \n",
       "968750                8.0        200000000.0  \n",
       "968751               10.0        117000000.0  \n",
       "968752                NaN                NaN  \n",
       "\n",
       "[968753 rows x 17 columns]"
      ]
     },
     "execution_count": 12,
     "metadata": {},
     "output_type": "execute_result"
    }
   ],
   "source": [
    "user_spec"
   ]
  },
  {
   "cell_type": "markdown",
   "id": "6bb3a579",
   "metadata": {},
   "source": [
    "## User_id"
   ]
  },
  {
   "cell_type": "code",
   "execution_count": 13,
   "id": "e204b45e",
   "metadata": {},
   "outputs": [],
   "source": [
    "user_id = user_spec.user_id.unique().tolist()"
   ]
  },
  {
   "cell_type": "code",
   "execution_count": 14,
   "id": "500fa58d",
   "metadata": {},
   "outputs": [],
   "source": [
    "log_data = log_data[log_data['user_id'].isin(user_id)].reset_index(drop=True)"
   ]
  },
  {
   "cell_type": "code",
   "execution_count": 15,
   "id": "1401407a",
   "metadata": {},
   "outputs": [
    {
     "data": {
      "text/html": [
       "<div>\n",
       "<style scoped>\n",
       "    .dataframe tbody tr th:only-of-type {\n",
       "        vertical-align: middle;\n",
       "    }\n",
       "\n",
       "    .dataframe tbody tr th {\n",
       "        vertical-align: top;\n",
       "    }\n",
       "\n",
       "    .dataframe thead th {\n",
       "        text-align: right;\n",
       "    }\n",
       "</style>\n",
       "<table border=\"1\" class=\"dataframe\">\n",
       "  <thead>\n",
       "    <tr style=\"text-align: right;\">\n",
       "      <th></th>\n",
       "      <th>user_id</th>\n",
       "      <th>event</th>\n",
       "      <th>timestamp</th>\n",
       "      <th>mp_os</th>\n",
       "      <th>mp_app_version</th>\n",
       "      <th>date_cd</th>\n",
       "    </tr>\n",
       "  </thead>\n",
       "  <tbody>\n",
       "    <tr>\n",
       "      <th>0</th>\n",
       "      <td>576409</td>\n",
       "      <td>StartLoanApply</td>\n",
       "      <td>2022-03-25 11:12:09</td>\n",
       "      <td>Android</td>\n",
       "      <td>3.8.2</td>\n",
       "      <td>2022-03-25</td>\n",
       "    </tr>\n",
       "    <tr>\n",
       "      <th>1</th>\n",
       "      <td>576409</td>\n",
       "      <td>ViewLoanApplyIntro</td>\n",
       "      <td>2022-03-25 11:12:09</td>\n",
       "      <td>Android</td>\n",
       "      <td>3.8.2</td>\n",
       "      <td>2022-03-25</td>\n",
       "    </tr>\n",
       "    <tr>\n",
       "      <th>2</th>\n",
       "      <td>72878</td>\n",
       "      <td>EndLoanApply</td>\n",
       "      <td>2022-03-25 11:14:44</td>\n",
       "      <td>Android</td>\n",
       "      <td>3.8.4</td>\n",
       "      <td>2022-03-25</td>\n",
       "    </tr>\n",
       "    <tr>\n",
       "      <th>3</th>\n",
       "      <td>645317</td>\n",
       "      <td>OpenApp</td>\n",
       "      <td>2022-03-25 11:15:09</td>\n",
       "      <td>iOS</td>\n",
       "      <td>3.6.1</td>\n",
       "      <td>2022-03-25</td>\n",
       "    </tr>\n",
       "    <tr>\n",
       "      <th>4</th>\n",
       "      <td>645317</td>\n",
       "      <td>UseLoanManage</td>\n",
       "      <td>2022-03-25 11:15:11</td>\n",
       "      <td>iOS</td>\n",
       "      <td>3.6.1</td>\n",
       "      <td>2022-03-25</td>\n",
       "    </tr>\n",
       "    <tr>\n",
       "      <th>...</th>\n",
       "      <td>...</td>\n",
       "      <td>...</td>\n",
       "      <td>...</td>\n",
       "      <td>...</td>\n",
       "      <td>...</td>\n",
       "      <td>...</td>\n",
       "    </tr>\n",
       "    <tr>\n",
       "      <th>14344017</th>\n",
       "      <td>242442</td>\n",
       "      <td>StartLoanApply</td>\n",
       "      <td>2022-05-27 16:08:21</td>\n",
       "      <td>Android</td>\n",
       "      <td>3.13.0</td>\n",
       "      <td>2022-05-27</td>\n",
       "    </tr>\n",
       "    <tr>\n",
       "      <th>14344018</th>\n",
       "      <td>242442</td>\n",
       "      <td>EndLoanApply</td>\n",
       "      <td>2022-05-27 16:08:21</td>\n",
       "      <td>Android</td>\n",
       "      <td>3.13.0</td>\n",
       "      <td>2022-05-27</td>\n",
       "    </tr>\n",
       "    <tr>\n",
       "      <th>14344019</th>\n",
       "      <td>593062</td>\n",
       "      <td>OpenApp</td>\n",
       "      <td>2022-05-27 16:19:10</td>\n",
       "      <td>Android</td>\n",
       "      <td>3.13.0</td>\n",
       "      <td>2022-05-27</td>\n",
       "    </tr>\n",
       "    <tr>\n",
       "      <th>14344020</th>\n",
       "      <td>593062</td>\n",
       "      <td>Login</td>\n",
       "      <td>2022-05-27 16:19:15</td>\n",
       "      <td>Android</td>\n",
       "      <td>3.13.0</td>\n",
       "      <td>2022-05-27</td>\n",
       "    </tr>\n",
       "    <tr>\n",
       "      <th>14344021</th>\n",
       "      <td>593062</td>\n",
       "      <td>UseLoanManage</td>\n",
       "      <td>2022-05-27 16:19:19</td>\n",
       "      <td>Android</td>\n",
       "      <td>3.13.0</td>\n",
       "      <td>2022-05-27</td>\n",
       "    </tr>\n",
       "  </tbody>\n",
       "</table>\n",
       "<p>14344022 rows × 6 columns</p>\n",
       "</div>"
      ],
      "text/plain": [
       "          user_id               event            timestamp    mp_os  \\\n",
       "0          576409      StartLoanApply  2022-03-25 11:12:09  Android   \n",
       "1          576409  ViewLoanApplyIntro  2022-03-25 11:12:09  Android   \n",
       "2           72878        EndLoanApply  2022-03-25 11:14:44  Android   \n",
       "3          645317             OpenApp  2022-03-25 11:15:09      iOS   \n",
       "4          645317       UseLoanManage  2022-03-25 11:15:11      iOS   \n",
       "...           ...                 ...                  ...      ...   \n",
       "14344017   242442      StartLoanApply  2022-05-27 16:08:21  Android   \n",
       "14344018   242442        EndLoanApply  2022-05-27 16:08:21  Android   \n",
       "14344019   593062             OpenApp  2022-05-27 16:19:10  Android   \n",
       "14344020   593062               Login  2022-05-27 16:19:15  Android   \n",
       "14344021   593062       UseLoanManage  2022-05-27 16:19:19  Android   \n",
       "\n",
       "         mp_app_version     date_cd  \n",
       "0                 3.8.2  2022-03-25  \n",
       "1                 3.8.2  2022-03-25  \n",
       "2                 3.8.4  2022-03-25  \n",
       "3                 3.6.1  2022-03-25  \n",
       "4                 3.6.1  2022-03-25  \n",
       "...                 ...         ...  \n",
       "14344017         3.13.0  2022-05-27  \n",
       "14344018         3.13.0  2022-05-27  \n",
       "14344019         3.13.0  2022-05-27  \n",
       "14344020         3.13.0  2022-05-27  \n",
       "14344021         3.13.0  2022-05-27  \n",
       "\n",
       "[14344022 rows x 6 columns]"
      ]
     },
     "execution_count": 15,
     "metadata": {},
     "output_type": "execute_result"
    }
   ],
   "source": [
    "log_data"
   ]
  },
  {
   "cell_type": "markdown",
   "id": "6fa632f4",
   "metadata": {},
   "source": [
    "## Data split"
   ]
  },
  {
   "cell_type": "code",
   "execution_count": 16,
   "id": "17e1ee6d",
   "metadata": {},
   "outputs": [],
   "source": [
    "user_spec['month'] = user_spec['insert_time'].apply(lambda x: int(x[5:7]))\n",
    "loan_result['month'] = loan_result['loanapply_insert_time'].apply(lambda x: int(x[5:7]))\n",
    "log_data['month'] = log_data['timestamp'].apply(lambda x: int(x[5:7]))"
   ]
  },
  {
   "cell_type": "code",
   "execution_count": 17,
   "id": "bebd9532",
   "metadata": {},
   "outputs": [],
   "source": [
    "user_spec_train = user_spec[user_spec['month'] <6].reset_index(drop=True)\n",
    "loan_result_train = loan_result[loan_result['month'] <6].reset_index(drop=True)\n",
    "log_data_train = log_data[log_data['month'] <6].reset_index(drop=True)\n",
    "\n",
    "user_spec_test = user_spec[user_spec['month'] ==6].reset_index(drop=True)\n",
    "loan_result_test = loan_result[loan_result['month'] ==6].reset_index(drop=True)\n",
    "log_data_test = log_data[log_data['month'] ==6].reset_index(drop=True)"
   ]
  },
  {
   "cell_type": "code",
   "execution_count": 18,
   "id": "d8b1d04d",
   "metadata": {},
   "outputs": [],
   "source": [
    "user_spec_train = user_spec_train.drop(['month'],axis=1)\n",
    "loan_result_train = loan_result_train.drop(['month'],axis=1)\n",
    "log_data_train = log_data_train.drop(['month'],axis=1)\n",
    "\n",
    "user_spec_test = user_spec_test.drop(['month'],axis=1)\n",
    "loan_result_test = loan_result_test.drop(['month'],axis=1)\n",
    "log_data_test= log_data_test.drop(['month'],axis=1)\n",
    "\n",
    "user_spec = user_spec.drop(['month'],axis=1)\n",
    "loan_result = loan_result.drop(['month'],axis=1)\n",
    "log_data = log_data.drop(['month'],axis=1)"
   ]
  },
  {
   "cell_type": "code",
   "execution_count": 19,
   "id": "c7983857",
   "metadata": {},
   "outputs": [
    {
     "name": "stdout",
     "output_type": "stream",
     "text": [
      "(728884, 17)\n"
     ]
    },
    {
     "data": {
      "text/html": [
       "<div>\n",
       "<style scoped>\n",
       "    .dataframe tbody tr th:only-of-type {\n",
       "        vertical-align: middle;\n",
       "    }\n",
       "\n",
       "    .dataframe tbody tr th {\n",
       "        vertical-align: top;\n",
       "    }\n",
       "\n",
       "    .dataframe thead th {\n",
       "        text-align: right;\n",
       "    }\n",
       "</style>\n",
       "<table border=\"1\" class=\"dataframe\">\n",
       "  <thead>\n",
       "    <tr style=\"text-align: right;\">\n",
       "      <th></th>\n",
       "      <th>application_id</th>\n",
       "      <th>user_id</th>\n",
       "      <th>birth_year</th>\n",
       "      <th>gender</th>\n",
       "      <th>insert_time</th>\n",
       "      <th>credit_score</th>\n",
       "      <th>yearly_income</th>\n",
       "      <th>income_type</th>\n",
       "      <th>company_enter_month</th>\n",
       "      <th>employment_type</th>\n",
       "      <th>houseown_type</th>\n",
       "      <th>desired_amount</th>\n",
       "      <th>purpose</th>\n",
       "      <th>personal_rehabilitation_yn</th>\n",
       "      <th>personal_rehabilitation_complete_yn</th>\n",
       "      <th>existing_loan_cnt</th>\n",
       "      <th>existing_loan_amt</th>\n",
       "    </tr>\n",
       "  </thead>\n",
       "  <tbody>\n",
       "    <tr>\n",
       "      <th>0</th>\n",
       "      <td>1945260</td>\n",
       "      <td>836762</td>\n",
       "      <td>1979.0</td>\n",
       "      <td>1.0</td>\n",
       "      <td>2022-04-20 01:23:09</td>\n",
       "      <td>670.0</td>\n",
       "      <td>50000000.0</td>\n",
       "      <td>EARNEDINCOME2</td>\n",
       "      <td>202110.0</td>\n",
       "      <td>기타</td>\n",
       "      <td>전월세</td>\n",
       "      <td>25000000.0</td>\n",
       "      <td>대환대출</td>\n",
       "      <td>0.0</td>\n",
       "      <td>0.0</td>\n",
       "      <td>3.0</td>\n",
       "      <td>76000000.0</td>\n",
       "    </tr>\n",
       "    <tr>\n",
       "      <th>1</th>\n",
       "      <td>1019382</td>\n",
       "      <td>186886</td>\n",
       "      <td>1979.0</td>\n",
       "      <td>1.0</td>\n",
       "      <td>2022-04-20 00:38:18</td>\n",
       "      <td>730.0</td>\n",
       "      <td>95000000.0</td>\n",
       "      <td>EARNEDINCOME</td>\n",
       "      <td>201803.0</td>\n",
       "      <td>정규직</td>\n",
       "      <td>전월세</td>\n",
       "      <td>40000000.0</td>\n",
       "      <td>대환대출</td>\n",
       "      <td>0.0</td>\n",
       "      <td>NaN</td>\n",
       "      <td>4.0</td>\n",
       "      <td>142000000.0</td>\n",
       "    </tr>\n",
       "    <tr>\n",
       "      <th>2</th>\n",
       "      <td>1117343</td>\n",
       "      <td>594274</td>\n",
       "      <td>1993.0</td>\n",
       "      <td>0.0</td>\n",
       "      <td>2022-04-20 15:01:01</td>\n",
       "      <td>670.0</td>\n",
       "      <td>35000000.0</td>\n",
       "      <td>EARNEDINCOME</td>\n",
       "      <td>201901.0</td>\n",
       "      <td>정규직</td>\n",
       "      <td>전월세</td>\n",
       "      <td>13000000.0</td>\n",
       "      <td>대환대출</td>\n",
       "      <td>0.0</td>\n",
       "      <td>NaN</td>\n",
       "      <td>3.0</td>\n",
       "      <td>36000000.0</td>\n",
       "    </tr>\n",
       "    <tr>\n",
       "      <th>3</th>\n",
       "      <td>1355252</td>\n",
       "      <td>180240</td>\n",
       "      <td>1995.0</td>\n",
       "      <td>0.0</td>\n",
       "      <td>2022-04-20 15:21:40</td>\n",
       "      <td>930.0</td>\n",
       "      <td>31000000.0</td>\n",
       "      <td>EARNEDINCOME</td>\n",
       "      <td>202204.0</td>\n",
       "      <td>정규직</td>\n",
       "      <td>전월세</td>\n",
       "      <td>50000000.0</td>\n",
       "      <td>주택구입</td>\n",
       "      <td>0.0</td>\n",
       "      <td>0.0</td>\n",
       "      <td>NaN</td>\n",
       "      <td>NaN</td>\n",
       "    </tr>\n",
       "    <tr>\n",
       "      <th>4</th>\n",
       "      <td>675491</td>\n",
       "      <td>848534</td>\n",
       "      <td>1984.0</td>\n",
       "      <td>1.0</td>\n",
       "      <td>2022-04-20 15:44:42</td>\n",
       "      <td>580.0</td>\n",
       "      <td>50000000.0</td>\n",
       "      <td>EARNEDINCOME</td>\n",
       "      <td>202012.0</td>\n",
       "      <td>정규직</td>\n",
       "      <td>전월세</td>\n",
       "      <td>50000000.0</td>\n",
       "      <td>생활비</td>\n",
       "      <td>NaN</td>\n",
       "      <td>NaN</td>\n",
       "      <td>5.0</td>\n",
       "      <td>71000000.0</td>\n",
       "    </tr>\n",
       "  </tbody>\n",
       "</table>\n",
       "</div>"
      ],
      "text/plain": [
       "   application_id  user_id  birth_year  gender          insert_time  \\\n",
       "0         1945260   836762      1979.0     1.0  2022-04-20 01:23:09   \n",
       "1         1019382   186886      1979.0     1.0  2022-04-20 00:38:18   \n",
       "2         1117343   594274      1993.0     0.0  2022-04-20 15:01:01   \n",
       "3         1355252   180240      1995.0     0.0  2022-04-20 15:21:40   \n",
       "4          675491   848534      1984.0     1.0  2022-04-20 15:44:42   \n",
       "\n",
       "   credit_score  yearly_income    income_type  company_enter_month  \\\n",
       "0         670.0     50000000.0  EARNEDINCOME2             202110.0   \n",
       "1         730.0     95000000.0   EARNEDINCOME             201803.0   \n",
       "2         670.0     35000000.0   EARNEDINCOME             201901.0   \n",
       "3         930.0     31000000.0   EARNEDINCOME             202204.0   \n",
       "4         580.0     50000000.0   EARNEDINCOME             202012.0   \n",
       "\n",
       "  employment_type houseown_type  desired_amount purpose  \\\n",
       "0              기타           전월세      25000000.0    대환대출   \n",
       "1             정규직           전월세      40000000.0    대환대출   \n",
       "2             정규직           전월세      13000000.0    대환대출   \n",
       "3             정규직           전월세      50000000.0    주택구입   \n",
       "4             정규직           전월세      50000000.0     생활비   \n",
       "\n",
       "   personal_rehabilitation_yn  personal_rehabilitation_complete_yn  \\\n",
       "0                         0.0                                  0.0   \n",
       "1                         0.0                                  NaN   \n",
       "2                         0.0                                  NaN   \n",
       "3                         0.0                                  0.0   \n",
       "4                         NaN                                  NaN   \n",
       "\n",
       "   existing_loan_cnt  existing_loan_amt  \n",
       "0                3.0         76000000.0  \n",
       "1                4.0        142000000.0  \n",
       "2                3.0         36000000.0  \n",
       "3                NaN                NaN  \n",
       "4                5.0         71000000.0  "
      ]
     },
     "metadata": {},
     "output_type": "display_data"
    }
   ],
   "source": [
    "print(user_spec_train.shape)\n",
    "display(user_spec_train.head())"
   ]
  },
  {
   "cell_type": "code",
   "execution_count": 20,
   "id": "b48b4fab",
   "metadata": {},
   "outputs": [
    {
     "name": "stdout",
     "output_type": "stream",
     "text": [
      "(239869, 17)\n"
     ]
    },
    {
     "data": {
      "text/html": [
       "<div>\n",
       "<style scoped>\n",
       "    .dataframe tbody tr th:only-of-type {\n",
       "        vertical-align: middle;\n",
       "    }\n",
       "\n",
       "    .dataframe tbody tr th {\n",
       "        vertical-align: top;\n",
       "    }\n",
       "\n",
       "    .dataframe thead th {\n",
       "        text-align: right;\n",
       "    }\n",
       "</style>\n",
       "<table border=\"1\" class=\"dataframe\">\n",
       "  <thead>\n",
       "    <tr style=\"text-align: right;\">\n",
       "      <th></th>\n",
       "      <th>application_id</th>\n",
       "      <th>user_id</th>\n",
       "      <th>birth_year</th>\n",
       "      <th>gender</th>\n",
       "      <th>insert_time</th>\n",
       "      <th>credit_score</th>\n",
       "      <th>yearly_income</th>\n",
       "      <th>income_type</th>\n",
       "      <th>company_enter_month</th>\n",
       "      <th>employment_type</th>\n",
       "      <th>houseown_type</th>\n",
       "      <th>desired_amount</th>\n",
       "      <th>purpose</th>\n",
       "      <th>personal_rehabilitation_yn</th>\n",
       "      <th>personal_rehabilitation_complete_yn</th>\n",
       "      <th>existing_loan_cnt</th>\n",
       "      <th>existing_loan_amt</th>\n",
       "    </tr>\n",
       "  </thead>\n",
       "  <tbody>\n",
       "    <tr>\n",
       "      <th>0</th>\n",
       "      <td>954900</td>\n",
       "      <td>553686</td>\n",
       "      <td>1968.0</td>\n",
       "      <td>1.0</td>\n",
       "      <td>2022-06-07 14:29:03</td>\n",
       "      <td>870.0</td>\n",
       "      <td>30000000.0</td>\n",
       "      <td>PRIVATEBUSINESS</td>\n",
       "      <td>20070201.0</td>\n",
       "      <td>정규직</td>\n",
       "      <td>기타가족소유</td>\n",
       "      <td>30000000.0</td>\n",
       "      <td>대환대출</td>\n",
       "      <td>0.0</td>\n",
       "      <td>NaN</td>\n",
       "      <td>1.0</td>\n",
       "      <td>27000000.0</td>\n",
       "    </tr>\n",
       "    <tr>\n",
       "      <th>1</th>\n",
       "      <td>137274</td>\n",
       "      <td>59516</td>\n",
       "      <td>1997.0</td>\n",
       "      <td>1.0</td>\n",
       "      <td>2022-06-07 21:40:22</td>\n",
       "      <td>710.0</td>\n",
       "      <td>30000000.0</td>\n",
       "      <td>FREELANCER</td>\n",
       "      <td>20210901.0</td>\n",
       "      <td>기타</td>\n",
       "      <td>기타가족소유</td>\n",
       "      <td>10000000.0</td>\n",
       "      <td>생활비</td>\n",
       "      <td>0.0</td>\n",
       "      <td>NaN</td>\n",
       "      <td>5.0</td>\n",
       "      <td>15000000.0</td>\n",
       "    </tr>\n",
       "    <tr>\n",
       "      <th>2</th>\n",
       "      <td>1570936</td>\n",
       "      <td>167320</td>\n",
       "      <td>1989.0</td>\n",
       "      <td>1.0</td>\n",
       "      <td>2022-06-07 09:40:27</td>\n",
       "      <td>820.0</td>\n",
       "      <td>62000000.0</td>\n",
       "      <td>EARNEDINCOME</td>\n",
       "      <td>20170101.0</td>\n",
       "      <td>정규직</td>\n",
       "      <td>자가</td>\n",
       "      <td>2000000.0</td>\n",
       "      <td>생활비</td>\n",
       "      <td>0.0</td>\n",
       "      <td>NaN</td>\n",
       "      <td>7.0</td>\n",
       "      <td>344000000.0</td>\n",
       "    </tr>\n",
       "    <tr>\n",
       "      <th>3</th>\n",
       "      <td>967833</td>\n",
       "      <td>33400</td>\n",
       "      <td>2000.0</td>\n",
       "      <td>1.0</td>\n",
       "      <td>2022-06-07 08:55:07</td>\n",
       "      <td>630.0</td>\n",
       "      <td>36000000.0</td>\n",
       "      <td>EARNEDINCOME</td>\n",
       "      <td>20210901.0</td>\n",
       "      <td>정규직</td>\n",
       "      <td>기타가족소유</td>\n",
       "      <td>5000000.0</td>\n",
       "      <td>생활비</td>\n",
       "      <td>0.0</td>\n",
       "      <td>0.0</td>\n",
       "      <td>1.0</td>\n",
       "      <td>16000000.0</td>\n",
       "    </tr>\n",
       "    <tr>\n",
       "      <th>4</th>\n",
       "      <td>1614045</td>\n",
       "      <td>860410</td>\n",
       "      <td>1976.0</td>\n",
       "      <td>1.0</td>\n",
       "      <td>2022-06-07 11:29:05</td>\n",
       "      <td>590.0</td>\n",
       "      <td>45000000.0</td>\n",
       "      <td>OTHERINCOME</td>\n",
       "      <td>NaN</td>\n",
       "      <td>기타</td>\n",
       "      <td>자가</td>\n",
       "      <td>15000000.0</td>\n",
       "      <td>대환대출</td>\n",
       "      <td>0.0</td>\n",
       "      <td>NaN</td>\n",
       "      <td>1.0</td>\n",
       "      <td>20000000.0</td>\n",
       "    </tr>\n",
       "  </tbody>\n",
       "</table>\n",
       "</div>"
      ],
      "text/plain": [
       "   application_id  user_id  birth_year  gender          insert_time  \\\n",
       "0          954900   553686      1968.0     1.0  2022-06-07 14:29:03   \n",
       "1          137274    59516      1997.0     1.0  2022-06-07 21:40:22   \n",
       "2         1570936   167320      1989.0     1.0  2022-06-07 09:40:27   \n",
       "3          967833    33400      2000.0     1.0  2022-06-07 08:55:07   \n",
       "4         1614045   860410      1976.0     1.0  2022-06-07 11:29:05   \n",
       "\n",
       "   credit_score  yearly_income      income_type  company_enter_month  \\\n",
       "0         870.0     30000000.0  PRIVATEBUSINESS           20070201.0   \n",
       "1         710.0     30000000.0       FREELANCER           20210901.0   \n",
       "2         820.0     62000000.0     EARNEDINCOME           20170101.0   \n",
       "3         630.0     36000000.0     EARNEDINCOME           20210901.0   \n",
       "4         590.0     45000000.0      OTHERINCOME                  NaN   \n",
       "\n",
       "  employment_type houseown_type  desired_amount purpose  \\\n",
       "0             정규직        기타가족소유      30000000.0    대환대출   \n",
       "1              기타        기타가족소유      10000000.0     생활비   \n",
       "2             정규직            자가       2000000.0     생활비   \n",
       "3             정규직        기타가족소유       5000000.0     생활비   \n",
       "4              기타            자가      15000000.0    대환대출   \n",
       "\n",
       "   personal_rehabilitation_yn  personal_rehabilitation_complete_yn  \\\n",
       "0                         0.0                                  NaN   \n",
       "1                         0.0                                  NaN   \n",
       "2                         0.0                                  NaN   \n",
       "3                         0.0                                  0.0   \n",
       "4                         0.0                                  NaN   \n",
       "\n",
       "   existing_loan_cnt  existing_loan_amt  \n",
       "0                1.0         27000000.0  \n",
       "1                5.0         15000000.0  \n",
       "2                7.0        344000000.0  \n",
       "3                1.0         16000000.0  \n",
       "4                1.0         20000000.0  "
      ]
     },
     "metadata": {},
     "output_type": "display_data"
    }
   ],
   "source": [
    "print(user_spec_test.shape)\n",
    "display(user_spec_test.head())"
   ]
  },
  {
   "cell_type": "code",
   "execution_count": 21,
   "id": "69b7fdac",
   "metadata": {},
   "outputs": [
    {
     "name": "stdout",
     "output_type": "stream",
     "text": [
      "(10270124, 7)\n"
     ]
    },
    {
     "data": {
      "text/html": [
       "<div>\n",
       "<style scoped>\n",
       "    .dataframe tbody tr th:only-of-type {\n",
       "        vertical-align: middle;\n",
       "    }\n",
       "\n",
       "    .dataframe tbody tr th {\n",
       "        vertical-align: top;\n",
       "    }\n",
       "\n",
       "    .dataframe thead th {\n",
       "        text-align: right;\n",
       "    }\n",
       "</style>\n",
       "<table border=\"1\" class=\"dataframe\">\n",
       "  <thead>\n",
       "    <tr style=\"text-align: right;\">\n",
       "      <th></th>\n",
       "      <th>application_id</th>\n",
       "      <th>loanapply_insert_time</th>\n",
       "      <th>bank_id</th>\n",
       "      <th>product_id</th>\n",
       "      <th>loan_limit</th>\n",
       "      <th>loan_rate</th>\n",
       "      <th>is_applied</th>\n",
       "    </tr>\n",
       "  </thead>\n",
       "  <tbody>\n",
       "    <tr>\n",
       "      <th>0</th>\n",
       "      <td>2157865</td>\n",
       "      <td>2022-05-09 08:44:59</td>\n",
       "      <td>54</td>\n",
       "      <td>235</td>\n",
       "      <td>20000000.0</td>\n",
       "      <td>16.5</td>\n",
       "      <td>1.0</td>\n",
       "    </tr>\n",
       "    <tr>\n",
       "      <th>1</th>\n",
       "      <td>576643</td>\n",
       "      <td>2022-05-09 10:54:53</td>\n",
       "      <td>54</td>\n",
       "      <td>235</td>\n",
       "      <td>11000000.0</td>\n",
       "      <td>16.5</td>\n",
       "      <td>0.0</td>\n",
       "    </tr>\n",
       "    <tr>\n",
       "      <th>2</th>\n",
       "      <td>576643</td>\n",
       "      <td>2022-05-09 10:54:53</td>\n",
       "      <td>11</td>\n",
       "      <td>118</td>\n",
       "      <td>3000000.0</td>\n",
       "      <td>20.0</td>\n",
       "      <td>0.0</td>\n",
       "    </tr>\n",
       "    <tr>\n",
       "      <th>3</th>\n",
       "      <td>2136706</td>\n",
       "      <td>2022-05-09 10:41:06</td>\n",
       "      <td>42</td>\n",
       "      <td>216</td>\n",
       "      <td>10000000.0</td>\n",
       "      <td>13.5</td>\n",
       "      <td>0.0</td>\n",
       "    </tr>\n",
       "    <tr>\n",
       "      <th>4</th>\n",
       "      <td>2136706</td>\n",
       "      <td>2022-05-09 10:41:07</td>\n",
       "      <td>25</td>\n",
       "      <td>169</td>\n",
       "      <td>22000000.0</td>\n",
       "      <td>15.9</td>\n",
       "      <td>0.0</td>\n",
       "    </tr>\n",
       "  </tbody>\n",
       "</table>\n",
       "</div>"
      ],
      "text/plain": [
       "   application_id loanapply_insert_time  bank_id  product_id  loan_limit  \\\n",
       "0         2157865   2022-05-09 08:44:59       54         235  20000000.0   \n",
       "1          576643   2022-05-09 10:54:53       54         235  11000000.0   \n",
       "2          576643   2022-05-09 10:54:53       11         118   3000000.0   \n",
       "3         2136706   2022-05-09 10:41:06       42         216  10000000.0   \n",
       "4         2136706   2022-05-09 10:41:07       25         169  22000000.0   \n",
       "\n",
       "   loan_rate  is_applied  \n",
       "0       16.5         1.0  \n",
       "1       16.5         0.0  \n",
       "2       20.0         0.0  \n",
       "3       13.5         0.0  \n",
       "4       15.9         0.0  "
      ]
     },
     "metadata": {},
     "output_type": "display_data"
    }
   ],
   "source": [
    "print(loan_result_train.shape)\n",
    "display(loan_result_train.head())"
   ]
  },
  {
   "cell_type": "code",
   "execution_count": 22,
   "id": "1ed22b22",
   "metadata": {},
   "outputs": [
    {
     "name": "stdout",
     "output_type": "stream",
     "text": [
      "(3257239, 7)\n"
     ]
    },
    {
     "data": {
      "text/html": [
       "<div>\n",
       "<style scoped>\n",
       "    .dataframe tbody tr th:only-of-type {\n",
       "        vertical-align: middle;\n",
       "    }\n",
       "\n",
       "    .dataframe tbody tr th {\n",
       "        vertical-align: top;\n",
       "    }\n",
       "\n",
       "    .dataframe thead th {\n",
       "        text-align: right;\n",
       "    }\n",
       "</style>\n",
       "<table border=\"1\" class=\"dataframe\">\n",
       "  <thead>\n",
       "    <tr style=\"text-align: right;\">\n",
       "      <th></th>\n",
       "      <th>application_id</th>\n",
       "      <th>loanapply_insert_time</th>\n",
       "      <th>bank_id</th>\n",
       "      <th>product_id</th>\n",
       "      <th>loan_limit</th>\n",
       "      <th>loan_rate</th>\n",
       "      <th>is_applied</th>\n",
       "    </tr>\n",
       "  </thead>\n",
       "  <tbody>\n",
       "    <tr>\n",
       "      <th>0</th>\n",
       "      <td>1748340</td>\n",
       "      <td>2022-06-07 13:05:41</td>\n",
       "      <td>7</td>\n",
       "      <td>191</td>\n",
       "      <td>42000000.0</td>\n",
       "      <td>13.6</td>\n",
       "      <td>NaN</td>\n",
       "    </tr>\n",
       "    <tr>\n",
       "      <th>1</th>\n",
       "      <td>1748340</td>\n",
       "      <td>2022-06-07 13:05:41</td>\n",
       "      <td>25</td>\n",
       "      <td>169</td>\n",
       "      <td>24000000.0</td>\n",
       "      <td>17.9</td>\n",
       "      <td>NaN</td>\n",
       "    </tr>\n",
       "    <tr>\n",
       "      <th>2</th>\n",
       "      <td>1748340</td>\n",
       "      <td>2022-06-07 13:05:41</td>\n",
       "      <td>2</td>\n",
       "      <td>7</td>\n",
       "      <td>24000000.0</td>\n",
       "      <td>18.5</td>\n",
       "      <td>NaN</td>\n",
       "    </tr>\n",
       "    <tr>\n",
       "      <th>3</th>\n",
       "      <td>1748340</td>\n",
       "      <td>2022-06-07 13:05:41</td>\n",
       "      <td>4</td>\n",
       "      <td>268</td>\n",
       "      <td>29000000.0</td>\n",
       "      <td>10.8</td>\n",
       "      <td>NaN</td>\n",
       "    </tr>\n",
       "    <tr>\n",
       "      <th>4</th>\n",
       "      <td>1748340</td>\n",
       "      <td>2022-06-07 13:05:41</td>\n",
       "      <td>11</td>\n",
       "      <td>118</td>\n",
       "      <td>5000000.0</td>\n",
       "      <td>16.4</td>\n",
       "      <td>NaN</td>\n",
       "    </tr>\n",
       "  </tbody>\n",
       "</table>\n",
       "</div>"
      ],
      "text/plain": [
       "   application_id loanapply_insert_time  bank_id  product_id  loan_limit  \\\n",
       "0         1748340   2022-06-07 13:05:41        7         191  42000000.0   \n",
       "1         1748340   2022-06-07 13:05:41       25         169  24000000.0   \n",
       "2         1748340   2022-06-07 13:05:41        2           7  24000000.0   \n",
       "3         1748340   2022-06-07 13:05:41        4         268  29000000.0   \n",
       "4         1748340   2022-06-07 13:05:41       11         118   5000000.0   \n",
       "\n",
       "   loan_rate  is_applied  \n",
       "0       13.6         NaN  \n",
       "1       17.9         NaN  \n",
       "2       18.5         NaN  \n",
       "3       10.8         NaN  \n",
       "4       16.4         NaN  "
      ]
     },
     "metadata": {},
     "output_type": "display_data"
    }
   ],
   "source": [
    "print(loan_result_test.shape)\n",
    "display(loan_result_test.head())"
   ]
  },
  {
   "cell_type": "code",
   "execution_count": 23,
   "id": "a62ef936",
   "metadata": {},
   "outputs": [
    {
     "name": "stdout",
     "output_type": "stream",
     "text": [
      "(10378704, 6)\n"
     ]
    },
    {
     "data": {
      "text/html": [
       "<div>\n",
       "<style scoped>\n",
       "    .dataframe tbody tr th:only-of-type {\n",
       "        vertical-align: middle;\n",
       "    }\n",
       "\n",
       "    .dataframe tbody tr th {\n",
       "        vertical-align: top;\n",
       "    }\n",
       "\n",
       "    .dataframe thead th {\n",
       "        text-align: right;\n",
       "    }\n",
       "</style>\n",
       "<table border=\"1\" class=\"dataframe\">\n",
       "  <thead>\n",
       "    <tr style=\"text-align: right;\">\n",
       "      <th></th>\n",
       "      <th>user_id</th>\n",
       "      <th>event</th>\n",
       "      <th>timestamp</th>\n",
       "      <th>mp_os</th>\n",
       "      <th>mp_app_version</th>\n",
       "      <th>date_cd</th>\n",
       "    </tr>\n",
       "  </thead>\n",
       "  <tbody>\n",
       "    <tr>\n",
       "      <th>0</th>\n",
       "      <td>576409</td>\n",
       "      <td>StartLoanApply</td>\n",
       "      <td>2022-03-25 11:12:09</td>\n",
       "      <td>Android</td>\n",
       "      <td>3.8.2</td>\n",
       "      <td>2022-03-25</td>\n",
       "    </tr>\n",
       "    <tr>\n",
       "      <th>1</th>\n",
       "      <td>576409</td>\n",
       "      <td>ViewLoanApplyIntro</td>\n",
       "      <td>2022-03-25 11:12:09</td>\n",
       "      <td>Android</td>\n",
       "      <td>3.8.2</td>\n",
       "      <td>2022-03-25</td>\n",
       "    </tr>\n",
       "    <tr>\n",
       "      <th>2</th>\n",
       "      <td>72878</td>\n",
       "      <td>EndLoanApply</td>\n",
       "      <td>2022-03-25 11:14:44</td>\n",
       "      <td>Android</td>\n",
       "      <td>3.8.4</td>\n",
       "      <td>2022-03-25</td>\n",
       "    </tr>\n",
       "    <tr>\n",
       "      <th>3</th>\n",
       "      <td>645317</td>\n",
       "      <td>OpenApp</td>\n",
       "      <td>2022-03-25 11:15:09</td>\n",
       "      <td>iOS</td>\n",
       "      <td>3.6.1</td>\n",
       "      <td>2022-03-25</td>\n",
       "    </tr>\n",
       "    <tr>\n",
       "      <th>4</th>\n",
       "      <td>645317</td>\n",
       "      <td>UseLoanManage</td>\n",
       "      <td>2022-03-25 11:15:11</td>\n",
       "      <td>iOS</td>\n",
       "      <td>3.6.1</td>\n",
       "      <td>2022-03-25</td>\n",
       "    </tr>\n",
       "  </tbody>\n",
       "</table>\n",
       "</div>"
      ],
      "text/plain": [
       "   user_id               event            timestamp    mp_os mp_app_version  \\\n",
       "0   576409      StartLoanApply  2022-03-25 11:12:09  Android          3.8.2   \n",
       "1   576409  ViewLoanApplyIntro  2022-03-25 11:12:09  Android          3.8.2   \n",
       "2    72878        EndLoanApply  2022-03-25 11:14:44  Android          3.8.4   \n",
       "3   645317             OpenApp  2022-03-25 11:15:09      iOS          3.6.1   \n",
       "4   645317       UseLoanManage  2022-03-25 11:15:11      iOS          3.6.1   \n",
       "\n",
       "      date_cd  \n",
       "0  2022-03-25  \n",
       "1  2022-03-25  \n",
       "2  2022-03-25  \n",
       "3  2022-03-25  \n",
       "4  2022-03-25  "
      ]
     },
     "metadata": {},
     "output_type": "display_data"
    }
   ],
   "source": [
    "print(log_data_train.shape)\n",
    "display(log_data_train.head())"
   ]
  },
  {
   "cell_type": "code",
   "execution_count": 24,
   "id": "d3e0e59a",
   "metadata": {},
   "outputs": [
    {
     "name": "stdout",
     "output_type": "stream",
     "text": [
      "(3965318, 6)\n"
     ]
    },
    {
     "data": {
      "text/html": [
       "<div>\n",
       "<style scoped>\n",
       "    .dataframe tbody tr th:only-of-type {\n",
       "        vertical-align: middle;\n",
       "    }\n",
       "\n",
       "    .dataframe tbody tr th {\n",
       "        vertical-align: top;\n",
       "    }\n",
       "\n",
       "    .dataframe thead th {\n",
       "        text-align: right;\n",
       "    }\n",
       "</style>\n",
       "<table border=\"1\" class=\"dataframe\">\n",
       "  <thead>\n",
       "    <tr style=\"text-align: right;\">\n",
       "      <th></th>\n",
       "      <th>user_id</th>\n",
       "      <th>event</th>\n",
       "      <th>timestamp</th>\n",
       "      <th>mp_os</th>\n",
       "      <th>mp_app_version</th>\n",
       "      <th>date_cd</th>\n",
       "    </tr>\n",
       "  </thead>\n",
       "  <tbody>\n",
       "    <tr>\n",
       "      <th>0</th>\n",
       "      <td>17516</td>\n",
       "      <td>EndLoanApply</td>\n",
       "      <td>2022-06-26 11:06:49</td>\n",
       "      <td>Android</td>\n",
       "      <td>3.15.0</td>\n",
       "      <td>2022-06-26</td>\n",
       "    </tr>\n",
       "    <tr>\n",
       "      <th>1</th>\n",
       "      <td>195705</td>\n",
       "      <td>OpenApp</td>\n",
       "      <td>2022-06-26 11:29:27</td>\n",
       "      <td>Android</td>\n",
       "      <td>3.12.1</td>\n",
       "      <td>2022-06-26</td>\n",
       "    </tr>\n",
       "    <tr>\n",
       "      <th>2</th>\n",
       "      <td>195705</td>\n",
       "      <td>Login</td>\n",
       "      <td>2022-06-26 11:29:34</td>\n",
       "      <td>Android</td>\n",
       "      <td>3.12.1</td>\n",
       "      <td>2022-06-26</td>\n",
       "    </tr>\n",
       "    <tr>\n",
       "      <th>3</th>\n",
       "      <td>743379</td>\n",
       "      <td>OpenApp</td>\n",
       "      <td>2022-06-26 11:33:09</td>\n",
       "      <td>Android</td>\n",
       "      <td>3.15.1</td>\n",
       "      <td>2022-06-26</td>\n",
       "    </tr>\n",
       "    <tr>\n",
       "      <th>4</th>\n",
       "      <td>855546</td>\n",
       "      <td>OpenApp</td>\n",
       "      <td>2022-06-26 11:34:23</td>\n",
       "      <td>Android</td>\n",
       "      <td>3.14.0</td>\n",
       "      <td>2022-06-26</td>\n",
       "    </tr>\n",
       "  </tbody>\n",
       "</table>\n",
       "</div>"
      ],
      "text/plain": [
       "   user_id         event            timestamp    mp_os mp_app_version  \\\n",
       "0    17516  EndLoanApply  2022-06-26 11:06:49  Android         3.15.0   \n",
       "1   195705       OpenApp  2022-06-26 11:29:27  Android         3.12.1   \n",
       "2   195705         Login  2022-06-26 11:29:34  Android         3.12.1   \n",
       "3   743379       OpenApp  2022-06-26 11:33:09  Android         3.15.1   \n",
       "4   855546       OpenApp  2022-06-26 11:34:23  Android         3.14.0   \n",
       "\n",
       "      date_cd  \n",
       "0  2022-06-26  \n",
       "1  2022-06-26  \n",
       "2  2022-06-26  \n",
       "3  2022-06-26  \n",
       "4  2022-06-26  "
      ]
     },
     "metadata": {},
     "output_type": "display_data"
    }
   ],
   "source": [
    "print(log_data_test.shape)\n",
    "display(log_data_test.head())"
   ]
  },
  {
   "cell_type": "markdown",
   "id": "8afeb9e1",
   "metadata": {},
   "source": [
    "## Outlier"
   ]
  },
  {
   "cell_type": "markdown",
   "id": "0dbc211f",
   "metadata": {},
   "source": [
    "### Credit Score"
   ]
  },
  {
   "cell_type": "code",
   "execution_count": 25,
   "id": "1835c7c8",
   "metadata": {},
   "outputs": [
    {
     "data": {
      "image/png": "[encoded data removed]",
      "text/plain": [
       "<Figure size 1200x800 with 1 Axes>"
      ]
     },
     "metadata": {},
     "output_type": "display_data"
    }
   ],
   "source": [
    "sns.boxplot(y = 'credit_score', data = user_spec)\n",
    "plt.title('credit_score', size = 15)\n",
    "plt.show()"
   ]
  },
  {
   "cell_type": "markdown",
   "id": "e04edfa9",
   "metadata": {},
   "source": [
    "- 아무것도 안하고 넘어가기"
   ]
  },
  {
   "cell_type": "markdown",
   "id": "279489d2",
   "metadata": {},
   "source": [
    "### yearly_income"
   ]
  },
  {
   "cell_type": "code",
   "execution_count": 26,
   "id": "0148741c",
   "metadata": {},
   "outputs": [
    {
     "data": {
      "image/png": "[encoded data removed]",
      "text/plain": [
       "<Figure size 1200x800 with 1 Axes>"
      ]
     },
     "metadata": {},
     "output_type": "display_data"
    }
   ],
   "source": [
    "sns.boxplot(y = 'yearly_income', data = user_spec)\n",
    "plt.title('yearly_income', size = 15)\n",
    "plt.show()"
   ]
  },
  {
   "cell_type": "markdown",
   "id": "4e200995",
   "metadata": {},
   "source": [
    "- 아무것도 안하고 넘어가기"
   ]
  },
  {
   "cell_type": "markdown",
   "id": "67b52980",
   "metadata": {},
   "source": [
    "### company_enter_month"
   ]
  },
  {
   "cell_type": "code",
   "execution_count": 27,
   "id": "4160c068",
   "metadata": {},
   "outputs": [
    {
     "data": {
      "text/html": [
       "<div>\n",
       "<style scoped>\n",
       "    .dataframe tbody tr th:only-of-type {\n",
       "        vertical-align: middle;\n",
       "    }\n",
       "\n",
       "    .dataframe tbody tr th {\n",
       "        vertical-align: top;\n",
       "    }\n",
       "\n",
       "    .dataframe thead th {\n",
       "        text-align: right;\n",
       "    }\n",
       "</style>\n",
       "<table border=\"1\" class=\"dataframe\">\n",
       "  <thead>\n",
       "    <tr style=\"text-align: right;\">\n",
       "      <th></th>\n",
       "      <th>user_id</th>\n",
       "      <th>enter_year</th>\n",
       "      <th>enter_month</th>\n",
       "    </tr>\n",
       "  </thead>\n",
       "  <tbody>\n",
       "    <tr>\n",
       "      <th>0</th>\n",
       "      <td>553686</td>\n",
       "      <td>2007.0</td>\n",
       "      <td>2.0</td>\n",
       "    </tr>\n",
       "    <tr>\n",
       "      <th>1</th>\n",
       "      <td>59516</td>\n",
       "      <td>2021.0</td>\n",
       "      <td>9.0</td>\n",
       "    </tr>\n",
       "    <tr>\n",
       "      <th>2</th>\n",
       "      <td>167320</td>\n",
       "      <td>2017.0</td>\n",
       "      <td>1.0</td>\n",
       "    </tr>\n",
       "    <tr>\n",
       "      <th>3</th>\n",
       "      <td>33400</td>\n",
       "      <td>2021.0</td>\n",
       "      <td>9.0</td>\n",
       "    </tr>\n",
       "    <tr>\n",
       "      <th>4</th>\n",
       "      <td>860410</td>\n",
       "      <td>NaN</td>\n",
       "      <td>NaN</td>\n",
       "    </tr>\n",
       "  </tbody>\n",
       "</table>\n",
       "</div>"
      ],
      "text/plain": [
       "   user_id  enter_year  enter_month\n",
       "0   553686      2007.0          2.0\n",
       "1    59516      2021.0          9.0\n",
       "2   167320      2017.0          1.0\n",
       "3    33400      2021.0          9.0\n",
       "4   860410         NaN          NaN"
      ]
     },
     "execution_count": 27,
     "metadata": {},
     "output_type": "execute_result"
    }
   ],
   "source": [
    "## 근속연수\n",
    "def company_enter_year(x):\n",
    "    if x > 10000000:\n",
    "        return x // 10000\n",
    "    elif x > 100000:\n",
    "        return x // 100\n",
    "\n",
    "def company_enter_month(x):\n",
    "    if x > 10000000:\n",
    "        return (x % 10000) // 100\n",
    "    elif x > 100000:\n",
    "        return x % 100\n",
    "    \n",
    "user_spec['enter_year'] = user_spec['company_enter_month'].map(company_enter_year)\n",
    "user_spec['enter_month'] = user_spec['company_enter_month'].map(company_enter_month)\n",
    "user_spec_train['enter_year'] = user_spec_train['company_enter_month'].map(company_enter_year)\n",
    "user_spec_train['enter_month'] = user_spec_train['company_enter_month'].map(company_enter_month)\n",
    "user_spec[['user_id', 'enter_year', 'enter_month']].head()"
   ]
  },
  {
   "cell_type": "code",
   "execution_count": 28,
   "id": "53113065",
   "metadata": {},
   "outputs": [
    {
     "data": {
      "image/png": "[encoded data removed]",
      "text/plain": [
       "<Figure size 1200x800 with 1 Axes>"
      ]
     },
     "metadata": {},
     "output_type": "display_data"
    }
   ],
   "source": [
    "sns.boxplot(y = 'enter_year', data = user_spec)\n",
    "plt.title('enter_year', size = 15)\n",
    "plt.show()"
   ]
  },
  {
   "cell_type": "code",
   "execution_count": 29,
   "id": "b3c3f151",
   "metadata": {},
   "outputs": [],
   "source": [
    "user_spec['enter_birth'] = pd.to_numeric(user_spec['enter_year']) - user_spec['birth_year']\n",
    "user_spec_train['enter_birth'] = pd.to_numeric(user_spec_train['enter_year']) - user_spec_train['birth_year']"
   ]
  },
  {
   "cell_type": "code",
   "execution_count": 30,
   "id": "6ad09a8e",
   "metadata": {},
   "outputs": [
    {
     "data": {
      "image/png": "[encoded data removed]",
      "text/plain": [
       "<Figure size 1200x800 with 1 Axes>"
      ]
     },
     "metadata": {},
     "output_type": "display_data"
    }
   ],
   "source": [
    "sns.boxplot(y = 'enter_birth', data = user_spec)\n",
    "plt.title('입사할때 나이', size = 15)\n",
    "plt.show()"
   ]
  },
  {
   "cell_type": "code",
   "execution_count": 31,
   "id": "74fa52db",
   "metadata": {},
   "outputs": [],
   "source": [
    "user_spec.loc[user_spec['enter_birth']<15,'enter_year'] = user_spec.loc[user_spec['enter_birth']<15,'birth_year']+user_spec_train['enter_birth'].median() \n",
    "user_spec.loc[user_spec['enter_year']>2022,'enter_year'] = 2021\n",
    "user_spec.loc[user_spec['enter_birth']<15,'enter_birth'] = 15"
   ]
  },
  {
   "cell_type": "code",
   "execution_count": 32,
   "id": "f02fe594",
   "metadata": {},
   "outputs": [
    {
     "data": {
      "image/png": "[encoded data removed]",
      "text/plain": [
       "<Figure size 1200x800 with 1 Axes>"
      ]
     },
     "metadata": {},
     "output_type": "display_data"
    }
   ],
   "source": [
    "sns.boxplot(y = 'enter_year', data = user_spec)\n",
    "plt.title('enter_year', size = 15)\n",
    "plt.show()"
   ]
  },
  {
   "cell_type": "code",
   "execution_count": 33,
   "id": "c32adfc9",
   "metadata": {},
   "outputs": [
    {
     "data": {
      "image/png": "[encoded data removed]",
      "text/plain": [
       "<Figure size 1200x800 with 1 Axes>"
      ]
     },
     "metadata": {},
     "output_type": "display_data"
    }
   ],
   "source": [
    "sns.boxplot(y = 'enter_birth', data = user_spec)\n",
    "plt.title('입사할때 나이', size = 15)\n",
    "plt.show()"
   ]
  },
  {
   "cell_type": "markdown",
   "id": "60f511a6",
   "metadata": {},
   "source": [
    "### desired_amount"
   ]
  },
  {
   "cell_type": "code",
   "execution_count": 34,
   "id": "fafde29d",
   "metadata": {},
   "outputs": [
    {
     "data": {
      "image/png": "[encoded data removed]",
      "text/plain": [
       "<Figure size 1200x800 with 1 Axes>"
      ]
     },
     "metadata": {},
     "output_type": "display_data"
    }
   ],
   "source": [
    "sns.boxplot(y = 'desired_amount', data = user_spec)\n",
    "plt.title('desired_amount', size = 15)\n",
    "plt.show()"
   ]
  },
  {
   "cell_type": "markdown",
   "id": "4da43242",
   "metadata": {},
   "source": [
    "- 아무것도 안하고 넘어가기"
   ]
  },
  {
   "cell_type": "markdown",
   "id": "52b042a1",
   "metadata": {},
   "source": [
    "### existing_loan_cnt"
   ]
  },
  {
   "cell_type": "code",
   "execution_count": 35,
   "id": "2bf48e63",
   "metadata": {},
   "outputs": [
    {
     "data": {
      "image/png": "[encoded data removed]",
      "text/plain": [
       "<Figure size 1200x800 with 1 Axes>"
      ]
     },
     "metadata": {},
     "output_type": "display_data"
    }
   ],
   "source": [
    "sns.boxplot(y = 'existing_loan_cnt', data = user_spec)\n",
    "plt.title('existing_loan_cnt', size = 15)\n",
    "plt.show()"
   ]
  },
  {
   "cell_type": "code",
   "execution_count": 36,
   "id": "6b4ec04b",
   "metadata": {},
   "outputs": [
    {
     "data": {
      "text/plain": [
       "4.500601242852262"
      ]
     },
     "execution_count": 36,
     "metadata": {},
     "output_type": "execute_result"
    }
   ],
   "source": [
    "user_spec['existing_loan_cnt'].mean()"
   ]
  },
  {
   "cell_type": "code",
   "execution_count": 37,
   "id": "7592b4c3",
   "metadata": {},
   "outputs": [
    {
     "data": {
      "text/plain": [
       "229.0"
      ]
     },
     "execution_count": 37,
     "metadata": {},
     "output_type": "execute_result"
    }
   ],
   "source": [
    "user_spec['existing_loan_cnt'].max()"
   ]
  },
  {
   "cell_type": "markdown",
   "id": "fe8cd0d2",
   "metadata": {},
   "source": [
    "- 기대출수 150개 이상 -> 냅두기"
   ]
  },
  {
   "cell_type": "markdown",
   "id": "8b481f28",
   "metadata": {},
   "source": [
    "### existing_loan_amt"
   ]
  },
  {
   "cell_type": "code",
   "execution_count": 38,
   "id": "6c1a4290",
   "metadata": {},
   "outputs": [
    {
     "data": {
      "image/png": "[encoded data removed]",
      "text/plain": [
       "<Figure size 1200x800 with 1 Axes>"
      ]
     },
     "metadata": {},
     "output_type": "display_data"
    }
   ],
   "source": [
    "sns.boxplot(y = 'existing_loan_amt', data = user_spec)\n",
    "plt.title('existing_loan_amt', size = 15)\n",
    "plt.show()"
   ]
  },
  {
   "cell_type": "markdown",
   "id": "e3cf02c2",
   "metadata": {},
   "source": [
    "- 아무것도 안하기로 함"
   ]
  },
  {
   "cell_type": "markdown",
   "id": "fbfb0d7a",
   "metadata": {},
   "source": [
    "## Missing_value"
   ]
  },
  {
   "cell_type": "markdown",
   "id": "72f7e7ee",
   "metadata": {},
   "source": [
    "### Data Split"
   ]
  },
  {
   "cell_type": "code",
   "execution_count": 39,
   "id": "8216b764",
   "metadata": {},
   "outputs": [],
   "source": [
    "user_spec['month'] = user_spec['insert_time'].apply(lambda x: int(x[5:7]))\n",
    "loan_result['month'] = loan_result['loanapply_insert_time'].apply(lambda x: int(x[5:7]))\n",
    "log_data['month'] = log_data['timestamp'].apply(lambda x: int(x[5:7]))"
   ]
  },
  {
   "cell_type": "code",
   "execution_count": 40,
   "id": "ee770540",
   "metadata": {},
   "outputs": [],
   "source": [
    "user_spec_train = user_spec[user_spec['month'] <6].reset_index(drop=True)\n",
    "loan_result_train = loan_result[loan_result['month'] <6].reset_index(drop=True)\n",
    "log_data_train = log_data[log_data['month'] <6].reset_index(drop=True)\n",
    "\n",
    "user_spec_test = user_spec[user_spec['month'] ==6].reset_index(drop=True)\n",
    "loan_result_test = loan_result[loan_result['month'] ==6].reset_index(drop=True)\n",
    "log_data_test = log_data[log_data['month'] ==6].reset_index(drop=True)"
   ]
  },
  {
   "cell_type": "markdown",
   "id": "ac7e2a50",
   "metadata": {},
   "source": [
    "### Missing Value Check"
   ]
  },
  {
   "cell_type": "code",
   "execution_count": 41,
   "id": "ce8605bc",
   "metadata": {},
   "outputs": [
    {
     "data": {
      "text/plain": [
       "application_id                              0\n",
       "user_id                                     0\n",
       "birth_year                               8593\n",
       "gender                                   8593\n",
       "insert_time                                 0\n",
       "credit_score                            81769\n",
       "yearly_income                               1\n",
       "income_type                                 0\n",
       "company_enter_month                     92314\n",
       "employment_type                             0\n",
       "houseown_type                               0\n",
       "desired_amount                              0\n",
       "purpose                                     0\n",
       "personal_rehabilitation_yn             417763\n",
       "personal_rehabilitation_complete_yn    843993\n",
       "existing_loan_cnt                      146290\n",
       "existing_loan_amt                      225046\n",
       "enter_year                              92314\n",
       "enter_month                             92314\n",
       "enter_birth                             99428\n",
       "month                                       0\n",
       "dtype: int64"
      ]
     },
     "execution_count": 41,
     "metadata": {},
     "output_type": "execute_result"
    }
   ],
   "source": [
    "user_spec.isnull().sum()"
   ]
  },
  {
   "cell_type": "code",
   "execution_count": 42,
   "id": "0c98db24",
   "metadata": {},
   "outputs": [
    {
     "data": {
      "text/plain": [
       "application_id                 0\n",
       "loanapply_insert_time          0\n",
       "bank_id                        0\n",
       "product_id                     0\n",
       "loan_limit                  7495\n",
       "loan_rate                   7495\n",
       "is_applied               3257239\n",
       "month                          0\n",
       "dtype: int64"
      ]
     },
     "execution_count": 42,
     "metadata": {},
     "output_type": "execute_result"
    }
   ],
   "source": [
    "loan_result.isnull().sum()"
   ]
  },
  {
   "cell_type": "code",
   "execution_count": 43,
   "id": "9a18d08c",
   "metadata": {},
   "outputs": [
    {
     "data": {
      "text/plain": [
       "user_id                0\n",
       "event                  0\n",
       "timestamp              0\n",
       "mp_os                377\n",
       "mp_app_version    550049\n",
       "date_cd                0\n",
       "month                  0\n",
       "dtype: int64"
      ]
     },
     "execution_count": 43,
     "metadata": {},
     "output_type": "execute_result"
    }
   ],
   "source": [
    "log_data.isnull().sum()"
   ]
  },
  {
   "cell_type": "markdown",
   "id": "0ca0573f",
   "metadata": {},
   "source": [
    "### Birth_year & gender"
   ]
  },
  {
   "cell_type": "code",
   "execution_count": 44,
   "id": "f44d2078",
   "metadata": {},
   "outputs": [
    {
     "data": {
      "text/html": [
       "<div>\n",
       "<style scoped>\n",
       "    .dataframe tbody tr th:only-of-type {\n",
       "        vertical-align: middle;\n",
       "    }\n",
       "\n",
       "    .dataframe tbody tr th {\n",
       "        vertical-align: top;\n",
       "    }\n",
       "\n",
       "    .dataframe thead th {\n",
       "        text-align: right;\n",
       "    }\n",
       "</style>\n",
       "<table border=\"1\" class=\"dataframe\">\n",
       "  <thead>\n",
       "    <tr style=\"text-align: right;\">\n",
       "      <th></th>\n",
       "      <th>user_id</th>\n",
       "      <th>birth_year</th>\n",
       "      <th>gender</th>\n",
       "    </tr>\n",
       "  </thead>\n",
       "  <tbody>\n",
       "    <tr>\n",
       "      <th>0</th>\n",
       "      <td>9</td>\n",
       "      <td>1996.0</td>\n",
       "      <td>1.0</td>\n",
       "    </tr>\n",
       "    <tr>\n",
       "      <th>1</th>\n",
       "      <td>11</td>\n",
       "      <td>1997.0</td>\n",
       "      <td>1.0</td>\n",
       "    </tr>\n",
       "    <tr>\n",
       "      <th>2</th>\n",
       "      <td>14</td>\n",
       "      <td>1965.0</td>\n",
       "      <td>0.0</td>\n",
       "    </tr>\n",
       "    <tr>\n",
       "      <th>3</th>\n",
       "      <td>17</td>\n",
       "      <td>1993.0</td>\n",
       "      <td>1.0</td>\n",
       "    </tr>\n",
       "    <tr>\n",
       "      <th>4</th>\n",
       "      <td>19</td>\n",
       "      <td>1987.0</td>\n",
       "      <td>0.0</td>\n",
       "    </tr>\n",
       "    <tr>\n",
       "      <th>...</th>\n",
       "      <td>...</td>\n",
       "      <td>...</td>\n",
       "      <td>...</td>\n",
       "    </tr>\n",
       "    <tr>\n",
       "      <th>312508</th>\n",
       "      <td>879692</td>\n",
       "      <td>1992.0</td>\n",
       "      <td>1.0</td>\n",
       "    </tr>\n",
       "    <tr>\n",
       "      <th>312509</th>\n",
       "      <td>879693</td>\n",
       "      <td>2001.0</td>\n",
       "      <td>0.0</td>\n",
       "    </tr>\n",
       "    <tr>\n",
       "      <th>312510</th>\n",
       "      <td>879695</td>\n",
       "      <td>1996.0</td>\n",
       "      <td>1.0</td>\n",
       "    </tr>\n",
       "    <tr>\n",
       "      <th>312511</th>\n",
       "      <td>879696</td>\n",
       "      <td>1997.0</td>\n",
       "      <td>1.0</td>\n",
       "    </tr>\n",
       "    <tr>\n",
       "      <th>312512</th>\n",
       "      <td>879697</td>\n",
       "      <td>1962.0</td>\n",
       "      <td>1.0</td>\n",
       "    </tr>\n",
       "  </tbody>\n",
       "</table>\n",
       "<p>312513 rows × 3 columns</p>\n",
       "</div>"
      ],
      "text/plain": [
       "        user_id  birth_year  gender\n",
       "0             9      1996.0     1.0\n",
       "1            11      1997.0     1.0\n",
       "2            14      1965.0     0.0\n",
       "3            17      1993.0     1.0\n",
       "4            19      1987.0     0.0\n",
       "...         ...         ...     ...\n",
       "312508   879692      1992.0     1.0\n",
       "312509   879693      2001.0     0.0\n",
       "312510   879695      1996.0     1.0\n",
       "312511   879696      1997.0     1.0\n",
       "312512   879697      1962.0     1.0\n",
       "\n",
       "[312513 rows x 3 columns]"
      ]
     },
     "execution_count": 44,
     "metadata": {},
     "output_type": "execute_result"
    }
   ],
   "source": [
    "birth_gender = user_spec.groupby(['user_id','birth_year','gender'],as_index=False).count().reset_index(drop=True).iloc[:,:3]\n",
    "birth_gender"
   ]
  },
  {
   "cell_type": "code",
   "execution_count": 45,
   "id": "f6e66c41",
   "metadata": {},
   "outputs": [],
   "source": [
    "user_spec = user_spec.drop(['birth_year','gender'],axis=1)\n",
    "user_spec = pd.merge(user_spec,birth_gender,how='left',on='user_id')"
   ]
  },
  {
   "cell_type": "code",
   "execution_count": 46,
   "id": "b9b7833b",
   "metadata": {
    "scrolled": true
   },
   "outputs": [
    {
     "data": {
      "text/html": [
       "<div>\n",
       "<style scoped>\n",
       "    .dataframe tbody tr th:only-of-type {\n",
       "        vertical-align: middle;\n",
       "    }\n",
       "\n",
       "    .dataframe tbody tr th {\n",
       "        vertical-align: top;\n",
       "    }\n",
       "\n",
       "    .dataframe thead th {\n",
       "        text-align: right;\n",
       "    }\n",
       "</style>\n",
       "<table border=\"1\" class=\"dataframe\">\n",
       "  <thead>\n",
       "    <tr style=\"text-align: right;\">\n",
       "      <th></th>\n",
       "      <th>application_id</th>\n",
       "      <th>user_id</th>\n",
       "      <th>insert_time</th>\n",
       "      <th>credit_score</th>\n",
       "      <th>yearly_income</th>\n",
       "      <th>income_type</th>\n",
       "      <th>company_enter_month</th>\n",
       "      <th>employment_type</th>\n",
       "      <th>houseown_type</th>\n",
       "      <th>desired_amount</th>\n",
       "      <th>purpose</th>\n",
       "      <th>personal_rehabilitation_yn</th>\n",
       "      <th>personal_rehabilitation_complete_yn</th>\n",
       "      <th>existing_loan_cnt</th>\n",
       "      <th>existing_loan_amt</th>\n",
       "      <th>enter_year</th>\n",
       "      <th>enter_month</th>\n",
       "      <th>enter_birth</th>\n",
       "      <th>month</th>\n",
       "      <th>birth_year</th>\n",
       "      <th>gender</th>\n",
       "    </tr>\n",
       "  </thead>\n",
       "  <tbody>\n",
       "    <tr>\n",
       "      <th>0</th>\n",
       "      <td>954900</td>\n",
       "      <td>553686</td>\n",
       "      <td>2022-06-07 14:29:03</td>\n",
       "      <td>870.0</td>\n",
       "      <td>30000000.0</td>\n",
       "      <td>PRIVATEBUSINESS</td>\n",
       "      <td>20070201.0</td>\n",
       "      <td>정규직</td>\n",
       "      <td>기타가족소유</td>\n",
       "      <td>30000000.0</td>\n",
       "      <td>대환대출</td>\n",
       "      <td>0.0</td>\n",
       "      <td>NaN</td>\n",
       "      <td>1.0</td>\n",
       "      <td>27000000.0</td>\n",
       "      <td>2007.0</td>\n",
       "      <td>2.0</td>\n",
       "      <td>39.0</td>\n",
       "      <td>6</td>\n",
       "      <td>1968.0</td>\n",
       "      <td>1.0</td>\n",
       "    </tr>\n",
       "    <tr>\n",
       "      <th>1</th>\n",
       "      <td>137274</td>\n",
       "      <td>59516</td>\n",
       "      <td>2022-06-07 21:40:22</td>\n",
       "      <td>710.0</td>\n",
       "      <td>30000000.0</td>\n",
       "      <td>FREELANCER</td>\n",
       "      <td>20210901.0</td>\n",
       "      <td>기타</td>\n",
       "      <td>기타가족소유</td>\n",
       "      <td>10000000.0</td>\n",
       "      <td>생활비</td>\n",
       "      <td>0.0</td>\n",
       "      <td>NaN</td>\n",
       "      <td>5.0</td>\n",
       "      <td>15000000.0</td>\n",
       "      <td>2021.0</td>\n",
       "      <td>9.0</td>\n",
       "      <td>24.0</td>\n",
       "      <td>6</td>\n",
       "      <td>1997.0</td>\n",
       "      <td>1.0</td>\n",
       "    </tr>\n",
       "    <tr>\n",
       "      <th>2</th>\n",
       "      <td>1570936</td>\n",
       "      <td>167320</td>\n",
       "      <td>2022-06-07 09:40:27</td>\n",
       "      <td>820.0</td>\n",
       "      <td>62000000.0</td>\n",
       "      <td>EARNEDINCOME</td>\n",
       "      <td>20170101.0</td>\n",
       "      <td>정규직</td>\n",
       "      <td>자가</td>\n",
       "      <td>2000000.0</td>\n",
       "      <td>생활비</td>\n",
       "      <td>0.0</td>\n",
       "      <td>NaN</td>\n",
       "      <td>7.0</td>\n",
       "      <td>344000000.0</td>\n",
       "      <td>2017.0</td>\n",
       "      <td>1.0</td>\n",
       "      <td>28.0</td>\n",
       "      <td>6</td>\n",
       "      <td>1989.0</td>\n",
       "      <td>1.0</td>\n",
       "    </tr>\n",
       "    <tr>\n",
       "      <th>3</th>\n",
       "      <td>967833</td>\n",
       "      <td>33400</td>\n",
       "      <td>2022-06-07 08:55:07</td>\n",
       "      <td>630.0</td>\n",
       "      <td>36000000.0</td>\n",
       "      <td>EARNEDINCOME</td>\n",
       "      <td>20210901.0</td>\n",
       "      <td>정규직</td>\n",
       "      <td>기타가족소유</td>\n",
       "      <td>5000000.0</td>\n",
       "      <td>생활비</td>\n",
       "      <td>0.0</td>\n",
       "      <td>0.0</td>\n",
       "      <td>1.0</td>\n",
       "      <td>16000000.0</td>\n",
       "      <td>2021.0</td>\n",
       "      <td>9.0</td>\n",
       "      <td>21.0</td>\n",
       "      <td>6</td>\n",
       "      <td>2000.0</td>\n",
       "      <td>1.0</td>\n",
       "    </tr>\n",
       "    <tr>\n",
       "      <th>4</th>\n",
       "      <td>1614045</td>\n",
       "      <td>860410</td>\n",
       "      <td>2022-06-07 11:29:05</td>\n",
       "      <td>590.0</td>\n",
       "      <td>45000000.0</td>\n",
       "      <td>OTHERINCOME</td>\n",
       "      <td>NaN</td>\n",
       "      <td>기타</td>\n",
       "      <td>자가</td>\n",
       "      <td>15000000.0</td>\n",
       "      <td>대환대출</td>\n",
       "      <td>0.0</td>\n",
       "      <td>NaN</td>\n",
       "      <td>1.0</td>\n",
       "      <td>20000000.0</td>\n",
       "      <td>NaN</td>\n",
       "      <td>NaN</td>\n",
       "      <td>NaN</td>\n",
       "      <td>6</td>\n",
       "      <td>1976.0</td>\n",
       "      <td>1.0</td>\n",
       "    </tr>\n",
       "    <tr>\n",
       "      <th>...</th>\n",
       "      <td>...</td>\n",
       "      <td>...</td>\n",
       "      <td>...</td>\n",
       "      <td>...</td>\n",
       "      <td>...</td>\n",
       "      <td>...</td>\n",
       "      <td>...</td>\n",
       "      <td>...</td>\n",
       "      <td>...</td>\n",
       "      <td>...</td>\n",
       "      <td>...</td>\n",
       "      <td>...</td>\n",
       "      <td>...</td>\n",
       "      <td>...</td>\n",
       "      <td>...</td>\n",
       "      <td>...</td>\n",
       "      <td>...</td>\n",
       "      <td>...</td>\n",
       "      <td>...</td>\n",
       "      <td>...</td>\n",
       "      <td>...</td>\n",
       "    </tr>\n",
       "    <tr>\n",
       "      <th>968748</th>\n",
       "      <td>1864587</td>\n",
       "      <td>489900</td>\n",
       "      <td>2022-03-22 14:55:32</td>\n",
       "      <td>590.0</td>\n",
       "      <td>25000000.0</td>\n",
       "      <td>FREELANCER</td>\n",
       "      <td>202106.0</td>\n",
       "      <td>기타</td>\n",
       "      <td>기타가족소유</td>\n",
       "      <td>5000000.0</td>\n",
       "      <td>사업자금</td>\n",
       "      <td>NaN</td>\n",
       "      <td>NaN</td>\n",
       "      <td>NaN</td>\n",
       "      <td>NaN</td>\n",
       "      <td>2021.0</td>\n",
       "      <td>6.0</td>\n",
       "      <td>21.0</td>\n",
       "      <td>3</td>\n",
       "      <td>2000.0</td>\n",
       "      <td>1.0</td>\n",
       "    </tr>\n",
       "    <tr>\n",
       "      <th>968749</th>\n",
       "      <td>1327066</td>\n",
       "      <td>151422</td>\n",
       "      <td>2022-03-22 01:19:24</td>\n",
       "      <td>980.0</td>\n",
       "      <td>20000000.0</td>\n",
       "      <td>OTHERINCOME</td>\n",
       "      <td>NaN</td>\n",
       "      <td>기타</td>\n",
       "      <td>자가</td>\n",
       "      <td>50000000.0</td>\n",
       "      <td>생활비</td>\n",
       "      <td>NaN</td>\n",
       "      <td>NaN</td>\n",
       "      <td>1.0</td>\n",
       "      <td>NaN</td>\n",
       "      <td>NaN</td>\n",
       "      <td>NaN</td>\n",
       "      <td>NaN</td>\n",
       "      <td>3</td>\n",
       "      <td>1955.0</td>\n",
       "      <td>1.0</td>\n",
       "    </tr>\n",
       "    <tr>\n",
       "      <th>968750</th>\n",
       "      <td>1319606</td>\n",
       "      <td>173524</td>\n",
       "      <td>2022-03-22 07:34:32</td>\n",
       "      <td>750.0</td>\n",
       "      <td>75000000.0</td>\n",
       "      <td>EARNEDINCOME</td>\n",
       "      <td>200908.0</td>\n",
       "      <td>정규직</td>\n",
       "      <td>자가</td>\n",
       "      <td>100000000.0</td>\n",
       "      <td>대환대출</td>\n",
       "      <td>NaN</td>\n",
       "      <td>NaN</td>\n",
       "      <td>8.0</td>\n",
       "      <td>200000000.0</td>\n",
       "      <td>2009.0</td>\n",
       "      <td>8.0</td>\n",
       "      <td>26.0</td>\n",
       "      <td>3</td>\n",
       "      <td>1983.0</td>\n",
       "      <td>1.0</td>\n",
       "    </tr>\n",
       "    <tr>\n",
       "      <th>968751</th>\n",
       "      <td>1482466</td>\n",
       "      <td>766546</td>\n",
       "      <td>2022-03-22 22:12:35</td>\n",
       "      <td>640.0</td>\n",
       "      <td>50000000.0</td>\n",
       "      <td>EARNEDINCOME</td>\n",
       "      <td>201705.0</td>\n",
       "      <td>정규직</td>\n",
       "      <td>자가</td>\n",
       "      <td>10000000.0</td>\n",
       "      <td>대환대출</td>\n",
       "      <td>NaN</td>\n",
       "      <td>NaN</td>\n",
       "      <td>10.0</td>\n",
       "      <td>117000000.0</td>\n",
       "      <td>2017.0</td>\n",
       "      <td>5.0</td>\n",
       "      <td>42.0</td>\n",
       "      <td>3</td>\n",
       "      <td>1975.0</td>\n",
       "      <td>1.0</td>\n",
       "    </tr>\n",
       "    <tr>\n",
       "      <th>968752</th>\n",
       "      <td>816537</td>\n",
       "      <td>3864</td>\n",
       "      <td>2022-03-22 08:55:14</td>\n",
       "      <td>NaN</td>\n",
       "      <td>35000000.0</td>\n",
       "      <td>FREELANCER</td>\n",
       "      <td>201103.0</td>\n",
       "      <td>기타</td>\n",
       "      <td>자가</td>\n",
       "      <td>20000000.0</td>\n",
       "      <td>생활비</td>\n",
       "      <td>NaN</td>\n",
       "      <td>NaN</td>\n",
       "      <td>NaN</td>\n",
       "      <td>NaN</td>\n",
       "      <td>2011.0</td>\n",
       "      <td>3.0</td>\n",
       "      <td>34.0</td>\n",
       "      <td>3</td>\n",
       "      <td>1977.0</td>\n",
       "      <td>0.0</td>\n",
       "    </tr>\n",
       "  </tbody>\n",
       "</table>\n",
       "<p>968753 rows × 21 columns</p>\n",
       "</div>"
      ],
      "text/plain": [
       "        application_id  user_id          insert_time  credit_score  \\\n",
       "0               954900   553686  2022-06-07 14:29:03         870.0   \n",
       "1               137274    59516  2022-06-07 21:40:22         710.0   \n",
       "2              1570936   167320  2022-06-07 09:40:27         820.0   \n",
       "3               967833    33400  2022-06-07 08:55:07         630.0   \n",
       "4              1614045   860410  2022-06-07 11:29:05         590.0   \n",
       "...                ...      ...                  ...           ...   \n",
       "968748         1864587   489900  2022-03-22 14:55:32         590.0   \n",
       "968749         1327066   151422  2022-03-22 01:19:24         980.0   \n",
       "968750         1319606   173524  2022-03-22 07:34:32         750.0   \n",
       "968751         1482466   766546  2022-03-22 22:12:35         640.0   \n",
       "968752          816537     3864  2022-03-22 08:55:14           NaN   \n",
       "\n",
       "        yearly_income      income_type  company_enter_month employment_type  \\\n",
       "0          30000000.0  PRIVATEBUSINESS           20070201.0             정규직   \n",
       "1          30000000.0       FREELANCER           20210901.0              기타   \n",
       "2          62000000.0     EARNEDINCOME           20170101.0             정규직   \n",
       "3          36000000.0     EARNEDINCOME           20210901.0             정규직   \n",
       "4          45000000.0      OTHERINCOME                  NaN              기타   \n",
       "...               ...              ...                  ...             ...   \n",
       "968748     25000000.0       FREELANCER             202106.0              기타   \n",
       "968749     20000000.0      OTHERINCOME                  NaN              기타   \n",
       "968750     75000000.0     EARNEDINCOME             200908.0             정규직   \n",
       "968751     50000000.0     EARNEDINCOME             201705.0             정규직   \n",
       "968752     35000000.0       FREELANCER             201103.0              기타   \n",
       "\n",
       "       houseown_type  desired_amount purpose  personal_rehabilitation_yn  \\\n",
       "0             기타가족소유      30000000.0    대환대출                         0.0   \n",
       "1             기타가족소유      10000000.0     생활비                         0.0   \n",
       "2                 자가       2000000.0     생활비                         0.0   \n",
       "3             기타가족소유       5000000.0     생활비                         0.0   \n",
       "4                 자가      15000000.0    대환대출                         0.0   \n",
       "...              ...             ...     ...                         ...   \n",
       "968748        기타가족소유       5000000.0    사업자금                         NaN   \n",
       "968749            자가      50000000.0     생활비                         NaN   \n",
       "968750            자가     100000000.0    대환대출                         NaN   \n",
       "968751            자가      10000000.0    대환대출                         NaN   \n",
       "968752            자가      20000000.0     생활비                         NaN   \n",
       "\n",
       "        personal_rehabilitation_complete_yn  existing_loan_cnt  \\\n",
       "0                                       NaN                1.0   \n",
       "1                                       NaN                5.0   \n",
       "2                                       NaN                7.0   \n",
       "3                                       0.0                1.0   \n",
       "4                                       NaN                1.0   \n",
       "...                                     ...                ...   \n",
       "968748                                  NaN                NaN   \n",
       "968749                                  NaN                1.0   \n",
       "968750                                  NaN                8.0   \n",
       "968751                                  NaN               10.0   \n",
       "968752                                  NaN                NaN   \n",
       "\n",
       "        existing_loan_amt  enter_year  enter_month  enter_birth  month  \\\n",
       "0              27000000.0      2007.0          2.0         39.0      6   \n",
       "1              15000000.0      2021.0          9.0         24.0      6   \n",
       "2             344000000.0      2017.0          1.0         28.0      6   \n",
       "3              16000000.0      2021.0          9.0         21.0      6   \n",
       "4              20000000.0         NaN          NaN          NaN      6   \n",
       "...                   ...         ...          ...          ...    ...   \n",
       "968748                NaN      2021.0          6.0         21.0      3   \n",
       "968749                NaN         NaN          NaN          NaN      3   \n",
       "968750        200000000.0      2009.0          8.0         26.0      3   \n",
       "968751        117000000.0      2017.0          5.0         42.0      3   \n",
       "968752                NaN      2011.0          3.0         34.0      3   \n",
       "\n",
       "        birth_year  gender  \n",
       "0           1968.0     1.0  \n",
       "1           1997.0     1.0  \n",
       "2           1989.0     1.0  \n",
       "3           2000.0     1.0  \n",
       "4           1976.0     1.0  \n",
       "...            ...     ...  \n",
       "968748      2000.0     1.0  \n",
       "968749      1955.0     1.0  \n",
       "968750      1983.0     1.0  \n",
       "968751      1975.0     1.0  \n",
       "968752      1977.0     0.0  \n",
       "\n",
       "[968753 rows x 21 columns]"
      ]
     },
     "execution_count": 46,
     "metadata": {},
     "output_type": "execute_result"
    }
   ],
   "source": [
    "user_spec"
   ]
  },
  {
   "cell_type": "code",
   "execution_count": 47,
   "id": "5a2c778c",
   "metadata": {},
   "outputs": [
    {
     "data": {
      "text/plain": [
       "application_id                              0\n",
       "user_id                                     0\n",
       "insert_time                                 0\n",
       "credit_score                            81769\n",
       "yearly_income                               1\n",
       "income_type                                 0\n",
       "company_enter_month                     92314\n",
       "employment_type                             0\n",
       "houseown_type                               0\n",
       "desired_amount                              0\n",
       "purpose                                     0\n",
       "personal_rehabilitation_yn             417763\n",
       "personal_rehabilitation_complete_yn    843993\n",
       "existing_loan_cnt                      146290\n",
       "existing_loan_amt                      225046\n",
       "enter_year                              92314\n",
       "enter_month                             92314\n",
       "enter_birth                             99428\n",
       "month                                       0\n",
       "birth_year                               6891\n",
       "gender                                   6891\n",
       "dtype: int64"
      ]
     },
     "execution_count": 47,
     "metadata": {},
     "output_type": "execute_result"
    }
   ],
   "source": [
    "user_spec.isnull().sum()"
   ]
  },
  {
   "cell_type": "code",
   "execution_count": 48,
   "id": "b83900ca",
   "metadata": {},
   "outputs": [],
   "source": [
    "bg_id = user_spec[user_spec.gender.isna()].application_id.unique().tolist()"
   ]
  },
  {
   "cell_type": "markdown",
   "id": "10a1f5cc",
   "metadata": {},
   "source": [
    "### Birth_year"
   ]
  },
  {
   "cell_type": "code",
   "execution_count": 49,
   "id": "759ae90f",
   "metadata": {},
   "outputs": [
    {
     "data": {
      "text/html": [
       "<div>\n",
       "<style scoped>\n",
       "    .dataframe tbody tr th:only-of-type {\n",
       "        vertical-align: middle;\n",
       "    }\n",
       "\n",
       "    .dataframe tbody tr th {\n",
       "        vertical-align: top;\n",
       "    }\n",
       "\n",
       "    .dataframe thead th {\n",
       "        text-align: right;\n",
       "    }\n",
       "</style>\n",
       "<table border=\"1\" class=\"dataframe\">\n",
       "  <thead>\n",
       "    <tr style=\"text-align: right;\">\n",
       "      <th></th>\n",
       "      <th>application_id</th>\n",
       "      <th>loanapply_insert_time</th>\n",
       "      <th>bank_id</th>\n",
       "      <th>product_id</th>\n",
       "      <th>loan_limit</th>\n",
       "      <th>loan_rate</th>\n",
       "      <th>is_applied</th>\n",
       "      <th>month</th>\n",
       "    </tr>\n",
       "  </thead>\n",
       "  <tbody>\n",
       "    <tr>\n",
       "      <th>4260</th>\n",
       "      <td>368880</td>\n",
       "      <td>2022-06-07 14:51:54</td>\n",
       "      <td>1</td>\n",
       "      <td>61</td>\n",
       "      <td>63000000.0</td>\n",
       "      <td>15.4</td>\n",
       "      <td>NaN</td>\n",
       "      <td>6</td>\n",
       "    </tr>\n",
       "    <tr>\n",
       "      <th>4261</th>\n",
       "      <td>368880</td>\n",
       "      <td>2022-06-07 14:51:53</td>\n",
       "      <td>30</td>\n",
       "      <td>121</td>\n",
       "      <td>20000000.0</td>\n",
       "      <td>14.3</td>\n",
       "      <td>NaN</td>\n",
       "      <td>6</td>\n",
       "    </tr>\n",
       "    <tr>\n",
       "      <th>4262</th>\n",
       "      <td>368880</td>\n",
       "      <td>2022-06-07 14:52:15</td>\n",
       "      <td>55</td>\n",
       "      <td>186</td>\n",
       "      <td>24000000.0</td>\n",
       "      <td>11.6</td>\n",
       "      <td>NaN</td>\n",
       "      <td>6</td>\n",
       "    </tr>\n",
       "    <tr>\n",
       "      <th>4263</th>\n",
       "      <td>368880</td>\n",
       "      <td>2022-06-07 14:51:54</td>\n",
       "      <td>32</td>\n",
       "      <td>56</td>\n",
       "      <td>15000000.0</td>\n",
       "      <td>15.8</td>\n",
       "      <td>NaN</td>\n",
       "      <td>6</td>\n",
       "    </tr>\n",
       "    <tr>\n",
       "      <th>4264</th>\n",
       "      <td>368880</td>\n",
       "      <td>2022-06-07 14:51:55</td>\n",
       "      <td>34</td>\n",
       "      <td>243</td>\n",
       "      <td>28000000.0</td>\n",
       "      <td>18.8</td>\n",
       "      <td>NaN</td>\n",
       "      <td>6</td>\n",
       "    </tr>\n",
       "    <tr>\n",
       "      <th>...</th>\n",
       "      <td>...</td>\n",
       "      <td>...</td>\n",
       "      <td>...</td>\n",
       "      <td>...</td>\n",
       "      <td>...</td>\n",
       "      <td>...</td>\n",
       "      <td>...</td>\n",
       "      <td>...</td>\n",
       "    </tr>\n",
       "    <tr>\n",
       "      <th>13526083</th>\n",
       "      <td>191834</td>\n",
       "      <td>2022-06-03 14:20:53</td>\n",
       "      <td>35</td>\n",
       "      <td>29</td>\n",
       "      <td>2000000.0</td>\n",
       "      <td>19.4</td>\n",
       "      <td>NaN</td>\n",
       "      <td>6</td>\n",
       "    </tr>\n",
       "    <tr>\n",
       "      <th>13526084</th>\n",
       "      <td>191834</td>\n",
       "      <td>2022-06-03 14:20:42</td>\n",
       "      <td>59</td>\n",
       "      <td>150</td>\n",
       "      <td>22000000.0</td>\n",
       "      <td>16.4</td>\n",
       "      <td>NaN</td>\n",
       "      <td>6</td>\n",
       "    </tr>\n",
       "    <tr>\n",
       "      <th>13526085</th>\n",
       "      <td>191834</td>\n",
       "      <td>2022-06-03 14:20:43</td>\n",
       "      <td>35</td>\n",
       "      <td>168</td>\n",
       "      <td>13000000.0</td>\n",
       "      <td>19.4</td>\n",
       "      <td>NaN</td>\n",
       "      <td>6</td>\n",
       "    </tr>\n",
       "    <tr>\n",
       "      <th>13526086</th>\n",
       "      <td>191834</td>\n",
       "      <td>2022-06-03 14:20:44</td>\n",
       "      <td>58</td>\n",
       "      <td>175</td>\n",
       "      <td>16000000.0</td>\n",
       "      <td>13.8</td>\n",
       "      <td>NaN</td>\n",
       "      <td>6</td>\n",
       "    </tr>\n",
       "    <tr>\n",
       "      <th>13526087</th>\n",
       "      <td>191834</td>\n",
       "      <td>2022-06-03 14:20:43</td>\n",
       "      <td>6</td>\n",
       "      <td>36</td>\n",
       "      <td>15000000.0</td>\n",
       "      <td>17.7</td>\n",
       "      <td>NaN</td>\n",
       "      <td>6</td>\n",
       "    </tr>\n",
       "  </tbody>\n",
       "</table>\n",
       "<p>108227 rows × 8 columns</p>\n",
       "</div>"
      ],
      "text/plain": [
       "          application_id loanapply_insert_time  bank_id  product_id  \\\n",
       "4260              368880   2022-06-07 14:51:54        1          61   \n",
       "4261              368880   2022-06-07 14:51:53       30         121   \n",
       "4262              368880   2022-06-07 14:52:15       55         186   \n",
       "4263              368880   2022-06-07 14:51:54       32          56   \n",
       "4264              368880   2022-06-07 14:51:55       34         243   \n",
       "...                  ...                   ...      ...         ...   \n",
       "13526083          191834   2022-06-03 14:20:53       35          29   \n",
       "13526084          191834   2022-06-03 14:20:42       59         150   \n",
       "13526085          191834   2022-06-03 14:20:43       35         168   \n",
       "13526086          191834   2022-06-03 14:20:44       58         175   \n",
       "13526087          191834   2022-06-03 14:20:43        6          36   \n",
       "\n",
       "          loan_limit  loan_rate  is_applied  month  \n",
       "4260      63000000.0       15.4         NaN      6  \n",
       "4261      20000000.0       14.3         NaN      6  \n",
       "4262      24000000.0       11.6         NaN      6  \n",
       "4263      15000000.0       15.8         NaN      6  \n",
       "4264      28000000.0       18.8         NaN      6  \n",
       "...              ...        ...         ...    ...  \n",
       "13526083   2000000.0       19.4         NaN      6  \n",
       "13526084  22000000.0       16.4         NaN      6  \n",
       "13526085  13000000.0       19.4         NaN      6  \n",
       "13526086  16000000.0       13.8         NaN      6  \n",
       "13526087  15000000.0       17.7         NaN      6  \n",
       "\n",
       "[108227 rows x 8 columns]"
      ]
     },
     "execution_count": 49,
     "metadata": {},
     "output_type": "execute_result"
    }
   ],
   "source": [
    "loan_result[loan_result['application_id'].isin(bg_id)]"
   ]
  },
  {
   "cell_type": "code",
   "execution_count": 50,
   "id": "33fd961c",
   "metadata": {},
   "outputs": [],
   "source": [
    "def age(x):\n",
    "    if x > 2004:\n",
    "        return 10\n",
    "    elif x > 1994:\n",
    "        return 20\n",
    "    elif x > 1984:\n",
    "        return 30\n",
    "    elif x > 1974:\n",
    "        return 40\n",
    "    elif x > 1964:\n",
    "        return 50\n",
    "    elif x > 1954:\n",
    "        return 60\n",
    "    elif x > 1944:\n",
    "        return 70\n",
    "    elif x > 1934:\n",
    "        return 80\n",
    "    elif x > 1924:\n",
    "        return 90\n",
    "    else:\n",
    "        return np.nan"
   ]
  },
  {
   "cell_type": "code",
   "execution_count": 51,
   "id": "646317b5",
   "metadata": {},
   "outputs": [],
   "source": [
    "user_spec_train['age'] = user_spec_train.birth_year.apply(lambda x : age(x))"
   ]
  },
  {
   "cell_type": "code",
   "execution_count": 52,
   "id": "66f160db",
   "metadata": {},
   "outputs": [],
   "source": [
    "user_spec['age'] = user_spec.birth_year.apply(lambda x : age(x))"
   ]
  },
  {
   "cell_type": "code",
   "execution_count": 53,
   "id": "7c8f2149",
   "metadata": {},
   "outputs": [],
   "source": [
    "lab_df = user_spec_train[['age','credit_score','yearly_income','desired_amount','existing_loan_cnt','existing_loan_amt']]"
   ]
  },
  {
   "cell_type": "code",
   "execution_count": 54,
   "id": "951cafc6",
   "metadata": {},
   "outputs": [
    {
     "data": {
      "text/html": [
       "<div>\n",
       "<style scoped>\n",
       "    .dataframe tbody tr th:only-of-type {\n",
       "        vertical-align: middle;\n",
       "    }\n",
       "\n",
       "    .dataframe tbody tr th {\n",
       "        vertical-align: top;\n",
       "    }\n",
       "\n",
       "    .dataframe thead th {\n",
       "        text-align: right;\n",
       "    }\n",
       "</style>\n",
       "<table border=\"1\" class=\"dataframe\">\n",
       "  <thead>\n",
       "    <tr style=\"text-align: right;\">\n",
       "      <th></th>\n",
       "      <th>credit_score</th>\n",
       "      <th>yearly_income</th>\n",
       "      <th>desired_amount</th>\n",
       "      <th>existing_loan_cnt</th>\n",
       "      <th>existing_loan_amt</th>\n",
       "    </tr>\n",
       "    <tr>\n",
       "      <th>age</th>\n",
       "      <th></th>\n",
       "      <th></th>\n",
       "      <th></th>\n",
       "      <th></th>\n",
       "      <th></th>\n",
       "    </tr>\n",
       "  </thead>\n",
       "  <tbody>\n",
       "    <tr>\n",
       "      <th>20.0</th>\n",
       "      <td>657.417245</td>\n",
       "      <td>2.895319e+07</td>\n",
       "      <td>2.141487e+07</td>\n",
       "      <td>3.501217</td>\n",
       "      <td>3.260615e+07</td>\n",
       "    </tr>\n",
       "    <tr>\n",
       "      <th>30.0</th>\n",
       "      <td>674.987638</td>\n",
       "      <td>3.995539e+07</td>\n",
       "      <td>3.532712e+07</td>\n",
       "      <td>4.329993</td>\n",
       "      <td>6.769406e+07</td>\n",
       "    </tr>\n",
       "    <tr>\n",
       "      <th>40.0</th>\n",
       "      <td>674.919001</td>\n",
       "      <td>4.938365e+07</td>\n",
       "      <td>3.901918e+07</td>\n",
       "      <td>4.852480</td>\n",
       "      <td>9.400945e+07</td>\n",
       "    </tr>\n",
       "    <tr>\n",
       "      <th>50.0</th>\n",
       "      <td>670.245368</td>\n",
       "      <td>5.958612e+07</td>\n",
       "      <td>3.925237e+07</td>\n",
       "      <td>4.956305</td>\n",
       "      <td>9.173035e+07</td>\n",
       "    </tr>\n",
       "    <tr>\n",
       "      <th>60.0</th>\n",
       "      <td>674.318777</td>\n",
       "      <td>4.708209e+07</td>\n",
       "      <td>3.618451e+07</td>\n",
       "      <td>4.803957</td>\n",
       "      <td>7.125581e+07</td>\n",
       "    </tr>\n",
       "    <tr>\n",
       "      <th>70.0</th>\n",
       "      <td>689.375000</td>\n",
       "      <td>3.824627e+07</td>\n",
       "      <td>2.527701e+07</td>\n",
       "      <td>5.191629</td>\n",
       "      <td>5.918268e+07</td>\n",
       "    </tr>\n",
       "    <tr>\n",
       "      <th>80.0</th>\n",
       "      <td>710.346715</td>\n",
       "      <td>3.342415e+07</td>\n",
       "      <td>2.220177e+07</td>\n",
       "      <td>4.294340</td>\n",
       "      <td>4.427854e+07</td>\n",
       "    </tr>\n",
       "    <tr>\n",
       "      <th>90.0</th>\n",
       "      <td>728.148148</td>\n",
       "      <td>2.213333e+07</td>\n",
       "      <td>8.833333e+06</td>\n",
       "      <td>3.526316</td>\n",
       "      <td>7.882353e+06</td>\n",
       "    </tr>\n",
       "  </tbody>\n",
       "</table>\n",
       "</div>"
      ],
      "text/plain": [
       "      credit_score  yearly_income  desired_amount  existing_loan_cnt  \\\n",
       "age                                                                    \n",
       "20.0    657.417245   2.895319e+07    2.141487e+07           3.501217   \n",
       "30.0    674.987638   3.995539e+07    3.532712e+07           4.329993   \n",
       "40.0    674.919001   4.938365e+07    3.901918e+07           4.852480   \n",
       "50.0    670.245368   5.958612e+07    3.925237e+07           4.956305   \n",
       "60.0    674.318777   4.708209e+07    3.618451e+07           4.803957   \n",
       "70.0    689.375000   3.824627e+07    2.527701e+07           5.191629   \n",
       "80.0    710.346715   3.342415e+07    2.220177e+07           4.294340   \n",
       "90.0    728.148148   2.213333e+07    8.833333e+06           3.526316   \n",
       "\n",
       "      existing_loan_amt  \n",
       "age                      \n",
       "20.0       3.260615e+07  \n",
       "30.0       6.769406e+07  \n",
       "40.0       9.400945e+07  \n",
       "50.0       9.173035e+07  \n",
       "60.0       7.125581e+07  \n",
       "70.0       5.918268e+07  \n",
       "80.0       4.427854e+07  \n",
       "90.0       7.882353e+06  "
      ]
     },
     "execution_count": 54,
     "metadata": {},
     "output_type": "execute_result"
    }
   ],
   "source": [
    "lab_df1 = lab_df.groupby('age')[['credit_score','yearly_income','desired_amount','existing_loan_cnt','existing_loan_amt']].mean()\n",
    "lab_df1"
   ]
  },
  {
   "cell_type": "code",
   "execution_count": 55,
   "id": "fe4c8824",
   "metadata": {},
   "outputs": [],
   "source": [
    "user_id = user_spec[user_spec.birth_year.isna()].user_id.values.tolist()"
   ]
  },
  {
   "cell_type": "code",
   "execution_count": 56,
   "id": "efad1fe5",
   "metadata": {},
   "outputs": [],
   "source": [
    "feature_list = ['credit_score','yearly_income','desired_amount','existing_loan_cnt','existing_loan_amt']"
   ]
  },
  {
   "cell_type": "code",
   "execution_count": 57,
   "id": "376d3d0b",
   "metadata": {},
   "outputs": [],
   "source": [
    "age_list=[20,30,40,50,60,70,80,90]\n",
    "def age_feature(x,feature):\n",
    "    diff = []\n",
    "    for i in feature:\n",
    "        diff.append(abs(i-x))\n",
    "    idx = diff.index(np.min(diff))\n",
    "    return age_list[idx]"
   ]
  },
  {
   "cell_type": "code",
   "execution_count": 58,
   "id": "37dcb775",
   "metadata": {},
   "outputs": [
    {
     "name": "stderr",
     "output_type": "stream",
     "text": [
      "100%|█████████████████████████████████████████████████████████████████████████████| 6891/6891 [00:48<00:00, 142.71it/s]\n"
     ]
    }
   ],
   "source": [
    "for idd in tqdm(user_id):\n",
    "    user_birth_list = []\n",
    "    for f in feature_list:\n",
    "        x = np.mean(user_spec[user_spec.user_id == idd][f'{f}'].fillna(0).tolist())\n",
    "        feature = lab_df1[f'{f}'].values.tolist()\n",
    "        user_birth_list.append(age_feature(x,feature))\n",
    "    age = int(np.mean(user_birth_list))\n",
    "    missing_value = 2022-age\n",
    "    user_spec.loc[user_spec.user_id == idd,'birth_year'] = missing_value"
   ]
  },
  {
   "cell_type": "code",
   "execution_count": 59,
   "id": "fbfc7878",
   "metadata": {},
   "outputs": [],
   "source": [
    "user_spec.drop('age',axis=1,inplace=True)"
   ]
  },
  {
   "cell_type": "code",
   "execution_count": 60,
   "id": "57312b9c",
   "metadata": {
    "scrolled": false
   },
   "outputs": [
    {
     "data": {
      "text/plain": [
       "application_id                              0\n",
       "user_id                                     0\n",
       "insert_time                                 0\n",
       "credit_score                            81769\n",
       "yearly_income                               1\n",
       "income_type                                 0\n",
       "company_enter_month                     92314\n",
       "employment_type                             0\n",
       "houseown_type                               0\n",
       "desired_amount                              0\n",
       "purpose                                     0\n",
       "personal_rehabilitation_yn             417763\n",
       "personal_rehabilitation_complete_yn    843993\n",
       "existing_loan_cnt                      146290\n",
       "existing_loan_amt                      225046\n",
       "enter_year                              92314\n",
       "enter_month                             92314\n",
       "enter_birth                             99428\n",
       "month                                       0\n",
       "birth_year                                  0\n",
       "gender                                   6891\n",
       "dtype: int64"
      ]
     },
     "execution_count": 60,
     "metadata": {},
     "output_type": "execute_result"
    }
   ],
   "source": [
    "user_spec.isnull().sum()"
   ]
  },
  {
   "cell_type": "code",
   "execution_count": 61,
   "id": "92b56c73",
   "metadata": {},
   "outputs": [
    {
     "data": {
      "text/plain": [
       "1982.0    38223\n",
       "1981.0    35571\n",
       "1992.0    35543\n",
       "1983.0    34806\n",
       "1991.0    34454\n",
       "1980.0    34017\n",
       "1993.0    34007\n",
       "1984.0    32231\n",
       "1979.0    31680\n",
       "1990.0    31679\n",
       "1985.0    31678\n",
       "1994.0    31574\n",
       "1995.0    31401\n",
       "1986.0    30244\n",
       "1987.0    30238\n",
       "1989.0    30180\n",
       "1988.0    30073\n",
       "1996.0    26684\n",
       "1978.0    25075\n",
       "1977.0    24654\n",
       "1976.0    23508\n",
       "1997.0    23398\n",
       "1974.0    22630\n",
       "1975.0    22360\n",
       "1973.0    21086\n",
       "1972.0    19142\n",
       "1971.0    18580\n",
       "1998.0    17368\n",
       "1970.0    16871\n",
       "1969.0    15538\n",
       "1999.0    13921\n",
       "1968.0    13742\n",
       "1967.0    11006\n",
       "2000.0    10447\n",
       "1966.0     9723\n",
       "1965.0     8488\n",
       "1964.0     7759\n",
       "1962.0     6673\n",
       "1963.0     6406\n",
       "2001.0     5954\n",
       "1960.0     5918\n",
       "1961.0     5455\n",
       "1959.0     4291\n",
       "1958.0     3732\n",
       "1957.0     2939\n",
       "2002.0     2391\n",
       "1956.0     2362\n",
       "1955.0     2163\n",
       "1954.0     2042\n",
       "1952.0     1479\n",
       "1953.0     1292\n",
       "1946.0      853\n",
       "1950.0      848\n",
       "1951.0      805\n",
       "2003.0      668\n",
       "1948.0      631\n",
       "1949.0      531\n",
       "1947.0      430\n",
       "1945.0      256\n",
       "1944.0      242\n",
       "1942.0      176\n",
       "1943.0      173\n",
       "1941.0       93\n",
       "1940.0       74\n",
       "1938.0       62\n",
       "1939.0       54\n",
       "1936.0       48\n",
       "1935.0       39\n",
       "1937.0       38\n",
       "1934.0       36\n",
       "1932.0       11\n",
       "1933.0        7\n",
       "1930.0        1\n",
       "1931.0        1\n",
       "Name: birth_year, dtype: int64"
      ]
     },
     "execution_count": 61,
     "metadata": {},
     "output_type": "execute_result"
    }
   ],
   "source": [
    "user_spec.birth_year.value_counts()"
   ]
  },
  {
   "cell_type": "code",
   "execution_count": 62,
   "id": "1cd32879",
   "metadata": {},
   "outputs": [
    {
     "data": {
      "image/png": "[encoded data removed]",
      "text/plain": [
       "<Figure size 1200x800 with 1 Axes>"
      ]
     },
     "metadata": {},
     "output_type": "display_data"
    }
   ],
   "source": [
    "sns.boxplot(y = 'birth_year', data = user_spec)\n",
    "plt.title('birth_year', size = 15)\n",
    "plt.show()"
   ]
  },
  {
   "cell_type": "markdown",
   "id": "abb56460",
   "metadata": {},
   "source": [
    "### Credit_score"
   ]
  },
  {
   "cell_type": "code",
   "execution_count": 63,
   "id": "792fb1a6",
   "metadata": {},
   "outputs": [],
   "source": [
    "# credit_score가 nan인 User_id\n",
    "\n",
    "user_id = user_spec[user_spec.credit_score.isna()].user_id"
   ]
  },
  {
   "cell_type": "code",
   "execution_count": 64,
   "id": "f50db913",
   "metadata": {},
   "outputs": [
    {
     "data": {
      "text/html": [
       "<div>\n",
       "<style scoped>\n",
       "    .dataframe tbody tr th:only-of-type {\n",
       "        vertical-align: middle;\n",
       "    }\n",
       "\n",
       "    .dataframe tbody tr th {\n",
       "        vertical-align: top;\n",
       "    }\n",
       "\n",
       "    .dataframe thead th {\n",
       "        text-align: right;\n",
       "    }\n",
       "</style>\n",
       "<table border=\"1\" class=\"dataframe\">\n",
       "  <thead>\n",
       "    <tr style=\"text-align: right;\">\n",
       "      <th></th>\n",
       "      <th>user_id</th>\n",
       "      <th>credit_score</th>\n",
       "    </tr>\n",
       "  </thead>\n",
       "  <tbody>\n",
       "    <tr>\n",
       "      <th>0</th>\n",
       "      <td>14</td>\n",
       "      <td>0</td>\n",
       "    </tr>\n",
       "    <tr>\n",
       "      <th>1</th>\n",
       "      <td>19</td>\n",
       "      <td>0</td>\n",
       "    </tr>\n",
       "    <tr>\n",
       "      <th>2</th>\n",
       "      <td>41</td>\n",
       "      <td>1</td>\n",
       "    </tr>\n",
       "    <tr>\n",
       "      <th>3</th>\n",
       "      <td>48</td>\n",
       "      <td>1</td>\n",
       "    </tr>\n",
       "    <tr>\n",
       "      <th>4</th>\n",
       "      <td>74</td>\n",
       "      <td>0</td>\n",
       "    </tr>\n",
       "    <tr>\n",
       "      <th>...</th>\n",
       "      <td>...</td>\n",
       "      <td>...</td>\n",
       "    </tr>\n",
       "    <tr>\n",
       "      <th>58674</th>\n",
       "      <td>879634</td>\n",
       "      <td>0</td>\n",
       "    </tr>\n",
       "    <tr>\n",
       "      <th>58675</th>\n",
       "      <td>879685</td>\n",
       "      <td>0</td>\n",
       "    </tr>\n",
       "    <tr>\n",
       "      <th>58676</th>\n",
       "      <td>879688</td>\n",
       "      <td>0</td>\n",
       "    </tr>\n",
       "    <tr>\n",
       "      <th>58677</th>\n",
       "      <td>879695</td>\n",
       "      <td>0</td>\n",
       "    </tr>\n",
       "    <tr>\n",
       "      <th>58678</th>\n",
       "      <td>879697</td>\n",
       "      <td>0</td>\n",
       "    </tr>\n",
       "  </tbody>\n",
       "</table>\n",
       "<p>58679 rows × 2 columns</p>\n",
       "</div>"
      ],
      "text/plain": [
       "       user_id  credit_score\n",
       "0           14             0\n",
       "1           19             0\n",
       "2           41             1\n",
       "3           48             1\n",
       "4           74             0\n",
       "...        ...           ...\n",
       "58674   879634             0\n",
       "58675   879685             0\n",
       "58676   879688             0\n",
       "58677   879695             0\n",
       "58678   879697             0\n",
       "\n",
       "[58679 rows x 2 columns]"
      ]
     },
     "execution_count": 64,
     "metadata": {},
     "output_type": "execute_result"
    }
   ],
   "source": [
    "# credit_score가 nan값인 user의 credit score unique 갯수\n",
    "\n",
    "cs_df = user_spec[user_spec['user_id'].isin(user_id)].groupby('user_id')['credit_score'].nunique().reset_index() ; cs_df"
   ]
  },
  {
   "cell_type": "markdown",
   "id": "843f36a1",
   "metadata": {},
   "source": [
    "- 1이면 자기 자신으로 채움  \n",
    "- 2이상이면 보간\n",
    "- 0은 어떻게"
   ]
  },
  {
   "cell_type": "code",
   "execution_count": 65,
   "id": "ddd4ff4d",
   "metadata": {},
   "outputs": [],
   "source": [
    "cs_df_id = cs_df.user_id.to_list()"
   ]
  },
  {
   "cell_type": "code",
   "execution_count": 66,
   "id": "19c47760",
   "metadata": {},
   "outputs": [
    {
     "name": "stderr",
     "output_type": "stream",
     "text": [
      "100%|███████████████████████████████████████████████████████████████████████████| 58679/58679 [01:14<00:00, 782.72it/s]\n"
     ]
    }
   ],
   "source": [
    "for idd in tqdm(cs_df_id):\n",
    "    if cs_df[cs_df.user_id == idd].credit_score.values[0] == 1:\n",
    "        miss_list = user_spec[user_spec.user_id == idd]['credit_score'].unique().tolist()\n",
    "        miss = [x for x in miss_list if pd.isnull(x) == False][0]\n",
    "        user_spec[user_spec.user_id == idd] = user_spec[user_spec.user_id == idd].fillna({'credit_score':miss})\n",
    "    elif cs_df[cs_df.user_id == idd].credit_score.values[0] > 1:\n",
    "        user_spec.loc[user_spec.user_id == idd, 'credit_score'] = user_spec[user_spec.user_id == idd].sort_values(['credit_score']).loc[user_spec.user_id == idd, 'credit_score'].fillna(method='ffill')\n",
    "        user_spec.loc[user_spec.user_id == idd, 'credit_score'] = user_spec[user_spec.user_id == idd].sort_values(['credit_score']).loc[user_spec.user_id == idd, 'credit_score'].fillna(method='bfill')\n",
    "    else:\n",
    "        pass\n",
    "        "
   ]
  },
  {
   "cell_type": "code",
   "execution_count": 67,
   "id": "f3bd8c60",
   "metadata": {},
   "outputs": [
    {
     "data": {
      "text/plain": [
       "application_id                              0\n",
       "user_id                                     0\n",
       "insert_time                                 0\n",
       "credit_score                            69483\n",
       "yearly_income                               1\n",
       "income_type                                 0\n",
       "company_enter_month                     92314\n",
       "employment_type                             0\n",
       "houseown_type                               0\n",
       "desired_amount                              0\n",
       "purpose                                     0\n",
       "personal_rehabilitation_yn             417763\n",
       "personal_rehabilitation_complete_yn    843993\n",
       "existing_loan_cnt                      146290\n",
       "existing_loan_amt                      225046\n",
       "enter_year                              92314\n",
       "enter_month                             92314\n",
       "enter_birth                             99428\n",
       "month                                       0\n",
       "birth_year                                  0\n",
       "gender                                   6891\n",
       "dtype: int64"
      ]
     },
     "execution_count": 67,
     "metadata": {},
     "output_type": "execute_result"
    }
   ],
   "source": [
    "user_spec.isnull().sum()"
   ]
  },
  {
   "cell_type": "markdown",
   "id": "a07cafb0",
   "metadata": {},
   "source": [
    "- 나머지 값들은 knn Imputer로 처리"
   ]
  },
  {
   "cell_type": "markdown",
   "id": "cf2772e5",
   "metadata": {},
   "source": [
    "### yearly_income"
   ]
  },
  {
   "cell_type": "code",
   "execution_count": 68,
   "id": "bfae9e80",
   "metadata": {},
   "outputs": [
    {
     "data": {
      "text/html": [
       "<div>\n",
       "<style scoped>\n",
       "    .dataframe tbody tr th:only-of-type {\n",
       "        vertical-align: middle;\n",
       "    }\n",
       "\n",
       "    .dataframe tbody tr th {\n",
       "        vertical-align: top;\n",
       "    }\n",
       "\n",
       "    .dataframe thead th {\n",
       "        text-align: right;\n",
       "    }\n",
       "</style>\n",
       "<table border=\"1\" class=\"dataframe\">\n",
       "  <thead>\n",
       "    <tr style=\"text-align: right;\">\n",
       "      <th></th>\n",
       "      <th>application_id</th>\n",
       "      <th>user_id</th>\n",
       "      <th>insert_time</th>\n",
       "      <th>credit_score</th>\n",
       "      <th>yearly_income</th>\n",
       "      <th>income_type</th>\n",
       "      <th>company_enter_month</th>\n",
       "      <th>employment_type</th>\n",
       "      <th>houseown_type</th>\n",
       "      <th>desired_amount</th>\n",
       "      <th>purpose</th>\n",
       "      <th>personal_rehabilitation_yn</th>\n",
       "      <th>personal_rehabilitation_complete_yn</th>\n",
       "      <th>existing_loan_cnt</th>\n",
       "      <th>existing_loan_amt</th>\n",
       "      <th>enter_year</th>\n",
       "      <th>enter_month</th>\n",
       "      <th>enter_birth</th>\n",
       "      <th>month</th>\n",
       "      <th>birth_year</th>\n",
       "      <th>gender</th>\n",
       "    </tr>\n",
       "  </thead>\n",
       "  <tbody>\n",
       "    <tr>\n",
       "      <th>415357</th>\n",
       "      <td>341149</td>\n",
       "      <td>670502</td>\n",
       "      <td>2022-06-30 21:32:18</td>\n",
       "      <td>930.0</td>\n",
       "      <td>NaN</td>\n",
       "      <td>OTHERINCOME</td>\n",
       "      <td>NaN</td>\n",
       "      <td>기타</td>\n",
       "      <td>기타가족소유</td>\n",
       "      <td>6000000.0</td>\n",
       "      <td>사업자금</td>\n",
       "      <td>0.0</td>\n",
       "      <td>0.0</td>\n",
       "      <td>1.0</td>\n",
       "      <td>3000000.0</td>\n",
       "      <td>NaN</td>\n",
       "      <td>NaN</td>\n",
       "      <td>NaN</td>\n",
       "      <td>6</td>\n",
       "      <td>1981.0</td>\n",
       "      <td>1.0</td>\n",
       "    </tr>\n",
       "  </tbody>\n",
       "</table>\n",
       "</div>"
      ],
      "text/plain": [
       "        application_id  user_id          insert_time  credit_score  \\\n",
       "415357          341149   670502  2022-06-30 21:32:18         930.0   \n",
       "\n",
       "        yearly_income  income_type  company_enter_month employment_type  \\\n",
       "415357            NaN  OTHERINCOME                  NaN              기타   \n",
       "\n",
       "       houseown_type  desired_amount purpose  personal_rehabilitation_yn  \\\n",
       "415357        기타가족소유       6000000.0    사업자금                         0.0   \n",
       "\n",
       "        personal_rehabilitation_complete_yn  existing_loan_cnt  \\\n",
       "415357                                  0.0                1.0   \n",
       "\n",
       "        existing_loan_amt  enter_year  enter_month  enter_birth  month  \\\n",
       "415357          3000000.0         NaN          NaN          NaN      6   \n",
       "\n",
       "        birth_year  gender  \n",
       "415357      1981.0     1.0  "
      ]
     },
     "execution_count": 68,
     "metadata": {},
     "output_type": "execute_result"
    }
   ],
   "source": [
    "user_spec[user_spec.yearly_income.isna()]"
   ]
  },
  {
   "cell_type": "code",
   "execution_count": 69,
   "id": "27389ef4",
   "metadata": {},
   "outputs": [
    {
     "data": {
      "text/html": [
       "<div>\n",
       "<style scoped>\n",
       "    .dataframe tbody tr th:only-of-type {\n",
       "        vertical-align: middle;\n",
       "    }\n",
       "\n",
       "    .dataframe tbody tr th {\n",
       "        vertical-align: top;\n",
       "    }\n",
       "\n",
       "    .dataframe thead th {\n",
       "        text-align: right;\n",
       "    }\n",
       "</style>\n",
       "<table border=\"1\" class=\"dataframe\">\n",
       "  <thead>\n",
       "    <tr style=\"text-align: right;\">\n",
       "      <th></th>\n",
       "      <th>application_id</th>\n",
       "      <th>user_id</th>\n",
       "      <th>insert_time</th>\n",
       "      <th>credit_score</th>\n",
       "      <th>yearly_income</th>\n",
       "      <th>income_type</th>\n",
       "      <th>company_enter_month</th>\n",
       "      <th>employment_type</th>\n",
       "      <th>houseown_type</th>\n",
       "      <th>desired_amount</th>\n",
       "      <th>purpose</th>\n",
       "      <th>personal_rehabilitation_yn</th>\n",
       "      <th>personal_rehabilitation_complete_yn</th>\n",
       "      <th>existing_loan_cnt</th>\n",
       "      <th>existing_loan_amt</th>\n",
       "      <th>enter_year</th>\n",
       "      <th>enter_month</th>\n",
       "      <th>enter_birth</th>\n",
       "      <th>month</th>\n",
       "      <th>birth_year</th>\n",
       "      <th>gender</th>\n",
       "    </tr>\n",
       "  </thead>\n",
       "  <tbody>\n",
       "    <tr>\n",
       "      <th>393331</th>\n",
       "      <td>1746224</td>\n",
       "      <td>670502</td>\n",
       "      <td>2022-06-30 22:41:11</td>\n",
       "      <td>930.0</td>\n",
       "      <td>0.0</td>\n",
       "      <td>OTHERINCOME</td>\n",
       "      <td>NaN</td>\n",
       "      <td>기타</td>\n",
       "      <td>기타가족소유</td>\n",
       "      <td>6000000.0</td>\n",
       "      <td>사업자금</td>\n",
       "      <td>0.0</td>\n",
       "      <td>0.0</td>\n",
       "      <td>1.0</td>\n",
       "      <td>3000000.0</td>\n",
       "      <td>NaN</td>\n",
       "      <td>NaN</td>\n",
       "      <td>NaN</td>\n",
       "      <td>6</td>\n",
       "      <td>1981.0</td>\n",
       "      <td>1.0</td>\n",
       "    </tr>\n",
       "    <tr>\n",
       "      <th>415357</th>\n",
       "      <td>341149</td>\n",
       "      <td>670502</td>\n",
       "      <td>2022-06-30 21:32:18</td>\n",
       "      <td>930.0</td>\n",
       "      <td>NaN</td>\n",
       "      <td>OTHERINCOME</td>\n",
       "      <td>NaN</td>\n",
       "      <td>기타</td>\n",
       "      <td>기타가족소유</td>\n",
       "      <td>6000000.0</td>\n",
       "      <td>사업자금</td>\n",
       "      <td>0.0</td>\n",
       "      <td>0.0</td>\n",
       "      <td>1.0</td>\n",
       "      <td>3000000.0</td>\n",
       "      <td>NaN</td>\n",
       "      <td>NaN</td>\n",
       "      <td>NaN</td>\n",
       "      <td>6</td>\n",
       "      <td>1981.0</td>\n",
       "      <td>1.0</td>\n",
       "    </tr>\n",
       "  </tbody>\n",
       "</table>\n",
       "</div>"
      ],
      "text/plain": [
       "        application_id  user_id          insert_time  credit_score  \\\n",
       "393331         1746224   670502  2022-06-30 22:41:11         930.0   \n",
       "415357          341149   670502  2022-06-30 21:32:18         930.0   \n",
       "\n",
       "        yearly_income  income_type  company_enter_month employment_type  \\\n",
       "393331            0.0  OTHERINCOME                  NaN              기타   \n",
       "415357            NaN  OTHERINCOME                  NaN              기타   \n",
       "\n",
       "       houseown_type  desired_amount purpose  personal_rehabilitation_yn  \\\n",
       "393331        기타가족소유       6000000.0    사업자금                         0.0   \n",
       "415357        기타가족소유       6000000.0    사업자금                         0.0   \n",
       "\n",
       "        personal_rehabilitation_complete_yn  existing_loan_cnt  \\\n",
       "393331                                  0.0                1.0   \n",
       "415357                                  0.0                1.0   \n",
       "\n",
       "        existing_loan_amt  enter_year  enter_month  enter_birth  month  \\\n",
       "393331          3000000.0         NaN          NaN          NaN      6   \n",
       "415357          3000000.0         NaN          NaN          NaN      6   \n",
       "\n",
       "        birth_year  gender  \n",
       "393331      1981.0     1.0  \n",
       "415357      1981.0     1.0  "
      ]
     },
     "execution_count": 69,
     "metadata": {},
     "output_type": "execute_result"
    }
   ],
   "source": [
    "user_spec[user_spec.user_id == 670502]"
   ]
  },
  {
   "cell_type": "code",
   "execution_count": 70,
   "id": "718b109f",
   "metadata": {},
   "outputs": [],
   "source": [
    "user_spec.yearly_income.fillna(0,inplace=True)"
   ]
  },
  {
   "cell_type": "code",
   "execution_count": 71,
   "id": "c8471fd8",
   "metadata": {},
   "outputs": [
    {
     "data": {
      "text/plain": [
       "application_id                              0\n",
       "user_id                                     0\n",
       "insert_time                                 0\n",
       "credit_score                            69483\n",
       "yearly_income                               0\n",
       "income_type                                 0\n",
       "company_enter_month                     92314\n",
       "employment_type                             0\n",
       "houseown_type                               0\n",
       "desired_amount                              0\n",
       "purpose                                     0\n",
       "personal_rehabilitation_yn             417763\n",
       "personal_rehabilitation_complete_yn    843993\n",
       "existing_loan_cnt                      146290\n",
       "existing_loan_amt                      225046\n",
       "enter_year                              92314\n",
       "enter_month                             92314\n",
       "enter_birth                             99428\n",
       "month                                       0\n",
       "birth_year                                  0\n",
       "gender                                   6891\n",
       "dtype: int64"
      ]
     },
     "execution_count": 71,
     "metadata": {},
     "output_type": "execute_result"
    }
   ],
   "source": [
    "user_spec.isnull().sum()"
   ]
  },
  {
   "cell_type": "markdown",
   "id": "90b6df2a",
   "metadata": {},
   "source": [
    "### Company_enter_month"
   ]
  },
  {
   "cell_type": "code",
   "execution_count": 72,
   "id": "9ad83603",
   "metadata": {},
   "outputs": [],
   "source": [
    "user_spec.drop(['company_enter_month'],axis=1,inplace=True)"
   ]
  },
  {
   "cell_type": "markdown",
   "id": "11d5277f",
   "metadata": {},
   "source": [
    "- enter year 5년 단위로 중앙\n",
    "- enter month 5년 단위로 중앙"
   ]
  },
  {
   "cell_type": "markdown",
   "id": "989583ad",
   "metadata": {},
   "source": [
    "#### enter_year"
   ]
  },
  {
   "cell_type": "markdown",
   "id": "117839a7",
   "metadata": {},
   "source": [
    "- enter_year를 들어간 나이로 바꿈\n",
    "- 그 이후에 birth_year와 같은 방식으로 처리\n",
    "- 해당 나이를 birth_year에 더하기\n",
    "- 이후 2022년 넘는 것을 처리"
   ]
  },
  {
   "cell_type": "code",
   "execution_count": 73,
   "id": "4937844f",
   "metadata": {},
   "outputs": [],
   "source": [
    "user_spec.enter_birth = user_spec.enter_year - user_spec.birth_year"
   ]
  },
  {
   "cell_type": "code",
   "execution_count": 74,
   "id": "0fcb71c3",
   "metadata": {},
   "outputs": [],
   "source": [
    "def enter_age(x):\n",
    "    if x > 90:\n",
    "        return 90\n",
    "    elif x > 85:\n",
    "        return 85\n",
    "    elif x > 80:\n",
    "        return 80\n",
    "    elif x > 75:\n",
    "        return 75\n",
    "    elif x > 70:\n",
    "        return 70\n",
    "    elif x > 65:\n",
    "        return 65\n",
    "    elif x > 60:\n",
    "        return 60\n",
    "    elif x > 55:\n",
    "        return 55\n",
    "    elif x > 50:\n",
    "        return 50\n",
    "    elif x > 45:\n",
    "        return 45\n",
    "    elif x > 40:\n",
    "        return 40\n",
    "    elif x > 35:\n",
    "        return 35\n",
    "    elif x > 30:\n",
    "        return 30\n",
    "    elif x > 25:\n",
    "        return 25\n",
    "    elif x > 20:\n",
    "        return 20\n",
    "    elif x > 15:\n",
    "        return 15\n",
    "    elif x > 10:\n",
    "        return 10\n",
    "    else:\n",
    "        return np.nan"
   ]
  },
  {
   "cell_type": "code",
   "execution_count": 75,
   "id": "472be88a",
   "metadata": {},
   "outputs": [],
   "source": [
    "user_spec_train['enter_age'] = user_spec_train.enter_birth.apply(lambda x : enter_age(x))"
   ]
  },
  {
   "cell_type": "code",
   "execution_count": 76,
   "id": "9c12d5ef",
   "metadata": {},
   "outputs": [],
   "source": [
    "user_spec['enter_age'] = user_spec.enter_birth.apply(lambda x : enter_age(x))"
   ]
  },
  {
   "cell_type": "code",
   "execution_count": 77,
   "id": "4ada4694",
   "metadata": {},
   "outputs": [],
   "source": [
    "lab_df = user_spec_train[['enter_age','credit_score','yearly_income','desired_amount','existing_loan_cnt','existing_loan_amt']]"
   ]
  },
  {
   "cell_type": "code",
   "execution_count": 78,
   "id": "bbf79835",
   "metadata": {},
   "outputs": [
    {
     "data": {
      "text/html": [
       "<div>\n",
       "<style scoped>\n",
       "    .dataframe tbody tr th:only-of-type {\n",
       "        vertical-align: middle;\n",
       "    }\n",
       "\n",
       "    .dataframe tbody tr th {\n",
       "        vertical-align: top;\n",
       "    }\n",
       "\n",
       "    .dataframe thead th {\n",
       "        text-align: right;\n",
       "    }\n",
       "</style>\n",
       "<table border=\"1\" class=\"dataframe\">\n",
       "  <thead>\n",
       "    <tr style=\"text-align: right;\">\n",
       "      <th></th>\n",
       "      <th>credit_score</th>\n",
       "      <th>yearly_income</th>\n",
       "      <th>desired_amount</th>\n",
       "      <th>existing_loan_cnt</th>\n",
       "      <th>existing_loan_amt</th>\n",
       "    </tr>\n",
       "    <tr>\n",
       "      <th>enter_age</th>\n",
       "      <th></th>\n",
       "      <th></th>\n",
       "      <th></th>\n",
       "      <th></th>\n",
       "      <th></th>\n",
       "    </tr>\n",
       "  </thead>\n",
       "  <tbody>\n",
       "    <tr>\n",
       "      <th>10.0</th>\n",
       "      <td>700.396476</td>\n",
       "      <td>1.802162e+08</td>\n",
       "      <td>6.724324e+07</td>\n",
       "      <td>4.083333</td>\n",
       "      <td>8.150000e+07</td>\n",
       "    </tr>\n",
       "    <tr>\n",
       "      <th>15.0</th>\n",
       "      <td>674.235415</td>\n",
       "      <td>4.832597e+07</td>\n",
       "      <td>3.166094e+07</td>\n",
       "      <td>4.580959</td>\n",
       "      <td>8.776464e+07</td>\n",
       "    </tr>\n",
       "    <tr>\n",
       "      <th>20.0</th>\n",
       "      <td>666.544187</td>\n",
       "      <td>4.365129e+07</td>\n",
       "      <td>3.221169e+07</td>\n",
       "      <td>4.359892</td>\n",
       "      <td>7.146314e+07</td>\n",
       "    </tr>\n",
       "    <tr>\n",
       "      <th>25.0</th>\n",
       "      <td>675.730827</td>\n",
       "      <td>4.552838e+07</td>\n",
       "      <td>3.709679e+07</td>\n",
       "      <td>4.589030</td>\n",
       "      <td>8.173685e+07</td>\n",
       "    </tr>\n",
       "    <tr>\n",
       "      <th>30.0</th>\n",
       "      <td>678.303698</td>\n",
       "      <td>4.571831e+07</td>\n",
       "      <td>3.999636e+07</td>\n",
       "      <td>4.567256</td>\n",
       "      <td>8.529000e+07</td>\n",
       "    </tr>\n",
       "    <tr>\n",
       "      <th>35.0</th>\n",
       "      <td>670.528771</td>\n",
       "      <td>4.902173e+07</td>\n",
       "      <td>3.694254e+07</td>\n",
       "      <td>4.556442</td>\n",
       "      <td>8.482858e+07</td>\n",
       "    </tr>\n",
       "    <tr>\n",
       "      <th>40.0</th>\n",
       "      <td>664.746224</td>\n",
       "      <td>4.876196e+07</td>\n",
       "      <td>3.354689e+07</td>\n",
       "      <td>4.640788</td>\n",
       "      <td>7.907058e+07</td>\n",
       "    </tr>\n",
       "    <tr>\n",
       "      <th>45.0</th>\n",
       "      <td>662.074221</td>\n",
       "      <td>4.821837e+07</td>\n",
       "      <td>3.496127e+07</td>\n",
       "      <td>4.538454</td>\n",
       "      <td>7.658089e+07</td>\n",
       "    </tr>\n",
       "    <tr>\n",
       "      <th>50.0</th>\n",
       "      <td>661.574123</td>\n",
       "      <td>4.904413e+07</td>\n",
       "      <td>3.939689e+07</td>\n",
       "      <td>4.544116</td>\n",
       "      <td>6.920438e+07</td>\n",
       "    </tr>\n",
       "    <tr>\n",
       "      <th>55.0</th>\n",
       "      <td>664.279192</td>\n",
       "      <td>4.430083e+07</td>\n",
       "      <td>3.320476e+07</td>\n",
       "      <td>4.534173</td>\n",
       "      <td>6.577873e+07</td>\n",
       "    </tr>\n",
       "    <tr>\n",
       "      <th>60.0</th>\n",
       "      <td>664.647709</td>\n",
       "      <td>3.660148e+07</td>\n",
       "      <td>2.906150e+07</td>\n",
       "      <td>4.749876</td>\n",
       "      <td>5.854262e+07</td>\n",
       "    </tr>\n",
       "    <tr>\n",
       "      <th>65.0</th>\n",
       "      <td>660.913955</td>\n",
       "      <td>3.630423e+07</td>\n",
       "      <td>2.132912e+07</td>\n",
       "      <td>5.708101</td>\n",
       "      <td>5.564390e+07</td>\n",
       "    </tr>\n",
       "    <tr>\n",
       "      <th>70.0</th>\n",
       "      <td>704.337568</td>\n",
       "      <td>2.710543e+07</td>\n",
       "      <td>3.567132e+07</td>\n",
       "      <td>4.561243</td>\n",
       "      <td>1.115082e+08</td>\n",
       "    </tr>\n",
       "    <tr>\n",
       "      <th>75.0</th>\n",
       "      <td>664.230769</td>\n",
       "      <td>2.450394e+07</td>\n",
       "      <td>2.577165e+07</td>\n",
       "      <td>4.240741</td>\n",
       "      <td>4.685567e+07</td>\n",
       "    </tr>\n",
       "    <tr>\n",
       "      <th>80.0</th>\n",
       "      <td>703.333333</td>\n",
       "      <td>5.842857e+07</td>\n",
       "      <td>2.280952e+07</td>\n",
       "      <td>5.333333</td>\n",
       "      <td>1.136364e+07</td>\n",
       "    </tr>\n",
       "  </tbody>\n",
       "</table>\n",
       "</div>"
      ],
      "text/plain": [
       "           credit_score  yearly_income  desired_amount  existing_loan_cnt  \\\n",
       "enter_age                                                                   \n",
       "10.0         700.396476   1.802162e+08    6.724324e+07           4.083333   \n",
       "15.0         674.235415   4.832597e+07    3.166094e+07           4.580959   \n",
       "20.0         666.544187   4.365129e+07    3.221169e+07           4.359892   \n",
       "25.0         675.730827   4.552838e+07    3.709679e+07           4.589030   \n",
       "30.0         678.303698   4.571831e+07    3.999636e+07           4.567256   \n",
       "35.0         670.528771   4.902173e+07    3.694254e+07           4.556442   \n",
       "40.0         664.746224   4.876196e+07    3.354689e+07           4.640788   \n",
       "45.0         662.074221   4.821837e+07    3.496127e+07           4.538454   \n",
       "50.0         661.574123   4.904413e+07    3.939689e+07           4.544116   \n",
       "55.0         664.279192   4.430083e+07    3.320476e+07           4.534173   \n",
       "60.0         664.647709   3.660148e+07    2.906150e+07           4.749876   \n",
       "65.0         660.913955   3.630423e+07    2.132912e+07           5.708101   \n",
       "70.0         704.337568   2.710543e+07    3.567132e+07           4.561243   \n",
       "75.0         664.230769   2.450394e+07    2.577165e+07           4.240741   \n",
       "80.0         703.333333   5.842857e+07    2.280952e+07           5.333333   \n",
       "\n",
       "           existing_loan_amt  \n",
       "enter_age                     \n",
       "10.0            8.150000e+07  \n",
       "15.0            8.776464e+07  \n",
       "20.0            7.146314e+07  \n",
       "25.0            8.173685e+07  \n",
       "30.0            8.529000e+07  \n",
       "35.0            8.482858e+07  \n",
       "40.0            7.907058e+07  \n",
       "45.0            7.658089e+07  \n",
       "50.0            6.920438e+07  \n",
       "55.0            6.577873e+07  \n",
       "60.0            5.854262e+07  \n",
       "65.0            5.564390e+07  \n",
       "70.0            1.115082e+08  \n",
       "75.0            4.685567e+07  \n",
       "80.0            1.136364e+07  "
      ]
     },
     "execution_count": 78,
     "metadata": {},
     "output_type": "execute_result"
    }
   ],
   "source": [
    "lab_df1 = lab_df.groupby('enter_age')[['credit_score','yearly_income','desired_amount','existing_loan_cnt','existing_loan_amt']].mean()\n",
    "lab_df1"
   ]
  },
  {
   "cell_type": "code",
   "execution_count": 79,
   "id": "8fc299d4",
   "metadata": {},
   "outputs": [],
   "source": [
    "user_id = user_spec[user_spec.enter_year.isna()].user_id.values.tolist()"
   ]
  },
  {
   "cell_type": "code",
   "execution_count": 80,
   "id": "6e251990",
   "metadata": {},
   "outputs": [],
   "source": [
    "feature_list = ['credit_score','yearly_income','desired_amount','existing_loan_cnt','existing_loan_amt']"
   ]
  },
  {
   "cell_type": "code",
   "execution_count": 81,
   "id": "866ce7b1",
   "metadata": {},
   "outputs": [],
   "source": [
    "age_list=[10,15,20,25,30,35,40,45,50,55,60,65,70,75,80]\n",
    "def age_feature(x,feature):\n",
    "    diff = []\n",
    "    for i in feature:\n",
    "        diff.append(abs(i-x))\n",
    "    idx = diff.index(np.min(diff))\n",
    "    return age_list[idx]"
   ]
  },
  {
   "cell_type": "code",
   "execution_count": 82,
   "id": "2176aec4",
   "metadata": {
    "scrolled": true
   },
   "outputs": [
    {
     "name": "stderr",
     "output_type": "stream",
     "text": [
      "100%|███████████████████████████████████████████████████████████████████████████| 92314/92314 [11:55<00:00, 129.01it/s]\n"
     ]
    }
   ],
   "source": [
    "for idd in tqdm(user_id):\n",
    "    user_enter_list = []\n",
    "    for f in feature_list:\n",
    "        x = np.mean(user_spec[user_spec.user_id == idd][f'{f}'].fillna(0).tolist())\n",
    "        feature = lab_df1[f'{f}'].values.tolist()\n",
    "        user_enter_list.append(age_feature(x,feature))\n",
    "    age = int(np.mean(user_enter_list))\n",
    "    missing_value = np.unique(user_spec[user_spec.user_id == idd]['birth_year'].values)[0]+age\n",
    "    if missing_value > 2022:\n",
    "        missing_value = 2021\n",
    "    else:\n",
    "        pass\n",
    "    user_spec.loc[user_spec.user_id == idd,'enter_year'] = missing_value"
   ]
  },
  {
   "cell_type": "code",
   "execution_count": 83,
   "id": "1883d687",
   "metadata": {},
   "outputs": [],
   "source": [
    "user_spec.drop('enter_age',axis=1,inplace=True)"
   ]
  },
  {
   "cell_type": "code",
   "execution_count": 84,
   "id": "756799cc",
   "metadata": {},
   "outputs": [
    {
     "data": {
      "text/plain": [
       "application_id                              0\n",
       "user_id                                     0\n",
       "insert_time                                 0\n",
       "credit_score                            69483\n",
       "yearly_income                               0\n",
       "income_type                                 0\n",
       "employment_type                             0\n",
       "houseown_type                               0\n",
       "desired_amount                              0\n",
       "purpose                                     0\n",
       "personal_rehabilitation_yn             417763\n",
       "personal_rehabilitation_complete_yn    843993\n",
       "existing_loan_cnt                      146290\n",
       "existing_loan_amt                      225046\n",
       "enter_year                                  0\n",
       "enter_month                             92314\n",
       "enter_birth                             92314\n",
       "month                                       0\n",
       "birth_year                                  0\n",
       "gender                                   6891\n",
       "dtype: int64"
      ]
     },
     "execution_count": 84,
     "metadata": {},
     "output_type": "execute_result"
    }
   ],
   "source": [
    "user_spec.isnull().sum()"
   ]
  },
  {
   "cell_type": "code",
   "execution_count": 85,
   "id": "2d5a6910",
   "metadata": {},
   "outputs": [
    {
     "data": {
      "image/png": "[encoded data removed]",
      "text/plain": [
       "<Figure size 1200x800 with 1 Axes>"
      ]
     },
     "metadata": {},
     "output_type": "display_data"
    }
   ],
   "source": [
    "sns.boxplot(y = 'enter_year', data = user_spec)\n",
    "plt.title('enter_year', size = 15)\n",
    "plt.show()"
   ]
  },
  {
   "cell_type": "code",
   "execution_count": 86,
   "id": "ccc6ba3b",
   "metadata": {},
   "outputs": [
    {
     "data": {
      "text/plain": [
       "2021.0    351490\n",
       "2022.0    133616\n",
       "2020.0    112109\n",
       "2019.0     78735\n",
       "2018.0     55281\n",
       "2017.0     40388\n",
       "2016.0     31603\n",
       "2015.0     23761\n",
       "2014.0     18043\n",
       "2013.0     16864\n",
       "2012.0     14645\n",
       "2011.0     13130\n",
       "2010.0     11521\n",
       "2009.0      7986\n",
       "2008.0      6876\n",
       "2007.0      6472\n",
       "2006.0      6142\n",
       "2005.0      5161\n",
       "2004.0      4694\n",
       "2003.0      4089\n",
       "2002.0      3805\n",
       "2000.0      3342\n",
       "2001.0      2849\n",
       "1999.0      2640\n",
       "1996.0      2047\n",
       "1997.0      1835\n",
       "1995.0      1830\n",
       "1998.0      1202\n",
       "1994.0      1161\n",
       "1993.0      1088\n",
       "1992.0      1035\n",
       "1991.0       818\n",
       "1990.0       743\n",
       "1989.0       468\n",
       "1988.0       418\n",
       "1986.0       278\n",
       "1987.0       255\n",
       "1985.0        90\n",
       "1984.0        76\n",
       "1983.0        56\n",
       "1982.0        40\n",
       "1980.0        24\n",
       "1981.0        16\n",
       "1979.0        12\n",
       "1977.0         3\n",
       "1970.0         3\n",
       "1974.0         3\n",
       "1976.0         2\n",
       "1975.0         2\n",
       "1942.0         2\n",
       "1969.0         2\n",
       "1972.0         1\n",
       "1978.0         1\n",
       "Name: enter_year, dtype: int64"
      ]
     },
     "execution_count": 86,
     "metadata": {},
     "output_type": "execute_result"
    }
   ],
   "source": [
    "user_spec.enter_year.value_counts()"
   ]
  },
  {
   "cell_type": "code",
   "execution_count": 87,
   "id": "aac15d16",
   "metadata": {},
   "outputs": [
    {
     "data": {
      "text/html": [
       "<div>\n",
       "<style scoped>\n",
       "    .dataframe tbody tr th:only-of-type {\n",
       "        vertical-align: middle;\n",
       "    }\n",
       "\n",
       "    .dataframe tbody tr th {\n",
       "        vertical-align: top;\n",
       "    }\n",
       "\n",
       "    .dataframe thead th {\n",
       "        text-align: right;\n",
       "    }\n",
       "</style>\n",
       "<table border=\"1\" class=\"dataframe\">\n",
       "  <thead>\n",
       "    <tr style=\"text-align: right;\">\n",
       "      <th></th>\n",
       "      <th>application_id</th>\n",
       "      <th>user_id</th>\n",
       "      <th>insert_time</th>\n",
       "      <th>credit_score</th>\n",
       "      <th>yearly_income</th>\n",
       "      <th>income_type</th>\n",
       "      <th>employment_type</th>\n",
       "      <th>houseown_type</th>\n",
       "      <th>desired_amount</th>\n",
       "      <th>purpose</th>\n",
       "      <th>personal_rehabilitation_yn</th>\n",
       "      <th>personal_rehabilitation_complete_yn</th>\n",
       "      <th>existing_loan_cnt</th>\n",
       "      <th>existing_loan_amt</th>\n",
       "      <th>enter_year</th>\n",
       "      <th>enter_month</th>\n",
       "      <th>enter_birth</th>\n",
       "      <th>month</th>\n",
       "      <th>birth_year</th>\n",
       "      <th>gender</th>\n",
       "    </tr>\n",
       "  </thead>\n",
       "  <tbody>\n",
       "  </tbody>\n",
       "</table>\n",
       "</div>"
      ],
      "text/plain": [
       "Empty DataFrame\n",
       "Columns: [application_id, user_id, insert_time, credit_score, yearly_income, income_type, employment_type, houseown_type, desired_amount, purpose, personal_rehabilitation_yn, personal_rehabilitation_complete_yn, existing_loan_cnt, existing_loan_amt, enter_year, enter_month, enter_birth, month, birth_year, gender]\n",
       "Index: []"
      ]
     },
     "execution_count": 87,
     "metadata": {},
     "output_type": "execute_result"
    }
   ],
   "source": [
    "user_spec[user_spec.enter_year > 2022]"
   ]
  },
  {
   "cell_type": "code",
   "execution_count": null,
   "id": "cad4c43f",
   "metadata": {},
   "outputs": [],
   "source": []
  },
  {
   "cell_type": "markdown",
   "id": "dff7c39c",
   "metadata": {},
   "source": [
    "#### enter_month"
   ]
  },
  {
   "cell_type": "code",
   "execution_count": 88,
   "id": "7509a880",
   "metadata": {},
   "outputs": [],
   "source": [
    "lab_df = user_spec_train[['enter_month','credit_score','yearly_income','desired_amount','existing_loan_cnt','existing_loan_amt']]"
   ]
  },
  {
   "cell_type": "code",
   "execution_count": 89,
   "id": "7625c8d4",
   "metadata": {},
   "outputs": [
    {
     "data": {
      "text/html": [
       "<div>\n",
       "<style scoped>\n",
       "    .dataframe tbody tr th:only-of-type {\n",
       "        vertical-align: middle;\n",
       "    }\n",
       "\n",
       "    .dataframe tbody tr th {\n",
       "        vertical-align: top;\n",
       "    }\n",
       "\n",
       "    .dataframe thead th {\n",
       "        text-align: right;\n",
       "    }\n",
       "</style>\n",
       "<table border=\"1\" class=\"dataframe\">\n",
       "  <thead>\n",
       "    <tr style=\"text-align: right;\">\n",
       "      <th></th>\n",
       "      <th>credit_score</th>\n",
       "      <th>yearly_income</th>\n",
       "      <th>desired_amount</th>\n",
       "      <th>existing_loan_cnt</th>\n",
       "      <th>existing_loan_amt</th>\n",
       "    </tr>\n",
       "    <tr>\n",
       "      <th>enter_month</th>\n",
       "      <th></th>\n",
       "      <th></th>\n",
       "      <th></th>\n",
       "      <th></th>\n",
       "      <th></th>\n",
       "    </tr>\n",
       "  </thead>\n",
       "  <tbody>\n",
       "    <tr>\n",
       "      <th>1.0</th>\n",
       "      <td>670.242402</td>\n",
       "      <td>4.816826e+07</td>\n",
       "      <td>3.534250e+07</td>\n",
       "      <td>4.573935</td>\n",
       "      <td>7.942155e+07</td>\n",
       "    </tr>\n",
       "    <tr>\n",
       "      <th>2.0</th>\n",
       "      <td>665.445263</td>\n",
       "      <td>4.330703e+07</td>\n",
       "      <td>3.744789e+07</td>\n",
       "      <td>4.444444</td>\n",
       "      <td>7.388758e+07</td>\n",
       "    </tr>\n",
       "    <tr>\n",
       "      <th>3.0</th>\n",
       "      <td>672.394614</td>\n",
       "      <td>4.701587e+07</td>\n",
       "      <td>3.479107e+07</td>\n",
       "      <td>4.619108</td>\n",
       "      <td>7.722391e+07</td>\n",
       "    </tr>\n",
       "    <tr>\n",
       "      <th>4.0</th>\n",
       "      <td>672.088236</td>\n",
       "      <td>4.601787e+07</td>\n",
       "      <td>3.545405e+07</td>\n",
       "      <td>4.581807</td>\n",
       "      <td>7.936082e+07</td>\n",
       "    </tr>\n",
       "    <tr>\n",
       "      <th>5.0</th>\n",
       "      <td>672.781322</td>\n",
       "      <td>4.720423e+07</td>\n",
       "      <td>3.641927e+07</td>\n",
       "      <td>4.474324</td>\n",
       "      <td>8.180455e+07</td>\n",
       "    </tr>\n",
       "    <tr>\n",
       "      <th>6.0</th>\n",
       "      <td>671.210821</td>\n",
       "      <td>4.749210e+07</td>\n",
       "      <td>3.936609e+07</td>\n",
       "      <td>4.648449</td>\n",
       "      <td>8.343572e+07</td>\n",
       "    </tr>\n",
       "    <tr>\n",
       "      <th>7.0</th>\n",
       "      <td>675.944930</td>\n",
       "      <td>4.950934e+07</td>\n",
       "      <td>3.798585e+07</td>\n",
       "      <td>4.662807</td>\n",
       "      <td>8.924416e+07</td>\n",
       "    </tr>\n",
       "    <tr>\n",
       "      <th>8.0</th>\n",
       "      <td>672.881996</td>\n",
       "      <td>4.693330e+07</td>\n",
       "      <td>3.608808e+07</td>\n",
       "      <td>4.632850</td>\n",
       "      <td>8.358506e+07</td>\n",
       "    </tr>\n",
       "    <tr>\n",
       "      <th>9.0</th>\n",
       "      <td>671.301971</td>\n",
       "      <td>4.607789e+07</td>\n",
       "      <td>3.787175e+07</td>\n",
       "      <td>4.547576</td>\n",
       "      <td>7.950747e+07</td>\n",
       "    </tr>\n",
       "    <tr>\n",
       "      <th>10.0</th>\n",
       "      <td>669.986702</td>\n",
       "      <td>4.475739e+07</td>\n",
       "      <td>3.593673e+07</td>\n",
       "      <td>4.483876</td>\n",
       "      <td>7.759008e+07</td>\n",
       "    </tr>\n",
       "    <tr>\n",
       "      <th>11.0</th>\n",
       "      <td>668.302230</td>\n",
       "      <td>4.494149e+07</td>\n",
       "      <td>3.660967e+07</td>\n",
       "      <td>4.490621</td>\n",
       "      <td>7.659418e+07</td>\n",
       "    </tr>\n",
       "    <tr>\n",
       "      <th>12.0</th>\n",
       "      <td>670.196491</td>\n",
       "      <td>4.562845e+07</td>\n",
       "      <td>3.461414e+07</td>\n",
       "      <td>4.450024</td>\n",
       "      <td>7.768864e+07</td>\n",
       "    </tr>\n",
       "  </tbody>\n",
       "</table>\n",
       "</div>"
      ],
      "text/plain": [
       "             credit_score  yearly_income  desired_amount  existing_loan_cnt  \\\n",
       "enter_month                                                                   \n",
       "1.0            670.242402   4.816826e+07    3.534250e+07           4.573935   \n",
       "2.0            665.445263   4.330703e+07    3.744789e+07           4.444444   \n",
       "3.0            672.394614   4.701587e+07    3.479107e+07           4.619108   \n",
       "4.0            672.088236   4.601787e+07    3.545405e+07           4.581807   \n",
       "5.0            672.781322   4.720423e+07    3.641927e+07           4.474324   \n",
       "6.0            671.210821   4.749210e+07    3.936609e+07           4.648449   \n",
       "7.0            675.944930   4.950934e+07    3.798585e+07           4.662807   \n",
       "8.0            672.881996   4.693330e+07    3.608808e+07           4.632850   \n",
       "9.0            671.301971   4.607789e+07    3.787175e+07           4.547576   \n",
       "10.0           669.986702   4.475739e+07    3.593673e+07           4.483876   \n",
       "11.0           668.302230   4.494149e+07    3.660967e+07           4.490621   \n",
       "12.0           670.196491   4.562845e+07    3.461414e+07           4.450024   \n",
       "\n",
       "             existing_loan_amt  \n",
       "enter_month                     \n",
       "1.0               7.942155e+07  \n",
       "2.0               7.388758e+07  \n",
       "3.0               7.722391e+07  \n",
       "4.0               7.936082e+07  \n",
       "5.0               8.180455e+07  \n",
       "6.0               8.343572e+07  \n",
       "7.0               8.924416e+07  \n",
       "8.0               8.358506e+07  \n",
       "9.0               7.950747e+07  \n",
       "10.0              7.759008e+07  \n",
       "11.0              7.659418e+07  \n",
       "12.0              7.768864e+07  "
      ]
     },
     "execution_count": 89,
     "metadata": {},
     "output_type": "execute_result"
    }
   ],
   "source": [
    "lab_df1 = lab_df.groupby('enter_month')[['credit_score','yearly_income','desired_amount','existing_loan_cnt','existing_loan_amt']].mean()\n",
    "lab_df1"
   ]
  },
  {
   "cell_type": "code",
   "execution_count": 90,
   "id": "55200a2d",
   "metadata": {},
   "outputs": [],
   "source": [
    "user_id = user_spec[user_spec.enter_month.isna()].user_id.values.tolist()"
   ]
  },
  {
   "cell_type": "code",
   "execution_count": 91,
   "id": "4618c305",
   "metadata": {},
   "outputs": [],
   "source": [
    "feature_list = ['credit_score','yearly_income','desired_amount','existing_loan_cnt','existing_loan_amt']"
   ]
  },
  {
   "cell_type": "code",
   "execution_count": 92,
   "id": "60022186",
   "metadata": {},
   "outputs": [],
   "source": [
    "age_list=[1,2,3,4,5,6,7,8,9,10,11,12]\n",
    "def age_feature(x,feature):\n",
    "    diff = []\n",
    "    for i in feature:\n",
    "        diff.append(abs(i-x))\n",
    "    idx = diff.index(np.min(diff))\n",
    "    return age_list[idx]"
   ]
  },
  {
   "cell_type": "code",
   "execution_count": 93,
   "id": "c07b6e90",
   "metadata": {
    "scrolled": true
   },
   "outputs": [
    {
     "name": "stderr",
     "output_type": "stream",
     "text": [
      "100%|███████████████████████████████████████████████████████████████████████████| 92314/92314 [11:05<00:00, 138.79it/s]\n"
     ]
    }
   ],
   "source": [
    "for idd in tqdm(user_id):\n",
    "    user_enter_list = []\n",
    "    for f in feature_list:\n",
    "        x = np.mean(user_spec[user_spec.user_id == idd][f'{f}'].fillna(0).tolist())\n",
    "        feature = lab_df1[f'{f}'].values.tolist()\n",
    "        user_enter_list.append(age_feature(x,feature))\n",
    "    missing_value = int(np.mean(user_enter_list))\n",
    "    user_spec.loc[user_spec.user_id == idd,'enter_month'] = missing_value"
   ]
  },
  {
   "cell_type": "code",
   "execution_count": 94,
   "id": "2496ccf8",
   "metadata": {},
   "outputs": [
    {
     "data": {
      "text/plain": [
       "application_id                              0\n",
       "user_id                                     0\n",
       "insert_time                                 0\n",
       "credit_score                            69483\n",
       "yearly_income                               0\n",
       "income_type                                 0\n",
       "employment_type                             0\n",
       "houseown_type                               0\n",
       "desired_amount                              0\n",
       "purpose                                     0\n",
       "personal_rehabilitation_yn             417763\n",
       "personal_rehabilitation_complete_yn    843993\n",
       "existing_loan_cnt                      146290\n",
       "existing_loan_amt                      225046\n",
       "enter_year                                  0\n",
       "enter_month                                 0\n",
       "enter_birth                             92314\n",
       "month                                       0\n",
       "birth_year                                  0\n",
       "gender                                   6891\n",
       "dtype: int64"
      ]
     },
     "execution_count": 94,
     "metadata": {},
     "output_type": "execute_result"
    }
   ],
   "source": [
    "user_spec.isnull().sum()"
   ]
  },
  {
   "cell_type": "code",
   "execution_count": 95,
   "id": "9724c24c",
   "metadata": {},
   "outputs": [
    {
     "data": {
      "image/png": "[encoded data removed]",
      "text/plain": [
       "<Figure size 1200x800 with 1 Axes>"
      ]
     },
     "metadata": {},
     "output_type": "display_data"
    }
   ],
   "source": [
    "sns.countplot(y = 'enter_month', data = user_spec)\n",
    "plt.title('enter_month', size = 15)\n",
    "plt.show()"
   ]
  },
  {
   "cell_type": "code",
   "execution_count": 96,
   "id": "48b6804f",
   "metadata": {},
   "outputs": [
    {
     "data": {
      "text/plain": [
       "5.0     121746\n",
       "1.0     117008\n",
       "4.0     111222\n",
       "3.0     106628\n",
       "2.0      76264\n",
       "6.0      73739\n",
       "12.0     65864\n",
       "11.0     63799\n",
       "7.0      63305\n",
       "10.0     61320\n",
       "9.0      54810\n",
       "8.0      53048\n",
       "Name: enter_month, dtype: int64"
      ]
     },
     "execution_count": 96,
     "metadata": {},
     "output_type": "execute_result"
    }
   ],
   "source": [
    "user_spec.enter_month.value_counts()"
   ]
  },
  {
   "cell_type": "markdown",
   "id": "23b7790a",
   "metadata": {},
   "source": [
    "#### enter_birth"
   ]
  },
  {
   "cell_type": "code",
   "execution_count": 97,
   "id": "119d55a3",
   "metadata": {},
   "outputs": [],
   "source": [
    "user_spec.enter_birth = user_spec.enter_year - user_spec.birth_year"
   ]
  },
  {
   "cell_type": "code",
   "execution_count": 98,
   "id": "24466aaf",
   "metadata": {},
   "outputs": [
    {
     "data": {
      "image/png": "[encoded data removed]",
      "text/plain": [
       "<Figure size 1200x800 with 1 Axes>"
      ]
     },
     "metadata": {},
     "output_type": "display_data"
    }
   ],
   "source": [
    "sns.boxplot(y = 'enter_birth', data = user_spec)\n",
    "plt.title('enter_birth', size = 15)\n",
    "plt.show()"
   ]
  },
  {
   "cell_type": "code",
   "execution_count": 99,
   "id": "95848152",
   "metadata": {},
   "outputs": [
    {
     "data": {
      "text/plain": [
       "application_id                              0\n",
       "user_id                                     0\n",
       "insert_time                                 0\n",
       "credit_score                            69483\n",
       "yearly_income                               0\n",
       "income_type                                 0\n",
       "employment_type                             0\n",
       "houseown_type                               0\n",
       "desired_amount                              0\n",
       "purpose                                     0\n",
       "personal_rehabilitation_yn             417763\n",
       "personal_rehabilitation_complete_yn    843993\n",
       "existing_loan_cnt                      146290\n",
       "existing_loan_amt                      225046\n",
       "enter_year                                  0\n",
       "enter_month                                 0\n",
       "enter_birth                                 0\n",
       "month                                       0\n",
       "birth_year                                  0\n",
       "gender                                   6891\n",
       "dtype: int64"
      ]
     },
     "execution_count": 99,
     "metadata": {},
     "output_type": "execute_result"
    }
   ],
   "source": [
    "user_spec.isnull().sum()"
   ]
  },
  {
   "cell_type": "code",
   "execution_count": 100,
   "id": "8d4fdc8a",
   "metadata": {},
   "outputs": [],
   "source": [
    "user_spec.loc[user_spec['enter_birth']<15,'enter_year'] = user_spec.loc[user_spec['enter_birth']<15,'birth_year']+user_spec_train['enter_birth'].median() \n",
    "user_spec.loc[user_spec['enter_year']>2022,'enter_year'] = 2021\n",
    "user_spec.loc[user_spec['enter_birth']<15,'enter_birth'] = 15"
   ]
  },
  {
   "cell_type": "code",
   "execution_count": 101,
   "id": "00427580",
   "metadata": {},
   "outputs": [
    {
     "data": {
      "image/png": "[encoded data removed]",
      "text/plain": [
       "<Figure size 1200x800 with 1 Axes>"
      ]
     },
     "metadata": {},
     "output_type": "display_data"
    }
   ],
   "source": [
    "sns.boxplot(y = 'enter_birth', data = user_spec)\n",
    "plt.title('enter_birth', size = 15)\n",
    "plt.show()"
   ]
  },
  {
   "cell_type": "markdown",
   "id": "2690b92c",
   "metadata": {},
   "source": [
    "### Personal_rehabilitation_yn"
   ]
  },
  {
   "cell_type": "code",
   "execution_count": 102,
   "id": "6b0e1be1",
   "metadata": {},
   "outputs": [],
   "source": [
    "user_spec.personal_rehabilitation_yn = user_spec.personal_rehabilitation_yn.fillna(0)"
   ]
  },
  {
   "cell_type": "markdown",
   "id": "348cffd1",
   "metadata": {},
   "source": [
    "### Personal_rehabilitation_complete_yn"
   ]
  },
  {
   "cell_type": "code",
   "execution_count": 103,
   "id": "13f37475",
   "metadata": {},
   "outputs": [],
   "source": [
    "user_spec.personal_rehabilitation_complete_yn = user_spec.personal_rehabilitation_complete_yn.fillna(0)"
   ]
  },
  {
   "cell_type": "code",
   "execution_count": 104,
   "id": "1770bb38",
   "metadata": {},
   "outputs": [
    {
     "data": {
      "text/plain": [
       "application_id                              0\n",
       "user_id                                     0\n",
       "insert_time                                 0\n",
       "credit_score                            69483\n",
       "yearly_income                               0\n",
       "income_type                                 0\n",
       "employment_type                             0\n",
       "houseown_type                               0\n",
       "desired_amount                              0\n",
       "purpose                                     0\n",
       "personal_rehabilitation_yn                  0\n",
       "personal_rehabilitation_complete_yn         0\n",
       "existing_loan_cnt                      146290\n",
       "existing_loan_amt                      225046\n",
       "enter_year                                  0\n",
       "enter_month                                 0\n",
       "enter_birth                                 0\n",
       "month                                       0\n",
       "birth_year                                  0\n",
       "gender                                   6891\n",
       "dtype: int64"
      ]
     },
     "execution_count": 104,
     "metadata": {},
     "output_type": "execute_result"
    }
   ],
   "source": [
    "user_spec.isnull().sum()"
   ]
  },
  {
   "cell_type": "markdown",
   "id": "ed40bb60",
   "metadata": {},
   "source": [
    "### existing_loan_cnt"
   ]
  },
  {
   "cell_type": "code",
   "execution_count": 105,
   "id": "8cd1aa2c",
   "metadata": {},
   "outputs": [
    {
     "data": {
      "image/png": "[encoded data removed]",
      "text/plain": [
       "<Figure size 1200x800 with 1 Axes>"
      ]
     },
     "metadata": {},
     "output_type": "display_data"
    }
   ],
   "source": [
    "sns.boxplot(y = 'existing_loan_cnt', data = user_spec)\n",
    "plt.title('existing_loan_cnt', size = 15)\n",
    "plt.show()"
   ]
  },
  {
   "cell_type": "markdown",
   "id": "ea4cbf8e",
   "metadata": {},
   "source": [
    "### existing_loan_amt"
   ]
  },
  {
   "cell_type": "code",
   "execution_count": 106,
   "id": "ca478aa6",
   "metadata": {
    "scrolled": false
   },
   "outputs": [
    {
     "data": {
      "image/png": "[encoded data removed]",
      "text/plain": [
       "<Figure size 1200x800 with 1 Axes>"
      ]
     },
     "metadata": {},
     "output_type": "display_data"
    }
   ],
   "source": [
    "sns.boxplot(y = 'existing_loan_amt', data = user_spec)\n",
    "plt.title('existing_loan_amt', size = 15)\n",
    "plt.show()"
   ]
  },
  {
   "cell_type": "markdown",
   "id": "c3ec57ea",
   "metadata": {},
   "source": [
    "- credit_score, existing_loan_cnt,amt -> knn_imputer"
   ]
  },
  {
   "cell_type": "markdown",
   "id": "faea31af",
   "metadata": {},
   "source": [
    "### Knn Imputer V2"
   ]
  },
  {
   "cell_type": "code",
   "execution_count": 107,
   "id": "cadc7029",
   "metadata": {},
   "outputs": [
    {
     "data": {
      "text/plain": [
       "application_id                              0\n",
       "user_id                                     0\n",
       "insert_time                                 0\n",
       "credit_score                            69483\n",
       "yearly_income                               0\n",
       "income_type                                 0\n",
       "employment_type                             0\n",
       "houseown_type                               0\n",
       "desired_amount                              0\n",
       "purpose                                     0\n",
       "personal_rehabilitation_yn                  0\n",
       "personal_rehabilitation_complete_yn         0\n",
       "existing_loan_cnt                      146290\n",
       "existing_loan_amt                      225046\n",
       "enter_year                                  0\n",
       "enter_month                                 0\n",
       "enter_birth                                 0\n",
       "month                                       0\n",
       "birth_year                                  0\n",
       "gender                                   6891\n",
       "dtype: int64"
      ]
     },
     "execution_count": 107,
     "metadata": {},
     "output_type": "execute_result"
    }
   ],
   "source": [
    "user_spec.isnull().sum()"
   ]
  },
  {
   "cell_type": "code",
   "execution_count": 108,
   "id": "720e2b2e",
   "metadata": {},
   "outputs": [],
   "source": [
    "user_spec_train = user_spec[user_spec['month'] <6].reset_index(drop=True)\n",
    "loan_result_train = loan_result[loan_result['month'] <6].reset_index(drop=True)\n",
    "log_data_train = log_data[log_data['month'] <6].reset_index(drop=True)\n",
    "\n",
    "user_spec_test = user_spec[user_spec['month'] ==6].reset_index(drop=True)\n",
    "loan_result_test = loan_result[loan_result['month'] ==6].reset_index(drop=True)\n",
    "log_data_test = log_data[log_data['month'] ==6].reset_index(drop=True)"
   ]
  },
  {
   "cell_type": "code",
   "execution_count": 109,
   "id": "de10d098",
   "metadata": {},
   "outputs": [
    {
     "data": {
      "text/plain": [
       "(968753, 20)"
      ]
     },
     "execution_count": 109,
     "metadata": {},
     "output_type": "execute_result"
    }
   ],
   "source": [
    "user_spec.shape"
   ]
  },
  {
   "cell_type": "code",
   "execution_count": 110,
   "id": "e7140a86",
   "metadata": {},
   "outputs": [
    {
     "data": {
      "text/plain": [
       "(728884, 20)"
      ]
     },
     "execution_count": 110,
     "metadata": {},
     "output_type": "execute_result"
    }
   ],
   "source": [
    "user_spec_train.shape"
   ]
  },
  {
   "cell_type": "code",
   "execution_count": 111,
   "id": "099299ad",
   "metadata": {},
   "outputs": [],
   "source": [
    "knn_col = ['credit_score','yearly_income','desired_amount','existing_loan_cnt','existing_loan_amt']"
   ]
  },
  {
   "cell_type": "code",
   "execution_count": 112,
   "id": "3e2adc35",
   "metadata": {},
   "outputs": [],
   "source": [
    "scaler = MinMaxScaler().fit(user_spec_train[knn_col])"
   ]
  },
  {
   "cell_type": "code",
   "execution_count": 113,
   "id": "25a4c9bc",
   "metadata": {},
   "outputs": [],
   "source": [
    "train_knn = scaler.transform(user_spec_train[knn_col])"
   ]
  },
  {
   "cell_type": "code",
   "execution_count": 114,
   "id": "09a59eaf",
   "metadata": {},
   "outputs": [],
   "source": [
    "test_knn = scaler.transform(user_spec[knn_col])"
   ]
  },
  {
   "cell_type": "code",
   "execution_count": 115,
   "id": "6a76efb3",
   "metadata": {},
   "outputs": [],
   "source": [
    "imputer = KNNImputer(n_neighbors = 5).fit(train_knn)"
   ]
  },
  {
   "cell_type": "code",
   "execution_count": 116,
   "id": "7429e72a",
   "metadata": {},
   "outputs": [],
   "source": [
    "knn_test = imputer.transform(test_knn)"
   ]
  },
  {
   "cell_type": "code",
   "execution_count": 117,
   "id": "bc53ad6f",
   "metadata": {},
   "outputs": [],
   "source": [
    "knn_test_scaler = scaler.inverse_transform(knn_test)"
   ]
  },
  {
   "cell_type": "code",
   "execution_count": 118,
   "id": "8e794da4",
   "metadata": {},
   "outputs": [
    {
     "data": {
      "text/html": [
       "<div>\n",
       "<style scoped>\n",
       "    .dataframe tbody tr th:only-of-type {\n",
       "        vertical-align: middle;\n",
       "    }\n",
       "\n",
       "    .dataframe tbody tr th {\n",
       "        vertical-align: top;\n",
       "    }\n",
       "\n",
       "    .dataframe thead th {\n",
       "        text-align: right;\n",
       "    }\n",
       "</style>\n",
       "<table border=\"1\" class=\"dataframe\">\n",
       "  <thead>\n",
       "    <tr style=\"text-align: right;\">\n",
       "      <th></th>\n",
       "      <th>credit_score</th>\n",
       "      <th>yearly_income</th>\n",
       "      <th>desired_amount</th>\n",
       "      <th>existing_loan_cnt</th>\n",
       "      <th>existing_loan_amt</th>\n",
       "    </tr>\n",
       "  </thead>\n",
       "  <tbody>\n",
       "    <tr>\n",
       "      <th>0</th>\n",
       "      <td>870.0</td>\n",
       "      <td>30000000.0</td>\n",
       "      <td>30000000.0</td>\n",
       "      <td>1.0</td>\n",
       "      <td>27000000.0</td>\n",
       "    </tr>\n",
       "    <tr>\n",
       "      <th>1</th>\n",
       "      <td>710.0</td>\n",
       "      <td>30000000.0</td>\n",
       "      <td>10000000.0</td>\n",
       "      <td>5.0</td>\n",
       "      <td>15000000.0</td>\n",
       "    </tr>\n",
       "    <tr>\n",
       "      <th>2</th>\n",
       "      <td>820.0</td>\n",
       "      <td>62000000.0</td>\n",
       "      <td>2000000.0</td>\n",
       "      <td>7.0</td>\n",
       "      <td>344000000.0</td>\n",
       "    </tr>\n",
       "    <tr>\n",
       "      <th>3</th>\n",
       "      <td>630.0</td>\n",
       "      <td>36000000.0</td>\n",
       "      <td>5000000.0</td>\n",
       "      <td>1.0</td>\n",
       "      <td>16000000.0</td>\n",
       "    </tr>\n",
       "    <tr>\n",
       "      <th>4</th>\n",
       "      <td>590.0</td>\n",
       "      <td>45000000.0</td>\n",
       "      <td>15000000.0</td>\n",
       "      <td>1.0</td>\n",
       "      <td>20000000.0</td>\n",
       "    </tr>\n",
       "    <tr>\n",
       "      <th>...</th>\n",
       "      <td>...</td>\n",
       "      <td>...</td>\n",
       "      <td>...</td>\n",
       "      <td>...</td>\n",
       "      <td>...</td>\n",
       "    </tr>\n",
       "    <tr>\n",
       "      <th>968748</th>\n",
       "      <td>590.0</td>\n",
       "      <td>25000000.0</td>\n",
       "      <td>5000000.0</td>\n",
       "      <td>11.2</td>\n",
       "      <td>68800000.0</td>\n",
       "    </tr>\n",
       "    <tr>\n",
       "      <th>968749</th>\n",
       "      <td>980.0</td>\n",
       "      <td>20000000.0</td>\n",
       "      <td>50000000.0</td>\n",
       "      <td>1.0</td>\n",
       "      <td>65600000.0</td>\n",
       "    </tr>\n",
       "    <tr>\n",
       "      <th>968750</th>\n",
       "      <td>750.0</td>\n",
       "      <td>75000000.0</td>\n",
       "      <td>100000000.0</td>\n",
       "      <td>8.0</td>\n",
       "      <td>200000000.0</td>\n",
       "    </tr>\n",
       "    <tr>\n",
       "      <th>968751</th>\n",
       "      <td>640.0</td>\n",
       "      <td>50000000.0</td>\n",
       "      <td>10000000.0</td>\n",
       "      <td>10.0</td>\n",
       "      <td>117000000.0</td>\n",
       "    </tr>\n",
       "    <tr>\n",
       "      <th>968752</th>\n",
       "      <td>656.0</td>\n",
       "      <td>35000000.0</td>\n",
       "      <td>20000000.0</td>\n",
       "      <td>6.6</td>\n",
       "      <td>36200000.0</td>\n",
       "    </tr>\n",
       "  </tbody>\n",
       "</table>\n",
       "<p>968753 rows × 5 columns</p>\n",
       "</div>"
      ],
      "text/plain": [
       "        credit_score  yearly_income  desired_amount  existing_loan_cnt  \\\n",
       "0              870.0     30000000.0      30000000.0                1.0   \n",
       "1              710.0     30000000.0      10000000.0                5.0   \n",
       "2              820.0     62000000.0       2000000.0                7.0   \n",
       "3              630.0     36000000.0       5000000.0                1.0   \n",
       "4              590.0     45000000.0      15000000.0                1.0   \n",
       "...              ...            ...             ...                ...   \n",
       "968748         590.0     25000000.0       5000000.0               11.2   \n",
       "968749         980.0     20000000.0      50000000.0                1.0   \n",
       "968750         750.0     75000000.0     100000000.0                8.0   \n",
       "968751         640.0     50000000.0      10000000.0               10.0   \n",
       "968752         656.0     35000000.0      20000000.0                6.6   \n",
       "\n",
       "        existing_loan_amt  \n",
       "0              27000000.0  \n",
       "1              15000000.0  \n",
       "2             344000000.0  \n",
       "3              16000000.0  \n",
       "4              20000000.0  \n",
       "...                   ...  \n",
       "968748         68800000.0  \n",
       "968749         65600000.0  \n",
       "968750        200000000.0  \n",
       "968751        117000000.0  \n",
       "968752         36200000.0  \n",
       "\n",
       "[968753 rows x 5 columns]"
      ]
     },
     "execution_count": 118,
     "metadata": {},
     "output_type": "execute_result"
    }
   ],
   "source": [
    "knn_df = pd.DataFrame(knn_test_scaler,columns = knn_col);knn_df"
   ]
  },
  {
   "cell_type": "code",
   "execution_count": 119,
   "id": "16512375",
   "metadata": {},
   "outputs": [],
   "source": [
    "user_spec.credit_score = knn_df.credit_score\n",
    "user_spec.existing_loan_cnt = knn_df.existing_loan_cnt\n",
    "user_spec.existing_loan_amt = knn_df.existing_loan_amt"
   ]
  },
  {
   "cell_type": "code",
   "execution_count": 120,
   "id": "b56a56f8",
   "metadata": {},
   "outputs": [
    {
     "data": {
      "text/plain": [
       "application_id                            0\n",
       "user_id                                   0\n",
       "insert_time                               0\n",
       "credit_score                              0\n",
       "yearly_income                             0\n",
       "income_type                               0\n",
       "employment_type                           0\n",
       "houseown_type                             0\n",
       "desired_amount                            0\n",
       "purpose                                   0\n",
       "personal_rehabilitation_yn                0\n",
       "personal_rehabilitation_complete_yn       0\n",
       "existing_loan_cnt                         0\n",
       "existing_loan_amt                         0\n",
       "enter_year                                0\n",
       "enter_month                               0\n",
       "enter_birth                               0\n",
       "month                                     0\n",
       "birth_year                                0\n",
       "gender                                 6891\n",
       "dtype: int64"
      ]
     },
     "execution_count": 120,
     "metadata": {},
     "output_type": "execute_result"
    }
   ],
   "source": [
    "user_spec.isnull().sum()"
   ]
  },
  {
   "cell_type": "code",
   "execution_count": 121,
   "id": "a4ee615d",
   "metadata": {},
   "outputs": [
    {
     "data": {
      "text/plain": [
       "(968753, 20)"
      ]
     },
     "execution_count": 121,
     "metadata": {},
     "output_type": "execute_result"
    }
   ],
   "source": [
    "user_spec.shape"
   ]
  },
  {
   "cell_type": "markdown",
   "id": "b7a14b3b",
   "metadata": {},
   "source": [
    "### Gender"
   ]
  },
  {
   "cell_type": "markdown",
   "id": "a45957ec",
   "metadata": {},
   "source": [
    "- Feature\n",
    "    - 다 갖다 씀\n",
    "    - Model : Pycaret Model에서 성능 높은 모델로 채우자"
   ]
  },
  {
   "cell_type": "markdown",
   "id": "fb5cbbec",
   "metadata": {},
   "source": [
    "#### Pycaret"
   ]
  },
  {
   "cell_type": "code",
   "execution_count": 122,
   "id": "d36dfae5",
   "metadata": {},
   "outputs": [],
   "source": [
    "gender_df = user_spec[user_spec.gender.notna()]\n",
    "gender_train = gender_df[gender_df.month < 6]\n",
    "gender_test = user_spec[user_spec.gender.isna()].drop('gender',axis=1)"
   ]
  },
  {
   "cell_type": "code",
   "execution_count": 123,
   "id": "a5526389",
   "metadata": {},
   "outputs": [
    {
     "data": {
      "text/html": [
       "<style type=\"text/css\">\n",
       "#T_90011_row44_col1 {\n",
       "  background-color: lightgreen;\n",
       "}\n",
       "</style>\n",
       "<table id=\"T_90011\">\n",
       "  <thead>\n",
       "    <tr>\n",
       "      <th class=\"blank level0\" >&nbsp;</th>\n",
       "      <th id=\"T_90011_level0_col0\" class=\"col_heading level0 col0\" >Description</th>\n",
       "      <th id=\"T_90011_level0_col1\" class=\"col_heading level0 col1\" >Value</th>\n",
       "    </tr>\n",
       "  </thead>\n",
       "  <tbody>\n",
       "    <tr>\n",
       "      <th id=\"T_90011_level0_row0\" class=\"row_heading level0 row0\" >0</th>\n",
       "      <td id=\"T_90011_row0_col0\" class=\"data row0 col0\" >session_id</td>\n",
       "      <td id=\"T_90011_row0_col1\" class=\"data row0 col1\" >123</td>\n",
       "    </tr>\n",
       "    <tr>\n",
       "      <th id=\"T_90011_level0_row1\" class=\"row_heading level0 row1\" >1</th>\n",
       "      <td id=\"T_90011_row1_col0\" class=\"data row1 col0\" >Target</td>\n",
       "      <td id=\"T_90011_row1_col1\" class=\"data row1 col1\" >gender</td>\n",
       "    </tr>\n",
       "    <tr>\n",
       "      <th id=\"T_90011_level0_row2\" class=\"row_heading level0 row2\" >2</th>\n",
       "      <td id=\"T_90011_row2_col0\" class=\"data row2 col0\" >Target Type</td>\n",
       "      <td id=\"T_90011_row2_col1\" class=\"data row2 col1\" >Binary</td>\n",
       "    </tr>\n",
       "    <tr>\n",
       "      <th id=\"T_90011_level0_row3\" class=\"row_heading level0 row3\" >3</th>\n",
       "      <td id=\"T_90011_row3_col0\" class=\"data row3 col0\" >Label Encoded</td>\n",
       "      <td id=\"T_90011_row3_col1\" class=\"data row3 col1\" >0.0: 0, 1.0: 1</td>\n",
       "    </tr>\n",
       "    <tr>\n",
       "      <th id=\"T_90011_level0_row4\" class=\"row_heading level0 row4\" >4</th>\n",
       "      <td id=\"T_90011_row4_col0\" class=\"data row4 col0\" >Original Data</td>\n",
       "      <td id=\"T_90011_row4_col1\" class=\"data row4 col1\" >(724051, 20)</td>\n",
       "    </tr>\n",
       "    <tr>\n",
       "      <th id=\"T_90011_level0_row5\" class=\"row_heading level0 row5\" >5</th>\n",
       "      <td id=\"T_90011_row5_col0\" class=\"data row5 col0\" >Missing Values</td>\n",
       "      <td id=\"T_90011_row5_col1\" class=\"data row5 col1\" >False</td>\n",
       "    </tr>\n",
       "    <tr>\n",
       "      <th id=\"T_90011_level0_row6\" class=\"row_heading level0 row6\" >6</th>\n",
       "      <td id=\"T_90011_row6_col0\" class=\"data row6 col0\" >Numeric Features</td>\n",
       "      <td id=\"T_90011_row6_col1\" class=\"data row6 col1\" >11</td>\n",
       "    </tr>\n",
       "    <tr>\n",
       "      <th id=\"T_90011_level0_row7\" class=\"row_heading level0 row7\" >7</th>\n",
       "      <td id=\"T_90011_row7_col0\" class=\"data row7 col0\" >Categorical Features</td>\n",
       "      <td id=\"T_90011_row7_col1\" class=\"data row7 col1\" >7</td>\n",
       "    </tr>\n",
       "    <tr>\n",
       "      <th id=\"T_90011_level0_row8\" class=\"row_heading level0 row8\" >8</th>\n",
       "      <td id=\"T_90011_row8_col0\" class=\"data row8 col0\" >Ordinal Features</td>\n",
       "      <td id=\"T_90011_row8_col1\" class=\"data row8 col1\" >False</td>\n",
       "    </tr>\n",
       "    <tr>\n",
       "      <th id=\"T_90011_level0_row9\" class=\"row_heading level0 row9\" >9</th>\n",
       "      <td id=\"T_90011_row9_col0\" class=\"data row9 col0\" >High Cardinality Features</td>\n",
       "      <td id=\"T_90011_row9_col1\" class=\"data row9 col1\" >False</td>\n",
       "    </tr>\n",
       "    <tr>\n",
       "      <th id=\"T_90011_level0_row10\" class=\"row_heading level0 row10\" >10</th>\n",
       "      <td id=\"T_90011_row10_col0\" class=\"data row10 col0\" >High Cardinality Method</td>\n",
       "      <td id=\"T_90011_row10_col1\" class=\"data row10 col1\" >None</td>\n",
       "    </tr>\n",
       "    <tr>\n",
       "      <th id=\"T_90011_level0_row11\" class=\"row_heading level0 row11\" >11</th>\n",
       "      <td id=\"T_90011_row11_col0\" class=\"data row11 col0\" >Transformed Train Set</td>\n",
       "      <td id=\"T_90011_row11_col1\" class=\"data row11 col1\" >(506835, 79)</td>\n",
       "    </tr>\n",
       "    <tr>\n",
       "      <th id=\"T_90011_level0_row12\" class=\"row_heading level0 row12\" >12</th>\n",
       "      <td id=\"T_90011_row12_col0\" class=\"data row12 col0\" >Transformed Test Set</td>\n",
       "      <td id=\"T_90011_row12_col1\" class=\"data row12 col1\" >(217216, 79)</td>\n",
       "    </tr>\n",
       "    <tr>\n",
       "      <th id=\"T_90011_level0_row13\" class=\"row_heading level0 row13\" >13</th>\n",
       "      <td id=\"T_90011_row13_col0\" class=\"data row13 col0\" >Shuffle Train-Test</td>\n",
       "      <td id=\"T_90011_row13_col1\" class=\"data row13 col1\" >True</td>\n",
       "    </tr>\n",
       "    <tr>\n",
       "      <th id=\"T_90011_level0_row14\" class=\"row_heading level0 row14\" >14</th>\n",
       "      <td id=\"T_90011_row14_col0\" class=\"data row14 col0\" >Stratify Train-Test</td>\n",
       "      <td id=\"T_90011_row14_col1\" class=\"data row14 col1\" >False</td>\n",
       "    </tr>\n",
       "    <tr>\n",
       "      <th id=\"T_90011_level0_row15\" class=\"row_heading level0 row15\" >15</th>\n",
       "      <td id=\"T_90011_row15_col0\" class=\"data row15 col0\" >Fold Generator</td>\n",
       "      <td id=\"T_90011_row15_col1\" class=\"data row15 col1\" >StratifiedKFold</td>\n",
       "    </tr>\n",
       "    <tr>\n",
       "      <th id=\"T_90011_level0_row16\" class=\"row_heading level0 row16\" >16</th>\n",
       "      <td id=\"T_90011_row16_col0\" class=\"data row16 col0\" >Fold Number</td>\n",
       "      <td id=\"T_90011_row16_col1\" class=\"data row16 col1\" >10</td>\n",
       "    </tr>\n",
       "    <tr>\n",
       "      <th id=\"T_90011_level0_row17\" class=\"row_heading level0 row17\" >17</th>\n",
       "      <td id=\"T_90011_row17_col0\" class=\"data row17 col0\" >CPU Jobs</td>\n",
       "      <td id=\"T_90011_row17_col1\" class=\"data row17 col1\" >-1</td>\n",
       "    </tr>\n",
       "    <tr>\n",
       "      <th id=\"T_90011_level0_row18\" class=\"row_heading level0 row18\" >18</th>\n",
       "      <td id=\"T_90011_row18_col0\" class=\"data row18 col0\" >Use GPU</td>\n",
       "      <td id=\"T_90011_row18_col1\" class=\"data row18 col1\" >False</td>\n",
       "    </tr>\n",
       "    <tr>\n",
       "      <th id=\"T_90011_level0_row19\" class=\"row_heading level0 row19\" >19</th>\n",
       "      <td id=\"T_90011_row19_col0\" class=\"data row19 col0\" >Log Experiment</td>\n",
       "      <td id=\"T_90011_row19_col1\" class=\"data row19 col1\" >False</td>\n",
       "    </tr>\n",
       "    <tr>\n",
       "      <th id=\"T_90011_level0_row20\" class=\"row_heading level0 row20\" >20</th>\n",
       "      <td id=\"T_90011_row20_col0\" class=\"data row20 col0\" >Experiment Name</td>\n",
       "      <td id=\"T_90011_row20_col1\" class=\"data row20 col1\" >clf-default-name</td>\n",
       "    </tr>\n",
       "    <tr>\n",
       "      <th id=\"T_90011_level0_row21\" class=\"row_heading level0 row21\" >21</th>\n",
       "      <td id=\"T_90011_row21_col0\" class=\"data row21 col0\" >USI</td>\n",
       "      <td id=\"T_90011_row21_col1\" class=\"data row21 col1\" >d6a7</td>\n",
       "    </tr>\n",
       "    <tr>\n",
       "      <th id=\"T_90011_level0_row22\" class=\"row_heading level0 row22\" >22</th>\n",
       "      <td id=\"T_90011_row22_col0\" class=\"data row22 col0\" >Imputation Type</td>\n",
       "      <td id=\"T_90011_row22_col1\" class=\"data row22 col1\" >simple</td>\n",
       "    </tr>\n",
       "    <tr>\n",
       "      <th id=\"T_90011_level0_row23\" class=\"row_heading level0 row23\" >23</th>\n",
       "      <td id=\"T_90011_row23_col0\" class=\"data row23 col0\" >Iterative Imputation Iteration</td>\n",
       "      <td id=\"T_90011_row23_col1\" class=\"data row23 col1\" >None</td>\n",
       "    </tr>\n",
       "    <tr>\n",
       "      <th id=\"T_90011_level0_row24\" class=\"row_heading level0 row24\" >24</th>\n",
       "      <td id=\"T_90011_row24_col0\" class=\"data row24 col0\" >Numeric Imputer</td>\n",
       "      <td id=\"T_90011_row24_col1\" class=\"data row24 col1\" >mean</td>\n",
       "    </tr>\n",
       "    <tr>\n",
       "      <th id=\"T_90011_level0_row25\" class=\"row_heading level0 row25\" >25</th>\n",
       "      <td id=\"T_90011_row25_col0\" class=\"data row25 col0\" >Iterative Imputation Numeric Model</td>\n",
       "      <td id=\"T_90011_row25_col1\" class=\"data row25 col1\" >None</td>\n",
       "    </tr>\n",
       "    <tr>\n",
       "      <th id=\"T_90011_level0_row26\" class=\"row_heading level0 row26\" >26</th>\n",
       "      <td id=\"T_90011_row26_col0\" class=\"data row26 col0\" >Categorical Imputer</td>\n",
       "      <td id=\"T_90011_row26_col1\" class=\"data row26 col1\" >constant</td>\n",
       "    </tr>\n",
       "    <tr>\n",
       "      <th id=\"T_90011_level0_row27\" class=\"row_heading level0 row27\" >27</th>\n",
       "      <td id=\"T_90011_row27_col0\" class=\"data row27 col0\" >Iterative Imputation Categorical Model</td>\n",
       "      <td id=\"T_90011_row27_col1\" class=\"data row27 col1\" >None</td>\n",
       "    </tr>\n",
       "    <tr>\n",
       "      <th id=\"T_90011_level0_row28\" class=\"row_heading level0 row28\" >28</th>\n",
       "      <td id=\"T_90011_row28_col0\" class=\"data row28 col0\" >Unknown Categoricals Handling</td>\n",
       "      <td id=\"T_90011_row28_col1\" class=\"data row28 col1\" >least_frequent</td>\n",
       "    </tr>\n",
       "    <tr>\n",
       "      <th id=\"T_90011_level0_row29\" class=\"row_heading level0 row29\" >29</th>\n",
       "      <td id=\"T_90011_row29_col0\" class=\"data row29 col0\" >Normalize</td>\n",
       "      <td id=\"T_90011_row29_col1\" class=\"data row29 col1\" >False</td>\n",
       "    </tr>\n",
       "    <tr>\n",
       "      <th id=\"T_90011_level0_row30\" class=\"row_heading level0 row30\" >30</th>\n",
       "      <td id=\"T_90011_row30_col0\" class=\"data row30 col0\" >Normalize Method</td>\n",
       "      <td id=\"T_90011_row30_col1\" class=\"data row30 col1\" >None</td>\n",
       "    </tr>\n",
       "    <tr>\n",
       "      <th id=\"T_90011_level0_row31\" class=\"row_heading level0 row31\" >31</th>\n",
       "      <td id=\"T_90011_row31_col0\" class=\"data row31 col0\" >Transformation</td>\n",
       "      <td id=\"T_90011_row31_col1\" class=\"data row31 col1\" >False</td>\n",
       "    </tr>\n",
       "    <tr>\n",
       "      <th id=\"T_90011_level0_row32\" class=\"row_heading level0 row32\" >32</th>\n",
       "      <td id=\"T_90011_row32_col0\" class=\"data row32 col0\" >Transformation Method</td>\n",
       "      <td id=\"T_90011_row32_col1\" class=\"data row32 col1\" >None</td>\n",
       "    </tr>\n",
       "    <tr>\n",
       "      <th id=\"T_90011_level0_row33\" class=\"row_heading level0 row33\" >33</th>\n",
       "      <td id=\"T_90011_row33_col0\" class=\"data row33 col0\" >PCA</td>\n",
       "      <td id=\"T_90011_row33_col1\" class=\"data row33 col1\" >False</td>\n",
       "    </tr>\n",
       "    <tr>\n",
       "      <th id=\"T_90011_level0_row34\" class=\"row_heading level0 row34\" >34</th>\n",
       "      <td id=\"T_90011_row34_col0\" class=\"data row34 col0\" >PCA Method</td>\n",
       "      <td id=\"T_90011_row34_col1\" class=\"data row34 col1\" >None</td>\n",
       "    </tr>\n",
       "    <tr>\n",
       "      <th id=\"T_90011_level0_row35\" class=\"row_heading level0 row35\" >35</th>\n",
       "      <td id=\"T_90011_row35_col0\" class=\"data row35 col0\" >PCA Components</td>\n",
       "      <td id=\"T_90011_row35_col1\" class=\"data row35 col1\" >None</td>\n",
       "    </tr>\n",
       "    <tr>\n",
       "      <th id=\"T_90011_level0_row36\" class=\"row_heading level0 row36\" >36</th>\n",
       "      <td id=\"T_90011_row36_col0\" class=\"data row36 col0\" >Ignore Low Variance</td>\n",
       "      <td id=\"T_90011_row36_col1\" class=\"data row36 col1\" >False</td>\n",
       "    </tr>\n",
       "    <tr>\n",
       "      <th id=\"T_90011_level0_row37\" class=\"row_heading level0 row37\" >37</th>\n",
       "      <td id=\"T_90011_row37_col0\" class=\"data row37 col0\" >Combine Rare Levels</td>\n",
       "      <td id=\"T_90011_row37_col1\" class=\"data row37 col1\" >False</td>\n",
       "    </tr>\n",
       "    <tr>\n",
       "      <th id=\"T_90011_level0_row38\" class=\"row_heading level0 row38\" >38</th>\n",
       "      <td id=\"T_90011_row38_col0\" class=\"data row38 col0\" >Rare Level Threshold</td>\n",
       "      <td id=\"T_90011_row38_col1\" class=\"data row38 col1\" >None</td>\n",
       "    </tr>\n",
       "    <tr>\n",
       "      <th id=\"T_90011_level0_row39\" class=\"row_heading level0 row39\" >39</th>\n",
       "      <td id=\"T_90011_row39_col0\" class=\"data row39 col0\" >Numeric Binning</td>\n",
       "      <td id=\"T_90011_row39_col1\" class=\"data row39 col1\" >False</td>\n",
       "    </tr>\n",
       "    <tr>\n",
       "      <th id=\"T_90011_level0_row40\" class=\"row_heading level0 row40\" >40</th>\n",
       "      <td id=\"T_90011_row40_col0\" class=\"data row40 col0\" >Remove Outliers</td>\n",
       "      <td id=\"T_90011_row40_col1\" class=\"data row40 col1\" >False</td>\n",
       "    </tr>\n",
       "    <tr>\n",
       "      <th id=\"T_90011_level0_row41\" class=\"row_heading level0 row41\" >41</th>\n",
       "      <td id=\"T_90011_row41_col0\" class=\"data row41 col0\" >Outliers Threshold</td>\n",
       "      <td id=\"T_90011_row41_col1\" class=\"data row41 col1\" >None</td>\n",
       "    </tr>\n",
       "    <tr>\n",
       "      <th id=\"T_90011_level0_row42\" class=\"row_heading level0 row42\" >42</th>\n",
       "      <td id=\"T_90011_row42_col0\" class=\"data row42 col0\" >Remove Multicollinearity</td>\n",
       "      <td id=\"T_90011_row42_col1\" class=\"data row42 col1\" >False</td>\n",
       "    </tr>\n",
       "    <tr>\n",
       "      <th id=\"T_90011_level0_row43\" class=\"row_heading level0 row43\" >43</th>\n",
       "      <td id=\"T_90011_row43_col0\" class=\"data row43 col0\" >Multicollinearity Threshold</td>\n",
       "      <td id=\"T_90011_row43_col1\" class=\"data row43 col1\" >None</td>\n",
       "    </tr>\n",
       "    <tr>\n",
       "      <th id=\"T_90011_level0_row44\" class=\"row_heading level0 row44\" >44</th>\n",
       "      <td id=\"T_90011_row44_col0\" class=\"data row44 col0\" >Remove Perfect Collinearity</td>\n",
       "      <td id=\"T_90011_row44_col1\" class=\"data row44 col1\" >True</td>\n",
       "    </tr>\n",
       "    <tr>\n",
       "      <th id=\"T_90011_level0_row45\" class=\"row_heading level0 row45\" >45</th>\n",
       "      <td id=\"T_90011_row45_col0\" class=\"data row45 col0\" >Clustering</td>\n",
       "      <td id=\"T_90011_row45_col1\" class=\"data row45 col1\" >False</td>\n",
       "    </tr>\n",
       "    <tr>\n",
       "      <th id=\"T_90011_level0_row46\" class=\"row_heading level0 row46\" >46</th>\n",
       "      <td id=\"T_90011_row46_col0\" class=\"data row46 col0\" >Clustering Iteration</td>\n",
       "      <td id=\"T_90011_row46_col1\" class=\"data row46 col1\" >None</td>\n",
       "    </tr>\n",
       "    <tr>\n",
       "      <th id=\"T_90011_level0_row47\" class=\"row_heading level0 row47\" >47</th>\n",
       "      <td id=\"T_90011_row47_col0\" class=\"data row47 col0\" >Polynomial Features</td>\n",
       "      <td id=\"T_90011_row47_col1\" class=\"data row47 col1\" >False</td>\n",
       "    </tr>\n",
       "    <tr>\n",
       "      <th id=\"T_90011_level0_row48\" class=\"row_heading level0 row48\" >48</th>\n",
       "      <td id=\"T_90011_row48_col0\" class=\"data row48 col0\" >Polynomial Degree</td>\n",
       "      <td id=\"T_90011_row48_col1\" class=\"data row48 col1\" >None</td>\n",
       "    </tr>\n",
       "    <tr>\n",
       "      <th id=\"T_90011_level0_row49\" class=\"row_heading level0 row49\" >49</th>\n",
       "      <td id=\"T_90011_row49_col0\" class=\"data row49 col0\" >Trignometry Features</td>\n",
       "      <td id=\"T_90011_row49_col1\" class=\"data row49 col1\" >False</td>\n",
       "    </tr>\n",
       "    <tr>\n",
       "      <th id=\"T_90011_level0_row50\" class=\"row_heading level0 row50\" >50</th>\n",
       "      <td id=\"T_90011_row50_col0\" class=\"data row50 col0\" >Polynomial Threshold</td>\n",
       "      <td id=\"T_90011_row50_col1\" class=\"data row50 col1\" >None</td>\n",
       "    </tr>\n",
       "    <tr>\n",
       "      <th id=\"T_90011_level0_row51\" class=\"row_heading level0 row51\" >51</th>\n",
       "      <td id=\"T_90011_row51_col0\" class=\"data row51 col0\" >Group Features</td>\n",
       "      <td id=\"T_90011_row51_col1\" class=\"data row51 col1\" >False</td>\n",
       "    </tr>\n",
       "    <tr>\n",
       "      <th id=\"T_90011_level0_row52\" class=\"row_heading level0 row52\" >52</th>\n",
       "      <td id=\"T_90011_row52_col0\" class=\"data row52 col0\" >Feature Selection</td>\n",
       "      <td id=\"T_90011_row52_col1\" class=\"data row52 col1\" >False</td>\n",
       "    </tr>\n",
       "    <tr>\n",
       "      <th id=\"T_90011_level0_row53\" class=\"row_heading level0 row53\" >53</th>\n",
       "      <td id=\"T_90011_row53_col0\" class=\"data row53 col0\" >Feature Selection Method</td>\n",
       "      <td id=\"T_90011_row53_col1\" class=\"data row53 col1\" >classic</td>\n",
       "    </tr>\n",
       "    <tr>\n",
       "      <th id=\"T_90011_level0_row54\" class=\"row_heading level0 row54\" >54</th>\n",
       "      <td id=\"T_90011_row54_col0\" class=\"data row54 col0\" >Features Selection Threshold</td>\n",
       "      <td id=\"T_90011_row54_col1\" class=\"data row54 col1\" >None</td>\n",
       "    </tr>\n",
       "    <tr>\n",
       "      <th id=\"T_90011_level0_row55\" class=\"row_heading level0 row55\" >55</th>\n",
       "      <td id=\"T_90011_row55_col0\" class=\"data row55 col0\" >Feature Interaction</td>\n",
       "      <td id=\"T_90011_row55_col1\" class=\"data row55 col1\" >False</td>\n",
       "    </tr>\n",
       "    <tr>\n",
       "      <th id=\"T_90011_level0_row56\" class=\"row_heading level0 row56\" >56</th>\n",
       "      <td id=\"T_90011_row56_col0\" class=\"data row56 col0\" >Feature Ratio</td>\n",
       "      <td id=\"T_90011_row56_col1\" class=\"data row56 col1\" >False</td>\n",
       "    </tr>\n",
       "    <tr>\n",
       "      <th id=\"T_90011_level0_row57\" class=\"row_heading level0 row57\" >57</th>\n",
       "      <td id=\"T_90011_row57_col0\" class=\"data row57 col0\" >Interaction Threshold</td>\n",
       "      <td id=\"T_90011_row57_col1\" class=\"data row57 col1\" >None</td>\n",
       "    </tr>\n",
       "    <tr>\n",
       "      <th id=\"T_90011_level0_row58\" class=\"row_heading level0 row58\" >58</th>\n",
       "      <td id=\"T_90011_row58_col0\" class=\"data row58 col0\" >Fix Imbalance</td>\n",
       "      <td id=\"T_90011_row58_col1\" class=\"data row58 col1\" >False</td>\n",
       "    </tr>\n",
       "    <tr>\n",
       "      <th id=\"T_90011_level0_row59\" class=\"row_heading level0 row59\" >59</th>\n",
       "      <td id=\"T_90011_row59_col0\" class=\"data row59 col0\" >Fix Imbalance Method</td>\n",
       "      <td id=\"T_90011_row59_col1\" class=\"data row59 col1\" >SMOTE</td>\n",
       "    </tr>\n",
       "  </tbody>\n",
       "</table>\n"
      ],
      "text/plain": [
       "<pandas.io.formats.style.Styler at 0x1bf6ce79430>"
      ]
     },
     "metadata": {},
     "output_type": "display_data"
    }
   ],
   "source": [
    "exp_clf = setup(data = gender_train, target = 'gender', session_id=123)"
   ]
  },
  {
   "cell_type": "code",
   "execution_count": 124,
   "id": "6754bad5",
   "metadata": {},
   "outputs": [
    {
     "data": {
      "text/html": [
       "<style type=\"text/css\">\n",
       "#T_65c70 th {\n",
       "  text-align: left;\n",
       "}\n",
       "#T_65c70_row0_col0, #T_65c70_row0_col3, #T_65c70_row0_col4, #T_65c70_row1_col0, #T_65c70_row1_col1, #T_65c70_row1_col2, #T_65c70_row1_col3, #T_65c70_row1_col5, #T_65c70_row1_col6, #T_65c70_row1_col7, #T_65c70_row2_col0, #T_65c70_row2_col1, #T_65c70_row2_col2, #T_65c70_row2_col3, #T_65c70_row2_col4, #T_65c70_row2_col5, #T_65c70_row2_col6, #T_65c70_row2_col7, #T_65c70_row3_col0, #T_65c70_row3_col1, #T_65c70_row3_col2, #T_65c70_row3_col3, #T_65c70_row3_col4, #T_65c70_row3_col5, #T_65c70_row3_col6, #T_65c70_row3_col7, #T_65c70_row4_col0, #T_65c70_row4_col1, #T_65c70_row4_col2, #T_65c70_row4_col3, #T_65c70_row4_col4, #T_65c70_row4_col5, #T_65c70_row4_col6, #T_65c70_row4_col7, #T_65c70_row5_col0, #T_65c70_row5_col1, #T_65c70_row5_col2, #T_65c70_row5_col3, #T_65c70_row5_col4, #T_65c70_row5_col5, #T_65c70_row5_col6, #T_65c70_row5_col7, #T_65c70_row6_col0, #T_65c70_row6_col1, #T_65c70_row6_col2, #T_65c70_row6_col3, #T_65c70_row6_col4, #T_65c70_row6_col5, #T_65c70_row6_col6, #T_65c70_row6_col7, #T_65c70_row7_col0, #T_65c70_row7_col1, #T_65c70_row7_col2, #T_65c70_row7_col3, #T_65c70_row7_col4, #T_65c70_row7_col5, #T_65c70_row7_col6, #T_65c70_row7_col7, #T_65c70_row8_col0, #T_65c70_row8_col1, #T_65c70_row8_col2, #T_65c70_row8_col4, #T_65c70_row8_col5, #T_65c70_row8_col6, #T_65c70_row8_col7, #T_65c70_row9_col0, #T_65c70_row9_col1, #T_65c70_row9_col2, #T_65c70_row9_col4, #T_65c70_row9_col5, #T_65c70_row9_col6, #T_65c70_row9_col7, #T_65c70_row10_col0, #T_65c70_row10_col1, #T_65c70_row10_col2, #T_65c70_row10_col3, #T_65c70_row10_col4, #T_65c70_row10_col5, #T_65c70_row10_col6, #T_65c70_row10_col7, #T_65c70_row11_col0, #T_65c70_row11_col1, #T_65c70_row11_col2, #T_65c70_row11_col3, #T_65c70_row11_col4, #T_65c70_row11_col5, #T_65c70_row11_col6, #T_65c70_row11_col7, #T_65c70_row12_col0, #T_65c70_row12_col1, #T_65c70_row12_col2, #T_65c70_row12_col3, #T_65c70_row12_col4, #T_65c70_row12_col5, #T_65c70_row12_col6, #T_65c70_row12_col7, #T_65c70_row13_col0, #T_65c70_row13_col1, #T_65c70_row13_col2, #T_65c70_row13_col3, #T_65c70_row13_col4, #T_65c70_row13_col5, #T_65c70_row13_col6, #T_65c70_row13_col7, #T_65c70_row14_col0, #T_65c70_row14_col1, #T_65c70_row14_col2, #T_65c70_row14_col3, #T_65c70_row14_col4, #T_65c70_row14_col5, #T_65c70_row14_col6, #T_65c70_row14_col7, #T_65c70_row15_col0, #T_65c70_row15_col1, #T_65c70_row15_col2, #T_65c70_row15_col3, #T_65c70_row15_col4, #T_65c70_row15_col5, #T_65c70_row15_col6, #T_65c70_row15_col7 {\n",
       "  text-align: left;\n",
       "}\n",
       "#T_65c70_row0_col1, #T_65c70_row0_col2, #T_65c70_row0_col5, #T_65c70_row0_col6, #T_65c70_row0_col7, #T_65c70_row1_col4, #T_65c70_row8_col3, #T_65c70_row9_col3 {\n",
       "  text-align: left;\n",
       "  background-color: yellow;\n",
       "}\n",
       "#T_65c70_row0_col8, #T_65c70_row1_col8, #T_65c70_row2_col8, #T_65c70_row3_col8, #T_65c70_row4_col8, #T_65c70_row5_col8, #T_65c70_row6_col8, #T_65c70_row7_col8, #T_65c70_row8_col8, #T_65c70_row10_col8, #T_65c70_row11_col8, #T_65c70_row12_col8, #T_65c70_row13_col8, #T_65c70_row14_col8, #T_65c70_row15_col8 {\n",
       "  text-align: left;\n",
       "  background-color: lightgrey;\n",
       "}\n",
       "#T_65c70_row9_col8 {\n",
       "  text-align: left;\n",
       "  background-color: yellow;\n",
       "  background-color: lightgrey;\n",
       "}\n",
       "</style>\n",
       "<table id=\"T_65c70\">\n",
       "  <thead>\n",
       "    <tr>\n",
       "      <th class=\"blank level0\" >&nbsp;</th>\n",
       "      <th id=\"T_65c70_level0_col0\" class=\"col_heading level0 col0\" >Model</th>\n",
       "      <th id=\"T_65c70_level0_col1\" class=\"col_heading level0 col1\" >Accuracy</th>\n",
       "      <th id=\"T_65c70_level0_col2\" class=\"col_heading level0 col2\" >AUC</th>\n",
       "      <th id=\"T_65c70_level0_col3\" class=\"col_heading level0 col3\" >Recall</th>\n",
       "      <th id=\"T_65c70_level0_col4\" class=\"col_heading level0 col4\" >Prec.</th>\n",
       "      <th id=\"T_65c70_level0_col5\" class=\"col_heading level0 col5\" >F1</th>\n",
       "      <th id=\"T_65c70_level0_col6\" class=\"col_heading level0 col6\" >Kappa</th>\n",
       "      <th id=\"T_65c70_level0_col7\" class=\"col_heading level0 col7\" >MCC</th>\n",
       "      <th id=\"T_65c70_level0_col8\" class=\"col_heading level0 col8\" >TT (Sec)</th>\n",
       "    </tr>\n",
       "  </thead>\n",
       "  <tbody>\n",
       "    <tr>\n",
       "      <th id=\"T_65c70_level0_row0\" class=\"row_heading level0 row0\" >rf</th>\n",
       "      <td id=\"T_65c70_row0_col0\" class=\"data row0 col0\" >Random Forest Classifier</td>\n",
       "      <td id=\"T_65c70_row0_col1\" class=\"data row0 col1\" >0.8361</td>\n",
       "      <td id=\"T_65c70_row0_col2\" class=\"data row0 col2\" >0.9030</td>\n",
       "      <td id=\"T_65c70_row0_col3\" class=\"data row0 col3\" >0.9449</td>\n",
       "      <td id=\"T_65c70_row0_col4\" class=\"data row0 col4\" >0.8347</td>\n",
       "      <td id=\"T_65c70_row0_col5\" class=\"data row0 col5\" >0.8864</td>\n",
       "      <td id=\"T_65c70_row0_col6\" class=\"data row0 col6\" >0.5960</td>\n",
       "      <td id=\"T_65c70_row0_col7\" class=\"data row0 col7\" >0.6110</td>\n",
       "      <td id=\"T_65c70_row0_col8\" class=\"data row0 col8\" >19.6180</td>\n",
       "    </tr>\n",
       "    <tr>\n",
       "      <th id=\"T_65c70_level0_row1\" class=\"row_heading level0 row1\" >dt</th>\n",
       "      <td id=\"T_65c70_row1_col0\" class=\"data row1 col0\" >Decision Tree Classifier</td>\n",
       "      <td id=\"T_65c70_row1_col1\" class=\"data row1 col1\" >0.7918</td>\n",
       "      <td id=\"T_65c70_row1_col2\" class=\"data row1 col2\" >0.7636</td>\n",
       "      <td id=\"T_65c70_row1_col3\" class=\"data row1 col3\" >0.8431</td>\n",
       "      <td id=\"T_65c70_row1_col4\" class=\"data row1 col4\" >0.8483</td>\n",
       "      <td id=\"T_65c70_row1_col5\" class=\"data row1 col5\" >0.8457</td>\n",
       "      <td id=\"T_65c70_row1_col6\" class=\"data row1 col6\" >0.5255</td>\n",
       "      <td id=\"T_65c70_row1_col7\" class=\"data row1 col7\" >0.5255</td>\n",
       "      <td id=\"T_65c70_row1_col8\" class=\"data row1 col8\" >2.0730</td>\n",
       "    </tr>\n",
       "    <tr>\n",
       "      <th id=\"T_65c70_level0_row2\" class=\"row_heading level0 row2\" >et</th>\n",
       "      <td id=\"T_65c70_row2_col0\" class=\"data row2 col0\" >Extra Trees Classifier</td>\n",
       "      <td id=\"T_65c70_row2_col1\" class=\"data row2 col1\" >0.7525</td>\n",
       "      <td id=\"T_65c70_row2_col2\" class=\"data row2 col2\" >0.8068</td>\n",
       "      <td id=\"T_65c70_row2_col3\" class=\"data row2 col3\" >0.9485</td>\n",
       "      <td id=\"T_65c70_row2_col4\" class=\"data row2 col4\" >0.7512</td>\n",
       "      <td id=\"T_65c70_row2_col5\" class=\"data row2 col5\" >0.8384</td>\n",
       "      <td id=\"T_65c70_row2_col6\" class=\"data row2 col6\" >0.3390</td>\n",
       "      <td id=\"T_65c70_row2_col7\" class=\"data row2 col7\" >0.3852</td>\n",
       "      <td id=\"T_65c70_row2_col8\" class=\"data row2 col8\" >29.8000</td>\n",
       "    </tr>\n",
       "    <tr>\n",
       "      <th id=\"T_65c70_level0_row3\" class=\"row_heading level0 row3\" >catboost</th>\n",
       "      <td id=\"T_65c70_row3_col0\" class=\"data row3 col0\" >CatBoost Classifier</td>\n",
       "      <td id=\"T_65c70_row3_col1\" class=\"data row3 col1\" >0.7568</td>\n",
       "      <td id=\"T_65c70_row3_col2\" class=\"data row3 col2\" >0.7949</td>\n",
       "      <td id=\"T_65c70_row3_col3\" class=\"data row3 col3\" >0.8976</td>\n",
       "      <td id=\"T_65c70_row3_col4\" class=\"data row3 col4\" >0.7776</td>\n",
       "      <td id=\"T_65c70_row3_col5\" class=\"data row3 col5\" >0.8333</td>\n",
       "      <td id=\"T_65c70_row3_col6\" class=\"data row3 col6\" >0.3927</td>\n",
       "      <td id=\"T_65c70_row3_col7\" class=\"data row3 col7\" >0.4068</td>\n",
       "      <td id=\"T_65c70_row3_col8\" class=\"data row3 col8\" >22.7730</td>\n",
       "    </tr>\n",
       "    <tr>\n",
       "      <th id=\"T_65c70_level0_row4\" class=\"row_heading level0 row4\" >xgboost</th>\n",
       "      <td id=\"T_65c70_row4_col0\" class=\"data row4 col0\" >Extreme Gradient Boosting</td>\n",
       "      <td id=\"T_65c70_row4_col1\" class=\"data row4 col1\" >0.7480</td>\n",
       "      <td id=\"T_65c70_row4_col2\" class=\"data row4 col2\" >0.7810</td>\n",
       "      <td id=\"T_65c70_row4_col3\" class=\"data row4 col3\" >0.8923</td>\n",
       "      <td id=\"T_65c70_row4_col4\" class=\"data row4 col4\" >0.7713</td>\n",
       "      <td id=\"T_65c70_row4_col5\" class=\"data row4 col5\" >0.8274</td>\n",
       "      <td id=\"T_65c70_row4_col6\" class=\"data row4 col6\" >0.3697</td>\n",
       "      <td id=\"T_65c70_row4_col7\" class=\"data row4 col7\" >0.3835</td>\n",
       "      <td id=\"T_65c70_row4_col8\" class=\"data row4 col8\" >22.6420</td>\n",
       "    </tr>\n",
       "    <tr>\n",
       "      <th id=\"T_65c70_level0_row5\" class=\"row_heading level0 row5\" >lightgbm</th>\n",
       "      <td id=\"T_65c70_row5_col0\" class=\"data row5 col0\" >Light Gradient Boosting Machine</td>\n",
       "      <td id=\"T_65c70_row5_col1\" class=\"data row5 col1\" >0.7380</td>\n",
       "      <td id=\"T_65c70_row5_col2\" class=\"data row5 col2\" >0.7650</td>\n",
       "      <td id=\"T_65c70_row5_col3\" class=\"data row5 col3\" >0.8947</td>\n",
       "      <td id=\"T_65c70_row5_col4\" class=\"data row5 col4\" >0.7605</td>\n",
       "      <td id=\"T_65c70_row5_col5\" class=\"data row5 col5\" >0.8222</td>\n",
       "      <td id=\"T_65c70_row5_col6\" class=\"data row5 col6\" >0.3369</td>\n",
       "      <td id=\"T_65c70_row5_col7\" class=\"data row5 col7\" >0.3535</td>\n",
       "      <td id=\"T_65c70_row5_col8\" class=\"data row5 col8\" >1.3120</td>\n",
       "    </tr>\n",
       "    <tr>\n",
       "      <th id=\"T_65c70_level0_row6\" class=\"row_heading level0 row6\" >gbc</th>\n",
       "      <td id=\"T_65c70_row6_col0\" class=\"data row6 col0\" >Gradient Boosting Classifier</td>\n",
       "      <td id=\"T_65c70_row6_col1\" class=\"data row6 col1\" >0.7258</td>\n",
       "      <td id=\"T_65c70_row6_col2\" class=\"data row6 col2\" >0.7462</td>\n",
       "      <td id=\"T_65c70_row6_col3\" class=\"data row6 col3\" >0.8951</td>\n",
       "      <td id=\"T_65c70_row6_col4\" class=\"data row6 col4\" >0.7489</td>\n",
       "      <td id=\"T_65c70_row6_col5\" class=\"data row6 col5\" >0.8155</td>\n",
       "      <td id=\"T_65c70_row6_col6\" class=\"data row6 col6\" >0.2980</td>\n",
       "      <td id=\"T_65c70_row6_col7\" class=\"data row6 col7\" >0.3167</td>\n",
       "      <td id=\"T_65c70_row6_col8\" class=\"data row6 col8\" >33.3530</td>\n",
       "    </tr>\n",
       "    <tr>\n",
       "      <th id=\"T_65c70_level0_row7\" class=\"row_heading level0 row7\" >ada</th>\n",
       "      <td id=\"T_65c70_row7_col0\" class=\"data row7 col0\" >Ada Boost Classifier</td>\n",
       "      <td id=\"T_65c70_row7_col1\" class=\"data row7 col1\" >0.7179</td>\n",
       "      <td id=\"T_65c70_row7_col2\" class=\"data row7 col2\" >0.7275</td>\n",
       "      <td id=\"T_65c70_row7_col3\" class=\"data row7 col3\" >0.8803</td>\n",
       "      <td id=\"T_65c70_row7_col4\" class=\"data row7 col4\" >0.7478</td>\n",
       "      <td id=\"T_65c70_row7_col5\" class=\"data row7 col5\" >0.8086</td>\n",
       "      <td id=\"T_65c70_row7_col6\" class=\"data row7 col6\" >0.2858</td>\n",
       "      <td id=\"T_65c70_row7_col7\" class=\"data row7 col7\" >0.3000</td>\n",
       "      <td id=\"T_65c70_row7_col8\" class=\"data row7 col8\" >6.8810</td>\n",
       "    </tr>\n",
       "    <tr>\n",
       "      <th id=\"T_65c70_level0_row8\" class=\"row_heading level0 row8\" >lr</th>\n",
       "      <td id=\"T_65c70_row8_col0\" class=\"data row8 col0\" >Logistic Regression</td>\n",
       "      <td id=\"T_65c70_row8_col1\" class=\"data row8 col1\" >0.6769</td>\n",
       "      <td id=\"T_65c70_row8_col2\" class=\"data row8 col2\" >0.5879</td>\n",
       "      <td id=\"T_65c70_row8_col3\" class=\"data row8 col3\" >1.0000</td>\n",
       "      <td id=\"T_65c70_row8_col4\" class=\"data row8 col4\" >0.6769</td>\n",
       "      <td id=\"T_65c70_row8_col5\" class=\"data row8 col5\" >0.8074</td>\n",
       "      <td id=\"T_65c70_row8_col6\" class=\"data row8 col6\" >0.0000</td>\n",
       "      <td id=\"T_65c70_row8_col7\" class=\"data row8 col7\" >0.0000</td>\n",
       "      <td id=\"T_65c70_row8_col8\" class=\"data row8 col8\" >2.9810</td>\n",
       "    </tr>\n",
       "    <tr>\n",
       "      <th id=\"T_65c70_level0_row9\" class=\"row_heading level0 row9\" >dummy</th>\n",
       "      <td id=\"T_65c70_row9_col0\" class=\"data row9 col0\" >Dummy Classifier</td>\n",
       "      <td id=\"T_65c70_row9_col1\" class=\"data row9 col1\" >0.6769</td>\n",
       "      <td id=\"T_65c70_row9_col2\" class=\"data row9 col2\" >0.5000</td>\n",
       "      <td id=\"T_65c70_row9_col3\" class=\"data row9 col3\" >1.0000</td>\n",
       "      <td id=\"T_65c70_row9_col4\" class=\"data row9 col4\" >0.6769</td>\n",
       "      <td id=\"T_65c70_row9_col5\" class=\"data row9 col5\" >0.8074</td>\n",
       "      <td id=\"T_65c70_row9_col6\" class=\"data row9 col6\" >0.0000</td>\n",
       "      <td id=\"T_65c70_row9_col7\" class=\"data row9 col7\" >0.0000</td>\n",
       "      <td id=\"T_65c70_row9_col8\" class=\"data row9 col8\" >0.0980</td>\n",
       "    </tr>\n",
       "    <tr>\n",
       "      <th id=\"T_65c70_level0_row10\" class=\"row_heading level0 row10\" >ridge</th>\n",
       "      <td id=\"T_65c70_row10_col0\" class=\"data row10 col0\" >Ridge Classifier</td>\n",
       "      <td id=\"T_65c70_row10_col1\" class=\"data row10 col1\" >0.6788</td>\n",
       "      <td id=\"T_65c70_row10_col2\" class=\"data row10 col2\" >0.0000</td>\n",
       "      <td id=\"T_65c70_row10_col3\" class=\"data row10 col3\" >0.9880</td>\n",
       "      <td id=\"T_65c70_row10_col4\" class=\"data row10 col4\" >0.6813</td>\n",
       "      <td id=\"T_65c70_row10_col5\" class=\"data row10 col5\" >0.8064</td>\n",
       "      <td id=\"T_65c70_row10_col6\" class=\"data row10 col6\" >0.0246</td>\n",
       "      <td id=\"T_65c70_row10_col7\" class=\"data row10 col7\" >0.0445</td>\n",
       "      <td id=\"T_65c70_row10_col8\" class=\"data row10 col8\" >0.9890</td>\n",
       "    </tr>\n",
       "    <tr>\n",
       "      <th id=\"T_65c70_level0_row11\" class=\"row_heading level0 row11\" >nb</th>\n",
       "      <td id=\"T_65c70_row11_col0\" class=\"data row11 col0\" >Naive Bayes</td>\n",
       "      <td id=\"T_65c70_row11_col1\" class=\"data row11 col1\" >0.6751</td>\n",
       "      <td id=\"T_65c70_row11_col2\" class=\"data row11 col2\" >0.6198</td>\n",
       "      <td id=\"T_65c70_row11_col3\" class=\"data row11 col3\" >0.9940</td>\n",
       "      <td id=\"T_65c70_row11_col4\" class=\"data row11 col4\" >0.6772</td>\n",
       "      <td id=\"T_65c70_row11_col5\" class=\"data row11 col5\" >0.8055</td>\n",
       "      <td id=\"T_65c70_row11_col6\" class=\"data row11 col6\" >0.0014</td>\n",
       "      <td id=\"T_65c70_row11_col7\" class=\"data row11 col7\" >0.0060</td>\n",
       "      <td id=\"T_65c70_row11_col8\" class=\"data row11 col8\" >0.2610</td>\n",
       "    </tr>\n",
       "    <tr>\n",
       "      <th id=\"T_65c70_level0_row12\" class=\"row_heading level0 row12\" >lda</th>\n",
       "      <td id=\"T_65c70_row12_col0\" class=\"data row12 col0\" >Linear Discriminant Analysis</td>\n",
       "      <td id=\"T_65c70_row12_col1\" class=\"data row12 col1\" >0.6834</td>\n",
       "      <td id=\"T_65c70_row12_col2\" class=\"data row12 col2\" >0.6223</td>\n",
       "      <td id=\"T_65c70_row12_col3\" class=\"data row12 col3\" >0.9631</td>\n",
       "      <td id=\"T_65c70_row12_col4\" class=\"data row12 col4\" >0.6910</td>\n",
       "      <td id=\"T_65c70_row12_col5\" class=\"data row12 col5\" >0.8046</td>\n",
       "      <td id=\"T_65c70_row12_col6\" class=\"data row12 col6\" >0.0771</td>\n",
       "      <td id=\"T_65c70_row12_col7\" class=\"data row12 col7\" >0.1226</td>\n",
       "      <td id=\"T_65c70_row12_col8\" class=\"data row12 col8\" >4.0460</td>\n",
       "    </tr>\n",
       "    <tr>\n",
       "      <th id=\"T_65c70_level0_row13\" class=\"row_heading level0 row13\" >knn</th>\n",
       "      <td id=\"T_65c70_row13_col0\" class=\"data row13 col0\" >K Neighbors Classifier</td>\n",
       "      <td id=\"T_65c70_row13_col1\" class=\"data row13 col1\" >0.7151</td>\n",
       "      <td id=\"T_65c70_row13_col2\" class=\"data row13 col2\" >0.7204</td>\n",
       "      <td id=\"T_65c70_row13_col3\" class=\"data row13 col3\" >0.8347</td>\n",
       "      <td id=\"T_65c70_row13_col4\" class=\"data row13 col4\" >0.7656</td>\n",
       "      <td id=\"T_65c70_row13_col5\" class=\"data row13 col5\" >0.7987</td>\n",
       "      <td id=\"T_65c70_row13_col6\" class=\"data row13 col6\" >0.3148</td>\n",
       "      <td id=\"T_65c70_row13_col7\" class=\"data row13 col7\" >0.3183</td>\n",
       "      <td id=\"T_65c70_row13_col8\" class=\"data row13 col8\" >5.2350</td>\n",
       "    </tr>\n",
       "    <tr>\n",
       "      <th id=\"T_65c70_level0_row14\" class=\"row_heading level0 row14\" >svm</th>\n",
       "      <td id=\"T_65c70_row14_col0\" class=\"data row14 col0\" >SVM - Linear Kernel</td>\n",
       "      <td id=\"T_65c70_row14_col1\" class=\"data row14 col1\" >0.6058</td>\n",
       "      <td id=\"T_65c70_row14_col2\" class=\"data row14 col2\" >0.0000</td>\n",
       "      <td id=\"T_65c70_row14_col3\" class=\"data row14 col3\" >0.7673</td>\n",
       "      <td id=\"T_65c70_row14_col4\" class=\"data row14 col4\" >0.6949</td>\n",
       "      <td id=\"T_65c70_row14_col5\" class=\"data row14 col5\" >0.6945</td>\n",
       "      <td id=\"T_65c70_row14_col6\" class=\"data row14 col6\" >0.0370</td>\n",
       "      <td id=\"T_65c70_row14_col7\" class=\"data row14 col7\" >0.0452</td>\n",
       "      <td id=\"T_65c70_row14_col8\" class=\"data row14 col8\" >2.2970</td>\n",
       "    </tr>\n",
       "    <tr>\n",
       "      <th id=\"T_65c70_level0_row15\" class=\"row_heading level0 row15\" >qda</th>\n",
       "      <td id=\"T_65c70_row15_col0\" class=\"data row15 col0\" >Quadratic Discriminant Analysis</td>\n",
       "      <td id=\"T_65c70_row15_col1\" class=\"data row15 col1\" >0.5996</td>\n",
       "      <td id=\"T_65c70_row15_col2\" class=\"data row15 col2\" >0.6014</td>\n",
       "      <td id=\"T_65c70_row15_col3\" class=\"data row15 col3\" >0.6566</td>\n",
       "      <td id=\"T_65c70_row15_col4\" class=\"data row15 col4\" >0.7264</td>\n",
       "      <td id=\"T_65c70_row15_col5\" class=\"data row15 col5\" >0.6878</td>\n",
       "      <td id=\"T_65c70_row15_col6\" class=\"data row15 col6\" >0.1301</td>\n",
       "      <td id=\"T_65c70_row15_col7\" class=\"data row15 col7\" >0.1325</td>\n",
       "      <td id=\"T_65c70_row15_col8\" class=\"data row15 col8\" >3.2610</td>\n",
       "    </tr>\n",
       "  </tbody>\n",
       "</table>\n"
      ],
      "text/plain": [
       "<pandas.io.formats.style.Styler at 0x1bf6ce605e0>"
      ]
     },
     "metadata": {},
     "output_type": "display_data"
    }
   ],
   "source": [
    "best_model = compare_models(sort = \"F1\",n_select=1)"
   ]
  },
  {
   "cell_type": "code",
   "execution_count": 125,
   "id": "e13aa392",
   "metadata": {},
   "outputs": [],
   "source": [
    "prediction = predict_model(best_model, data = gender_test)"
   ]
  },
  {
   "cell_type": "code",
   "execution_count": 126,
   "id": "83d5dbbc",
   "metadata": {},
   "outputs": [],
   "source": [
    "user_spec.loc[user_spec.gender.isna(),'gender']= prediction.Label"
   ]
  },
  {
   "cell_type": "code",
   "execution_count": 127,
   "id": "e7adaddb",
   "metadata": {},
   "outputs": [],
   "source": [
    "user_spec.gender = pd.to_numeric(user_spec.gender)"
   ]
  },
  {
   "cell_type": "code",
   "execution_count": 128,
   "id": "a983a8d9",
   "metadata": {},
   "outputs": [
    {
     "data": {
      "text/plain": [
       "array([1., 0.])"
      ]
     },
     "execution_count": 128,
     "metadata": {},
     "output_type": "execute_result"
    }
   ],
   "source": [
    "user_spec.gender.unique()"
   ]
  },
  {
   "cell_type": "code",
   "execution_count": 129,
   "id": "484e52c4",
   "metadata": {},
   "outputs": [
    {
     "data": {
      "text/plain": [
       "application_id                         0\n",
       "user_id                                0\n",
       "insert_time                            0\n",
       "credit_score                           0\n",
       "yearly_income                          0\n",
       "income_type                            0\n",
       "employment_type                        0\n",
       "houseown_type                          0\n",
       "desired_amount                         0\n",
       "purpose                                0\n",
       "personal_rehabilitation_yn             0\n",
       "personal_rehabilitation_complete_yn    0\n",
       "existing_loan_cnt                      0\n",
       "existing_loan_amt                      0\n",
       "enter_year                             0\n",
       "enter_month                            0\n",
       "enter_birth                            0\n",
       "month                                  0\n",
       "birth_year                             0\n",
       "gender                                 0\n",
       "dtype: int64"
      ]
     },
     "execution_count": 129,
     "metadata": {},
     "output_type": "execute_result"
    }
   ],
   "source": [
    "user_spec.isna().sum()"
   ]
  },
  {
   "cell_type": "markdown",
   "id": "03505a1b",
   "metadata": {},
   "source": [
    "#### Deployment CSV"
   ]
  },
  {
   "cell_type": "code",
   "execution_count": 136,
   "id": "54eb06b0",
   "metadata": {},
   "outputs": [],
   "source": [
    "user_spec.to_csv('../Data/user_spec_clansing.csv',index=False)"
   ]
  },
  {
   "cell_type": "markdown",
   "id": "2c974a98",
   "metadata": {},
   "source": [
    "### loan_limit"
   ]
  },
  {
   "cell_type": "code",
   "execution_count": 170,
   "id": "21787b8c",
   "metadata": {},
   "outputs": [],
   "source": [
    "bank_id = loan_result[loan_result.loan_limit.isna()].bank_id.unique().tolist()"
   ]
  },
  {
   "cell_type": "code",
   "execution_count": 173,
   "id": "240f2d05",
   "metadata": {},
   "outputs": [],
   "source": [
    "ll_df = loan_result.groupby('bank_id')['loan_limit'].mean().reset_index()\n",
    "ll_df.loan_limit = pd.to_numeric(ll_df.loan_limit)"
   ]
  },
  {
   "cell_type": "code",
   "execution_count": 217,
   "id": "2714cf65",
   "metadata": {},
   "outputs": [],
   "source": [
    "for idd in bank_id:\n",
    "     loan_result.loc[(loan_result.bank_id == idd) & (loan_result['loan_limit'].isna()),'loan_limit'] = int(ll_df[ll_df.bank_id == idd]['loan_limit'].values[0])"
   ]
  },
  {
   "cell_type": "code",
   "execution_count": 218,
   "id": "48d0f340",
   "metadata": {},
   "outputs": [
    {
     "data": {
      "text/plain": [
       "application_id                 0\n",
       "loanapply_insert_time          0\n",
       "bank_id                        0\n",
       "product_id                     0\n",
       "loan_limit                     0\n",
       "loan_rate                   7495\n",
       "is_applied               3257239\n",
       "dtype: int64"
      ]
     },
     "execution_count": 218,
     "metadata": {},
     "output_type": "execute_result"
    }
   ],
   "source": [
    "loan_result.isna().sum()"
   ]
  },
  {
   "cell_type": "markdown",
   "id": "27c07a21",
   "metadata": {},
   "source": [
    "### loan_rate"
   ]
  },
  {
   "cell_type": "code",
   "execution_count": 219,
   "id": "c1a39326",
   "metadata": {},
   "outputs": [],
   "source": [
    "bank_id = loan_result[loan_result.loan_rate.isna()].bank_id.unique().tolist()"
   ]
  },
  {
   "cell_type": "code",
   "execution_count": 220,
   "id": "4c5d4314",
   "metadata": {},
   "outputs": [],
   "source": [
    "ll_df = loan_result.groupby('bank_id')['loan_rate'].mean().reset_index()\n",
    "ll_df.loan_rate = pd.to_numeric(ll_df.loan_rate)"
   ]
  },
  {
   "cell_type": "code",
   "execution_count": 221,
   "id": "41cb38b8",
   "metadata": {},
   "outputs": [],
   "source": [
    "for idd in bank_id:\n",
    "     loan_result.loc[(loan_result.bank_id == idd) & (loan_result['loan_rate'].isna()),'loan_rate'] = int(ll_df[ll_df.bank_id == idd]['loan_rate'].values[0])"
   ]
  },
  {
   "cell_type": "code",
   "execution_count": 222,
   "id": "88fde6d0",
   "metadata": {},
   "outputs": [
    {
     "data": {
      "text/plain": [
       "application_id                 0\n",
       "loanapply_insert_time          0\n",
       "bank_id                        0\n",
       "product_id                     0\n",
       "loan_limit                     0\n",
       "loan_rate                      0\n",
       "is_applied               3257239\n",
       "dtype: int64"
      ]
     },
     "execution_count": 222,
     "metadata": {},
     "output_type": "execute_result"
    }
   ],
   "source": [
    "loan_result.isna().sum()"
   ]
  },
  {
   "cell_type": "markdown",
   "id": "a25e4174",
   "metadata": {},
   "source": [
    "#### Deployment CSV"
   ]
  },
  {
   "cell_type": "code",
   "execution_count": 223,
   "id": "d4f42812",
   "metadata": {},
   "outputs": [],
   "source": [
    "loan_result.to_csv('../Data/loan_result_clansing.csv',index=False)"
   ]
  },
  {
   "cell_type": "markdown",
   "id": "b1d26b0f",
   "metadata": {},
   "source": [
    "### Mp_Os & Os_Version"
   ]
  },
  {
   "cell_type": "code",
   "execution_count": 225,
   "id": "71211223",
   "metadata": {},
   "outputs": [],
   "source": [
    "log_data.drop(['mp_os','mp_app_version'],axis=1,inplace=True)"
   ]
  },
  {
   "cell_type": "code",
   "execution_count": 226,
   "id": "5da8d119",
   "metadata": {},
   "outputs": [
    {
     "data": {
      "text/plain": [
       "user_id      0\n",
       "event        0\n",
       "timestamp    0\n",
       "date_cd      0\n",
       "dtype: int64"
      ]
     },
     "execution_count": 226,
     "metadata": {},
     "output_type": "execute_result"
    }
   ],
   "source": [
    "log_data.isna().sum()"
   ]
  },
  {
   "cell_type": "markdown",
   "id": "b04063cc",
   "metadata": {},
   "source": [
    "#### Deployment CSV"
   ]
  },
  {
   "cell_type": "code",
   "execution_count": 227,
   "id": "62c54a2a",
   "metadata": {},
   "outputs": [],
   "source": [
    "log_data.to_csv('../Data/log_data_clansing.csv',index=False)"
   ]
  }
 ],
 "metadata": {
  "kernelspec": {
   "display_name": "Python 3 (ipykernel)",
   "language": "python",
   "name": "python3"
  },
  "language_info": {
   "codemirror_mode": {
    "name": "ipython",
    "version": 3
   },
   "file_extension": ".py",
   "mimetype": "text/x-python",
   "name": "python",
   "nbconvert_exporter": "python",
   "pygments_lexer": "ipython3",
   "version": "3.9.12"
  }
 },
 "nbformat": 4,
 "nbformat_minor": 5
}
