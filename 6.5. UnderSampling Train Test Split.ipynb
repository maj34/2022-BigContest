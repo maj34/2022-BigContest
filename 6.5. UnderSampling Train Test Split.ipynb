{
 "cells": [
  {
   "cell_type": "markdown",
   "id": "7869b695",
   "metadata": {},
   "source": [
    "# <font color='CC3D3D'> 0.6_5 UnderSampling Train Test Split\n",
    "    \n",
    "- **master_train_data.csv** 중 30%만 랜덤하게 뽑아서 95:5 비율로 undersampling (0 : 1 = 2,039,032 : 117,670)\n",
    "- 그 중 80%를 랜덤하게 뽑아서 Train으로 설정 (0 : 1 = 1,631,225 : 94,136)\n",
    "    - <span style=\"color:blue\"> **master_train_undersample.csv** </span> 생성\n",
    "- 그 중 20%를 랜덤하게 뽑아서 Test으로 설정 (0 : 1 = 407,807 : 23,534)\n",
    "    - <span style=\"color:blue\"> **master_test_undersample.csv** </span> 생성"
   ]
  },
  {
   "cell_type": "markdown",
   "id": "3dbe54e9",
   "metadata": {},
   "source": [
    "# Import"
   ]
  },
  {
   "cell_type": "code",
   "execution_count": 2,
   "id": "4c0aebee",
   "metadata": {},
   "outputs": [],
   "source": [
    "import numpy as np\n",
    "\n",
    "import pandas as pd\n",
    "\n",
    "from sklearn.model_selection import train_test_split"
   ]
  },
  {
   "cell_type": "markdown",
   "id": "3a87e3cc",
   "metadata": {},
   "source": [
    "# Data Load"
   ]
  },
  {
   "cell_type": "code",
   "execution_count": 51,
   "id": "390a07df",
   "metadata": {},
   "outputs": [],
   "source": [
    "master_train = pd.read_csv('../Data/master_train_data.csv')"
   ]
  },
  {
   "cell_type": "code",
   "execution_count": 52,
   "id": "652cf9d0",
   "metadata": {},
   "outputs": [
    {
     "data": {
      "text/html": [
       "<div>\n",
       "<style scoped>\n",
       "    .dataframe tbody tr th:only-of-type {\n",
       "        vertical-align: middle;\n",
       "    }\n",
       "\n",
       "    .dataframe tbody tr th {\n",
       "        vertical-align: top;\n",
       "    }\n",
       "\n",
       "    .dataframe thead th {\n",
       "        text-align: right;\n",
       "    }\n",
       "</style>\n",
       "<table border=\"1\" class=\"dataframe\">\n",
       "  <thead>\n",
       "    <tr style=\"text-align: right;\">\n",
       "      <th></th>\n",
       "      <th>loan_limit</th>\n",
       "      <th>loan_rate</th>\n",
       "      <th>credit_score</th>\n",
       "      <th>yearly_income</th>\n",
       "      <th>income_type</th>\n",
       "      <th>employment_type</th>\n",
       "      <th>houseown_type</th>\n",
       "      <th>desired_amount</th>\n",
       "      <th>purpose</th>\n",
       "      <th>personal_rehabilitation_yn</th>\n",
       "      <th>...</th>\n",
       "      <th>loan_rate_max_x</th>\n",
       "      <th>bank_label</th>\n",
       "      <th>loan_limit_min_y</th>\n",
       "      <th>loan_rate_min_y</th>\n",
       "      <th>loan_limit_max_y</th>\n",
       "      <th>loan_rate_max_y</th>\n",
       "      <th>loan_limit_mean_y</th>\n",
       "      <th>loan_rate_mean_y</th>\n",
       "      <th>product_label</th>\n",
       "      <th>is_applied</th>\n",
       "    </tr>\n",
       "  </thead>\n",
       "  <tbody>\n",
       "    <tr>\n",
       "      <th>0</th>\n",
       "      <td>1000000.0</td>\n",
       "      <td>19.9</td>\n",
       "      <td>580.0</td>\n",
       "      <td>48000000.0</td>\n",
       "      <td>0</td>\n",
       "      <td>3</td>\n",
       "      <td>3</td>\n",
       "      <td>40000000.0</td>\n",
       "      <td>6</td>\n",
       "      <td>0.0</td>\n",
       "      <td>...</td>\n",
       "      <td>19.9</td>\n",
       "      <td>2</td>\n",
       "      <td>0.0</td>\n",
       "      <td>5.1</td>\n",
       "      <td>50000000.0</td>\n",
       "      <td>19.9</td>\n",
       "      <td>9.964073e+06</td>\n",
       "      <td>14.619314</td>\n",
       "      <td>0</td>\n",
       "      <td>0.0</td>\n",
       "    </tr>\n",
       "    <tr>\n",
       "      <th>1</th>\n",
       "      <td>13000000.0</td>\n",
       "      <td>7.0</td>\n",
       "      <td>690.0</td>\n",
       "      <td>22000000.0</td>\n",
       "      <td>0</td>\n",
       "      <td>0</td>\n",
       "      <td>3</td>\n",
       "      <td>20000000.0</td>\n",
       "      <td>0</td>\n",
       "      <td>0.0</td>\n",
       "      <td>...</td>\n",
       "      <td>15.5</td>\n",
       "      <td>1</td>\n",
       "      <td>3000000.0</td>\n",
       "      <td>6.7</td>\n",
       "      <td>20000000.0</td>\n",
       "      <td>7.5</td>\n",
       "      <td>1.180752e+07</td>\n",
       "      <td>7.192589</td>\n",
       "      <td>1</td>\n",
       "      <td>0.0</td>\n",
       "    </tr>\n",
       "    <tr>\n",
       "      <th>2</th>\n",
       "      <td>3000000.0</td>\n",
       "      <td>12.5</td>\n",
       "      <td>630.0</td>\n",
       "      <td>36000000.0</td>\n",
       "      <td>0</td>\n",
       "      <td>3</td>\n",
       "      <td>3</td>\n",
       "      <td>20000000.0</td>\n",
       "      <td>6</td>\n",
       "      <td>0.0</td>\n",
       "      <td>...</td>\n",
       "      <td>19.7</td>\n",
       "      <td>2</td>\n",
       "      <td>1000000.0</td>\n",
       "      <td>4.7</td>\n",
       "      <td>50000000.0</td>\n",
       "      <td>18.0</td>\n",
       "      <td>1.058262e+07</td>\n",
       "      <td>10.968330</td>\n",
       "      <td>0</td>\n",
       "      <td>0.0</td>\n",
       "    </tr>\n",
       "    <tr>\n",
       "      <th>3</th>\n",
       "      <td>2000000.0</td>\n",
       "      <td>16.8</td>\n",
       "      <td>650.0</td>\n",
       "      <td>24000000.0</td>\n",
       "      <td>0</td>\n",
       "      <td>3</td>\n",
       "      <td>3</td>\n",
       "      <td>2000000.0</td>\n",
       "      <td>6</td>\n",
       "      <td>0.0</td>\n",
       "      <td>...</td>\n",
       "      <td>19.9</td>\n",
       "      <td>2</td>\n",
       "      <td>1000000.0</td>\n",
       "      <td>1.5</td>\n",
       "      <td>45000000.0</td>\n",
       "      <td>19.9</td>\n",
       "      <td>1.588165e+07</td>\n",
       "      <td>16.255103</td>\n",
       "      <td>0</td>\n",
       "      <td>1.0</td>\n",
       "    </tr>\n",
       "    <tr>\n",
       "      <th>4</th>\n",
       "      <td>36000000.0</td>\n",
       "      <td>10.8</td>\n",
       "      <td>940.0</td>\n",
       "      <td>45000000.0</td>\n",
       "      <td>0</td>\n",
       "      <td>3</td>\n",
       "      <td>0</td>\n",
       "      <td>40000000.0</td>\n",
       "      <td>7</td>\n",
       "      <td>0.0</td>\n",
       "      <td>...</td>\n",
       "      <td>19.9</td>\n",
       "      <td>2</td>\n",
       "      <td>3000000.0</td>\n",
       "      <td>6.8</td>\n",
       "      <td>100000000.0</td>\n",
       "      <td>19.7</td>\n",
       "      <td>3.614451e+07</td>\n",
       "      <td>13.070143</td>\n",
       "      <td>0</td>\n",
       "      <td>0.0</td>\n",
       "    </tr>\n",
       "    <tr>\n",
       "      <th>...</th>\n",
       "      <td>...</td>\n",
       "      <td>...</td>\n",
       "      <td>...</td>\n",
       "      <td>...</td>\n",
       "      <td>...</td>\n",
       "      <td>...</td>\n",
       "      <td>...</td>\n",
       "      <td>...</td>\n",
       "      <td>...</td>\n",
       "      <td>...</td>\n",
       "      <td>...</td>\n",
       "      <td>...</td>\n",
       "      <td>...</td>\n",
       "      <td>...</td>\n",
       "      <td>...</td>\n",
       "      <td>...</td>\n",
       "      <td>...</td>\n",
       "      <td>...</td>\n",
       "      <td>...</td>\n",
       "      <td>...</td>\n",
       "      <td>...</td>\n",
       "    </tr>\n",
       "    <tr>\n",
       "      <th>7189002</th>\n",
       "      <td>25000000.0</td>\n",
       "      <td>13.2</td>\n",
       "      <td>634.0</td>\n",
       "      <td>32000000.0</td>\n",
       "      <td>0</td>\n",
       "      <td>3</td>\n",
       "      <td>3</td>\n",
       "      <td>30000000.0</td>\n",
       "      <td>6</td>\n",
       "      <td>0.0</td>\n",
       "      <td>...</td>\n",
       "      <td>19.9</td>\n",
       "      <td>2</td>\n",
       "      <td>3000000.0</td>\n",
       "      <td>6.5</td>\n",
       "      <td>50000000.0</td>\n",
       "      <td>19.9</td>\n",
       "      <td>2.166379e+07</td>\n",
       "      <td>11.314804</td>\n",
       "      <td>0</td>\n",
       "      <td>0.0</td>\n",
       "    </tr>\n",
       "    <tr>\n",
       "      <th>7189003</th>\n",
       "      <td>80000000.0</td>\n",
       "      <td>12.4</td>\n",
       "      <td>950.0</td>\n",
       "      <td>110000000.0</td>\n",
       "      <td>0</td>\n",
       "      <td>3</td>\n",
       "      <td>3</td>\n",
       "      <td>100000000.0</td>\n",
       "      <td>6</td>\n",
       "      <td>0.0</td>\n",
       "      <td>...</td>\n",
       "      <td>19.5</td>\n",
       "      <td>2</td>\n",
       "      <td>3000000.0</td>\n",
       "      <td>5.9</td>\n",
       "      <td>100000000.0</td>\n",
       "      <td>17.8</td>\n",
       "      <td>5.106188e+07</td>\n",
       "      <td>13.457978</td>\n",
       "      <td>0</td>\n",
       "      <td>0.0</td>\n",
       "    </tr>\n",
       "    <tr>\n",
       "      <th>7189004</th>\n",
       "      <td>25000000.0</td>\n",
       "      <td>11.8</td>\n",
       "      <td>590.0</td>\n",
       "      <td>67000000.0</td>\n",
       "      <td>0</td>\n",
       "      <td>0</td>\n",
       "      <td>3</td>\n",
       "      <td>30000000.0</td>\n",
       "      <td>6</td>\n",
       "      <td>0.0</td>\n",
       "      <td>...</td>\n",
       "      <td>16.8</td>\n",
       "      <td>2</td>\n",
       "      <td>0.0</td>\n",
       "      <td>7.7</td>\n",
       "      <td>80000000.0</td>\n",
       "      <td>16.8</td>\n",
       "      <td>2.631792e+07</td>\n",
       "      <td>12.278177</td>\n",
       "      <td>0</td>\n",
       "      <td>0.0</td>\n",
       "    </tr>\n",
       "    <tr>\n",
       "      <th>7189005</th>\n",
       "      <td>26000000.0</td>\n",
       "      <td>11.2</td>\n",
       "      <td>950.0</td>\n",
       "      <td>30000000.0</td>\n",
       "      <td>0</td>\n",
       "      <td>3</td>\n",
       "      <td>3</td>\n",
       "      <td>10000000.0</td>\n",
       "      <td>7</td>\n",
       "      <td>0.0</td>\n",
       "      <td>...</td>\n",
       "      <td>19.9</td>\n",
       "      <td>2</td>\n",
       "      <td>1000000.0</td>\n",
       "      <td>6.6</td>\n",
       "      <td>35000000.0</td>\n",
       "      <td>18.4</td>\n",
       "      <td>1.064556e+07</td>\n",
       "      <td>12.028956</td>\n",
       "      <td>0</td>\n",
       "      <td>0.0</td>\n",
       "    </tr>\n",
       "    <tr>\n",
       "      <th>7189006</th>\n",
       "      <td>21000000.0</td>\n",
       "      <td>13.5</td>\n",
       "      <td>710.0</td>\n",
       "      <td>26000000.0</td>\n",
       "      <td>0</td>\n",
       "      <td>3</td>\n",
       "      <td>3</td>\n",
       "      <td>50000000.0</td>\n",
       "      <td>7</td>\n",
       "      <td>0.0</td>\n",
       "      <td>...</td>\n",
       "      <td>19.1</td>\n",
       "      <td>2</td>\n",
       "      <td>5000000.0</td>\n",
       "      <td>5.9</td>\n",
       "      <td>80000000.0</td>\n",
       "      <td>19.1</td>\n",
       "      <td>2.617632e+07</td>\n",
       "      <td>13.494089</td>\n",
       "      <td>0</td>\n",
       "      <td>0.0</td>\n",
       "    </tr>\n",
       "  </tbody>\n",
       "</table>\n",
       "<p>7189007 rows × 72 columns</p>\n",
       "</div>"
      ],
      "text/plain": [
       "         loan_limit  loan_rate  credit_score  yearly_income  income_type  \\\n",
       "0         1000000.0       19.9         580.0     48000000.0            0   \n",
       "1        13000000.0        7.0         690.0     22000000.0            0   \n",
       "2         3000000.0       12.5         630.0     36000000.0            0   \n",
       "3         2000000.0       16.8         650.0     24000000.0            0   \n",
       "4        36000000.0       10.8         940.0     45000000.0            0   \n",
       "...             ...        ...           ...            ...          ...   \n",
       "7189002  25000000.0       13.2         634.0     32000000.0            0   \n",
       "7189003  80000000.0       12.4         950.0    110000000.0            0   \n",
       "7189004  25000000.0       11.8         590.0     67000000.0            0   \n",
       "7189005  26000000.0       11.2         950.0     30000000.0            0   \n",
       "7189006  21000000.0       13.5         710.0     26000000.0            0   \n",
       "\n",
       "         employment_type  houseown_type  desired_amount  purpose  \\\n",
       "0                      3              3      40000000.0        6   \n",
       "1                      0              3      20000000.0        0   \n",
       "2                      3              3      20000000.0        6   \n",
       "3                      3              3       2000000.0        6   \n",
       "4                      3              0      40000000.0        7   \n",
       "...                  ...            ...             ...      ...   \n",
       "7189002                3              3      30000000.0        6   \n",
       "7189003                3              3     100000000.0        6   \n",
       "7189004                0              3      30000000.0        6   \n",
       "7189005                3              3      10000000.0        7   \n",
       "7189006                3              3      50000000.0        7   \n",
       "\n",
       "         personal_rehabilitation_yn  ...  loan_rate_max_x  bank_label  \\\n",
       "0                               0.0  ...             19.9           2   \n",
       "1                               0.0  ...             15.5           1   \n",
       "2                               0.0  ...             19.7           2   \n",
       "3                               0.0  ...             19.9           2   \n",
       "4                               0.0  ...             19.9           2   \n",
       "...                             ...  ...              ...         ...   \n",
       "7189002                         0.0  ...             19.9           2   \n",
       "7189003                         0.0  ...             19.5           2   \n",
       "7189004                         0.0  ...             16.8           2   \n",
       "7189005                         0.0  ...             19.9           2   \n",
       "7189006                         0.0  ...             19.1           2   \n",
       "\n",
       "         loan_limit_min_y  loan_rate_min_y  loan_limit_max_y  loan_rate_max_y  \\\n",
       "0                     0.0              5.1        50000000.0             19.9   \n",
       "1               3000000.0              6.7        20000000.0              7.5   \n",
       "2               1000000.0              4.7        50000000.0             18.0   \n",
       "3               1000000.0              1.5        45000000.0             19.9   \n",
       "4               3000000.0              6.8       100000000.0             19.7   \n",
       "...                   ...              ...               ...              ...   \n",
       "7189002         3000000.0              6.5        50000000.0             19.9   \n",
       "7189003         3000000.0              5.9       100000000.0             17.8   \n",
       "7189004               0.0              7.7        80000000.0             16.8   \n",
       "7189005         1000000.0              6.6        35000000.0             18.4   \n",
       "7189006         5000000.0              5.9        80000000.0             19.1   \n",
       "\n",
       "         loan_limit_mean_y  loan_rate_mean_y  product_label  is_applied  \n",
       "0             9.964073e+06         14.619314              0         0.0  \n",
       "1             1.180752e+07          7.192589              1         0.0  \n",
       "2             1.058262e+07         10.968330              0         0.0  \n",
       "3             1.588165e+07         16.255103              0         1.0  \n",
       "4             3.614451e+07         13.070143              0         0.0  \n",
       "...                    ...               ...            ...         ...  \n",
       "7189002       2.166379e+07         11.314804              0         0.0  \n",
       "7189003       5.106188e+07         13.457978              0         0.0  \n",
       "7189004       2.631792e+07         12.278177              0         0.0  \n",
       "7189005       1.064556e+07         12.028956              0         0.0  \n",
       "7189006       2.617632e+07         13.494089              0         0.0  \n",
       "\n",
       "[7189007 rows x 72 columns]"
      ]
     },
     "execution_count": 52,
     "metadata": {},
     "output_type": "execute_result"
    }
   ],
   "source": [
    "master_train"
   ]
  },
  {
   "cell_type": "markdown",
   "id": "4f055238",
   "metadata": {},
   "source": [
    "# Undersampling"
   ]
  },
  {
   "cell_type": "code",
   "execution_count": 53,
   "id": "81047ddb",
   "metadata": {},
   "outputs": [],
   "source": [
    "train = master_train.drop('is_applied', axis=1)\n",
    "target = master_train.is_applied"
   ]
  },
  {
   "cell_type": "code",
   "execution_count": 54,
   "id": "7c7a6a81",
   "metadata": {},
   "outputs": [],
   "source": [
    "X_train, X_valid, y_train, y_valid = train_test_split(train, target, test_size=0.7, \n",
    "                                                      random_state=42, shuffle=True, stratify=target)"
   ]
  },
  {
   "cell_type": "code",
   "execution_count": 55,
   "id": "e4f7eff5",
   "metadata": {},
   "outputs": [
    {
     "data": {
      "text/plain": [
       "0.0    2039032\n",
       "1.0     117670\n",
       "Name: is_applied, dtype: int64"
      ]
     },
     "execution_count": 55,
     "metadata": {},
     "output_type": "execute_result"
    }
   ],
   "source": [
    "y_train.value_counts()"
   ]
  },
  {
   "cell_type": "code",
   "execution_count": 56,
   "id": "70a50502",
   "metadata": {},
   "outputs": [
    {
     "data": {
      "text/plain": [
       "0.0    4757740\n",
       "1.0     274565\n",
       "Name: is_applied, dtype: int64"
      ]
     },
     "execution_count": 56,
     "metadata": {},
     "output_type": "execute_result"
    }
   ],
   "source": [
    "y_valid.value_counts()"
   ]
  },
  {
   "cell_type": "code",
   "execution_count": 57,
   "id": "57dec742",
   "metadata": {},
   "outputs": [],
   "source": [
    "X_train, X_valid, y_train, y_valid = train_test_split(X_train, y_train, test_size=0.2, \n",
    "                                                      random_state=42, shuffle=True, stratify=y_train)"
   ]
  },
  {
   "cell_type": "code",
   "execution_count": 58,
   "id": "d92e3081",
   "metadata": {
    "scrolled": true
   },
   "outputs": [
    {
     "data": {
      "text/plain": [
       "0.0    1631225\n",
       "1.0      94136\n",
       "Name: is_applied, dtype: int64"
      ]
     },
     "execution_count": 58,
     "metadata": {},
     "output_type": "execute_result"
    }
   ],
   "source": [
    "y_train.value_counts()"
   ]
  },
  {
   "cell_type": "code",
   "execution_count": 59,
   "id": "a3c3bcb6",
   "metadata": {},
   "outputs": [
    {
     "data": {
      "text/plain": [
       "0.9454398238977234"
      ]
     },
     "execution_count": 59,
     "metadata": {},
     "output_type": "execute_result"
    }
   ],
   "source": [
    "1631225/(1631225 + 94136)"
   ]
  },
  {
   "cell_type": "code",
   "execution_count": 60,
   "id": "4457c0b9",
   "metadata": {},
   "outputs": [
    {
     "data": {
      "text/plain": [
       "0.0    407807\n",
       "1.0     23534\n",
       "Name: is_applied, dtype: int64"
      ]
     },
     "execution_count": 60,
     "metadata": {},
     "output_type": "execute_result"
    }
   ],
   "source": [
    "y_valid.value_counts()"
   ]
  },
  {
   "cell_type": "code",
   "execution_count": 61,
   "id": "2a98126c",
   "metadata": {},
   "outputs": [],
   "source": [
    "train_undersample = pd.concat([X_train, y_train], axis=1)\n",
    "test_undersample = pd.concat([X_valid, y_valid], axis=1)"
   ]
  },
  {
   "cell_type": "markdown",
   "id": "da5ea0db",
   "metadata": {},
   "source": [
    "## Deployment"
   ]
  },
  {
   "cell_type": "code",
   "execution_count": 62,
   "id": "ab719429",
   "metadata": {},
   "outputs": [],
   "source": [
    "train_undersample.to_csv('../Data/master_train_undersample.csv', index=False)\n",
    "test_undersample.to_csv('../Data/master_test_undersample.csv', index=False)"
   ]
  }
 ],
 "metadata": {
  "kernelspec": {
   "display_name": "Python 3 (ipykernel)",
   "language": "python",
   "name": "python3"
  },
  "language_info": {
   "codemirror_mode": {
    "name": "ipython",
    "version": 3
   },
   "file_extension": ".py",
   "mimetype": "text/x-python",
   "name": "python",
   "nbconvert_exporter": "python",
   "pygments_lexer": "ipython3",
   "version": "3.9.12"
  }
 },
 "nbformat": 4,
 "nbformat_minor": 5
}
