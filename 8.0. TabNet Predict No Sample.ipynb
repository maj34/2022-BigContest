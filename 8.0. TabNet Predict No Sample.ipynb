{
 "cells": [
  {
   "cell_type": "markdown",
   "id": "06828819",
   "metadata": {},
   "source": [
    "# Import"
   ]
  },
  {
   "cell_type": "code",
   "execution_count": 1,
   "id": "62fe2583",
   "metadata": {},
   "outputs": [
    {
     "name": "stdout",
     "output_type": "stream",
     "text": [
      "Using PyTorch version: 1.12.1, Device: cuda\n"
     ]
    }
   ],
   "source": [
    "import pandas as pd\n",
    "import numpy as np\n",
    "import matplotlib.pyplot as plt\n",
    "import seaborn as sns\n",
    "from IPython.display import display\n",
    "from tqdm import tqdm\n",
    "import os\n",
    "import random\n",
    "import pickle\n",
    "import warnings\n",
    "import gc\n",
    "import joblib\n",
    "\n",
    "from sklearn.preprocessing import MinMaxScaler, StandardScaler, LabelEncoder\n",
    "from sklearn.model_selection import train_test_split, cross_val_score, StratifiedKFold\n",
    "from sklearn.metrics import (precision_recall_curve, roc_curve, make_scorer, log_loss,\n",
    "                             f1_score, confusion_matrix, auc, roc_auc_score, accuracy_score)\n",
    "\n",
    "import torch\n",
    "from torch import nn\n",
    "from torch.utils.data import DataLoader, Dataset\n",
    "import torch.optim as optim\n",
    "import torch.nn.functional as F\n",
    "from pytorch_tabnet.tab_model import TabNetClassifier\n",
    "from pytorch_tabnet.metrics import Metric\n",
    "from pytorch_tabnet.pretraining import TabNetPretrainer\n",
    "from torch.optim.lr_scheduler import ReduceLROnPlateau\n",
    "\n",
    "import optuna\n",
    "from optuna.samplers import TPESampler\n",
    "\n",
    "DEVICE = torch.device('cuda') if torch.cuda.is_available() else torch.device('cpu')\n",
    "RANDOM_STATE = 4158\n",
    "CHUNKSIZE = 50000\n",
    "\n",
    "with open(f\"./dtypes.pkl\", 'rb') as f:\n",
    "    dtypes = pickle.load(f)\n",
    "\n",
    "pd.set_option('display.max_columns', None)\n",
    "warnings.filterwarnings('ignore')\n",
    "print(f\"Using PyTorch version: {torch.__version__}, Device: {DEVICE}\")\n",
    "%matplotlib inline"
   ]
  },
  {
   "cell_type": "markdown",
   "id": "06752f1a",
   "metadata": {},
   "source": [
    "# Def"
   ]
  },
  {
   "cell_type": "code",
   "execution_count": 2,
   "id": "d7e13ed8",
   "metadata": {},
   "outputs": [],
   "source": [
    "def loaddata(fname:str, chunksize:int, dtype:dict=None, columns:list=None):  \n",
    "    df = pd.DataFrame()\n",
    "    for chunk in tqdm(pd.read_csv(fname, engine='python', low_memory=True, chunksize=chunksize, dtype=dtype)):\n",
    "        df = pd.concat([df, chunk], axis=0)\n",
    "        del chunk\n",
    "        gc.collect()\n",
    "\n",
    "    return df"
   ]
  },
  {
   "cell_type": "markdown",
   "id": "281ef9d4",
   "metadata": {},
   "source": [
    "# Data Load"
   ]
  },
  {
   "cell_type": "code",
   "execution_count": 3,
   "id": "c5d63d32",
   "metadata": {
    "scrolled": true
   },
   "outputs": [
    {
     "name": "stderr",
     "output_type": "stream",
     "text": [
      "44it [01:33,  2.13s/it]\n",
      "66it [02:24,  2.19s/it]\n"
     ]
    }
   ],
   "source": [
    "private = loaddata(\"../Data/master_private_data.csv\", chunksize=CHUNKSIZE, dtype=dtypes)\n",
    "test = loaddata(\"../Data/master_test_data.csv\", chunksize=CHUNKSIZE)"
   ]
  },
  {
   "cell_type": "code",
   "execution_count": 4,
   "id": "c5f13a2c",
   "metadata": {},
   "outputs": [
    {
     "name": "stderr",
     "output_type": "stream",
     "text": [
      "19it [00:39,  2.09s/it]\n"
     ]
    }
   ],
   "source": [
    "public = loaddata(\"../Data/master_public_data.csv\", chunksize=CHUNKSIZE, dtype=dtypes)"
   ]
  },
  {
   "cell_type": "code",
   "execution_count": 5,
   "id": "e9b30d87",
   "metadata": {},
   "outputs": [],
   "source": [
    "cat_feats = ['income_type', 'employment_type', 'houseown_type', 'purpose', 'personal_rehabilitation_yn', 'personal_rehabilitation_complete_yn', \n",
    "             'gender', 'bank_diversity', 'product_diversity', 'holiday', 'weekday', 'foreign', 'segment', 'bank_label', 'product_label']\n",
    "cat_idxs = [i for i, col in enumerate(private.columns.values) if col in cat_feats]"
   ]
  },
  {
   "cell_type": "code",
   "execution_count": 6,
   "id": "d2ac66de",
   "metadata": {},
   "outputs": [],
   "source": [
    "for col in private.columns.values:\n",
    "    if private[col].dtype == 'bool':\n",
    "        private[col] = private[col].astype('uint8')\n",
    "    if test[col].dtype == 'bool':\n",
    "        test[col] = test[col].astype('uint8')\n",
    "    if public[col].dtype == 'bool':\n",
    "        public[col] = public[col].astype('uint8')\n",
    "\n",
    "for col in cat_feats:\n",
    "    if private[col].min() != 0:\n",
    "        private[col] -= private[col].min()\n",
    "    if test[col].min() != 0:\n",
    "        test[col] -= test[col].min()\n",
    "    if public[col].min() != 0:\n",
    "        public[col] -= public[col].min()\n",
    "\n",
    "# cat_dims = [[col].nunique() for col in cat_feats]"
   ]
  },
  {
   "cell_type": "code",
   "execution_count": 7,
   "id": "ea76e57b",
   "metadata": {},
   "outputs": [],
   "source": [
    "for i in range(test.shape[0]):\n",
    "    if test['product_diversity'].iloc[i] == 79:\n",
    "        test['product_diversity'].iloc[i] = 9"
   ]
  },
  {
   "cell_type": "code",
   "execution_count": 8,
   "id": "ee097c95",
   "metadata": {},
   "outputs": [
    {
     "name": "stdout",
     "output_type": "stream",
     "text": [
      "Unique categories\n",
      "\tprivate income_type -> [0 1 2 3 4 5]\ttest income_type -> [0 1 2 3 4 5]\n",
      "\tprivate employment_type -> [0 1 2 3]\ttest employment_type -> [0 1 2 3]\n",
      "\tprivate houseown_type -> [0 1 2 3]\ttest houseown_type -> [0 1 2 3]\n",
      "\tprivate purpose -> [0 1 2 3 4 5 6 7]\ttest purpose -> [0 1 2 3 4 5 6 7]\n",
      "\tprivate personal_rehabilitation_yn -> [0 1]\ttest personal_rehabilitation_yn -> [0. 1.]\n",
      "\tprivate personal_rehabilitation_complete_yn -> [0 1]\ttest personal_rehabilitation_complete_yn -> [0. 1.]\n",
      "\tprivate gender -> [0 1]\ttest gender -> [0. 1.]\n",
      "\tprivate bank_diversity -> [ 0  1  2  3  4  5  6  7  8  9 10 11 12 13 14 15 16 17 18 19 20 21 22 23\n",
      " 24 25 26 27 28 29 30 31 32 33 34 35 36 37 38 39 40 41 42 43 44 45 46 47\n",
      " 48 49 50 51 52 53 54 55]\ttest bank_diversity -> [ 0  1  2  3  4  5  6  7  8  9 10 11 12 13 14 15 16 17 18 19 20 21 22 23\n",
      " 24 25 26 27 28 29 30 31 32 33 34 35 36 37 38 39 40 41 42 43 44 45 46 47\n",
      " 48 49 50 51 52 53 54]\n",
      "\tprivate product_diversity -> [ 0  1  2  3  4  5  6  7  8  9 10 11 12 13 14 15 16 17 18 19 20 21 22 23\n",
      " 24 25 26 27 28 29 30 31 32 33 34 35 36 37 38 39 40 41 42 43 44 45 46 47\n",
      " 48 49 50 51 52 53 54 55 56 57 58 59 60 61 62 63 64 65 66 67 68 69 70 71\n",
      " 72 73 74 75 76 77 78]\ttest product_diversity -> [ 0  1  2  3  4  5  6  7  8  9 10 11 12 13 14 15 16 17 18 19 20 21 22 23\n",
      " 24 25 26 27 28 29 30 31 32 33 34 35 36 37 38 39 40 41 42 43 44 45 46 47\n",
      " 48 49 50 51 52 53 54 55 56 57 58 59 60 61 62 63 64 65 66 67 68 69 70 71\n",
      " 72 73 74 75 76 77 78]\n",
      "\tprivate holiday -> [0 1]\ttest holiday -> [0]\n",
      "\tprivate weekday -> [0 1 2 3 4 5 6]\ttest weekday -> [0 1 2 3 4 5 6]\n",
      "\tprivate foreign -> [0 1]\ttest foreign -> [0]\n",
      "\tprivate segment -> [0. 1. 2. 3. 4. 5. 6.]\ttest segment -> [0. 1. 2. 3. 4. 5. 6.]\n",
      "\tprivate bank_label -> [0 1 2]\ttest bank_label -> [0 1 2]\n",
      "\tprivate product_label -> [0 1]\ttest product_label -> [0 1]\n"
     ]
    }
   ],
   "source": [
    "print(f\"Unique categories\")\n",
    "for col in cat_feats:\n",
    "    print(f\"\\tprivate {col} -> {np.sort(private[col].unique())}\", end='')\n",
    "    print(f\"\\ttest {col} -> {np.sort(test[col].unique())}\")"
   ]
  },
  {
   "cell_type": "code",
   "execution_count": 9,
   "id": "56646722",
   "metadata": {},
   "outputs": [],
   "source": [
    "X_public = public.drop('is_applied', axis=1)\n",
    "y_public = public['is_applied']"
   ]
  },
  {
   "cell_type": "markdown",
   "id": "42a78cd1",
   "metadata": {},
   "source": [
    "## Evaluation Metric"
   ]
  },
  {
   "cell_type": "code",
   "execution_count": 10,
   "id": "0969d896",
   "metadata": {},
   "outputs": [],
   "source": [
    "class F1Score(Metric):\n",
    "    def __init__(self):\n",
    "        self._name = \"f1\"\n",
    "        self._maximize = True\n",
    "    \n",
    "    def __call__(self, y_true, y_score):\n",
    "        y_score = (y_score[:, 1] > 0.5).astype(np.uint8)\n",
    "        return f1_score(y_true, y_score)"
   ]
  },
  {
   "cell_type": "code",
   "execution_count": 11,
   "id": "b29e3120",
   "metadata": {},
   "outputs": [],
   "source": [
    "clf = joblib.load(f\"../Model/clf_no_sampling.pkl\")"
   ]
  },
  {
   "cell_type": "code",
   "execution_count": 12,
   "id": "b6903e42",
   "metadata": {},
   "outputs": [],
   "source": [
    "public_pred_proba = clf.predict_proba(X_public.values)"
   ]
  },
  {
   "cell_type": "code",
   "execution_count": 13,
   "id": "4816aa90",
   "metadata": {},
   "outputs": [],
   "source": [
    "private_pred_proba = clf.predict_proba(private.values)"
   ]
  },
  {
   "cell_type": "code",
   "execution_count": 14,
   "id": "9dc0f681",
   "metadata": {},
   "outputs": [],
   "source": [
    "test_pred_proba = clf.predict_proba(test.values)"
   ]
  },
  {
   "cell_type": "code",
   "execution_count": 20,
   "id": "6b1cbf96",
   "metadata": {},
   "outputs": [],
   "source": [
    "public_pred = (public_pred_proba[:, 1] >= 0.5).astype(np.uint8)\n",
    "private_pred = (private_pred_proba[:, 1] >= 0.5).astype(np.uint8)\n",
    "test_pred = (test_pred_proba[:, 1] >= 0.5).astype(np.uint8)"
   ]
  },
  {
   "cell_type": "markdown",
   "id": "b07df18a",
   "metadata": {},
   "source": [
    "# Deployment CSV"
   ]
  },
  {
   "cell_type": "code",
   "execution_count": 21,
   "id": "472e5a30",
   "metadata": {},
   "outputs": [],
   "source": [
    "public_pred = pd.DataFrame({'predict': public_pred})\n",
    "private_pred = pd.DataFrame({'predict': private_pred})\n",
    "test_pred = pd.DataFrame({'predict': test_pred})\n",
    "\n",
    "public_pred.to_csv('../Data/tabnet_public_predict.csv', index=False)\n",
    "private_pred.to_csv('../Data/tabnet_private_predict.csv', index=False)\n",
    "test_pred.to_csv('../Data/tabnet_test_predict.csv', index=False)"
   ]
  },
  {
   "cell_type": "code",
   "execution_count": null,
   "id": "f10ecd2e",
   "metadata": {},
   "outputs": [],
   "source": []
  }
 ],
 "metadata": {
  "kernelspec": {
   "display_name": "Python 3 (ipykernel)",
   "language": "python",
   "name": "python3"
  },
  "language_info": {
   "codemirror_mode": {
    "name": "ipython",
    "version": 3
   },
   "file_extension": ".py",
   "mimetype": "text/x-python",
   "name": "python",
   "nbconvert_exporter": "python",
   "pygments_lexer": "ipython3",
   "version": "3.9.12"
  }
 },
 "nbformat": 4,
 "nbformat_minor": 5
}
