{
 "cells": [
  {
   "cell_type": "markdown",
   "metadata": {},
   "source": [
    "# Import"
   ]
  },
  {
   "cell_type": "code",
   "execution_count": 1,
   "metadata": {},
   "outputs": [
    {
     "name": "stdout",
     "output_type": "stream",
     "text": [
      "Using PyTorch version: 1.12.1, Device: cuda\n"
     ]
    }
   ],
   "source": [
    "import pandas as pd\n",
    "import numpy as np\n",
    "import matplotlib.pyplot as plt\n",
    "import seaborn as sns\n",
    "from IPython.display import display\n",
    "from tqdm import tqdm\n",
    "import os\n",
    "import random\n",
    "import pickle\n",
    "import warnings\n",
    "import gc\n",
    "\n",
    "from sklearn.preprocessing import MinMaxScaler, StandardScaler, LabelEncoder\n",
    "from sklearn.model_selection import train_test_split, cross_val_score, StratifiedKFold\n",
    "from sklearn.metrics import (precision_recall_curve, roc_curve, make_scorer, log_loss,\n",
    "                             f1_score, confusion_matrix, auc, roc_auc_score, accuracy_score)\n",
    "\n",
    "import torch\n",
    "from torch import nn\n",
    "from torch.utils.data import DataLoader, Dataset\n",
    "import torch.optim as optim\n",
    "import torch.nn.functional as F\n",
    "from pytorch_tabnet.tab_model import TabNetClassifier\n",
    "from pytorch_tabnet.metrics import Metric\n",
    "from pytorch_tabnet.pretraining import TabNetPretrainer\n",
    "from torch.optim.lr_scheduler import ReduceLROnPlateau\n",
    "\n",
    "import optuna\n",
    "from optuna.samplers import TPESampler\n",
    "\n",
    "DEVICE = torch.device('cuda') if torch.cuda.is_available() else torch.device('cpu')\n",
    "RANDOM_STATE = 4158\n",
    "CHUNKSIZE = 50000\n",
    "\n",
    "with open(\"../Data/dtypes.pkl\", 'rb') as f:\n",
    "    dtypes = pickle.load(f)\n",
    "\n",
    "pd.set_option('display.max_columns', None)\n",
    "warnings.filterwarnings('ignore')\n",
    "print(f\"Using PyTorch version: {torch.__version__}, Device: {DEVICE}\")\n",
    "%matplotlib inline"
   ]
  },
  {
   "cell_type": "markdown",
   "metadata": {},
   "source": [
    "# def"
   ]
  },
  {
   "cell_type": "code",
   "execution_count": 2,
   "metadata": {},
   "outputs": [],
   "source": [
    "def seed_everything(seed_value):\n",
    "    np.random.seed(seed_value)\n",
    "    torch.manual_seed(seed_value)\n",
    "    os.environ['PYTHONHASHSEED'] = str(seed_value)\n",
    "    \n",
    "    if torch.cuda.is_available(): \n",
    "        torch.cuda.manual_seed(seed_value)\n",
    "        torch.cuda.manual_seed_all(seed_value)\n",
    "        torch.backends.cudnn.deterministic = True\n",
    "        torch.backends.cudnn.benchmark = False\n",
    "        \n",
    "seed_everything(RANDOM_STATE)"
   ]
  },
  {
   "cell_type": "code",
   "execution_count": 3,
   "metadata": {},
   "outputs": [],
   "source": [
    "def viewinfo(df:pd.DataFrame) -> None:\n",
    "    print(df.shape)\n",
    "    print()\n",
    "    df.info()\n",
    "    print()\n",
    "    display(df.head())"
   ]
  },
  {
   "cell_type": "code",
   "execution_count": 4,
   "metadata": {},
   "outputs": [
    {
     "name": "stdout",
     "output_type": "stream",
     "text": [
      "{'loan_limit': 'uint64', 'loan_rate': 'float16', 'credit_score': 'uint16', 'yearly_income': 'uint64', 'income_type': 'uint8', 'employment_type': 'uint8', 'houseown_type': 'uint8', 'desired_amount': 'uint64', 'purpose': 'uint8', 'personal_rehabilitation_yn': 'bool', 'personal_rehabilitation_complete_yn': 'bool', 'existing_loan_cnt': 'uint16', 'existing_loan_amt': 'uint64', 'enter_birth': 'uint8', 'gender': 'bool', 'k_lending_rate': 'float16', 'us_lending_rate': 'float16', 'btc_price': 'uint32', 'btc_variance': 'float16', 'eth_price': 'uint32', 'eth_variance': 'float16', 'lunc_price': 'float32', 'lunc_variance': 'float16', 'Close': 'float16', 'Open': 'float16', 'High': 'float16', 'Low': 'float16', 'Volume': 'uint64', 'Change': 'float16', '실업자': 'uint16', '실업률': 'float16', '현재가계부채CSI': 'uint8', '가계부채전망CSI': 'uint8', '소비심리지수': 'float16', 'loanapply_insert_time_rank': 'uint8', 'loan_limit_avg_sub': 'float64', 'loan_rate_avg_sub': 'float16', 'bank_diversity': 'uint8', 'product_diversity': 'uint8', 'missing_value_cnt': 'uint8', 'working_year': 'uint8', 'working_month': 'uint16', 'age': 'uint8', 'holiday': 'bool', 'weekday': 'uint8', 'hour': 'uint8', 'weekday_sin': 'float16', 'weekday_cos': 'float16', 'hour_sin': 'float16', 'hour_cos': 'float16', 'foreign': 'bool', 'product_cnt': 'uint8', 'loan_limit_mean_x': 'float64', 'loan_rate_mean_x': 'float16', 'loan_limit_min_x': 'float64', 'loan_rate_min_x': 'float16', 'loan_limit_max_x': 'float64', 'loan_rate_max_x': 'float16', 'bank_label': 'uint8', 'loan_limit_min_y': 'float64', 'loan_rate_min_y': 'float16', 'loan_limit_max_y': 'float64', 'loan_rate_max_y': 'float16', 'loan_limit_mean_y': 'float64', 'loan_rate_mean_y': 'float16', 'product_label': 'uint8', 'is_applied': 'bool'}\n"
     ]
    }
   ],
   "source": [
    "print(dtypes)"
   ]
  },
  {
   "cell_type": "markdown",
   "metadata": {},
   "source": [
    "# Import Data"
   ]
  },
  {
   "cell_type": "code",
   "execution_count": 5,
   "metadata": {},
   "outputs": [],
   "source": [
    "def loaddata(fname:str, chunksize:int, dtype:dict=None, columns:list=None):  \n",
    "    df = pd.DataFrame()\n",
    "    for chunk in tqdm(pd.read_csv(fname, engine='python', low_memory=True, chunksize=chunksize, dtype=dtype)):\n",
    "        df = pd.concat([df, chunk], axis=0)\n",
    "        del chunk\n",
    "        gc.collect()\n",
    "\n",
    "    return df"
   ]
  },
  {
   "cell_type": "code",
   "execution_count": 6,
   "metadata": {},
   "outputs": [
    {
     "name": "stderr",
     "output_type": "stream",
     "text": [
      "144it [05:44,  2.39s/it]\n",
      "19it [00:40,  2.11s/it]\n"
     ]
    }
   ],
   "source": [
    "train = loaddata(\"../Data/master_train_data.csv\", chunksize=CHUNKSIZE, dtype=dtypes)\n",
    "valid = loaddata(\"../Data/master_public_data.csv\", chunksize=CHUNKSIZE, dtype=dtypes)"
   ]
  },
  {
   "cell_type": "markdown",
   "metadata": {},
   "source": [
    "# Preprocessing"
   ]
  },
  {
   "cell_type": "code",
   "execution_count": 7,
   "metadata": {},
   "outputs": [],
   "source": [
    "# train.drop('holiday', axis=1, inplace=True)\n",
    "# valid.drop('holiday', axis=1, inplace=True)"
   ]
  },
  {
   "cell_type": "code",
   "execution_count": 8,
   "metadata": {},
   "outputs": [],
   "source": [
    "cat_feats = ['income_type', 'employment_type', 'houseown_type', 'purpose', 'personal_rehabilitation_yn', \n",
    "             'personal_rehabilitation_complete_yn', 'gender', 'bank_diversity', 'product_diversity', 'holiday', \n",
    "             'weekday', 'foreign', 'segment', 'bank_label', 'product_label']\n",
    "cat_idxs = [i for i, col in enumerate(train.columns.values) if col in cat_feats]"
   ]
  },
  {
   "cell_type": "code",
   "execution_count": 9,
   "metadata": {},
   "outputs": [],
   "source": [
    "for col in train.columns.values:\n",
    "    if train[col].dtype == 'bool':\n",
    "        train[col] = train[col].astype('uint8')\n",
    "    if valid[col].dtype == 'bool':\n",
    "        valid[col] = valid[col].astype('uint8')"
   ]
  },
  {
   "cell_type": "code",
   "execution_count": 10,
   "metadata": {},
   "outputs": [],
   "source": [
    "for col in cat_feats:\n",
    "    if train[col].min() != 0:\n",
    "        train[col] -= train[col].min()\n",
    "    if valid[col].min() != 0:\n",
    "        valid[col] -= valid[col].min()"
   ]
  },
  {
   "cell_type": "code",
   "execution_count": 11,
   "metadata": {},
   "outputs": [],
   "source": [
    "cat_dims = [train[col].nunique() for col in cat_feats]"
   ]
  },
  {
   "cell_type": "code",
   "execution_count": 12,
   "metadata": {},
   "outputs": [
    {
     "name": "stdout",
     "output_type": "stream",
     "text": [
      "[4, 5, 6, 8, 9, 10, 14, 37, 38, 43, 44, 50, 55, 63, 70]\n",
      "[6, 4, 4, 8, 2, 2, 2, 56, 79, 2, 7, 2, 7, 3, 2]\n"
     ]
    }
   ],
   "source": [
    "print(cat_idxs)\n",
    "print(cat_dims)"
   ]
  },
  {
   "cell_type": "markdown",
   "metadata": {},
   "source": [
    "# Evaluation Metric"
   ]
  },
  {
   "cell_type": "code",
   "execution_count": 13,
   "metadata": {},
   "outputs": [],
   "source": [
    "class F1Score(Metric):\n",
    "    def __init__(self):\n",
    "        self._name = \"f1\"\n",
    "        self._maximize = True\n",
    "    \n",
    "    def __call__(self, y_true, y_score):\n",
    "        y_score = (y_score[:, 1] > 0.5).astype(np.uint8)\n",
    "        return f1_score(y_true, y_score)"
   ]
  },
  {
   "cell_type": "markdown",
   "metadata": {},
   "source": [
    "# Pretraining"
   ]
  },
  {
   "cell_type": "markdown",
   "metadata": {},
   "source": [
    "## Split X, y"
   ]
  },
  {
   "cell_type": "code",
   "execution_count": 14,
   "metadata": {},
   "outputs": [],
   "source": [
    "X_train = train.drop('is_applied', axis=1)\n",
    "y_train = train['is_applied']\n",
    "\n",
    "X_valid = valid.drop('is_applied', axis=1)\n",
    "y_valid = valid['is_applied']"
   ]
  },
  {
   "cell_type": "code",
   "execution_count": 15,
   "metadata": {},
   "outputs": [
    {
     "name": "stdout",
     "output_type": "stream",
     "text": [
      "Unique categories\n",
      "\ttrain income_type -> [0 1 2 3 4 5]\tvalid income_type -> [0 1 2 3 4 5]\n",
      "\ttrain employment_type -> [0 1 2 3]\tvalid employment_type -> [0 1 2 3]\n",
      "\ttrain houseown_type -> [0 1 2 3]\tvalid houseown_type -> [0 1 2 3]\n",
      "\ttrain purpose -> [0 1 2 3 4 5 6 7]\tvalid purpose -> [0 1 2 3 4 5 6 7]\n",
      "\ttrain personal_rehabilitation_yn -> [0 1]\tvalid personal_rehabilitation_yn -> [0 1]\n",
      "\ttrain personal_rehabilitation_complete_yn -> [0 1]\tvalid personal_rehabilitation_complete_yn -> [0 1]\n",
      "\ttrain gender -> [0 1]\tvalid gender -> [0 1]\n",
      "\ttrain bank_diversity -> [ 0  1  2  3  4  5  6  7  8  9 10 11 12 13 14 15 16 17 18 19 20 21 22 23\n",
      " 24 25 26 27 28 29 30 31 32 33 34 35 36 37 38 39 40 41 42 43 44 45 46 47\n",
      " 48 49 50 51 52 53 54 55]\tvalid bank_diversity -> [ 0  1  2  3  4  5  6  7  8  9 10 11 12 13 14 15 16 17 18 19 20 21 22 23\n",
      " 24 25 26 27 28 29 30 31 32 33 34 35 36 37 38 39 40 41 42 43 44 45 46 47\n",
      " 48 49 50 51 52 53 54 55]\n",
      "\ttrain product_diversity -> [ 0  1  2  3  4  5  6  7  8  9 10 11 12 13 14 15 16 17 18 19 20 21 22 23\n",
      " 24 25 26 27 28 29 30 31 32 33 34 35 36 37 38 39 40 41 42 43 44 45 46 47\n",
      " 48 49 50 51 52 53 54 55 56 57 58 59 60 61 62 63 64 65 66 67 68 69 70 71\n",
      " 72 73 74 75 76 77 78]\tvalid product_diversity -> [ 0  1  2  3  4  5  6  7  8  9 10 11 12 13 14 15 16 17 18 19 20 21 22 23\n",
      " 24 25 26 27 28 29 30 31 32 33 34 35 36 37 38 39 40 41 42 43 44 45 46 47\n",
      " 48 49 50 51 52 53 54 55 56 57 58 59 60 61 62 63 64 65 66 67 68 69 70 71\n",
      " 72 73 74 75 76 77 78]\n",
      "\ttrain holiday -> [0 1]\tvalid holiday -> [0 1]\n",
      "\ttrain weekday -> [0 1 2 3 4 5 6]\tvalid weekday -> [0 1 2 3 4 5 6]\n",
      "\ttrain foreign -> [0 1]\tvalid foreign -> [0 1]\n",
      "\ttrain segment -> [0. 1. 2. 3. 4. 5. 6.]\tvalid segment -> [0. 1. 2. 3. 4. 5. 6.]\n",
      "\ttrain bank_label -> [0 1 2]\tvalid bank_label -> [0 1 2]\n",
      "\ttrain product_label -> [0 1]\tvalid product_label -> [0 1]\n"
     ]
    }
   ],
   "source": [
    "print(f\"Unique categories\")\n",
    "for col in cat_feats:\n",
    "    print(f\"\\ttrain {col} -> {np.sort(X_train[col].unique())}\", end='')\n",
    "    print(f\"\\tvalid {col} -> {np.sort(X_valid[col].unique())}\")"
   ]
  },
  {
   "cell_type": "markdown",
   "metadata": {},
   "source": [
    "## Hyper-parameters"
   ]
  },
  {
   "cell_type": "code",
   "execution_count": 16,
   "metadata": {},
   "outputs": [],
   "source": [
    "## constant values for hyper-parameter\n",
    "BATCH_SIZE = 2**10\n",
    "GHOST_BATCH = 2**7\n",
    "MAX_EPOCH = 100\n",
    "N_STEPS = 5\n",
    "LR = 25e-3\n",
    "PATIENCE = 5\n",
    "PRETRAINING_RATIO = 0.8\n",
    "NROWS = 1"
   ]
  },
  {
   "cell_type": "markdown",
   "metadata": {},
   "source": [
    "## Pretrain model"
   ]
  },
  {
   "cell_type": "code",
   "execution_count": 17,
   "metadata": {},
   "outputs": [
    {
     "name": "stdout",
     "output_type": "stream",
     "text": [
      "Device used : cuda\n",
      "epoch 0  | loss: 3533750.3352| val_0_unsup_loss: 52.7593 |  0:09:19s\n",
      "epoch 1  | loss: 3225250.2597| val_0_unsup_loss: 48.9266 |  0:19:11s\n",
      "epoch 2  | loss: 1767855.59079| val_0_unsup_loss: 34.08615|  0:29:06s\n",
      "epoch 3  | loss: 1194257.70816| val_0_unsup_loss: 3.8127  |  0:39:01s\n",
      "epoch 4  | loss: 834809.48502| val_0_unsup_loss: 5.25513 |  0:48:58s\n",
      "epoch 5  | loss: 497444.9859| val_0_unsup_loss: 6.60558 |  0:58:55s\n",
      "epoch 6  | loss: 413945.50996| val_0_unsup_loss: 3.94301 |  1:08:50s\n",
      "epoch 7  | loss: 353732.08801| val_0_unsup_loss: 15.24597|  1:18:45s\n",
      "epoch 8  | loss: 278217.24758| val_0_unsup_loss: 5.2388  |  1:28:39s\n",
      "\n",
      "Early stopping occurred at epoch 8 with best_epoch = 3 and best_val_0_unsup_loss = 3.8127\n",
      "Best weights from best epoch are automatically used!\n"
     ]
    }
   ],
   "source": [
    "tabnet_params = dict(\n",
    "    cat_idxs=cat_idxs,\n",
    "    cat_dims=cat_dims,\n",
    "    optimizer_fn=torch.optim.Adam, \n",
    "    optimizer_params=dict(lr=LR), \n",
    "    mask_type=\"entmax\", # another option: sparsemax\n",
    "    n_steps=N_STEPS,  #0.2,\n",
    "    seed=RANDOM_STATE,\n",
    "    scheduler_params=dict(mode=\"min\", patience=5, min_lr=1e-5, factor=0.9),\n",
    "    scheduler_fn=torch.optim.lr_scheduler.ReduceLROnPlateau,\n",
    "    device_name=str(DEVICE)\n",
    ")\n",
    "\n",
    "pretrainer = TabNetPretrainer(**tabnet_params)\n",
    "\n",
    "pretrainer.fit(X_train=X_train.values, \n",
    "               eval_set=[X_valid.values], \n",
    "               max_epochs=MAX_EPOCH, \n",
    "               patience=PATIENCE, \n",
    "               batch_size=BATCH_SIZE, \n",
    "               virtual_batch_size=GHOST_BATCH, #128, \n",
    "               num_workers=0, \n",
    "               drop_last=False,\n",
    "               pretraining_ratio=PRETRAINING_RATIO)"
   ]
  },
  {
   "cell_type": "markdown",
   "metadata": {},
   "source": [
    "## Plot Results"
   ]
  },
  {
   "cell_type": "code",
   "execution_count": 18,
   "metadata": {},
   "outputs": [
    {
     "data": {
      "image/png": "[encoded data removed]",
      "text/plain": [
       "<Figure size 3000x1000 with 5 Axes>"
      ]
     },
     "metadata": {},
     "output_type": "display_data"
    }
   ],
   "source": [
    "pretrain_explain_matrix, pretrain_masks = pretrainer.explain(valid.values)\n",
    "\n",
    "plt.figure(figsize=(30, 10))\n",
    "for key in pretrain_masks:\n",
    "    plt.subplot(int(f\"{NROWS}{N_STEPS//NROWS}{key+1}\"))\n",
    "    plt.imshow(pretrain_masks[key][:50], cmap='gray')\n",
    "    plt.title(f\"Pretrained mask {key}\")\n",
    "plt.tight_layout()\n",
    "plt.show()"
   ]
  },
  {
   "cell_type": "code",
   "execution_count": 19,
   "metadata": {},
   "outputs": [
    {
     "data": {
      "image/png": "[encoded data removed]",
      "text/plain": [
       "<Figure size 500x1000 with 1 Axes>"
      ]
     },
     "metadata": {},
     "output_type": "display_data"
    }
   ],
   "source": [
    "mask_agg = np.zeros(shape=pretrain_masks[0].shape)\n",
    "for key in pretrain_masks:\n",
    "    mask_agg += pretrain_masks[key]\n",
    "mask_agg /= len(pretrain_masks)\n",
    "\n",
    "plt.figure(figsize=(5, 10))\n",
    "plt.imshow(mask_agg[:50], cmap='gray')\n",
    "plt.title(f\"Aggregated Mask\")\n",
    "plt.tight_layout()\n",
    "plt.show()"
   ]
  },
  {
   "cell_type": "code",
   "execution_count": 20,
   "metadata": {},
   "outputs": [
    {
     "data": {
      "text/plain": [
       "17633"
      ]
     },
     "execution_count": 20,
     "metadata": {},
     "output_type": "execute_result"
    }
   ],
   "source": [
    "del pretrain_explain_matrix, pretrain_masks, mask_agg\n",
    "gc.collect()"
   ]
  },
  {
   "cell_type": "markdown",
   "metadata": {},
   "source": [
    "## Save Model"
   ]
  },
  {
   "cell_type": "code",
   "execution_count": 21,
   "metadata": {},
   "outputs": [],
   "source": [
    "with open(\"../Model/pretrainer_no_sampling.pkl\", 'wb') as f:\n",
    "    pickle.dump(pretrainer, f, protocol=pickle.HIGHEST_PROTOCOL)"
   ]
  },
  {
   "cell_type": "markdown",
   "metadata": {},
   "source": [
    "# Supervised Learning"
   ]
  },
  {
   "cell_type": "code",
   "execution_count": 28,
   "metadata": {},
   "outputs": [
    {
     "name": "stdout",
     "output_type": "stream",
     "text": [
      "Device used : cuda\n"
     ]
    }
   ],
   "source": [
    "clf = TabNetClassifier(\n",
    "    cat_idxs=cat_idxs,\n",
    "    cat_dims=cat_dims,\n",
    "    optimizer_fn=torch.optim.Adam, \n",
    "    optimizer_params=dict(lr=LR), \n",
    "    mask_type=\"entmax\", # another option: sparsemax\n",
    "    n_steps=N_STEPS,  #0.2,\n",
    "    scheduler_params=dict(mode=\"min\", patience=5, min_lr=1e-5, factor=0.9),\n",
    "    scheduler_fn=torch.optim.lr_scheduler.ReduceLROnPlateau,\n",
    "    device_name=str(DEVICE)\n",
    ")"
   ]
  },
  {
   "cell_type": "code",
   "execution_count": null,
   "metadata": {},
   "outputs": [
    {
     "name": "stdout",
     "output_type": "stream",
     "text": [
      "Loading weights from unsupervised pretraining\n"
     ]
    }
   ],
   "source": [
    "clf.fit(\n",
    "    X_train=X_train.values, \n",
    "    y_train=y_train.values,\n",
    "    eval_set=[(X_train.values, y_train.values), (X_valid.values, y_valid.values)],\n",
    "    eval_name=['train', 'valid'],\n",
    "    eval_metric=['logloss', 'f1'],\n",
    "    max_epochs=MAX_EPOCH, \n",
    "    patience=8,\n",
    "    batch_size=BATCH_SIZE, \n",
    "    virtual_batch_size=GHOST_BATCH,\n",
    "    num_workers=0,\n",
    "    weights=1,\n",
    "    drop_last=False,\n",
    "    from_unsupervised=pretrainer\n",
    ") "
   ]
  },
  {
   "cell_type": "code",
   "execution_count": null,
   "metadata": {},
   "outputs": [],
   "source": [
    "try:\n",
    "    clf.save_model(f\"../Model/clf_no_sampling\")\n",
    "except:\n",
    "    with open(f\"../Model/clf_no_sampling.pkl\", 'wb') as f:\n",
    "        pickle.dump(clf, f, protocol=pickle.HIGHEST_PROTOCOL)"
   ]
  }
 ],
 "metadata": {
  "kernelspec": {
   "display_name": "Python 3 (ipykernel)",
   "language": "python",
   "name": "python3"
  },
  "language_info": {
   "codemirror_mode": {
    "name": "ipython",
    "version": 3
   },
   "file_extension": ".py",
   "mimetype": "text/x-python",
   "name": "python",
   "nbconvert_exporter": "python",
   "pygments_lexer": "ipython3",
   "version": "3.9.12"
  }
 },
 "nbformat": 4,
 "nbformat_minor": 2
}
