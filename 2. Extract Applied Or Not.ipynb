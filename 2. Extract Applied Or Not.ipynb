{
 "cells": [
  {
   "cell_type": "markdown",
   "metadata": {},
   "source": [
    "# <font color='CC3D3D'> 0.2 Extract_Applied_Or_Not\n",
    "    \n",
    "- loan_result.csv와 user_spec.csv 파일을 합쳐 application id에 loan id를 달아줌\n",
    "- 시간 정보를 추출하여 유저별로 각 일자에 대출 신청을 했는지 하지 않았는지 구분\n",
    "    - <span style=\"color:blue\"> **loan_apply.csv** </span> 생성"
   ]
  },
  {
   "cell_type": "markdown",
   "metadata": {
    "id": "f6UxnB9Os2Iz"
   },
   "source": [
    "# Import"
   ]
  },
  {
   "cell_type": "code",
   "execution_count": 1,
   "metadata": {
    "id": "hlR7rj4hrS8Z"
   },
   "outputs": [],
   "source": [
    "import os\n",
    "import gc\n",
    "import pandas as pd\n",
    "import numpy as np\n",
    "import seaborn as sns\n",
    "import matplotlib as mpl  # 기본 설정 만지는 용도\n",
    "import matplotlib.pyplot as plt\n",
    "import matplotlib.font_manager as fm  # 폰트 관련 용도\n",
    "from IPython.display import display\n",
    "import warnings\n",
    "\n",
    "## for dimension reduction or feature selection\n",
    "from sklearn.decomposition import PCA\n",
    "from sklearn.linear_model import Lasso\n",
    "\n",
    "warnings.filterwarnings(\"ignore\")\n",
    "pd.set_option('display.max_columns', None)\n",
    "%matplotlib inline"
   ]
  },
  {
   "cell_type": "markdown",
   "metadata": {},
   "source": [
    "# Data Load"
   ]
  },
  {
   "cell_type": "code",
   "execution_count": 2,
   "metadata": {
    "id": "_wQiA9Yduytw"
   },
   "outputs": [],
   "source": [
    "loan = pd.read_csv(\"../Data/2022빅콘테스트_데이터분석리그_데이터분석분야_퓨처스부문_데이터셋_220908/loan_result.csv\", engine=\"python\")\n",
    "user = pd.read_csv(\"../Data/2022빅콘테스트_데이터분석리그_데이터분석분야_퓨처스부문_데이터셋_220908/user_spec.csv\", engine=\"python\")"
   ]
  },
  {
   "cell_type": "code",
   "execution_count": 3,
   "metadata": {
    "colab": {
     "base_uri": "https://localhost:8080/"
    },
    "id": "uySm3iBj3J-v",
    "outputId": "33242f53-358c-4ebd-b28f-6ea315b8c440"
   },
   "outputs": [
    {
     "data": {
      "text/html": [
       "<div>\n",
       "<style scoped>\n",
       "    .dataframe tbody tr th:only-of-type {\n",
       "        vertical-align: middle;\n",
       "    }\n",
       "\n",
       "    .dataframe tbody tr th {\n",
       "        vertical-align: top;\n",
       "    }\n",
       "\n",
       "    .dataframe thead th {\n",
       "        text-align: right;\n",
       "    }\n",
       "</style>\n",
       "<table border=\"1\" class=\"dataframe\">\n",
       "  <thead>\n",
       "    <tr style=\"text-align: right;\">\n",
       "      <th></th>\n",
       "      <th>application_id</th>\n",
       "      <th>user_id</th>\n",
       "      <th>birth_year</th>\n",
       "      <th>gender</th>\n",
       "      <th>insert_time</th>\n",
       "      <th>credit_score</th>\n",
       "      <th>yearly_income</th>\n",
       "      <th>income_type</th>\n",
       "      <th>company_enter_month</th>\n",
       "      <th>employment_type</th>\n",
       "      <th>houseown_type</th>\n",
       "      <th>desired_amount</th>\n",
       "      <th>purpose</th>\n",
       "      <th>personal_rehabilitation_yn</th>\n",
       "      <th>personal_rehabilitation_complete_yn</th>\n",
       "      <th>existing_loan_cnt</th>\n",
       "      <th>existing_loan_amt</th>\n",
       "    </tr>\n",
       "  </thead>\n",
       "  <tbody>\n",
       "  </tbody>\n",
       "</table>\n",
       "</div>"
      ],
      "text/plain": [
       "Empty DataFrame\n",
       "Columns: [application_id, user_id, birth_year, gender, insert_time, credit_score, yearly_income, income_type, company_enter_month, employment_type, houseown_type, desired_amount, purpose, personal_rehabilitation_yn, personal_rehabilitation_complete_yn, existing_loan_cnt, existing_loan_amt]\n",
       "Index: []"
      ]
     },
     "execution_count": 3,
     "metadata": {},
     "output_type": "execute_result"
    }
   ],
   "source": [
    "user[user['user_id'] == 879698]"
   ]
  },
  {
   "cell_type": "markdown",
   "metadata": {},
   "source": [
    "# Log Data Preprocessing"
   ]
  },
  {
   "cell_type": "code",
   "execution_count": 4,
   "metadata": {
    "id": "Jwoj6uHa5--S"
   },
   "outputs": [],
   "source": [
    "def AddDate(df:pd.DataFrame, key:str, add_day:bool=False, add_time:bool=False) -> None:\n",
    "    df[key] = pd.to_datetime(df[key])\n",
    "    df[f\"{key}_year\"] = df[key].dt.year\n",
    "    df[f\"{key}_month\"] = df[key].dt.month\n",
    "    if add_day:\n",
    "        df[f\"{key}_day\"] = df[key].dt.day\n",
    "    if add_time:\n",
    "        df[f\"{key}_hour\"] = df[key].dt.hour\n",
    "        df[f\"{key}_min\"] = df[key].dt.minute\n",
    "        df[f\"{key}_sec\"] = df[key].dt.second"
   ]
  },
  {
   "cell_type": "markdown",
   "metadata": {
    "id": "Xu-yGe-jKoCX"
   },
   "source": [
    "* apply한 날을 일단 추출 - 6월 이전의 데이터에 대해서만"
   ]
  },
  {
   "cell_type": "code",
   "execution_count": 5,
   "metadata": {
    "id": "OW4Q6972HQh_"
   },
   "outputs": [],
   "source": [
    "loan['insert_date'] = pd.to_datetime(loan['loanapply_insert_time']).dt.date"
   ]
  },
  {
   "cell_type": "code",
   "execution_count": 6,
   "metadata": {
    "colab": {
     "base_uri": "https://localhost:8080/"
    },
    "id": "5oYXvQsbaLSN",
    "outputId": "364835da-6a77-4255-9a53-1e8c68fff2f3"
   },
   "outputs": [
    {
     "name": "stdout",
     "output_type": "stream",
     "text": [
      "<class 'pandas.core.frame.DataFrame'>\n",
      "RangeIndex: 13527363 entries, 0 to 13527362\n",
      "Data columns (total 8 columns):\n",
      " #   Column                 Dtype  \n",
      "---  ------                 -----  \n",
      " 0   application_id         int64  \n",
      " 1   loanapply_insert_time  object \n",
      " 2   bank_id                int64  \n",
      " 3   product_id             int64  \n",
      " 4   loan_limit             float64\n",
      " 5   loan_rate              float64\n",
      " 6   is_applied             float64\n",
      " 7   insert_date            object \n",
      "dtypes: float64(3), int64(3), object(2)\n",
      "memory usage: 825.6+ MB\n"
     ]
    }
   ],
   "source": [
    "loan.info()"
   ]
  },
  {
   "cell_type": "code",
   "execution_count": 7,
   "metadata": {
    "id": "FUktut5qaQbs"
   },
   "outputs": [],
   "source": [
    "loan['month'] = pd.to_datetime(loan['insert_date']).dt.month\n",
    "loan = loan[loan['month'] < 6]\n",
    "loan.drop('month', axis=1, inplace=True)"
   ]
  },
  {
   "cell_type": "code",
   "execution_count": 8,
   "metadata": {
    "colab": {
     "base_uri": "https://localhost:8080/"
    },
    "id": "ZDFJjh0TTXUy",
    "outputId": "115866f7-c1a6-4a97-af1e-2746d4ae3e47"
   },
   "outputs": [
    {
     "data": {
      "text/plain": [
       "application_id              0\n",
       "loanapply_insert_time       0\n",
       "bank_id                     0\n",
       "product_id                  0\n",
       "loan_limit               5738\n",
       "loan_rate                5738\n",
       "is_applied                  0\n",
       "insert_date                 0\n",
       "dtype: int64"
      ]
     },
     "execution_count": 8,
     "metadata": {},
     "output_type": "execute_result"
    }
   ],
   "source": [
    "loan.isnull().sum()"
   ]
  },
  {
   "cell_type": "code",
   "execution_count": 9,
   "metadata": {
    "colab": {
     "base_uri": "https://localhost:8080/"
    },
    "id": "B_ng6YyWLfKU",
    "outputId": "7ffa1c14-96c7-4da1-b3c6-0c4a96bb6f29"
   },
   "outputs": [
    {
     "data": {
      "text/plain": [
       "1394216"
      ]
     },
     "execution_count": 9,
     "metadata": {},
     "output_type": "execute_result"
    }
   ],
   "source": [
    "app_user = {user['application_id'].iloc[i]: user['user_id'].iloc[i] for i in range(user.shape[0])}\n",
    "len(app_user)"
   ]
  },
  {
   "cell_type": "code",
   "execution_count": 10,
   "metadata": {
    "colab": {
     "base_uri": "https://localhost:8080/"
    },
    "id": "NAcMnLumF5mp",
    "outputId": "ddb39136-1447-4e70-e2a2-4066607d77b9"
   },
   "outputs": [
    {
     "data": {
      "text/plain": [
       "1394216"
      ]
     },
     "execution_count": 10,
     "metadata": {},
     "output_type": "execute_result"
    }
   ],
   "source": [
    "user['application_id'].nunique()"
   ]
  },
  {
   "cell_type": "code",
   "execution_count": 11,
   "metadata": {
    "colab": {
     "base_uri": "https://localhost:8080/"
    },
    "id": "VvLJrHVRKjAz",
    "outputId": "a79c0536-a2e2-482c-cd95-80129f7e6144"
   },
   "outputs": [
    {
     "data": {
      "text/plain": [
       "728997"
      ]
     },
     "execution_count": 11,
     "metadata": {},
     "output_type": "execute_result"
    }
   ],
   "source": [
    "loan['application_id'].nunique()"
   ]
  },
  {
   "cell_type": "code",
   "execution_count": 12,
   "metadata": {
    "colab": {
     "base_uri": "https://localhost:8080/",
     "height": 206
    },
    "id": "vGJuKS0dF252",
    "outputId": "a0998b17-bd17-485b-9e9a-6450a59f2640"
   },
   "outputs": [
    {
     "data": {
      "text/html": [
       "<div>\n",
       "<style scoped>\n",
       "    .dataframe tbody tr th:only-of-type {\n",
       "        vertical-align: middle;\n",
       "    }\n",
       "\n",
       "    .dataframe tbody tr th {\n",
       "        vertical-align: top;\n",
       "    }\n",
       "\n",
       "    .dataframe thead th {\n",
       "        text-align: right;\n",
       "    }\n",
       "</style>\n",
       "<table border=\"1\" class=\"dataframe\">\n",
       "  <thead>\n",
       "    <tr style=\"text-align: right;\">\n",
       "      <th></th>\n",
       "      <th>application_id</th>\n",
       "      <th>loanapply_insert_time</th>\n",
       "      <th>bank_id</th>\n",
       "      <th>product_id</th>\n",
       "      <th>loan_limit</th>\n",
       "      <th>loan_rate</th>\n",
       "      <th>is_applied</th>\n",
       "      <th>insert_date</th>\n",
       "      <th>user_id</th>\n",
       "    </tr>\n",
       "  </thead>\n",
       "  <tbody>\n",
       "    <tr>\n",
       "      <th>13284</th>\n",
       "      <td>2157865</td>\n",
       "      <td>2022-05-09 08:44:59</td>\n",
       "      <td>54</td>\n",
       "      <td>235</td>\n",
       "      <td>20000000.0</td>\n",
       "      <td>16.5</td>\n",
       "      <td>1.0</td>\n",
       "      <td>2022-05-09</td>\n",
       "      <td>346970.0</td>\n",
       "    </tr>\n",
       "    <tr>\n",
       "      <th>13285</th>\n",
       "      <td>576643</td>\n",
       "      <td>2022-05-09 10:54:53</td>\n",
       "      <td>54</td>\n",
       "      <td>235</td>\n",
       "      <td>11000000.0</td>\n",
       "      <td>16.5</td>\n",
       "      <td>0.0</td>\n",
       "      <td>2022-05-09</td>\n",
       "      <td>545882.0</td>\n",
       "    </tr>\n",
       "    <tr>\n",
       "      <th>13286</th>\n",
       "      <td>576643</td>\n",
       "      <td>2022-05-09 10:54:53</td>\n",
       "      <td>11</td>\n",
       "      <td>118</td>\n",
       "      <td>3000000.0</td>\n",
       "      <td>20.0</td>\n",
       "      <td>0.0</td>\n",
       "      <td>2022-05-09</td>\n",
       "      <td>545882.0</td>\n",
       "    </tr>\n",
       "    <tr>\n",
       "      <th>13287</th>\n",
       "      <td>2136706</td>\n",
       "      <td>2022-05-09 10:41:06</td>\n",
       "      <td>42</td>\n",
       "      <td>216</td>\n",
       "      <td>10000000.0</td>\n",
       "      <td>13.5</td>\n",
       "      <td>0.0</td>\n",
       "      <td>2022-05-09</td>\n",
       "      <td>558819.0</td>\n",
       "    </tr>\n",
       "    <tr>\n",
       "      <th>13288</th>\n",
       "      <td>2136706</td>\n",
       "      <td>2022-05-09 10:41:07</td>\n",
       "      <td>25</td>\n",
       "      <td>169</td>\n",
       "      <td>22000000.0</td>\n",
       "      <td>15.9</td>\n",
       "      <td>0.0</td>\n",
       "      <td>2022-05-09</td>\n",
       "      <td>558819.0</td>\n",
       "    </tr>\n",
       "  </tbody>\n",
       "</table>\n",
       "</div>"
      ],
      "text/plain": [
       "       application_id loanapply_insert_time  bank_id  product_id  loan_limit  \\\n",
       "13284         2157865   2022-05-09 08:44:59       54         235  20000000.0   \n",
       "13285          576643   2022-05-09 10:54:53       54         235  11000000.0   \n",
       "13286          576643   2022-05-09 10:54:53       11         118   3000000.0   \n",
       "13287         2136706   2022-05-09 10:41:06       42         216  10000000.0   \n",
       "13288         2136706   2022-05-09 10:41:07       25         169  22000000.0   \n",
       "\n",
       "       loan_rate  is_applied insert_date   user_id  \n",
       "13284       16.5         1.0  2022-05-09  346970.0  \n",
       "13285       16.5         0.0  2022-05-09  545882.0  \n",
       "13286       20.0         0.0  2022-05-09  545882.0  \n",
       "13287       13.5         0.0  2022-05-09  558819.0  \n",
       "13288       15.9         0.0  2022-05-09  558819.0  "
      ]
     },
     "execution_count": 12,
     "metadata": {},
     "output_type": "execute_result"
    }
   ],
   "source": [
    "loan['user_id'] = loan['application_id'].map(app_user)\n",
    "loan.head()"
   ]
  },
  {
   "cell_type": "code",
   "execution_count": 13,
   "metadata": {
    "colab": {
     "base_uri": "https://localhost:8080/"
    },
    "id": "xi4n6FcXTZqD",
    "outputId": "ce422217-7fd8-4609-d6ea-8716cb3c1679"
   },
   "outputs": [
    {
     "data": {
      "text/plain": [
       "application_id              0\n",
       "loanapply_insert_time       0\n",
       "bank_id                     0\n",
       "product_id                  0\n",
       "loan_limit               5738\n",
       "loan_rate                5738\n",
       "is_applied                  0\n",
       "insert_date                 0\n",
       "user_id                   113\n",
       "dtype: int64"
      ]
     },
     "execution_count": 13,
     "metadata": {},
     "output_type": "execute_result"
    }
   ],
   "source": [
    "loan.isnull().sum()"
   ]
  },
  {
   "cell_type": "markdown",
   "metadata": {
    "id": "usqhSgQrdXC6"
   },
   "source": [
    "* 113명의 유저 아이디가 loan의 application id와 매핑되지 않는다!"
   ]
  },
  {
   "cell_type": "code",
   "execution_count": 14,
   "metadata": {
    "colab": {
     "base_uri": "https://localhost:8080/"
    },
    "id": "1fS1L9Olct_V",
    "outputId": "3e68e045-27de-4781-a6d6-3697b23adf8a"
   },
   "outputs": [
    {
     "data": {
      "text/plain": [
       "application_id                               0\n",
       "user_id                                      0\n",
       "birth_year                               12961\n",
       "gender                                   12961\n",
       "insert_time                                  0\n",
       "credit_score                            105115\n",
       "yearly_income                               90\n",
       "income_type                                 85\n",
       "company_enter_month                     171760\n",
       "employment_type                             85\n",
       "houseown_type                               85\n",
       "desired_amount                              85\n",
       "purpose                                     85\n",
       "personal_rehabilitation_yn              587461\n",
       "personal_rehabilitation_complete_yn    1203354\n",
       "existing_loan_cnt                       198556\n",
       "existing_loan_amt                       313774\n",
       "dtype: int64"
      ]
     },
     "execution_count": 14,
     "metadata": {},
     "output_type": "execute_result"
    }
   ],
   "source": [
    "user.isnull().sum()"
   ]
  },
  {
   "cell_type": "code",
   "execution_count": 15,
   "metadata": {
    "colab": {
     "base_uri": "https://localhost:8080/",
     "height": 206
    },
    "id": "euj-J_X22haq",
    "outputId": "bc1ec953-92f0-480f-caa3-3e31fe10d5f5"
   },
   "outputs": [
    {
     "data": {
      "text/html": [
       "<div>\n",
       "<style scoped>\n",
       "    .dataframe tbody tr th:only-of-type {\n",
       "        vertical-align: middle;\n",
       "    }\n",
       "\n",
       "    .dataframe tbody tr th {\n",
       "        vertical-align: top;\n",
       "    }\n",
       "\n",
       "    .dataframe thead th {\n",
       "        text-align: right;\n",
       "    }\n",
       "</style>\n",
       "<table border=\"1\" class=\"dataframe\">\n",
       "  <thead>\n",
       "    <tr style=\"text-align: right;\">\n",
       "      <th></th>\n",
       "      <th>application_id</th>\n",
       "      <th>loanapply_insert_time</th>\n",
       "      <th>bank_id</th>\n",
       "      <th>product_id</th>\n",
       "      <th>loan_limit</th>\n",
       "      <th>loan_rate</th>\n",
       "      <th>is_applied</th>\n",
       "      <th>insert_date</th>\n",
       "      <th>user_id</th>\n",
       "    </tr>\n",
       "  </thead>\n",
       "  <tbody>\n",
       "    <tr>\n",
       "      <th>108</th>\n",
       "      <td>450452</td>\n",
       "      <td>2022-05-20 17:53:11</td>\n",
       "      <td>22</td>\n",
       "      <td>124</td>\n",
       "      <td>NaN</td>\n",
       "      <td>NaN</td>\n",
       "      <td>1.0</td>\n",
       "      <td>2022-05-20</td>\n",
       "      <td>NaN</td>\n",
       "    </tr>\n",
       "    <tr>\n",
       "      <th>109</th>\n",
       "      <td>889541</td>\n",
       "      <td>2022-05-20 17:53:12</td>\n",
       "      <td>22</td>\n",
       "      <td>124</td>\n",
       "      <td>NaN</td>\n",
       "      <td>NaN</td>\n",
       "      <td>1.0</td>\n",
       "      <td>2022-05-20</td>\n",
       "      <td>NaN</td>\n",
       "    </tr>\n",
       "    <tr>\n",
       "      <th>110</th>\n",
       "      <td>1756845</td>\n",
       "      <td>2022-05-20 17:54:05</td>\n",
       "      <td>22</td>\n",
       "      <td>124</td>\n",
       "      <td>NaN</td>\n",
       "      <td>NaN</td>\n",
       "      <td>1.0</td>\n",
       "      <td>2022-05-20</td>\n",
       "      <td>NaN</td>\n",
       "    </tr>\n",
       "    <tr>\n",
       "      <th>111</th>\n",
       "      <td>1907865</td>\n",
       "      <td>2022-05-20 17:53:11</td>\n",
       "      <td>22</td>\n",
       "      <td>124</td>\n",
       "      <td>NaN</td>\n",
       "      <td>NaN</td>\n",
       "      <td>1.0</td>\n",
       "      <td>2022-05-20</td>\n",
       "      <td>NaN</td>\n",
       "    </tr>\n",
       "    <tr>\n",
       "      <th>112</th>\n",
       "      <td>1979792</td>\n",
       "      <td>2022-05-20 17:53:59</td>\n",
       "      <td>22</td>\n",
       "      <td>124</td>\n",
       "      <td>NaN</td>\n",
       "      <td>NaN</td>\n",
       "      <td>1.0</td>\n",
       "      <td>2022-05-20</td>\n",
       "      <td>NaN</td>\n",
       "    </tr>\n",
       "  </tbody>\n",
       "</table>\n",
       "</div>"
      ],
      "text/plain": [
       "     application_id loanapply_insert_time  bank_id  product_id  loan_limit  \\\n",
       "108          450452   2022-05-20 17:53:11       22         124         NaN   \n",
       "109          889541   2022-05-20 17:53:12       22         124         NaN   \n",
       "110         1756845   2022-05-20 17:54:05       22         124         NaN   \n",
       "111         1907865   2022-05-20 17:53:11       22         124         NaN   \n",
       "112         1979792   2022-05-20 17:53:59       22         124         NaN   \n",
       "\n",
       "     loan_rate  is_applied insert_date  user_id  \n",
       "108        NaN         1.0  2022-05-20      NaN  \n",
       "109        NaN         1.0  2022-05-20      NaN  \n",
       "110        NaN         1.0  2022-05-20      NaN  \n",
       "111        NaN         1.0  2022-05-20      NaN  \n",
       "112        NaN         1.0  2022-05-20      NaN  "
      ]
     },
     "execution_count": 15,
     "metadata": {},
     "output_type": "execute_result"
    }
   ],
   "source": [
    "app_nulls = loan[loan['user_id'].isna()]\n",
    "app_nulls['insert_date'] = pd.to_datetime(app_nulls['insert_date'])\n",
    "\n",
    "app_nulls.sort_values(by='insert_date', inplace=True)\n",
    "app_nulls.reset_index(drop=True, inplace=True)\n",
    "\n",
    "app_nulls.tail()"
   ]
  },
  {
   "cell_type": "code",
   "execution_count": 16,
   "metadata": {
    "colab": {
     "base_uri": "https://localhost:8080/"
    },
    "id": "T81C1vXqbBL8",
    "outputId": "e4ccca1c-ca75-415a-8c30-185d07e2d3fa"
   },
   "outputs": [
    {
     "data": {
      "text/plain": [
       "application_id              0\n",
       "loanapply_insert_time       0\n",
       "bank_id                     0\n",
       "product_id                  0\n",
       "loan_limit               5625\n",
       "loan_rate                5625\n",
       "is_applied                  0\n",
       "insert_date                 0\n",
       "user_id                     0\n",
       "dtype: int64"
      ]
     },
     "execution_count": 16,
     "metadata": {},
     "output_type": "execute_result"
    }
   ],
   "source": [
    "loan.dropna(subset=['user_id'], inplace=True)\n",
    "loan.isnull().sum()"
   ]
  },
  {
   "cell_type": "code",
   "execution_count": 17,
   "metadata": {
    "colab": {
     "base_uri": "https://localhost:8080/",
     "height": 424
    },
    "id": "9AWXQNxUNKrc",
    "outputId": "b6e2162d-ea70-411d-c753-6ee2066fcffc"
   },
   "outputs": [
    {
     "data": {
      "text/html": [
       "<div>\n",
       "<style scoped>\n",
       "    .dataframe tbody tr th:only-of-type {\n",
       "        vertical-align: middle;\n",
       "    }\n",
       "\n",
       "    .dataframe tbody tr th {\n",
       "        vertical-align: top;\n",
       "    }\n",
       "\n",
       "    .dataframe thead th {\n",
       "        text-align: right;\n",
       "    }\n",
       "</style>\n",
       "<table border=\"1\" class=\"dataframe\">\n",
       "  <thead>\n",
       "    <tr style=\"text-align: right;\">\n",
       "      <th></th>\n",
       "      <th>user_id</th>\n",
       "      <th>insert_date</th>\n",
       "      <th>is_applied</th>\n",
       "    </tr>\n",
       "  </thead>\n",
       "  <tbody>\n",
       "    <tr>\n",
       "      <th>13284</th>\n",
       "      <td>346970.0</td>\n",
       "      <td>2022-05-09</td>\n",
       "      <td>1.0</td>\n",
       "    </tr>\n",
       "    <tr>\n",
       "      <th>13285</th>\n",
       "      <td>545882.0</td>\n",
       "      <td>2022-05-09</td>\n",
       "      <td>0.0</td>\n",
       "    </tr>\n",
       "    <tr>\n",
       "      <th>13286</th>\n",
       "      <td>545882.0</td>\n",
       "      <td>2022-05-09</td>\n",
       "      <td>0.0</td>\n",
       "    </tr>\n",
       "    <tr>\n",
       "      <th>13287</th>\n",
       "      <td>558819.0</td>\n",
       "      <td>2022-05-09</td>\n",
       "      <td>0.0</td>\n",
       "    </tr>\n",
       "    <tr>\n",
       "      <th>13288</th>\n",
       "      <td>558819.0</td>\n",
       "      <td>2022-05-09</td>\n",
       "      <td>0.0</td>\n",
       "    </tr>\n",
       "    <tr>\n",
       "      <th>...</th>\n",
       "      <td>...</td>\n",
       "      <td>...</td>\n",
       "      <td>...</td>\n",
       "    </tr>\n",
       "    <tr>\n",
       "      <th>13519634</th>\n",
       "      <td>109899.0</td>\n",
       "      <td>2022-05-16</td>\n",
       "      <td>0.0</td>\n",
       "    </tr>\n",
       "    <tr>\n",
       "      <th>13519635</th>\n",
       "      <td>109899.0</td>\n",
       "      <td>2022-05-16</td>\n",
       "      <td>0.0</td>\n",
       "    </tr>\n",
       "    <tr>\n",
       "      <th>13519636</th>\n",
       "      <td>109899.0</td>\n",
       "      <td>2022-05-16</td>\n",
       "      <td>0.0</td>\n",
       "    </tr>\n",
       "    <tr>\n",
       "      <th>13519637</th>\n",
       "      <td>109899.0</td>\n",
       "      <td>2022-05-16</td>\n",
       "      <td>0.0</td>\n",
       "    </tr>\n",
       "    <tr>\n",
       "      <th>13519638</th>\n",
       "      <td>109899.0</td>\n",
       "      <td>2022-05-16</td>\n",
       "      <td>0.0</td>\n",
       "    </tr>\n",
       "  </tbody>\n",
       "</table>\n",
       "<p>10270011 rows × 3 columns</p>\n",
       "</div>"
      ],
      "text/plain": [
       "           user_id insert_date  is_applied\n",
       "13284     346970.0  2022-05-09         1.0\n",
       "13285     545882.0  2022-05-09         0.0\n",
       "13286     545882.0  2022-05-09         0.0\n",
       "13287     558819.0  2022-05-09         0.0\n",
       "13288     558819.0  2022-05-09         0.0\n",
       "...            ...         ...         ...\n",
       "13519634  109899.0  2022-05-16         0.0\n",
       "13519635  109899.0  2022-05-16         0.0\n",
       "13519636  109899.0  2022-05-16         0.0\n",
       "13519637  109899.0  2022-05-16         0.0\n",
       "13519638  109899.0  2022-05-16         0.0\n",
       "\n",
       "[10270011 rows x 3 columns]"
      ]
     },
     "metadata": {},
     "output_type": "display_data"
    }
   ],
   "source": [
    "loan_apply = loan[['user_id', 'insert_date', 'is_applied']]\n",
    "display(loan_apply)"
   ]
  },
  {
   "cell_type": "code",
   "execution_count": 18,
   "metadata": {
    "colab": {
     "base_uri": "https://localhost:8080/",
     "height": 424
    },
    "id": "TsFfaFdkMKFU",
    "outputId": "bbe7fd0c-fdba-4fa9-a296-840669651b16"
   },
   "outputs": [
    {
     "data": {
      "text/html": [
       "<div>\n",
       "<style scoped>\n",
       "    .dataframe tbody tr th:only-of-type {\n",
       "        vertical-align: middle;\n",
       "    }\n",
       "\n",
       "    .dataframe tbody tr th {\n",
       "        vertical-align: top;\n",
       "    }\n",
       "\n",
       "    .dataframe thead th {\n",
       "        text-align: right;\n",
       "    }\n",
       "</style>\n",
       "<table border=\"1\" class=\"dataframe\">\n",
       "  <thead>\n",
       "    <tr style=\"text-align: right;\">\n",
       "      <th></th>\n",
       "      <th>user_id</th>\n",
       "      <th>insert_date</th>\n",
       "      <th>is_applied</th>\n",
       "    </tr>\n",
       "  </thead>\n",
       "  <tbody>\n",
       "    <tr>\n",
       "      <th>13284</th>\n",
       "      <td>346970.0</td>\n",
       "      <td>2022-05-09</td>\n",
       "      <td>1.0</td>\n",
       "    </tr>\n",
       "    <tr>\n",
       "      <th>13285</th>\n",
       "      <td>545882.0</td>\n",
       "      <td>2022-05-09</td>\n",
       "      <td>0.0</td>\n",
       "    </tr>\n",
       "    <tr>\n",
       "      <th>13287</th>\n",
       "      <td>558819.0</td>\n",
       "      <td>2022-05-09</td>\n",
       "      <td>0.0</td>\n",
       "    </tr>\n",
       "    <tr>\n",
       "      <th>13304</th>\n",
       "      <td>558819.0</td>\n",
       "      <td>2022-05-09</td>\n",
       "      <td>1.0</td>\n",
       "    </tr>\n",
       "    <tr>\n",
       "      <th>13327</th>\n",
       "      <td>341662.0</td>\n",
       "      <td>2022-05-09</td>\n",
       "      <td>0.0</td>\n",
       "    </tr>\n",
       "    <tr>\n",
       "      <th>...</th>\n",
       "      <td>...</td>\n",
       "      <td>...</td>\n",
       "      <td>...</td>\n",
       "    </tr>\n",
       "    <tr>\n",
       "      <th>13519613</th>\n",
       "      <td>386186.0</td>\n",
       "      <td>2022-05-16</td>\n",
       "      <td>0.0</td>\n",
       "    </tr>\n",
       "    <tr>\n",
       "      <th>13519617</th>\n",
       "      <td>879596.0</td>\n",
       "      <td>2022-05-16</td>\n",
       "      <td>1.0</td>\n",
       "    </tr>\n",
       "    <tr>\n",
       "      <th>13519618</th>\n",
       "      <td>879596.0</td>\n",
       "      <td>2022-05-16</td>\n",
       "      <td>0.0</td>\n",
       "    </tr>\n",
       "    <tr>\n",
       "      <th>13519620</th>\n",
       "      <td>601384.0</td>\n",
       "      <td>2022-05-16</td>\n",
       "      <td>1.0</td>\n",
       "    </tr>\n",
       "    <tr>\n",
       "      <th>13519622</th>\n",
       "      <td>601384.0</td>\n",
       "      <td>2022-05-16</td>\n",
       "      <td>0.0</td>\n",
       "    </tr>\n",
       "  </tbody>\n",
       "</table>\n",
       "<p>965666 rows × 3 columns</p>\n",
       "</div>"
      ],
      "text/plain": [
       "           user_id insert_date  is_applied\n",
       "13284     346970.0  2022-05-09         1.0\n",
       "13285     545882.0  2022-05-09         0.0\n",
       "13287     558819.0  2022-05-09         0.0\n",
       "13304     558819.0  2022-05-09         1.0\n",
       "13327     341662.0  2022-05-09         0.0\n",
       "...            ...         ...         ...\n",
       "13519613  386186.0  2022-05-16         0.0\n",
       "13519617  879596.0  2022-05-16         1.0\n",
       "13519618  879596.0  2022-05-16         0.0\n",
       "13519620  601384.0  2022-05-16         1.0\n",
       "13519622  601384.0  2022-05-16         0.0\n",
       "\n",
       "[965666 rows x 3 columns]"
      ]
     },
     "metadata": {},
     "output_type": "display_data"
    }
   ],
   "source": [
    "loan_apply.drop_duplicates(inplace=True)\n",
    "display(loan_apply)"
   ]
  },
  {
   "cell_type": "code",
   "execution_count": 19,
   "metadata": {
    "colab": {
     "base_uri": "https://localhost:8080/",
     "height": 424
    },
    "id": "cc85JJsvRHcr",
    "outputId": "9c3ca7ae-4709-4167-a65d-a5d935391e3f"
   },
   "outputs": [
    {
     "data": {
      "text/html": [
       "<div>\n",
       "<style scoped>\n",
       "    .dataframe tbody tr th:only-of-type {\n",
       "        vertical-align: middle;\n",
       "    }\n",
       "\n",
       "    .dataframe tbody tr th {\n",
       "        vertical-align: top;\n",
       "    }\n",
       "\n",
       "    .dataframe thead th {\n",
       "        text-align: right;\n",
       "    }\n",
       "</style>\n",
       "<table border=\"1\" class=\"dataframe\">\n",
       "  <thead>\n",
       "    <tr style=\"text-align: right;\">\n",
       "      <th></th>\n",
       "      <th>user_id</th>\n",
       "      <th>insert_date</th>\n",
       "      <th>is_applied</th>\n",
       "    </tr>\n",
       "  </thead>\n",
       "  <tbody>\n",
       "    <tr>\n",
       "      <th>0</th>\n",
       "      <td>9.0</td>\n",
       "      <td>2022-05-21</td>\n",
       "      <td>0.0</td>\n",
       "    </tr>\n",
       "    <tr>\n",
       "      <th>1</th>\n",
       "      <td>11.0</td>\n",
       "      <td>2022-03-24</td>\n",
       "      <td>0.0</td>\n",
       "    </tr>\n",
       "    <tr>\n",
       "      <th>2</th>\n",
       "      <td>11.0</td>\n",
       "      <td>2022-03-24</td>\n",
       "      <td>1.0</td>\n",
       "    </tr>\n",
       "    <tr>\n",
       "      <th>3</th>\n",
       "      <td>11.0</td>\n",
       "      <td>2022-04-20</td>\n",
       "      <td>0.0</td>\n",
       "    </tr>\n",
       "    <tr>\n",
       "      <th>4</th>\n",
       "      <td>11.0</td>\n",
       "      <td>2022-04-20</td>\n",
       "      <td>1.0</td>\n",
       "    </tr>\n",
       "    <tr>\n",
       "      <th>...</th>\n",
       "      <td>...</td>\n",
       "      <td>...</td>\n",
       "      <td>...</td>\n",
       "    </tr>\n",
       "    <tr>\n",
       "      <th>965661</th>\n",
       "      <td>879695.0</td>\n",
       "      <td>2022-05-27</td>\n",
       "      <td>0.0</td>\n",
       "    </tr>\n",
       "    <tr>\n",
       "      <th>965662</th>\n",
       "      <td>879695.0</td>\n",
       "      <td>2022-05-27</td>\n",
       "      <td>1.0</td>\n",
       "    </tr>\n",
       "    <tr>\n",
       "      <th>965663</th>\n",
       "      <td>879696.0</td>\n",
       "      <td>2022-03-14</td>\n",
       "      <td>0.0</td>\n",
       "    </tr>\n",
       "    <tr>\n",
       "      <th>965664</th>\n",
       "      <td>879696.0</td>\n",
       "      <td>2022-03-14</td>\n",
       "      <td>1.0</td>\n",
       "    </tr>\n",
       "    <tr>\n",
       "      <th>965665</th>\n",
       "      <td>879697.0</td>\n",
       "      <td>2022-05-10</td>\n",
       "      <td>0.0</td>\n",
       "    </tr>\n",
       "  </tbody>\n",
       "</table>\n",
       "<p>965666 rows × 3 columns</p>\n",
       "</div>"
      ],
      "text/plain": [
       "         user_id insert_date  is_applied\n",
       "0            9.0  2022-05-21         0.0\n",
       "1           11.0  2022-03-24         0.0\n",
       "2           11.0  2022-03-24         1.0\n",
       "3           11.0  2022-04-20         0.0\n",
       "4           11.0  2022-04-20         1.0\n",
       "...          ...         ...         ...\n",
       "965661  879695.0  2022-05-27         0.0\n",
       "965662  879695.0  2022-05-27         1.0\n",
       "965663  879696.0  2022-03-14         0.0\n",
       "965664  879696.0  2022-03-14         1.0\n",
       "965665  879697.0  2022-05-10         0.0\n",
       "\n",
       "[965666 rows x 3 columns]"
      ]
     },
     "execution_count": 19,
     "metadata": {},
     "output_type": "execute_result"
    }
   ],
   "source": [
    "loan_apply.sort_values(by=['user_id', 'insert_date'], inplace=True)\n",
    "loan_apply.reset_index(drop=True, inplace=True)\n",
    "loan_apply"
   ]
  },
  {
   "cell_type": "code",
   "execution_count": 20,
   "metadata": {
    "colab": {
     "base_uri": "https://localhost:8080/",
     "height": 455
    },
    "id": "4fYDIM7PMOMm",
    "outputId": "c22aabf1-4b05-4ae3-83f1-e356936bbc72"
   },
   "outputs": [
    {
     "data": {
      "text/html": [
       "<div>\n",
       "<style scoped>\n",
       "    .dataframe tbody tr th:only-of-type {\n",
       "        vertical-align: middle;\n",
       "    }\n",
       "\n",
       "    .dataframe tbody tr th {\n",
       "        vertical-align: top;\n",
       "    }\n",
       "\n",
       "    .dataframe thead th {\n",
       "        text-align: right;\n",
       "    }\n",
       "</style>\n",
       "<table border=\"1\" class=\"dataframe\">\n",
       "  <thead>\n",
       "    <tr style=\"text-align: right;\">\n",
       "      <th></th>\n",
       "      <th></th>\n",
       "      <th>is_applied</th>\n",
       "    </tr>\n",
       "    <tr>\n",
       "      <th>user_id</th>\n",
       "      <th>insert_date</th>\n",
       "      <th></th>\n",
       "    </tr>\n",
       "  </thead>\n",
       "  <tbody>\n",
       "    <tr>\n",
       "      <th>9.0</th>\n",
       "      <th>2022-05-21</th>\n",
       "      <td>0.0</td>\n",
       "    </tr>\n",
       "    <tr>\n",
       "      <th rowspan=\"2\" valign=\"top\">11.0</th>\n",
       "      <th>2022-03-24</th>\n",
       "      <td>1.0</td>\n",
       "    </tr>\n",
       "    <tr>\n",
       "      <th>2022-04-20</th>\n",
       "      <td>1.0</td>\n",
       "    </tr>\n",
       "    <tr>\n",
       "      <th>14.0</th>\n",
       "      <th>2022-04-18</th>\n",
       "      <td>0.0</td>\n",
       "    </tr>\n",
       "    <tr>\n",
       "      <th>17.0</th>\n",
       "      <th>2022-03-06</th>\n",
       "      <td>1.0</td>\n",
       "    </tr>\n",
       "    <tr>\n",
       "      <th>...</th>\n",
       "      <th>...</th>\n",
       "      <td>...</td>\n",
       "    </tr>\n",
       "    <tr>\n",
       "      <th rowspan=\"2\" valign=\"top\">879693.0</th>\n",
       "      <th>2022-05-17</th>\n",
       "      <td>0.0</td>\n",
       "    </tr>\n",
       "    <tr>\n",
       "      <th>2022-05-20</th>\n",
       "      <td>1.0</td>\n",
       "    </tr>\n",
       "    <tr>\n",
       "      <th>879695.0</th>\n",
       "      <th>2022-05-27</th>\n",
       "      <td>1.0</td>\n",
       "    </tr>\n",
       "    <tr>\n",
       "      <th>879696.0</th>\n",
       "      <th>2022-03-14</th>\n",
       "      <td>1.0</td>\n",
       "    </tr>\n",
       "    <tr>\n",
       "      <th>879697.0</th>\n",
       "      <th>2022-05-10</th>\n",
       "      <td>0.0</td>\n",
       "    </tr>\n",
       "  </tbody>\n",
       "</table>\n",
       "<p>668681 rows × 1 columns</p>\n",
       "</div>"
      ],
      "text/plain": [
       "                      is_applied\n",
       "user_id  insert_date            \n",
       "9.0      2022-05-21          0.0\n",
       "11.0     2022-03-24          1.0\n",
       "         2022-04-20          1.0\n",
       "14.0     2022-04-18          0.0\n",
       "17.0     2022-03-06          1.0\n",
       "...                          ...\n",
       "879693.0 2022-05-17          0.0\n",
       "         2022-05-20          1.0\n",
       "879695.0 2022-05-27          1.0\n",
       "879696.0 2022-03-14          1.0\n",
       "879697.0 2022-05-10          0.0\n",
       "\n",
       "[668681 rows x 1 columns]"
      ]
     },
     "execution_count": 20,
     "metadata": {},
     "output_type": "execute_result"
    }
   ],
   "source": [
    "loan_total = loan_apply.groupby(by=['user_id', 'insert_date']).sum()\n",
    "loan_total"
   ]
  },
  {
   "cell_type": "code",
   "execution_count": 21,
   "metadata": {
    "colab": {
     "base_uri": "https://localhost:8080/",
     "height": 424
    },
    "id": "tNy3lfGJfmpD",
    "outputId": "e3aeebe7-995b-48cd-91f8-9f0af8956621"
   },
   "outputs": [
    {
     "data": {
      "text/html": [
       "<div>\n",
       "<style scoped>\n",
       "    .dataframe tbody tr th:only-of-type {\n",
       "        vertical-align: middle;\n",
       "    }\n",
       "\n",
       "    .dataframe tbody tr th {\n",
       "        vertical-align: top;\n",
       "    }\n",
       "\n",
       "    .dataframe thead th {\n",
       "        text-align: right;\n",
       "    }\n",
       "</style>\n",
       "<table border=\"1\" class=\"dataframe\">\n",
       "  <thead>\n",
       "    <tr style=\"text-align: right;\">\n",
       "      <th></th>\n",
       "      <th>user_id</th>\n",
       "      <th>insert_date</th>\n",
       "      <th>is_applied</th>\n",
       "    </tr>\n",
       "  </thead>\n",
       "  <tbody>\n",
       "    <tr>\n",
       "      <th>0</th>\n",
       "      <td>9.0</td>\n",
       "      <td>2022-05-21</td>\n",
       "      <td>0.0</td>\n",
       "    </tr>\n",
       "    <tr>\n",
       "      <th>1</th>\n",
       "      <td>11.0</td>\n",
       "      <td>2022-03-24</td>\n",
       "      <td>1.0</td>\n",
       "    </tr>\n",
       "    <tr>\n",
       "      <th>2</th>\n",
       "      <td>11.0</td>\n",
       "      <td>2022-04-20</td>\n",
       "      <td>1.0</td>\n",
       "    </tr>\n",
       "    <tr>\n",
       "      <th>3</th>\n",
       "      <td>14.0</td>\n",
       "      <td>2022-04-18</td>\n",
       "      <td>0.0</td>\n",
       "    </tr>\n",
       "    <tr>\n",
       "      <th>4</th>\n",
       "      <td>17.0</td>\n",
       "      <td>2022-03-06</td>\n",
       "      <td>1.0</td>\n",
       "    </tr>\n",
       "    <tr>\n",
       "      <th>...</th>\n",
       "      <td>...</td>\n",
       "      <td>...</td>\n",
       "      <td>...</td>\n",
       "    </tr>\n",
       "    <tr>\n",
       "      <th>668676</th>\n",
       "      <td>879693.0</td>\n",
       "      <td>2022-05-17</td>\n",
       "      <td>0.0</td>\n",
       "    </tr>\n",
       "    <tr>\n",
       "      <th>668677</th>\n",
       "      <td>879693.0</td>\n",
       "      <td>2022-05-20</td>\n",
       "      <td>1.0</td>\n",
       "    </tr>\n",
       "    <tr>\n",
       "      <th>668678</th>\n",
       "      <td>879695.0</td>\n",
       "      <td>2022-05-27</td>\n",
       "      <td>1.0</td>\n",
       "    </tr>\n",
       "    <tr>\n",
       "      <th>668679</th>\n",
       "      <td>879696.0</td>\n",
       "      <td>2022-03-14</td>\n",
       "      <td>1.0</td>\n",
       "    </tr>\n",
       "    <tr>\n",
       "      <th>668680</th>\n",
       "      <td>879697.0</td>\n",
       "      <td>2022-05-10</td>\n",
       "      <td>0.0</td>\n",
       "    </tr>\n",
       "  </tbody>\n",
       "</table>\n",
       "<p>668681 rows × 3 columns</p>\n",
       "</div>"
      ],
      "text/plain": [
       "         user_id insert_date  is_applied\n",
       "0            9.0  2022-05-21         0.0\n",
       "1           11.0  2022-03-24         1.0\n",
       "2           11.0  2022-04-20         1.0\n",
       "3           14.0  2022-04-18         0.0\n",
       "4           17.0  2022-03-06         1.0\n",
       "...          ...         ...         ...\n",
       "668676  879693.0  2022-05-17         0.0\n",
       "668677  879693.0  2022-05-20         1.0\n",
       "668678  879695.0  2022-05-27         1.0\n",
       "668679  879696.0  2022-03-14         1.0\n",
       "668680  879697.0  2022-05-10         0.0\n",
       "\n",
       "[668681 rows x 3 columns]"
      ]
     },
     "execution_count": 21,
     "metadata": {},
     "output_type": "execute_result"
    }
   ],
   "source": [
    "loan_total.reset_index(drop=False, inplace=True)\n",
    "loan_total"
   ]
  },
  {
   "cell_type": "code",
   "execution_count": 22,
   "metadata": {
    "colab": {
     "base_uri": "https://localhost:8080/",
     "height": 206
    },
    "id": "KzhIGgXofwxS",
    "outputId": "b1cbf521-db06-4b81-b6cc-3eb767fe3be8"
   },
   "outputs": [
    {
     "data": {
      "text/html": [
       "<div>\n",
       "<style scoped>\n",
       "    .dataframe tbody tr th:only-of-type {\n",
       "        vertical-align: middle;\n",
       "    }\n",
       "\n",
       "    .dataframe tbody tr th {\n",
       "        vertical-align: top;\n",
       "    }\n",
       "\n",
       "    .dataframe thead th {\n",
       "        text-align: right;\n",
       "    }\n",
       "</style>\n",
       "<table border=\"1\" class=\"dataframe\">\n",
       "  <thead>\n",
       "    <tr style=\"text-align: right;\">\n",
       "      <th></th>\n",
       "      <th>user_id</th>\n",
       "      <th>insert_date</th>\n",
       "      <th>is_applied</th>\n",
       "    </tr>\n",
       "  </thead>\n",
       "  <tbody>\n",
       "    <tr>\n",
       "      <th>0</th>\n",
       "      <td>9.0</td>\n",
       "      <td>2022-05-21</td>\n",
       "      <td>0</td>\n",
       "    </tr>\n",
       "    <tr>\n",
       "      <th>1</th>\n",
       "      <td>11.0</td>\n",
       "      <td>2022-03-24</td>\n",
       "      <td>1</td>\n",
       "    </tr>\n",
       "    <tr>\n",
       "      <th>2</th>\n",
       "      <td>11.0</td>\n",
       "      <td>2022-04-20</td>\n",
       "      <td>1</td>\n",
       "    </tr>\n",
       "    <tr>\n",
       "      <th>3</th>\n",
       "      <td>14.0</td>\n",
       "      <td>2022-04-18</td>\n",
       "      <td>0</td>\n",
       "    </tr>\n",
       "    <tr>\n",
       "      <th>4</th>\n",
       "      <td>17.0</td>\n",
       "      <td>2022-03-06</td>\n",
       "      <td>1</td>\n",
       "    </tr>\n",
       "  </tbody>\n",
       "</table>\n",
       "</div>"
      ],
      "text/plain": [
       "   user_id insert_date  is_applied\n",
       "0      9.0  2022-05-21           0\n",
       "1     11.0  2022-03-24           1\n",
       "2     11.0  2022-04-20           1\n",
       "3     14.0  2022-04-18           0\n",
       "4     17.0  2022-03-06           1"
      ]
     },
     "execution_count": 22,
     "metadata": {},
     "output_type": "execute_result"
    }
   ],
   "source": [
    "loan_total['is_applied'] = loan_total['is_applied'].map(lambda x: x > 0).astype('int')\n",
    "loan_total.head()"
   ]
  },
  {
   "cell_type": "code",
   "execution_count": 23,
   "metadata": {
    "colab": {
     "base_uri": "https://localhost:8080/"
    },
    "id": "LXro-qRTgFiA",
    "outputId": "34a37c50-2a1a-4c33-e061-3c5b7e32a3ba"
   },
   "outputs": [
    {
     "name": "stdout",
     "output_type": "stream",
     "text": [
      "<class 'pandas.core.frame.DataFrame'>\n",
      "RangeIndex: 668681 entries, 0 to 668680\n",
      "Data columns (total 3 columns):\n",
      " #   Column       Non-Null Count   Dtype  \n",
      "---  ------       --------------   -----  \n",
      " 0   user_id      668681 non-null  float64\n",
      " 1   insert_date  668681 non-null  object \n",
      " 2   is_applied   668681 non-null  int32  \n",
      "dtypes: float64(1), int32(1), object(1)\n",
      "memory usage: 12.8+ MB\n"
     ]
    }
   ],
   "source": [
    "loan_total.info()"
   ]
  },
  {
   "cell_type": "markdown",
   "metadata": {},
   "source": [
    "# Deployment CSV"
   ]
  },
  {
   "cell_type": "code",
   "execution_count": 24,
   "metadata": {
    "id": "sASJx9bLMJxn"
   },
   "outputs": [],
   "source": [
    "loan_total.to_csv('../Data/loan_apply.csv', index=False)"
   ]
  }
 ],
 "metadata": {
  "colab": {
   "collapsed_sections": [],
   "machine_shape": "hm",
   "provenance": []
  },
  "kernelspec": {
   "display_name": "Python 3 (ipykernel)",
   "language": "python",
   "name": "python3"
  },
  "language_info": {
   "codemirror_mode": {
    "name": "ipython",
    "version": 3
   },
   "file_extension": ".py",
   "mimetype": "text/x-python",
   "name": "python",
   "nbconvert_exporter": "python",
   "pygments_lexer": "ipython3",
   "version": "3.9.12"
  }
 },
 "nbformat": 4,
 "nbformat_minor": 1
}
