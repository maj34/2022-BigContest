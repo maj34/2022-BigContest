{
 "cells": [
  {
   "cell_type": "markdown",
   "metadata": {},
   "source": [
    "# <font color='CC3D3D'> 0.3 Merge_Loan_Log\n",
    "    \n",
    "- log_data.csv와 loan_apply.csv 파일을 합쳐 로그 데이터에 개별 유저가 대출 신청을 했는지 여부 구분\n",
    "- 대출 신청을 실제로 한 데이터\n",
    "\t\t- <span style=\"color:blue\"> **log_applied.csv** </span> 생성\n",
    "- 대출 신청을 실제로 하지 않은 데이터\n",
    "    - <span style=\"color:blue\"> **log_non_applied.csv** </span> 생성\n",
    "- 위의 두 데이터를 합친 데이터\n",
    "\t\t- <span style=\"color:blue\"> **log_applied_history.csv** </span> 생성"
   ]
  },
  {
   "cell_type": "markdown",
   "metadata": {
    "id": "f6UxnB9Os2Iz"
   },
   "source": [
    "# Import"
   ]
  },
  {
   "cell_type": "code",
   "execution_count": 1,
   "metadata": {
    "id": "hlR7rj4hrS8Z"
   },
   "outputs": [],
   "source": [
    "import os\n",
    "import gc\n",
    "import pandas as pd\n",
    "import numpy as np\n",
    "import seaborn as sns\n",
    "import matplotlib as mpl  # 기본 설정 만지는 용도\n",
    "import matplotlib.pyplot as plt\n",
    "import matplotlib.font_manager as fm  # 폰트 관련 용도\n",
    "from IPython.display import display\n",
    "import warnings\n",
    "\n",
    "## for dimension reduction or feature selection\n",
    "from sklearn.decomposition import PCA\n",
    "from sklearn.linear_model import Lasso\n",
    "\n",
    "warnings.filterwarnings(\"ignore\")\n",
    "pd.set_option('display.max_columns', None)\n",
    "%matplotlib inline"
   ]
  },
  {
   "cell_type": "markdown",
   "metadata": {},
   "source": [
    "# Data Load"
   ]
  },
  {
   "cell_type": "code",
   "execution_count": 2,
   "metadata": {
    "id": "_wQiA9Yduytw"
   },
   "outputs": [],
   "source": [
    "log = pd.read_csv(\"../Data/2022빅콘테스트_데이터분석리그_데이터분석분야_퓨처스부문_데이터셋_220908/log_data.csv\", engine=\"python\")\n",
    "apply_date = pd.read_csv(\"../Data/loan_apply.csv\", engine=\"python\")"
   ]
  },
  {
   "cell_type": "code",
   "execution_count": 3,
   "metadata": {
    "id": "Jwoj6uHa5--S"
   },
   "outputs": [],
   "source": [
    "def AddDate(df:pd.DataFrame, key:str, add_day:bool=False, add_time:bool=False) -> None:\n",
    "    df[key] = pd.to_datetime(df[key])\n",
    "    df[f\"{key}_year\"] = df[key].dt.year\n",
    "    df[f\"{key}_month\"] = df[key].dt.month\n",
    "    if add_day:\n",
    "        df[f\"{key}_day\"] = df[key].dt.day\n",
    "    if add_time:\n",
    "        df[f\"{key}_hour\"] = df[key].dt.hour\n",
    "        df[f\"{key}_min\"] = df[key].dt.minute\n",
    "        df[f\"{key}_sec\"] = df[key].dt.second"
   ]
  },
  {
   "cell_type": "markdown",
   "metadata": {
    "id": "Xu-yGe-jKoCX"
   },
   "source": [
    "* apply한 날을 일단 추출"
   ]
  },
  {
   "cell_type": "code",
   "execution_count": 4,
   "metadata": {
    "colab": {
     "base_uri": "https://localhost:8080/"
    },
    "id": "f816q4DPeE8i",
    "outputId": "5c1c5c0b-d435-4078-da58-a302d6fcf409"
   },
   "outputs": [
    {
     "name": "stdout",
     "output_type": "stream",
     "text": [
      "<class 'pandas.core.frame.DataFrame'>\n",
      "RangeIndex: 17843993 entries, 0 to 17843992\n",
      "Data columns (total 6 columns):\n",
      " #   Column          Dtype \n",
      "---  ------          ----- \n",
      " 0   user_id         int64 \n",
      " 1   event           object\n",
      " 2   timestamp       object\n",
      " 3   mp_os           object\n",
      " 4   mp_app_version  object\n",
      " 5   date_cd         object\n",
      "dtypes: int64(1), object(5)\n",
      "memory usage: 816.8+ MB\n"
     ]
    }
   ],
   "source": [
    "log.info()"
   ]
  },
  {
   "cell_type": "code",
   "execution_count": 5,
   "metadata": {
    "colab": {
     "base_uri": "https://localhost:8080/"
    },
    "id": "04_jvN-mMahH",
    "outputId": "e0c0bb60-b225-4b62-9d5c-f658912385ac"
   },
   "outputs": [
    {
     "name": "stdout",
     "output_type": "stream",
     "text": [
      "<class 'pandas.core.frame.DataFrame'>\n",
      "RangeIndex: 668681 entries, 0 to 668680\n",
      "Data columns (total 3 columns):\n",
      " #   Column       Non-Null Count   Dtype  \n",
      "---  ------       --------------   -----  \n",
      " 0   user_id      668681 non-null  float64\n",
      " 1   insert_date  668681 non-null  object \n",
      " 2   is_applied   668681 non-null  int64  \n",
      "dtypes: float64(1), int64(1), object(1)\n",
      "memory usage: 15.3+ MB\n"
     ]
    }
   ],
   "source": [
    "apply_date.info()"
   ]
  },
  {
   "cell_type": "markdown",
   "metadata": {},
   "source": [
    "# Log Engineering"
   ]
  },
  {
   "cell_type": "code",
   "execution_count": 6,
   "metadata": {
    "id": "2i-t43PmMAt2"
   },
   "outputs": [],
   "source": [
    "log.drop(['mp_os', 'mp_app_version'], axis=1, inplace=True)\n",
    "log['date_cd'] = pd.to_datetime(log['date_cd']).dt.date\n",
    "apply_date['insert_date'] = pd.to_datetime(apply_date['insert_date']).dt.date"
   ]
  },
  {
   "cell_type": "code",
   "execution_count": 7,
   "metadata": {
    "colab": {
     "base_uri": "https://localhost:8080/",
     "height": 52
    },
    "id": "-aq3PO0hKqDv",
    "outputId": "a65055da-c550-4c7f-8e19-2eb7f41b8483"
   },
   "outputs": [
    {
     "data": {
      "text/plain": [
       "584636"
      ]
     },
     "metadata": {},
     "output_type": "display_data"
    },
    {
     "data": {
      "text/plain": [
       "259328"
      ]
     },
     "metadata": {},
     "output_type": "display_data"
    }
   ],
   "source": [
    "display(log['user_id'].nunique())\n",
    "display(apply_date['user_id'].nunique())"
   ]
  },
  {
   "cell_type": "code",
   "execution_count": 8,
   "metadata": {
    "colab": {
     "base_uri": "https://localhost:8080/",
     "height": 206
    },
    "id": "BbAA_a2wCaie",
    "outputId": "c088d217-f77d-4761-9d1b-d44a0b0bb909"
   },
   "outputs": [
    {
     "data": {
      "text/html": [
       "<div>\n",
       "<style scoped>\n",
       "    .dataframe tbody tr th:only-of-type {\n",
       "        vertical-align: middle;\n",
       "    }\n",
       "\n",
       "    .dataframe tbody tr th {\n",
       "        vertical-align: top;\n",
       "    }\n",
       "\n",
       "    .dataframe thead th {\n",
       "        text-align: right;\n",
       "    }\n",
       "</style>\n",
       "<table border=\"1\" class=\"dataframe\">\n",
       "  <thead>\n",
       "    <tr style=\"text-align: right;\">\n",
       "      <th></th>\n",
       "      <th>user_id</th>\n",
       "      <th>event</th>\n",
       "      <th>timestamp</th>\n",
       "      <th>date_cd</th>\n",
       "    </tr>\n",
       "  </thead>\n",
       "  <tbody>\n",
       "    <tr>\n",
       "      <th>0</th>\n",
       "      <td>576409</td>\n",
       "      <td>StartLoanApply</td>\n",
       "      <td>2022-03-25 11:12:09</td>\n",
       "      <td>2022-03-25</td>\n",
       "    </tr>\n",
       "    <tr>\n",
       "      <th>1</th>\n",
       "      <td>576409</td>\n",
       "      <td>ViewLoanApplyIntro</td>\n",
       "      <td>2022-03-25 11:12:09</td>\n",
       "      <td>2022-03-25</td>\n",
       "    </tr>\n",
       "    <tr>\n",
       "      <th>2</th>\n",
       "      <td>72878</td>\n",
       "      <td>EndLoanApply</td>\n",
       "      <td>2022-03-25 11:14:44</td>\n",
       "      <td>2022-03-25</td>\n",
       "    </tr>\n",
       "    <tr>\n",
       "      <th>3</th>\n",
       "      <td>645317</td>\n",
       "      <td>OpenApp</td>\n",
       "      <td>2022-03-25 11:15:09</td>\n",
       "      <td>2022-03-25</td>\n",
       "    </tr>\n",
       "    <tr>\n",
       "      <th>4</th>\n",
       "      <td>645317</td>\n",
       "      <td>UseLoanManage</td>\n",
       "      <td>2022-03-25 11:15:11</td>\n",
       "      <td>2022-03-25</td>\n",
       "    </tr>\n",
       "  </tbody>\n",
       "</table>\n",
       "</div>"
      ],
      "text/plain": [
       "   user_id               event            timestamp     date_cd\n",
       "0   576409      StartLoanApply  2022-03-25 11:12:09  2022-03-25\n",
       "1   576409  ViewLoanApplyIntro  2022-03-25 11:12:09  2022-03-25\n",
       "2    72878        EndLoanApply  2022-03-25 11:14:44  2022-03-25\n",
       "3   645317             OpenApp  2022-03-25 11:15:09  2022-03-25\n",
       "4   645317       UseLoanManage  2022-03-25 11:15:11  2022-03-25"
      ]
     },
     "execution_count": 8,
     "metadata": {},
     "output_type": "execute_result"
    }
   ],
   "source": [
    "log.head()"
   ]
  },
  {
   "cell_type": "code",
   "execution_count": 9,
   "metadata": {
    "colab": {
     "base_uri": "https://localhost:8080/",
     "height": 206
    },
    "id": "rY-CVAQ9Cb2I",
    "outputId": "5a1eaf42-c492-454e-c4b2-3dc4c6041b02"
   },
   "outputs": [
    {
     "data": {
      "text/html": [
       "<div>\n",
       "<style scoped>\n",
       "    .dataframe tbody tr th:only-of-type {\n",
       "        vertical-align: middle;\n",
       "    }\n",
       "\n",
       "    .dataframe tbody tr th {\n",
       "        vertical-align: top;\n",
       "    }\n",
       "\n",
       "    .dataframe thead th {\n",
       "        text-align: right;\n",
       "    }\n",
       "</style>\n",
       "<table border=\"1\" class=\"dataframe\">\n",
       "  <thead>\n",
       "    <tr style=\"text-align: right;\">\n",
       "      <th></th>\n",
       "      <th>user_id</th>\n",
       "      <th>insert_date</th>\n",
       "      <th>is_applied</th>\n",
       "    </tr>\n",
       "  </thead>\n",
       "  <tbody>\n",
       "    <tr>\n",
       "      <th>0</th>\n",
       "      <td>9.0</td>\n",
       "      <td>2022-05-21</td>\n",
       "      <td>0</td>\n",
       "    </tr>\n",
       "    <tr>\n",
       "      <th>1</th>\n",
       "      <td>11.0</td>\n",
       "      <td>2022-03-24</td>\n",
       "      <td>1</td>\n",
       "    </tr>\n",
       "    <tr>\n",
       "      <th>2</th>\n",
       "      <td>11.0</td>\n",
       "      <td>2022-04-20</td>\n",
       "      <td>1</td>\n",
       "    </tr>\n",
       "    <tr>\n",
       "      <th>3</th>\n",
       "      <td>14.0</td>\n",
       "      <td>2022-04-18</td>\n",
       "      <td>0</td>\n",
       "    </tr>\n",
       "    <tr>\n",
       "      <th>4</th>\n",
       "      <td>17.0</td>\n",
       "      <td>2022-03-06</td>\n",
       "      <td>1</td>\n",
       "    </tr>\n",
       "  </tbody>\n",
       "</table>\n",
       "</div>"
      ],
      "text/plain": [
       "   user_id insert_date  is_applied\n",
       "0      9.0  2022-05-21           0\n",
       "1     11.0  2022-03-24           1\n",
       "2     11.0  2022-04-20           1\n",
       "3     14.0  2022-04-18           0\n",
       "4     17.0  2022-03-06           1"
      ]
     },
     "execution_count": 9,
     "metadata": {},
     "output_type": "execute_result"
    }
   ],
   "source": [
    "apply_date.head()"
   ]
  },
  {
   "cell_type": "code",
   "execution_count": 10,
   "metadata": {
    "colab": {
     "base_uri": "https://localhost:8080/",
     "height": 206
    },
    "id": "cJXD2gFACc-u",
    "outputId": "39f6558d-f27b-48af-8471-a42f8b27bede"
   },
   "outputs": [
    {
     "data": {
      "text/html": [
       "<div>\n",
       "<style scoped>\n",
       "    .dataframe tbody tr th:only-of-type {\n",
       "        vertical-align: middle;\n",
       "    }\n",
       "\n",
       "    .dataframe tbody tr th {\n",
       "        vertical-align: top;\n",
       "    }\n",
       "\n",
       "    .dataframe thead th {\n",
       "        text-align: right;\n",
       "    }\n",
       "</style>\n",
       "<table border=\"1\" class=\"dataframe\">\n",
       "  <thead>\n",
       "    <tr style=\"text-align: right;\">\n",
       "      <th></th>\n",
       "      <th>user_id</th>\n",
       "      <th>event</th>\n",
       "      <th>timestamp</th>\n",
       "      <th>date_cd</th>\n",
       "    </tr>\n",
       "  </thead>\n",
       "  <tbody>\n",
       "    <tr>\n",
       "      <th>0</th>\n",
       "      <td>1</td>\n",
       "      <td>GetCreditInfo</td>\n",
       "      <td>2022-05-03 14:52:28</td>\n",
       "      <td>2022-05-03</td>\n",
       "    </tr>\n",
       "    <tr>\n",
       "      <th>1</th>\n",
       "      <td>1</td>\n",
       "      <td>GetCreditInfo</td>\n",
       "      <td>2022-05-03 14:52:35</td>\n",
       "      <td>2022-05-03</td>\n",
       "    </tr>\n",
       "    <tr>\n",
       "      <th>2</th>\n",
       "      <td>1</td>\n",
       "      <td>UseLoanManage</td>\n",
       "      <td>2022-06-16 23:58:41</td>\n",
       "      <td>2022-06-16</td>\n",
       "    </tr>\n",
       "    <tr>\n",
       "      <th>3</th>\n",
       "      <td>1</td>\n",
       "      <td>Login</td>\n",
       "      <td>2022-06-16 23:58:41</td>\n",
       "      <td>2022-06-16</td>\n",
       "    </tr>\n",
       "    <tr>\n",
       "      <th>4</th>\n",
       "      <td>1</td>\n",
       "      <td>GetCreditInfo</td>\n",
       "      <td>2022-06-16 23:58:42</td>\n",
       "      <td>2022-06-16</td>\n",
       "    </tr>\n",
       "  </tbody>\n",
       "</table>\n",
       "</div>"
      ],
      "text/plain": [
       "   user_id          event            timestamp     date_cd\n",
       "0        1  GetCreditInfo  2022-05-03 14:52:28  2022-05-03\n",
       "1        1  GetCreditInfo  2022-05-03 14:52:35  2022-05-03\n",
       "2        1  UseLoanManage  2022-06-16 23:58:41  2022-06-16\n",
       "3        1          Login  2022-06-16 23:58:41  2022-06-16\n",
       "4        1  GetCreditInfo  2022-06-16 23:58:42  2022-06-16"
      ]
     },
     "execution_count": 10,
     "metadata": {},
     "output_type": "execute_result"
    }
   ],
   "source": [
    "log.sort_values(by=['user_id', 'date_cd'], inplace=True)\n",
    "log.reset_index(drop=True, inplace=True)\n",
    "log.head()"
   ]
  },
  {
   "cell_type": "code",
   "execution_count": 11,
   "metadata": {
    "colab": {
     "base_uri": "https://localhost:8080/",
     "height": 206
    },
    "id": "HH7Ru__SCoDS",
    "outputId": "367e1394-3cf1-46be-ab2b-10a9cc63f4f4"
   },
   "outputs": [
    {
     "data": {
      "text/html": [
       "<div>\n",
       "<style scoped>\n",
       "    .dataframe tbody tr th:only-of-type {\n",
       "        vertical-align: middle;\n",
       "    }\n",
       "\n",
       "    .dataframe tbody tr th {\n",
       "        vertical-align: top;\n",
       "    }\n",
       "\n",
       "    .dataframe thead th {\n",
       "        text-align: right;\n",
       "    }\n",
       "</style>\n",
       "<table border=\"1\" class=\"dataframe\">\n",
       "  <thead>\n",
       "    <tr style=\"text-align: right;\">\n",
       "      <th></th>\n",
       "      <th>user_id</th>\n",
       "      <th>date_cd</th>\n",
       "      <th>is_applied</th>\n",
       "    </tr>\n",
       "  </thead>\n",
       "  <tbody>\n",
       "    <tr>\n",
       "      <th>0</th>\n",
       "      <td>9.0</td>\n",
       "      <td>2022-05-21</td>\n",
       "      <td>0</td>\n",
       "    </tr>\n",
       "    <tr>\n",
       "      <th>1</th>\n",
       "      <td>11.0</td>\n",
       "      <td>2022-03-24</td>\n",
       "      <td>1</td>\n",
       "    </tr>\n",
       "    <tr>\n",
       "      <th>2</th>\n",
       "      <td>11.0</td>\n",
       "      <td>2022-04-20</td>\n",
       "      <td>1</td>\n",
       "    </tr>\n",
       "    <tr>\n",
       "      <th>3</th>\n",
       "      <td>14.0</td>\n",
       "      <td>2022-04-18</td>\n",
       "      <td>0</td>\n",
       "    </tr>\n",
       "    <tr>\n",
       "      <th>4</th>\n",
       "      <td>17.0</td>\n",
       "      <td>2022-03-06</td>\n",
       "      <td>1</td>\n",
       "    </tr>\n",
       "  </tbody>\n",
       "</table>\n",
       "</div>"
      ],
      "text/plain": [
       "   user_id     date_cd  is_applied\n",
       "0      9.0  2022-05-21           0\n",
       "1     11.0  2022-03-24           1\n",
       "2     11.0  2022-04-20           1\n",
       "3     14.0  2022-04-18           0\n",
       "4     17.0  2022-03-06           1"
      ]
     },
     "execution_count": 11,
     "metadata": {},
     "output_type": "execute_result"
    }
   ],
   "source": [
    "apply_date.sort_values(by=['user_id', 'insert_date'], inplace=True)\n",
    "apply_date.reset_index(drop=True, inplace=True)\n",
    "apply_date.columns = ['user_id', 'date_cd', 'is_applied']\n",
    "apply_date.head()"
   ]
  },
  {
   "cell_type": "code",
   "execution_count": 12,
   "metadata": {
    "colab": {
     "base_uri": "https://localhost:8080/",
     "height": 649
    },
    "id": "tjT3n5yFCvGQ",
    "outputId": "fdf5f828-4110-47c1-bff4-48f34a81a4e0"
   },
   "outputs": [
    {
     "name": "stdout",
     "output_type": "stream",
     "text": [
      "<class 'pandas.core.frame.DataFrame'>\n",
      "Int64Index: 17843993 entries, 0 to 17843992\n",
      "Data columns (total 5 columns):\n",
      " #   Column      Dtype  \n",
      "---  ------      -----  \n",
      " 0   user_id     int64  \n",
      " 1   event       object \n",
      " 2   timestamp   object \n",
      " 3   date_cd     object \n",
      " 4   is_applied  float64\n",
      "dtypes: float64(1), int64(1), object(3)\n",
      "memory usage: 816.8+ MB\n"
     ]
    },
    {
     "data": {
      "text/plain": [
       "None"
      ]
     },
     "metadata": {},
     "output_type": "display_data"
    },
    {
     "data": {
      "text/html": [
       "<div>\n",
       "<style scoped>\n",
       "    .dataframe tbody tr th:only-of-type {\n",
       "        vertical-align: middle;\n",
       "    }\n",
       "\n",
       "    .dataframe tbody tr th {\n",
       "        vertical-align: top;\n",
       "    }\n",
       "\n",
       "    .dataframe thead th {\n",
       "        text-align: right;\n",
       "    }\n",
       "</style>\n",
       "<table border=\"1\" class=\"dataframe\">\n",
       "  <thead>\n",
       "    <tr style=\"text-align: right;\">\n",
       "      <th></th>\n",
       "      <th>user_id</th>\n",
       "      <th>event</th>\n",
       "      <th>timestamp</th>\n",
       "      <th>date_cd</th>\n",
       "      <th>is_applied</th>\n",
       "    </tr>\n",
       "  </thead>\n",
       "  <tbody>\n",
       "    <tr>\n",
       "      <th>0</th>\n",
       "      <td>1</td>\n",
       "      <td>GetCreditInfo</td>\n",
       "      <td>2022-05-03 14:52:28</td>\n",
       "      <td>2022-05-03</td>\n",
       "      <td>NaN</td>\n",
       "    </tr>\n",
       "    <tr>\n",
       "      <th>1</th>\n",
       "      <td>1</td>\n",
       "      <td>GetCreditInfo</td>\n",
       "      <td>2022-05-03 14:52:35</td>\n",
       "      <td>2022-05-03</td>\n",
       "      <td>NaN</td>\n",
       "    </tr>\n",
       "    <tr>\n",
       "      <th>2</th>\n",
       "      <td>1</td>\n",
       "      <td>UseLoanManage</td>\n",
       "      <td>2022-06-16 23:58:41</td>\n",
       "      <td>2022-06-16</td>\n",
       "      <td>NaN</td>\n",
       "    </tr>\n",
       "    <tr>\n",
       "      <th>3</th>\n",
       "      <td>1</td>\n",
       "      <td>Login</td>\n",
       "      <td>2022-06-16 23:58:41</td>\n",
       "      <td>2022-06-16</td>\n",
       "      <td>NaN</td>\n",
       "    </tr>\n",
       "    <tr>\n",
       "      <th>4</th>\n",
       "      <td>1</td>\n",
       "      <td>GetCreditInfo</td>\n",
       "      <td>2022-06-16 23:58:42</td>\n",
       "      <td>2022-06-16</td>\n",
       "      <td>NaN</td>\n",
       "    </tr>\n",
       "    <tr>\n",
       "      <th>...</th>\n",
       "      <td>...</td>\n",
       "      <td>...</td>\n",
       "      <td>...</td>\n",
       "      <td>...</td>\n",
       "      <td>...</td>\n",
       "    </tr>\n",
       "    <tr>\n",
       "      <th>17843988</th>\n",
       "      <td>879696</td>\n",
       "      <td>GetCreditInfo</td>\n",
       "      <td>2022-03-14 05:35:47</td>\n",
       "      <td>2022-03-14</td>\n",
       "      <td>1.0</td>\n",
       "    </tr>\n",
       "    <tr>\n",
       "      <th>17843989</th>\n",
       "      <td>879696</td>\n",
       "      <td>GetCreditInfo</td>\n",
       "      <td>2022-03-14 05:37:22</td>\n",
       "      <td>2022-03-14</td>\n",
       "      <td>1.0</td>\n",
       "    </tr>\n",
       "    <tr>\n",
       "      <th>17843990</th>\n",
       "      <td>879698</td>\n",
       "      <td>OpenApp</td>\n",
       "      <td>2022-05-24 22:33:24</td>\n",
       "      <td>2022-05-24</td>\n",
       "      <td>NaN</td>\n",
       "    </tr>\n",
       "    <tr>\n",
       "      <th>17843991</th>\n",
       "      <td>879698</td>\n",
       "      <td>StartLoanApply</td>\n",
       "      <td>2022-05-24 22:33:32</td>\n",
       "      <td>2022-05-24</td>\n",
       "      <td>NaN</td>\n",
       "    </tr>\n",
       "    <tr>\n",
       "      <th>17843992</th>\n",
       "      <td>879698</td>\n",
       "      <td>ViewLoanApplyIntro</td>\n",
       "      <td>2022-05-24 22:33:32</td>\n",
       "      <td>2022-05-24</td>\n",
       "      <td>NaN</td>\n",
       "    </tr>\n",
       "  </tbody>\n",
       "</table>\n",
       "<p>17359847 rows × 5 columns</p>\n",
       "</div>"
      ],
      "text/plain": [
       "          user_id               event            timestamp     date_cd  \\\n",
       "0               1       GetCreditInfo  2022-05-03 14:52:28  2022-05-03   \n",
       "1               1       GetCreditInfo  2022-05-03 14:52:35  2022-05-03   \n",
       "2               1       UseLoanManage  2022-06-16 23:58:41  2022-06-16   \n",
       "3               1               Login  2022-06-16 23:58:41  2022-06-16   \n",
       "4               1       GetCreditInfo  2022-06-16 23:58:42  2022-06-16   \n",
       "...           ...                 ...                  ...         ...   \n",
       "17843988   879696       GetCreditInfo  2022-03-14 05:35:47  2022-03-14   \n",
       "17843989   879696       GetCreditInfo  2022-03-14 05:37:22  2022-03-14   \n",
       "17843990   879698             OpenApp  2022-05-24 22:33:24  2022-05-24   \n",
       "17843991   879698      StartLoanApply  2022-05-24 22:33:32  2022-05-24   \n",
       "17843992   879698  ViewLoanApplyIntro  2022-05-24 22:33:32  2022-05-24   \n",
       "\n",
       "          is_applied  \n",
       "0                NaN  \n",
       "1                NaN  \n",
       "2                NaN  \n",
       "3                NaN  \n",
       "4                NaN  \n",
       "...              ...  \n",
       "17843988         1.0  \n",
       "17843989         1.0  \n",
       "17843990         NaN  \n",
       "17843991         NaN  \n",
       "17843992         NaN  \n",
       "\n",
       "[17359847 rows x 5 columns]"
      ]
     },
     "metadata": {},
     "output_type": "display_data"
    }
   ],
   "source": [
    "left = pd.merge(left=log, right=apply_date, on=['user_id', 'date_cd'], how='left')\n",
    "display(left.info())\n",
    "left.drop_duplicates(inplace=True)\n",
    "display(left)"
   ]
  },
  {
   "cell_type": "code",
   "execution_count": 13,
   "metadata": {
    "id": "QTDmwAOok7u9"
   },
   "outputs": [],
   "source": [
    "left_applied = left[left['is_applied'] > 0]\n",
    "right_applied = left[left['is_applied'] == 0]"
   ]
  },
  {
   "cell_type": "code",
   "execution_count": 14,
   "metadata": {
    "colab": {
     "base_uri": "https://localhost:8080/"
    },
    "id": "lxRWWNcHlH1s",
    "outputId": "706965ba-9134-4bbe-cca7-aedda09a9ea5"
   },
   "outputs": [
    {
     "name": "stdout",
     "output_type": "stream",
     "text": [
      "<class 'pandas.core.frame.DataFrame'>\n",
      "Int64Index: 4096724 entries, 9 to 17843989\n",
      "Data columns (total 5 columns):\n",
      " #   Column      Dtype  \n",
      "---  ------      -----  \n",
      " 0   user_id     int64  \n",
      " 1   event       object \n",
      " 2   timestamp   object \n",
      " 3   date_cd     object \n",
      " 4   is_applied  float64\n",
      "dtypes: float64(1), int64(1), object(3)\n",
      "memory usage: 187.5+ MB\n",
      "<class 'pandas.core.frame.DataFrame'>\n",
      "Int64Index: 2405232 entries, 6 to 17843935\n",
      "Data columns (total 5 columns):\n",
      " #   Column      Dtype  \n",
      "---  ------      -----  \n",
      " 0   user_id     int64  \n",
      " 1   event       object \n",
      " 2   timestamp   object \n",
      " 3   date_cd     object \n",
      " 4   is_applied  float64\n",
      "dtypes: float64(1), int64(1), object(3)\n",
      "memory usage: 110.1+ MB\n"
     ]
    }
   ],
   "source": [
    "left_applied.info()\n",
    "right_applied.info()"
   ]
  },
  {
   "cell_type": "markdown",
   "metadata": {},
   "source": [
    "# Deployment CSV"
   ]
  },
  {
   "cell_type": "code",
   "execution_count": 15,
   "metadata": {
    "id": "ysN88d9WltrA"
   },
   "outputs": [],
   "source": [
    "left_applied.to_csv(\"../Data/log_applied.csv\", index=False)\n",
    "right_applied.to_csv(\"../Data/log_non_applied.csv\", index=False)\n",
    "left.to_csv('../Data/log_applied_history.csv', index=False)"
   ]
  }
 ],
 "metadata": {
  "colab": {
   "collapsed_sections": [],
   "machine_shape": "hm",
   "provenance": []
  },
  "kernelspec": {
   "display_name": "Python 3 (ipykernel)",
   "language": "python",
   "name": "python3"
  },
  "language_info": {
   "codemirror_mode": {
    "name": "ipython",
    "version": 3
   },
   "file_extension": ".py",
   "mimetype": "text/x-python",
   "name": "python",
   "nbconvert_exporter": "python",
   "pygments_lexer": "ipython3",
   "version": "3.9.12"
  }
 },
 "nbformat": 4,
 "nbformat_minor": 1
}
