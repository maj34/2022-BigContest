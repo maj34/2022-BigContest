{
 "cells": [
  {
   "cell_type": "markdown",
   "id": "edfaa84e",
   "metadata": {},
   "source": [
    "함유진\n",
    "\n",
    "0.7_1\n",
    "\n",
    "- 0.7_1\n",
    "    \n",
    "    ```python\n",
    "    # <font color='CC3D3D'> Pycaret Anomaly\n",
    "        \n",
    "    ### 1. 무작위 표본 추출\n",
    "        빠른 시간 내에 모델의 성능을 평가하기 위해서,\n",
    "        train, public dataset에서 100,000개 씩 데이터를 추출함.\n",
    "        \n",
    "        \n",
    "    ### 2. 모델 실험\n",
    "        K-Nearest Neighbor / isolation forest / Minimum Covariance Determinant\n",
    "        \n",
    "    - K-Nearest Neighbor\n",
    "        \n",
    "        이상치 데이터는 멀리 존재할 것이라는 가정 하에 K개의 근접 이웃까지 거리를 계산함.\n",
    "        \n",
    "        이웃과의 거리가 다른 데이터들에 비해 멀다면 이상치일 확률이 높음. \n",
    "        \n",
    "        - <span style=\"color:green\"> **pycaret_knn.pickle** </span> 생성\n",
    "        - <span style=\"color:blue\"> **0.04310428143423214** </span> public f1_score\n",
    "        \n",
    "    - isolation forest\n",
    "        \n",
    "        Tree 기반의 이상 탐지 비지도 알고리즘\n",
    "        \n",
    "        - <span style=\"color:green\"> **pycaret_iforest.pickle.csv** </span> 생성\n",
    "        - <span style=\"color:blue\"> *0.1201625386996904** </span> public f1_score\n",
    "        \n",
    "    - Minimum Covariance Determinant\n",
    "        \n",
    "        MCD는 이상치의 영향을 최소화하는 방향으로 평균과 공분산 행렬을 추정하는 방식임.\n",
    "    \n",
    "        - <span style=\"color:green\"> **pycaret_mcd.pickle** </span> 생성\n",
    "        - <span style=\"color:blue\"> **0.08543499511241447** </span> public f1_score\n",
    "    ```\n",
    "    \n",
    "\n",
    "user_spec cluster 생성\n",
    "\n",
    "- user_spec cluster 생성\n",
    "    \n",
    "    ```python\n",
    "    # <font color='CC3D3D'> Clustering User Spec \n",
    "        \n",
    "    ### 1. Kmeans\n",
    "        user_spec의 numeric featuresf를 사용해 kmeans 방법을 사용하여 고객 군집화를 진행함.\n",
    "        Elbow point, Silhouette score를 복합적으로 사용해 군집의 개수를 5개로 정함.\n",
    "        \n",
    "    ### 2. 시각화\n",
    "        umap.plot을 통해 군집이 잘 생성되었는지 확인함.\n",
    "    ```\n",
    "    \n",
    "\n",
    "user_cluster_analysis\n",
    "\n",
    "- user_cluster_analysis\n",
    "    \n",
    "    ```python\n",
    "    # <font color='CC3D3D'> User Spec Clusters Analysis\n",
    "        \n",
    "    ### 1. Cluster별 특징 파악\n",
    "        - 신용점수\n",
    "        - 연소득\n",
    "        - 희망대출금액\n",
    "        - 연령\n",
    "        - 기대출액\n",
    "        \n",
    "    ### 2. Cluster별 Event 분석\n",
    "        - LoanApply 중 이탈률 분석\n",
    "        - GetCreditInfo 사용 횟수 분석\n",
    "    ```"
   ]
  },
  {
   "cell_type": "markdown",
   "id": "3d7cc7dd",
   "metadata": {},
   "source": [
    "# Import"
   ]
  },
  {
   "cell_type": "code",
   "execution_count": 1,
   "id": "8659a493",
   "metadata": {},
   "outputs": [],
   "source": [
    "from pycaret.anomaly import *"
   ]
  },
  {
   "cell_type": "code",
   "execution_count": 2,
   "id": "5013e90e",
   "metadata": {},
   "outputs": [],
   "source": [
    "import pandas as pd"
   ]
  },
  {
   "cell_type": "code",
   "execution_count": 3,
   "id": "60b0974b",
   "metadata": {},
   "outputs": [],
   "source": [
    "from sklearn.metrics import accuracy_score, precision_score, recall_score, confusion_matrix,f1_score"
   ]
  },
  {
   "cell_type": "markdown",
   "id": "edee246d",
   "metadata": {},
   "source": [
    "# Data Load"
   ]
  },
  {
   "cell_type": "code",
   "execution_count": 4,
   "id": "5fd77577",
   "metadata": {},
   "outputs": [],
   "source": [
    "train = pd.read_csv('../Data/master_train_data.csv') \n",
    "public = pd.read_csv('../Data/master_public_data.csv')\n",
    "private = pd.read_csv('../Data/master_private_data.csv')\n",
    "test = pd.read_csv('../Data/master_test_data.csv')"
   ]
  },
  {
   "cell_type": "code",
   "execution_count": 5,
   "id": "de7da8d0",
   "metadata": {},
   "outputs": [],
   "source": [
    "train = train.sample(n=100000)\n",
    "public = public.sample(n=100000)\n",
    "private = private.sample(n=100000)"
   ]
  },
  {
   "cell_type": "code",
   "execution_count": 6,
   "id": "6506b388",
   "metadata": {},
   "outputs": [],
   "source": [
    "train_target = train['is_applied']\n",
    "public_target = public['is_applied']\n",
    "# private_target = private['is_applied']"
   ]
  },
  {
   "cell_type": "code",
   "execution_count": 7,
   "id": "c593d91c",
   "metadata": {},
   "outputs": [],
   "source": [
    "train = train.drop(['is_applied'],axis=1)\n",
    "public = public.drop(['is_applied'],axis=1)\n",
    "# private = private.drop(['is_applied'],axis=1)"
   ]
  },
  {
   "cell_type": "code",
   "execution_count": 8,
   "id": "6cfde1c5",
   "metadata": {
    "scrolled": false
   },
   "outputs": [
    {
     "name": "stdout",
     "output_type": "stream",
     "text": [
      "<class 'pandas.core.frame.DataFrame'>\n",
      "Int64Index: 100000 entries, 200584 to 6078325\n",
      "Data columns (total 71 columns):\n",
      " #   Column                               Non-Null Count   Dtype  \n",
      "---  ------                               --------------   -----  \n",
      " 0   loan_limit                           100000 non-null  float64\n",
      " 1   loan_rate                            100000 non-null  float64\n",
      " 2   credit_score                         100000 non-null  float64\n",
      " 3   yearly_income                        100000 non-null  float64\n",
      " 4   income_type                          100000 non-null  int64  \n",
      " 5   employment_type                      100000 non-null  int64  \n",
      " 6   houseown_type                        100000 non-null  int64  \n",
      " 7   desired_amount                       100000 non-null  float64\n",
      " 8   purpose                              100000 non-null  int64  \n",
      " 9   personal_rehabilitation_yn           100000 non-null  float64\n",
      " 10  personal_rehabilitation_complete_yn  100000 non-null  float64\n",
      " 11  existing_loan_cnt                    100000 non-null  float64\n",
      " 12  existing_loan_amt                    100000 non-null  float64\n",
      " 13  enter_birth                          100000 non-null  float64\n",
      " 14  gender                               100000 non-null  float64\n",
      " 15  k_lending_rate                       100000 non-null  float64\n",
      " 16  us_lending_rate                      100000 non-null  float64\n",
      " 17  btc_price                            100000 non-null  float64\n",
      " 18  btc_variance                         100000 non-null  float64\n",
      " 19  eth_price                            100000 non-null  float64\n",
      " 20  eth_variance                         100000 non-null  float64\n",
      " 21  lunc_price                           100000 non-null  float64\n",
      " 22  lunc_variance                        100000 non-null  float64\n",
      " 23  Close                                100000 non-null  float64\n",
      " 24  Open                                 100000 non-null  float64\n",
      " 25  High                                 100000 non-null  float64\n",
      " 26  Low                                  100000 non-null  float64\n",
      " 27  Volume                               100000 non-null  int64  \n",
      " 28  Change                               100000 non-null  float64\n",
      " 29  실업자                                  100000 non-null  int64  \n",
      " 30  실업률                                  100000 non-null  float64\n",
      " 31  현재가계부채CSI                            100000 non-null  float64\n",
      " 32  가계부채전망CSI                            100000 non-null  float64\n",
      " 33  소비심리지수                               100000 non-null  float64\n",
      " 34  loanapply_insert_time_rank           100000 non-null  float64\n",
      " 35  loan_limit_avg_sub                   100000 non-null  float64\n",
      " 36  loan_rate_avg_sub                    100000 non-null  float64\n",
      " 37  bank_diversity                       100000 non-null  int64  \n",
      " 38  product_diversity                    100000 non-null  int64  \n",
      " 39  missing_value_cnt                    100000 non-null  int64  \n",
      " 40  working_year                         100000 non-null  float64\n",
      " 41  working_month                        100000 non-null  float64\n",
      " 42  age                                  100000 non-null  float64\n",
      " 43  holiday                              100000 non-null  int64  \n",
      " 44  weekday                              100000 non-null  int64  \n",
      " 45  hour                                 100000 non-null  int64  \n",
      " 46  weekday_sin                          100000 non-null  float64\n",
      " 47  weekday_cos                          100000 non-null  float64\n",
      " 48  hour_sin                             100000 non-null  float64\n",
      " 49  hour_cos                             100000 non-null  float64\n",
      " 50  foreign                              100000 non-null  int64  \n",
      " 51  event                                100000 non-null  float64\n",
      " 52  loan_cnt                             100000 non-null  float64\n",
      " 53  duration                             100000 non-null  float64\n",
      " 54  visit                                100000 non-null  float64\n",
      " 55  segment                              100000 non-null  float64\n",
      " 56  product_cnt                          100000 non-null  int64  \n",
      " 57  loan_limit_mean_x                    100000 non-null  float64\n",
      " 58  loan_rate_mean_x                     100000 non-null  float64\n",
      " 59  loan_limit_min_x                     100000 non-null  float64\n",
      " 60  loan_rate_min_x                      100000 non-null  float64\n",
      " 61  loan_limit_max_x                     100000 non-null  float64\n",
      " 62  loan_rate_max_x                      100000 non-null  float64\n",
      " 63  bank_label                           100000 non-null  int64  \n",
      " 64  loan_limit_min_y                     100000 non-null  float64\n",
      " 65  loan_rate_min_y                      100000 non-null  float64\n",
      " 66  loan_limit_max_y                     100000 non-null  float64\n",
      " 67  loan_rate_max_y                      100000 non-null  float64\n",
      " 68  loan_limit_mean_y                    100000 non-null  float64\n",
      " 69  loan_rate_mean_y                     100000 non-null  float64\n",
      " 70  product_label                        100000 non-null  int64  \n",
      "dtypes: float64(55), int64(16)\n",
      "memory usage: 54.9 MB\n"
     ]
    }
   ],
   "source": [
    "train.info()"
   ]
  },
  {
   "cell_type": "markdown",
   "id": "2529ca09",
   "metadata": {},
   "source": [
    "# Pycaret"
   ]
  },
  {
   "cell_type": "markdown",
   "id": "dbd23aab",
   "metadata": {},
   "source": [
    "## Set Up"
   ]
  },
  {
   "cell_type": "code",
   "execution_count": 9,
   "id": "91b3242c",
   "metadata": {},
   "outputs": [
    {
     "data": {
      "text/html": [
       "<style type=\"text/css\">\n",
       "#T_1a567_row10_col1 {\n",
       "  background-color: lightgreen;\n",
       "}\n",
       "</style>\n",
       "<table id=\"T_1a567\">\n",
       "  <thead>\n",
       "    <tr>\n",
       "      <th class=\"blank level0\" >&nbsp;</th>\n",
       "      <th id=\"T_1a567_level0_col0\" class=\"col_heading level0 col0\" >Description</th>\n",
       "      <th id=\"T_1a567_level0_col1\" class=\"col_heading level0 col1\" >Value</th>\n",
       "    </tr>\n",
       "  </thead>\n",
       "  <tbody>\n",
       "    <tr>\n",
       "      <th id=\"T_1a567_level0_row0\" class=\"row_heading level0 row0\" >0</th>\n",
       "      <td id=\"T_1a567_row0_col0\" class=\"data row0 col0\" >session_id</td>\n",
       "      <td id=\"T_1a567_row0_col1\" class=\"data row0 col1\" >42</td>\n",
       "    </tr>\n",
       "    <tr>\n",
       "      <th id=\"T_1a567_level0_row1\" class=\"row_heading level0 row1\" >1</th>\n",
       "      <td id=\"T_1a567_row1_col0\" class=\"data row1 col0\" >Original Data</td>\n",
       "      <td id=\"T_1a567_row1_col1\" class=\"data row1 col1\" >(100000, 71)</td>\n",
       "    </tr>\n",
       "    <tr>\n",
       "      <th id=\"T_1a567_level0_row2\" class=\"row_heading level0 row2\" >2</th>\n",
       "      <td id=\"T_1a567_row2_col0\" class=\"data row2 col0\" >Missing Values</td>\n",
       "      <td id=\"T_1a567_row2_col1\" class=\"data row2 col1\" >False</td>\n",
       "    </tr>\n",
       "    <tr>\n",
       "      <th id=\"T_1a567_level0_row3\" class=\"row_heading level0 row3\" >3</th>\n",
       "      <td id=\"T_1a567_row3_col0\" class=\"data row3 col0\" >Numeric Features</td>\n",
       "      <td id=\"T_1a567_row3_col1\" class=\"data row3 col1\" >57</td>\n",
       "    </tr>\n",
       "    <tr>\n",
       "      <th id=\"T_1a567_level0_row4\" class=\"row_heading level0 row4\" >4</th>\n",
       "      <td id=\"T_1a567_row4_col0\" class=\"data row4 col0\" >Categorical Features</td>\n",
       "      <td id=\"T_1a567_row4_col1\" class=\"data row4 col1\" >14</td>\n",
       "    </tr>\n",
       "    <tr>\n",
       "      <th id=\"T_1a567_level0_row5\" class=\"row_heading level0 row5\" >5</th>\n",
       "      <td id=\"T_1a567_row5_col0\" class=\"data row5 col0\" >Ordinal Features</td>\n",
       "      <td id=\"T_1a567_row5_col1\" class=\"data row5 col1\" >False</td>\n",
       "    </tr>\n",
       "    <tr>\n",
       "      <th id=\"T_1a567_level0_row6\" class=\"row_heading level0 row6\" >6</th>\n",
       "      <td id=\"T_1a567_row6_col0\" class=\"data row6 col0\" >High Cardinality Features</td>\n",
       "      <td id=\"T_1a567_row6_col1\" class=\"data row6 col1\" >False</td>\n",
       "    </tr>\n",
       "    <tr>\n",
       "      <th id=\"T_1a567_level0_row7\" class=\"row_heading level0 row7\" >7</th>\n",
       "      <td id=\"T_1a567_row7_col0\" class=\"data row7 col0\" >High Cardinality Method</td>\n",
       "      <td id=\"T_1a567_row7_col1\" class=\"data row7 col1\" >None</td>\n",
       "    </tr>\n",
       "    <tr>\n",
       "      <th id=\"T_1a567_level0_row8\" class=\"row_heading level0 row8\" >8</th>\n",
       "      <td id=\"T_1a567_row8_col0\" class=\"data row8 col0\" >Transformed Data</td>\n",
       "      <td id=\"T_1a567_row8_col1\" class=\"data row8 col1\" >(100000, 120)</td>\n",
       "    </tr>\n",
       "    <tr>\n",
       "      <th id=\"T_1a567_level0_row9\" class=\"row_heading level0 row9\" >9</th>\n",
       "      <td id=\"T_1a567_row9_col0\" class=\"data row9 col0\" >CPU Jobs</td>\n",
       "      <td id=\"T_1a567_row9_col1\" class=\"data row9 col1\" >-1</td>\n",
       "    </tr>\n",
       "    <tr>\n",
       "      <th id=\"T_1a567_level0_row10\" class=\"row_heading level0 row10\" >10</th>\n",
       "      <td id=\"T_1a567_row10_col0\" class=\"data row10 col0\" >Use GPU</td>\n",
       "      <td id=\"T_1a567_row10_col1\" class=\"data row10 col1\" >True</td>\n",
       "    </tr>\n",
       "    <tr>\n",
       "      <th id=\"T_1a567_level0_row11\" class=\"row_heading level0 row11\" >11</th>\n",
       "      <td id=\"T_1a567_row11_col0\" class=\"data row11 col0\" >Log Experiment</td>\n",
       "      <td id=\"T_1a567_row11_col1\" class=\"data row11 col1\" >False</td>\n",
       "    </tr>\n",
       "    <tr>\n",
       "      <th id=\"T_1a567_level0_row12\" class=\"row_heading level0 row12\" >12</th>\n",
       "      <td id=\"T_1a567_row12_col0\" class=\"data row12 col0\" >Experiment Name</td>\n",
       "      <td id=\"T_1a567_row12_col1\" class=\"data row12 col1\" >anomaly-default-name</td>\n",
       "    </tr>\n",
       "    <tr>\n",
       "      <th id=\"T_1a567_level0_row13\" class=\"row_heading level0 row13\" >13</th>\n",
       "      <td id=\"T_1a567_row13_col0\" class=\"data row13 col0\" >USI</td>\n",
       "      <td id=\"T_1a567_row13_col1\" class=\"data row13 col1\" >ff7a</td>\n",
       "    </tr>\n",
       "    <tr>\n",
       "      <th id=\"T_1a567_level0_row14\" class=\"row_heading level0 row14\" >14</th>\n",
       "      <td id=\"T_1a567_row14_col0\" class=\"data row14 col0\" >Imputation Type</td>\n",
       "      <td id=\"T_1a567_row14_col1\" class=\"data row14 col1\" >simple</td>\n",
       "    </tr>\n",
       "    <tr>\n",
       "      <th id=\"T_1a567_level0_row15\" class=\"row_heading level0 row15\" >15</th>\n",
       "      <td id=\"T_1a567_row15_col0\" class=\"data row15 col0\" >Iterative Imputation Iteration</td>\n",
       "      <td id=\"T_1a567_row15_col1\" class=\"data row15 col1\" >None</td>\n",
       "    </tr>\n",
       "    <tr>\n",
       "      <th id=\"T_1a567_level0_row16\" class=\"row_heading level0 row16\" >16</th>\n",
       "      <td id=\"T_1a567_row16_col0\" class=\"data row16 col0\" >Numeric Imputer</td>\n",
       "      <td id=\"T_1a567_row16_col1\" class=\"data row16 col1\" >mean</td>\n",
       "    </tr>\n",
       "    <tr>\n",
       "      <th id=\"T_1a567_level0_row17\" class=\"row_heading level0 row17\" >17</th>\n",
       "      <td id=\"T_1a567_row17_col0\" class=\"data row17 col0\" >Iterative Imputation Numeric Model</td>\n",
       "      <td id=\"T_1a567_row17_col1\" class=\"data row17 col1\" >None</td>\n",
       "    </tr>\n",
       "    <tr>\n",
       "      <th id=\"T_1a567_level0_row18\" class=\"row_heading level0 row18\" >18</th>\n",
       "      <td id=\"T_1a567_row18_col0\" class=\"data row18 col0\" >Categorical Imputer</td>\n",
       "      <td id=\"T_1a567_row18_col1\" class=\"data row18 col1\" >mode</td>\n",
       "    </tr>\n",
       "    <tr>\n",
       "      <th id=\"T_1a567_level0_row19\" class=\"row_heading level0 row19\" >19</th>\n",
       "      <td id=\"T_1a567_row19_col0\" class=\"data row19 col0\" >Iterative Imputation Categorical Model</td>\n",
       "      <td id=\"T_1a567_row19_col1\" class=\"data row19 col1\" >None</td>\n",
       "    </tr>\n",
       "    <tr>\n",
       "      <th id=\"T_1a567_level0_row20\" class=\"row_heading level0 row20\" >20</th>\n",
       "      <td id=\"T_1a567_row20_col0\" class=\"data row20 col0\" >Unknown Categoricals Handling</td>\n",
       "      <td id=\"T_1a567_row20_col1\" class=\"data row20 col1\" >least_frequent</td>\n",
       "    </tr>\n",
       "    <tr>\n",
       "      <th id=\"T_1a567_level0_row21\" class=\"row_heading level0 row21\" >21</th>\n",
       "      <td id=\"T_1a567_row21_col0\" class=\"data row21 col0\" >Normalize</td>\n",
       "      <td id=\"T_1a567_row21_col1\" class=\"data row21 col1\" >False</td>\n",
       "    </tr>\n",
       "    <tr>\n",
       "      <th id=\"T_1a567_level0_row22\" class=\"row_heading level0 row22\" >22</th>\n",
       "      <td id=\"T_1a567_row22_col0\" class=\"data row22 col0\" >Normalize Method</td>\n",
       "      <td id=\"T_1a567_row22_col1\" class=\"data row22 col1\" >None</td>\n",
       "    </tr>\n",
       "    <tr>\n",
       "      <th id=\"T_1a567_level0_row23\" class=\"row_heading level0 row23\" >23</th>\n",
       "      <td id=\"T_1a567_row23_col0\" class=\"data row23 col0\" >Transformation</td>\n",
       "      <td id=\"T_1a567_row23_col1\" class=\"data row23 col1\" >False</td>\n",
       "    </tr>\n",
       "    <tr>\n",
       "      <th id=\"T_1a567_level0_row24\" class=\"row_heading level0 row24\" >24</th>\n",
       "      <td id=\"T_1a567_row24_col0\" class=\"data row24 col0\" >Transformation Method</td>\n",
       "      <td id=\"T_1a567_row24_col1\" class=\"data row24 col1\" >None</td>\n",
       "    </tr>\n",
       "    <tr>\n",
       "      <th id=\"T_1a567_level0_row25\" class=\"row_heading level0 row25\" >25</th>\n",
       "      <td id=\"T_1a567_row25_col0\" class=\"data row25 col0\" >PCA</td>\n",
       "      <td id=\"T_1a567_row25_col1\" class=\"data row25 col1\" >False</td>\n",
       "    </tr>\n",
       "    <tr>\n",
       "      <th id=\"T_1a567_level0_row26\" class=\"row_heading level0 row26\" >26</th>\n",
       "      <td id=\"T_1a567_row26_col0\" class=\"data row26 col0\" >PCA Method</td>\n",
       "      <td id=\"T_1a567_row26_col1\" class=\"data row26 col1\" >None</td>\n",
       "    </tr>\n",
       "    <tr>\n",
       "      <th id=\"T_1a567_level0_row27\" class=\"row_heading level0 row27\" >27</th>\n",
       "      <td id=\"T_1a567_row27_col0\" class=\"data row27 col0\" >PCA Components</td>\n",
       "      <td id=\"T_1a567_row27_col1\" class=\"data row27 col1\" >None</td>\n",
       "    </tr>\n",
       "    <tr>\n",
       "      <th id=\"T_1a567_level0_row28\" class=\"row_heading level0 row28\" >28</th>\n",
       "      <td id=\"T_1a567_row28_col0\" class=\"data row28 col0\" >Ignore Low Variance</td>\n",
       "      <td id=\"T_1a567_row28_col1\" class=\"data row28 col1\" >False</td>\n",
       "    </tr>\n",
       "    <tr>\n",
       "      <th id=\"T_1a567_level0_row29\" class=\"row_heading level0 row29\" >29</th>\n",
       "      <td id=\"T_1a567_row29_col0\" class=\"data row29 col0\" >Combine Rare Levels</td>\n",
       "      <td id=\"T_1a567_row29_col1\" class=\"data row29 col1\" >False</td>\n",
       "    </tr>\n",
       "    <tr>\n",
       "      <th id=\"T_1a567_level0_row30\" class=\"row_heading level0 row30\" >30</th>\n",
       "      <td id=\"T_1a567_row30_col0\" class=\"data row30 col0\" >Rare Level Threshold</td>\n",
       "      <td id=\"T_1a567_row30_col1\" class=\"data row30 col1\" >None</td>\n",
       "    </tr>\n",
       "    <tr>\n",
       "      <th id=\"T_1a567_level0_row31\" class=\"row_heading level0 row31\" >31</th>\n",
       "      <td id=\"T_1a567_row31_col0\" class=\"data row31 col0\" >Numeric Binning</td>\n",
       "      <td id=\"T_1a567_row31_col1\" class=\"data row31 col1\" >False</td>\n",
       "    </tr>\n",
       "    <tr>\n",
       "      <th id=\"T_1a567_level0_row32\" class=\"row_heading level0 row32\" >32</th>\n",
       "      <td id=\"T_1a567_row32_col0\" class=\"data row32 col0\" >Remove Outliers</td>\n",
       "      <td id=\"T_1a567_row32_col1\" class=\"data row32 col1\" >False</td>\n",
       "    </tr>\n",
       "    <tr>\n",
       "      <th id=\"T_1a567_level0_row33\" class=\"row_heading level0 row33\" >33</th>\n",
       "      <td id=\"T_1a567_row33_col0\" class=\"data row33 col0\" >Outliers Threshold</td>\n",
       "      <td id=\"T_1a567_row33_col1\" class=\"data row33 col1\" >None</td>\n",
       "    </tr>\n",
       "    <tr>\n",
       "      <th id=\"T_1a567_level0_row34\" class=\"row_heading level0 row34\" >34</th>\n",
       "      <td id=\"T_1a567_row34_col0\" class=\"data row34 col0\" >Remove Multicollinearity</td>\n",
       "      <td id=\"T_1a567_row34_col1\" class=\"data row34 col1\" >False</td>\n",
       "    </tr>\n",
       "    <tr>\n",
       "      <th id=\"T_1a567_level0_row35\" class=\"row_heading level0 row35\" >35</th>\n",
       "      <td id=\"T_1a567_row35_col0\" class=\"data row35 col0\" >Multicollinearity Threshold</td>\n",
       "      <td id=\"T_1a567_row35_col1\" class=\"data row35 col1\" >None</td>\n",
       "    </tr>\n",
       "    <tr>\n",
       "      <th id=\"T_1a567_level0_row36\" class=\"row_heading level0 row36\" >36</th>\n",
       "      <td id=\"T_1a567_row36_col0\" class=\"data row36 col0\" >Remove Perfect Collinearity</td>\n",
       "      <td id=\"T_1a567_row36_col1\" class=\"data row36 col1\" >False</td>\n",
       "    </tr>\n",
       "    <tr>\n",
       "      <th id=\"T_1a567_level0_row37\" class=\"row_heading level0 row37\" >37</th>\n",
       "      <td id=\"T_1a567_row37_col0\" class=\"data row37 col0\" >Clustering</td>\n",
       "      <td id=\"T_1a567_row37_col1\" class=\"data row37 col1\" >False</td>\n",
       "    </tr>\n",
       "    <tr>\n",
       "      <th id=\"T_1a567_level0_row38\" class=\"row_heading level0 row38\" >38</th>\n",
       "      <td id=\"T_1a567_row38_col0\" class=\"data row38 col0\" >Clustering Iteration</td>\n",
       "      <td id=\"T_1a567_row38_col1\" class=\"data row38 col1\" >None</td>\n",
       "    </tr>\n",
       "    <tr>\n",
       "      <th id=\"T_1a567_level0_row39\" class=\"row_heading level0 row39\" >39</th>\n",
       "      <td id=\"T_1a567_row39_col0\" class=\"data row39 col0\" >Polynomial Features</td>\n",
       "      <td id=\"T_1a567_row39_col1\" class=\"data row39 col1\" >False</td>\n",
       "    </tr>\n",
       "    <tr>\n",
       "      <th id=\"T_1a567_level0_row40\" class=\"row_heading level0 row40\" >40</th>\n",
       "      <td id=\"T_1a567_row40_col0\" class=\"data row40 col0\" >Polynomial Degree</td>\n",
       "      <td id=\"T_1a567_row40_col1\" class=\"data row40 col1\" >None</td>\n",
       "    </tr>\n",
       "    <tr>\n",
       "      <th id=\"T_1a567_level0_row41\" class=\"row_heading level0 row41\" >41</th>\n",
       "      <td id=\"T_1a567_row41_col0\" class=\"data row41 col0\" >Trignometry Features</td>\n",
       "      <td id=\"T_1a567_row41_col1\" class=\"data row41 col1\" >False</td>\n",
       "    </tr>\n",
       "    <tr>\n",
       "      <th id=\"T_1a567_level0_row42\" class=\"row_heading level0 row42\" >42</th>\n",
       "      <td id=\"T_1a567_row42_col0\" class=\"data row42 col0\" >Polynomial Threshold</td>\n",
       "      <td id=\"T_1a567_row42_col1\" class=\"data row42 col1\" >None</td>\n",
       "    </tr>\n",
       "    <tr>\n",
       "      <th id=\"T_1a567_level0_row43\" class=\"row_heading level0 row43\" >43</th>\n",
       "      <td id=\"T_1a567_row43_col0\" class=\"data row43 col0\" >Group Features</td>\n",
       "      <td id=\"T_1a567_row43_col1\" class=\"data row43 col1\" >False</td>\n",
       "    </tr>\n",
       "    <tr>\n",
       "      <th id=\"T_1a567_level0_row44\" class=\"row_heading level0 row44\" >44</th>\n",
       "      <td id=\"T_1a567_row44_col0\" class=\"data row44 col0\" >Feature Selection</td>\n",
       "      <td id=\"T_1a567_row44_col1\" class=\"data row44 col1\" >False</td>\n",
       "    </tr>\n",
       "    <tr>\n",
       "      <th id=\"T_1a567_level0_row45\" class=\"row_heading level0 row45\" >45</th>\n",
       "      <td id=\"T_1a567_row45_col0\" class=\"data row45 col0\" >Feature Selection Method</td>\n",
       "      <td id=\"T_1a567_row45_col1\" class=\"data row45 col1\" >classic</td>\n",
       "    </tr>\n",
       "    <tr>\n",
       "      <th id=\"T_1a567_level0_row46\" class=\"row_heading level0 row46\" >46</th>\n",
       "      <td id=\"T_1a567_row46_col0\" class=\"data row46 col0\" >Features Selection Threshold</td>\n",
       "      <td id=\"T_1a567_row46_col1\" class=\"data row46 col1\" >None</td>\n",
       "    </tr>\n",
       "    <tr>\n",
       "      <th id=\"T_1a567_level0_row47\" class=\"row_heading level0 row47\" >47</th>\n",
       "      <td id=\"T_1a567_row47_col0\" class=\"data row47 col0\" >Feature Interaction</td>\n",
       "      <td id=\"T_1a567_row47_col1\" class=\"data row47 col1\" >False</td>\n",
       "    </tr>\n",
       "    <tr>\n",
       "      <th id=\"T_1a567_level0_row48\" class=\"row_heading level0 row48\" >48</th>\n",
       "      <td id=\"T_1a567_row48_col0\" class=\"data row48 col0\" >Feature Ratio</td>\n",
       "      <td id=\"T_1a567_row48_col1\" class=\"data row48 col1\" >False</td>\n",
       "    </tr>\n",
       "    <tr>\n",
       "      <th id=\"T_1a567_level0_row49\" class=\"row_heading level0 row49\" >49</th>\n",
       "      <td id=\"T_1a567_row49_col0\" class=\"data row49 col0\" >Interaction Threshold</td>\n",
       "      <td id=\"T_1a567_row49_col1\" class=\"data row49 col1\" >None</td>\n",
       "    </tr>\n",
       "  </tbody>\n",
       "</table>\n"
      ],
      "text/plain": [
       "<pandas.io.formats.style.Styler at 0x28728479f40>"
      ]
     },
     "metadata": {},
     "output_type": "display_data"
    }
   ],
   "source": [
    "anomaly = setup(train,\n",
    "                use_gpu = True,\n",
    "                session_id = 42,\n",
    "               )"
   ]
  },
  {
   "cell_type": "markdown",
   "id": "39486dc0",
   "metadata": {},
   "source": [
    "## KNN"
   ]
  },
  {
   "cell_type": "code",
   "execution_count": 10,
   "id": "867cfd94",
   "metadata": {},
   "outputs": [],
   "source": [
    "knn = create_model('knn')"
   ]
  },
  {
   "cell_type": "code",
   "execution_count": 11,
   "id": "04e3e54d",
   "metadata": {},
   "outputs": [
    {
     "name": "stdout",
     "output_type": "stream",
     "text": [
      "KNN(algorithm='auto', contamination=0.05, leaf_size=30, method='largest',\n",
      "  metric='minkowski', metric_params=None, n_jobs=-1, n_neighbors=5, p=2,\n",
      "  radius=1.0)\n"
     ]
    }
   ],
   "source": [
    "print(knn)"
   ]
  },
  {
   "cell_type": "code",
   "execution_count": 12,
   "id": "838fb233",
   "metadata": {},
   "outputs": [
    {
     "data": {
      "text/plain": [
       "890061    1\n",
       "192333    0\n",
       "17351     0\n",
       "665469    0\n",
       "4085      0\n",
       "         ..\n",
       "33520     0\n",
       "225093    0\n",
       "300397    0\n",
       "662136    0\n",
       "737918    0\n",
       "Name: is_appliled, Length: 100000, dtype: object"
      ]
     },
     "execution_count": 12,
     "metadata": {},
     "output_type": "execute_result"
    }
   ],
   "source": [
    "public_target = pd.DataFrame(public_target)\n",
    "public_target['is_appliled'] = public_target['is_applied'].apply(lambda x: '0' if x == 0 else '1')\n",
    "public_target['is_appliled']"
   ]
  },
  {
   "cell_type": "code",
   "execution_count": 13,
   "id": "8bf63b54",
   "metadata": {},
   "outputs": [
    {
     "data": {
      "text/plain": [
       "0.04310428143423214"
      ]
     },
     "execution_count": 13,
     "metadata": {},
     "output_type": "execute_result"
    }
   ],
   "source": [
    "unseen_predictions = predict_model(knn, data=public)\n",
    "f1_score(public_target['is_applied'],unseen_predictions['Anomaly'])"
   ]
  },
  {
   "cell_type": "code",
   "execution_count": 17,
   "id": "876743d3",
   "metadata": {},
   "outputs": [
    {
     "name": "stdout",
     "output_type": "stream",
     "text": [
      "Transformation Pipeline and Model Successfully Saved\n"
     ]
    },
    {
     "data": {
      "text/plain": [
       "(Pipeline(memory=None,\n",
       "          steps=[('dtypes',\n",
       "                  DataTypes_Auto_infer(categorical_features=[],\n",
       "                                       display_types=True, features_todrop=[],\n",
       "                                       id_columns=[], ml_usecase='regression',\n",
       "                                       numerical_features=[],\n",
       "                                       target='UNSUPERVISED_DUMMY_TARGET',\n",
       "                                       time_features=[])),\n",
       "                 ('imputer',\n",
       "                  Simple_Imputer(categorical_strategy='most frequent',\n",
       "                                 fill_value_categorical=None,\n",
       "                                 fill_value_numerical=None...\n",
       "                 ('fix_perfect', 'passthrough'),\n",
       "                 ('clean_names', Clean_Colum_Names()),\n",
       "                 ('feature_select', 'passthrough'), ('fix_multi', 'passthrough'),\n",
       "                 ('dfs', 'passthrough'), ('pca', 'passthrough'),\n",
       "                 ['trained_model',\n",
       "                  KNN(algorithm='auto', contamination=0.05, leaf_size=30, method='largest',\n",
       "   metric='minkowski', metric_params=None, n_jobs=-1, n_neighbors=5, p=2,\n",
       "   radius=1.0)]],\n",
       "          verbose=False),\n",
       " 'model/pycaret_knn.pkl')"
      ]
     },
     "execution_count": 17,
     "metadata": {},
     "output_type": "execute_result"
    }
   ],
   "source": [
    "save_model(knn,'../Model/pycaret_knn')"
   ]
  },
  {
   "cell_type": "markdown",
   "id": "56a3d2b5",
   "metadata": {},
   "source": [
    "## Iforest"
   ]
  },
  {
   "cell_type": "code",
   "execution_count": 18,
   "id": "7051ed7b",
   "metadata": {},
   "outputs": [],
   "source": [
    "iforest = create_model('iforest')"
   ]
  },
  {
   "cell_type": "code",
   "execution_count": 19,
   "id": "088d53f5",
   "metadata": {},
   "outputs": [
    {
     "data": {
      "text/plain": [
       "0.1201625386996904"
      ]
     },
     "execution_count": 19,
     "metadata": {},
     "output_type": "execute_result"
    }
   ],
   "source": [
    "unseen_predictions = predict_model(iforest, data=public)\n",
    "f1_score(public_target['is_applied'],unseen_predictions['Anomaly'])"
   ]
  },
  {
   "cell_type": "code",
   "execution_count": 20,
   "id": "31439308",
   "metadata": {},
   "outputs": [
    {
     "name": "stdout",
     "output_type": "stream",
     "text": [
      "Transformation Pipeline and Model Successfully Saved\n"
     ]
    },
    {
     "data": {
      "text/plain": [
       "(Pipeline(memory=None,\n",
       "          steps=[('dtypes',\n",
       "                  DataTypes_Auto_infer(categorical_features=[],\n",
       "                                       display_types=True, features_todrop=[],\n",
       "                                       id_columns=[], ml_usecase='regression',\n",
       "                                       numerical_features=[],\n",
       "                                       target='UNSUPERVISED_DUMMY_TARGET',\n",
       "                                       time_features=[])),\n",
       "                 ('imputer',\n",
       "                  Simple_Imputer(categorical_strategy='most frequent',\n",
       "                                 fill_value_categorical=None,\n",
       "                                 fill_value_numerical=None...\n",
       "                 ('fix_perfect', 'passthrough'),\n",
       "                 ('clean_names', Clean_Colum_Names()),\n",
       "                 ('feature_select', 'passthrough'), ('fix_multi', 'passthrough'),\n",
       "                 ('dfs', 'passthrough'), ('pca', 'passthrough'),\n",
       "                 ['trained_model',\n",
       "                  IForest(behaviour='new', bootstrap=False, contamination=0.05,\n",
       "     max_features=1.0, max_samples='auto', n_estimators=100, n_jobs=-1,\n",
       "     random_state=42, verbose=0)]],\n",
       "          verbose=False),\n",
       " 'model/pycaret_iforest.pkl')"
      ]
     },
     "execution_count": 20,
     "metadata": {},
     "output_type": "execute_result"
    }
   ],
   "source": [
    "save_model(iforest,'../Model/pycaret_iforest')"
   ]
  },
  {
   "cell_type": "markdown",
   "id": "3cc44079",
   "metadata": {},
   "source": [
    "## MCD"
   ]
  },
  {
   "cell_type": "code",
   "execution_count": 21,
   "id": "88c4b0e1",
   "metadata": {},
   "outputs": [],
   "source": [
    "mcd = create_model('mcd')"
   ]
  },
  {
   "cell_type": "code",
   "execution_count": 22,
   "id": "dd289bb8",
   "metadata": {},
   "outputs": [
    {
     "data": {
      "text/plain": [
       "0.08543499511241447"
      ]
     },
     "execution_count": 22,
     "metadata": {},
     "output_type": "execute_result"
    }
   ],
   "source": [
    "unseen_predictions = predict_model(mcd, data=public)\n",
    "f1_score(public_target['is_applied'],unseen_predictions['Anomaly'])"
   ]
  },
  {
   "cell_type": "code",
   "execution_count": 23,
   "id": "77c2e0c8",
   "metadata": {},
   "outputs": [
    {
     "name": "stdout",
     "output_type": "stream",
     "text": [
      "Transformation Pipeline and Model Successfully Saved\n"
     ]
    },
    {
     "data": {
      "text/plain": [
       "(Pipeline(memory=None,\n",
       "          steps=[('dtypes',\n",
       "                  DataTypes_Auto_infer(categorical_features=[],\n",
       "                                       display_types=True, features_todrop=[],\n",
       "                                       id_columns=[], ml_usecase='regression',\n",
       "                                       numerical_features=[],\n",
       "                                       target='UNSUPERVISED_DUMMY_TARGET',\n",
       "                                       time_features=[])),\n",
       "                 ('imputer',\n",
       "                  Simple_Imputer(categorical_strategy='most frequent',\n",
       "                                 fill_value_categorical=None,\n",
       "                                 fill_value_numerical=None...\n",
       "                 ('dummy', Dummify(target='UNSUPERVISED_DUMMY_TARGET')),\n",
       "                 ('fix_perfect', 'passthrough'),\n",
       "                 ('clean_names', Clean_Colum_Names()),\n",
       "                 ('feature_select', 'passthrough'), ('fix_multi', 'passthrough'),\n",
       "                 ('dfs', 'passthrough'), ('pca', 'passthrough'),\n",
       "                 ['trained_model',\n",
       "                  MCD(assume_centered=False, contamination=0.05, random_state=42,\n",
       "   store_precision=True, support_fraction=None)]],\n",
       "          verbose=False),\n",
       " 'model/pycaret_mcd.pkl')"
      ]
     },
     "execution_count": 23,
     "metadata": {},
     "output_type": "execute_result"
    }
   ],
   "source": [
    "save_model(mcd,'../Model/pycaret_mcd')"
   ]
  }
 ],
 "metadata": {
  "kernelspec": {
   "display_name": "Python 3 (ipykernel)",
   "language": "python",
   "name": "python3"
  },
  "language_info": {
   "codemirror_mode": {
    "name": "ipython",
    "version": 3
   },
   "file_extension": ".py",
   "mimetype": "text/x-python",
   "name": "python",
   "nbconvert_exporter": "python",
   "pygments_lexer": "ipython3",
   "version": "3.9.12"
  }
 },
 "nbformat": 4,
 "nbformat_minor": 5
}
