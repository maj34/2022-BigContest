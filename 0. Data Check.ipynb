{
 "cells": [
  {
   "cell_type": "markdown",
   "id": "356c417a",
   "metadata": {},
   "source": [
    "# <font color='CC3D3D'> Data Check\n",
    "    \n",
    "### 1. Data Check\n",
    "- 주어진 <span style=\"color:green\">**user_spec.csv, loan_result.csv, log_data.csv**</span>에 대해 기본적인 정포 파악"
   ]
  },
  {
   "cell_type": "markdown",
   "id": "d5facccb",
   "metadata": {},
   "source": [
    "# Import"
   ]
  },
  {
   "cell_type": "code",
   "execution_count": 1,
   "id": "63630aa2",
   "metadata": {},
   "outputs": [],
   "source": [
    "import pandas as pd"
   ]
  },
  {
   "cell_type": "markdown",
   "id": "1bfc69b4",
   "metadata": {},
   "source": [
    "# Data Load"
   ]
  },
  {
   "cell_type": "code",
   "execution_count": 2,
   "id": "3e3dbeaf",
   "metadata": {},
   "outputs": [],
   "source": [
    "data_root = '../Data/2022빅콘테스트_데이터분석리그_데이터분석분야_퓨처스부문_데이터셋_220908'"
   ]
  },
  {
   "cell_type": "code",
   "execution_count": 3,
   "id": "3fbbb9e2",
   "metadata": {},
   "outputs": [],
   "source": [
    "df1 = pd.read_csv(data_root+'/user_spec.csv')\n",
    "df2 = pd.read_csv(data_root+'/loan_result.csv')\n",
    "df3 = pd.read_csv(data_root+'/log_data.csv')"
   ]
  },
  {
   "cell_type": "markdown",
   "id": "9d3663ef",
   "metadata": {},
   "source": [
    "# Data Check"
   ]
  },
  {
   "cell_type": "markdown",
   "id": "7bc4ce22",
   "metadata": {},
   "source": [
    "## User_spec"
   ]
  },
  {
   "cell_type": "code",
   "execution_count": 4,
   "id": "d50f5b14",
   "metadata": {},
   "outputs": [
    {
     "name": "stdout",
     "output_type": "stream",
     "text": [
      "(1394216, 17)\n"
     ]
    },
    {
     "data": {
      "text/html": [
       "<div>\n",
       "<style scoped>\n",
       "    .dataframe tbody tr th:only-of-type {\n",
       "        vertical-align: middle;\n",
       "    }\n",
       "\n",
       "    .dataframe tbody tr th {\n",
       "        vertical-align: top;\n",
       "    }\n",
       "\n",
       "    .dataframe thead th {\n",
       "        text-align: right;\n",
       "    }\n",
       "</style>\n",
       "<table border=\"1\" class=\"dataframe\">\n",
       "  <thead>\n",
       "    <tr style=\"text-align: right;\">\n",
       "      <th></th>\n",
       "      <th>application_id</th>\n",
       "      <th>user_id</th>\n",
       "      <th>birth_year</th>\n",
       "      <th>gender</th>\n",
       "      <th>insert_time</th>\n",
       "      <th>credit_score</th>\n",
       "      <th>yearly_income</th>\n",
       "      <th>income_type</th>\n",
       "      <th>company_enter_month</th>\n",
       "      <th>employment_type</th>\n",
       "      <th>houseown_type</th>\n",
       "      <th>desired_amount</th>\n",
       "      <th>purpose</th>\n",
       "      <th>personal_rehabilitation_yn</th>\n",
       "      <th>personal_rehabilitation_complete_yn</th>\n",
       "      <th>existing_loan_cnt</th>\n",
       "      <th>existing_loan_amt</th>\n",
       "    </tr>\n",
       "  </thead>\n",
       "  <tbody>\n",
       "    <tr>\n",
       "      <th>0</th>\n",
       "      <td>1249046</td>\n",
       "      <td>118218</td>\n",
       "      <td>1985.0</td>\n",
       "      <td>1.0</td>\n",
       "      <td>2022-06-07 06:28:18</td>\n",
       "      <td>660.0</td>\n",
       "      <td>108000000.0</td>\n",
       "      <td>PRIVATEBUSINESS</td>\n",
       "      <td>20151101.0</td>\n",
       "      <td>기타</td>\n",
       "      <td>자가</td>\n",
       "      <td>1000000.0</td>\n",
       "      <td>기타</td>\n",
       "      <td>0.0</td>\n",
       "      <td>NaN</td>\n",
       "      <td>4.0</td>\n",
       "      <td>162000000.0</td>\n",
       "    </tr>\n",
       "    <tr>\n",
       "      <th>1</th>\n",
       "      <td>954900</td>\n",
       "      <td>553686</td>\n",
       "      <td>1968.0</td>\n",
       "      <td>1.0</td>\n",
       "      <td>2022-06-07 14:29:03</td>\n",
       "      <td>870.0</td>\n",
       "      <td>30000000.0</td>\n",
       "      <td>PRIVATEBUSINESS</td>\n",
       "      <td>20070201.0</td>\n",
       "      <td>정규직</td>\n",
       "      <td>기타가족소유</td>\n",
       "      <td>30000000.0</td>\n",
       "      <td>대환대출</td>\n",
       "      <td>0.0</td>\n",
       "      <td>NaN</td>\n",
       "      <td>1.0</td>\n",
       "      <td>27000000.0</td>\n",
       "    </tr>\n",
       "    <tr>\n",
       "      <th>2</th>\n",
       "      <td>137274</td>\n",
       "      <td>59516</td>\n",
       "      <td>1997.0</td>\n",
       "      <td>1.0</td>\n",
       "      <td>2022-06-07 21:40:22</td>\n",
       "      <td>710.0</td>\n",
       "      <td>30000000.0</td>\n",
       "      <td>FREELANCER</td>\n",
       "      <td>20210901.0</td>\n",
       "      <td>기타</td>\n",
       "      <td>기타가족소유</td>\n",
       "      <td>10000000.0</td>\n",
       "      <td>생활비</td>\n",
       "      <td>0.0</td>\n",
       "      <td>NaN</td>\n",
       "      <td>5.0</td>\n",
       "      <td>15000000.0</td>\n",
       "    </tr>\n",
       "    <tr>\n",
       "      <th>3</th>\n",
       "      <td>1570936</td>\n",
       "      <td>167320</td>\n",
       "      <td>1989.0</td>\n",
       "      <td>1.0</td>\n",
       "      <td>2022-06-07 09:40:27</td>\n",
       "      <td>820.0</td>\n",
       "      <td>62000000.0</td>\n",
       "      <td>EARNEDINCOME</td>\n",
       "      <td>20170101.0</td>\n",
       "      <td>정규직</td>\n",
       "      <td>자가</td>\n",
       "      <td>2000000.0</td>\n",
       "      <td>생활비</td>\n",
       "      <td>0.0</td>\n",
       "      <td>NaN</td>\n",
       "      <td>7.0</td>\n",
       "      <td>344000000.0</td>\n",
       "    </tr>\n",
       "    <tr>\n",
       "      <th>4</th>\n",
       "      <td>967833</td>\n",
       "      <td>33400</td>\n",
       "      <td>2000.0</td>\n",
       "      <td>1.0</td>\n",
       "      <td>2022-06-07 08:55:07</td>\n",
       "      <td>630.0</td>\n",
       "      <td>36000000.0</td>\n",
       "      <td>EARNEDINCOME</td>\n",
       "      <td>20210901.0</td>\n",
       "      <td>정규직</td>\n",
       "      <td>기타가족소유</td>\n",
       "      <td>5000000.0</td>\n",
       "      <td>생활비</td>\n",
       "      <td>0.0</td>\n",
       "      <td>0.0</td>\n",
       "      <td>1.0</td>\n",
       "      <td>16000000.0</td>\n",
       "    </tr>\n",
       "  </tbody>\n",
       "</table>\n",
       "</div>"
      ],
      "text/plain": [
       "   application_id  user_id  birth_year  gender          insert_time  \\\n",
       "0         1249046   118218      1985.0     1.0  2022-06-07 06:28:18   \n",
       "1          954900   553686      1968.0     1.0  2022-06-07 14:29:03   \n",
       "2          137274    59516      1997.0     1.0  2022-06-07 21:40:22   \n",
       "3         1570936   167320      1989.0     1.0  2022-06-07 09:40:27   \n",
       "4          967833    33400      2000.0     1.0  2022-06-07 08:55:07   \n",
       "\n",
       "   credit_score  yearly_income      income_type  company_enter_month  \\\n",
       "0         660.0    108000000.0  PRIVATEBUSINESS           20151101.0   \n",
       "1         870.0     30000000.0  PRIVATEBUSINESS           20070201.0   \n",
       "2         710.0     30000000.0       FREELANCER           20210901.0   \n",
       "3         820.0     62000000.0     EARNEDINCOME           20170101.0   \n",
       "4         630.0     36000000.0     EARNEDINCOME           20210901.0   \n",
       "\n",
       "  employment_type houseown_type  desired_amount purpose  \\\n",
       "0              기타            자가       1000000.0      기타   \n",
       "1             정규직        기타가족소유      30000000.0    대환대출   \n",
       "2              기타        기타가족소유      10000000.0     생활비   \n",
       "3             정규직            자가       2000000.0     생활비   \n",
       "4             정규직        기타가족소유       5000000.0     생활비   \n",
       "\n",
       "   personal_rehabilitation_yn  personal_rehabilitation_complete_yn  \\\n",
       "0                         0.0                                  NaN   \n",
       "1                         0.0                                  NaN   \n",
       "2                         0.0                                  NaN   \n",
       "3                         0.0                                  NaN   \n",
       "4                         0.0                                  0.0   \n",
       "\n",
       "   existing_loan_cnt  existing_loan_amt  \n",
       "0                4.0        162000000.0  \n",
       "1                1.0         27000000.0  \n",
       "2                5.0         15000000.0  \n",
       "3                7.0        344000000.0  \n",
       "4                1.0         16000000.0  "
      ]
     },
     "metadata": {},
     "output_type": "display_data"
    }
   ],
   "source": [
    "print(df1.shape)\n",
    "display(df1.head())"
   ]
  },
  {
   "cell_type": "code",
   "execution_count": 5,
   "id": "d693ab45",
   "metadata": {},
   "outputs": [
    {
     "data": {
      "text/plain": [
       "application_id                               0\n",
       "user_id                                      0\n",
       "birth_year                               12961\n",
       "gender                                   12961\n",
       "insert_time                                  0\n",
       "credit_score                            105115\n",
       "yearly_income                               90\n",
       "income_type                                 85\n",
       "company_enter_month                     171760\n",
       "employment_type                             85\n",
       "houseown_type                               85\n",
       "desired_amount                              85\n",
       "purpose                                     85\n",
       "personal_rehabilitation_yn              587461\n",
       "personal_rehabilitation_complete_yn    1203354\n",
       "existing_loan_cnt                       198556\n",
       "existing_loan_amt                       313774\n",
       "dtype: int64"
      ]
     },
     "execution_count": 5,
     "metadata": {},
     "output_type": "execute_result"
    }
   ],
   "source": [
    "df1.isna().sum()"
   ]
  },
  {
   "cell_type": "code",
   "execution_count": 6,
   "id": "8b8b70f3",
   "metadata": {},
   "outputs": [
    {
     "data": {
      "text/plain": [
       "1394216"
      ]
     },
     "execution_count": 6,
     "metadata": {},
     "output_type": "execute_result"
    }
   ],
   "source": [
    "df1.application_id.nunique()"
   ]
  },
  {
   "cell_type": "code",
   "execution_count": 7,
   "id": "41fb8c87",
   "metadata": {},
   "outputs": [
    {
     "data": {
      "text/plain": [
       "405213"
      ]
     },
     "execution_count": 7,
     "metadata": {},
     "output_type": "execute_result"
    }
   ],
   "source": [
    "df1.user_id.nunique()"
   ]
  },
  {
   "cell_type": "code",
   "execution_count": 8,
   "id": "7961b3b2",
   "metadata": {},
   "outputs": [
    {
     "data": {
      "text/plain": [
       "2"
      ]
     },
     "execution_count": 8,
     "metadata": {},
     "output_type": "execute_result"
    }
   ],
   "source": [
    "df1.gender.nunique()"
   ]
  },
  {
   "cell_type": "code",
   "execution_count": 9,
   "id": "350f9fa4",
   "metadata": {},
   "outputs": [
    {
     "data": {
      "text/plain": [
       "'2022-06-30 23:58:29'"
      ]
     },
     "execution_count": 9,
     "metadata": {},
     "output_type": "execute_result"
    }
   ],
   "source": [
    "df1.insert_time.max()"
   ]
  },
  {
   "cell_type": "code",
   "execution_count": 10,
   "id": "a8ee45cc",
   "metadata": {},
   "outputs": [
    {
     "data": {
      "text/plain": [
       "'2022-03-01 00:11:35'"
      ]
     },
     "execution_count": 10,
     "metadata": {},
     "output_type": "execute_result"
    }
   ],
   "source": [
    "df1.insert_time.min()"
   ]
  },
  {
   "cell_type": "code",
   "execution_count": 11,
   "id": "8e771611",
   "metadata": {},
   "outputs": [
    {
     "data": {
      "text/plain": [
       "91"
      ]
     },
     "execution_count": 11,
     "metadata": {},
     "output_type": "execute_result"
    }
   ],
   "source": [
    "df1.credit_score.nunique()"
   ]
  },
  {
   "cell_type": "code",
   "execution_count": 12,
   "id": "d3fcb1bf",
   "metadata": {},
   "outputs": [
    {
     "data": {
      "text/plain": [
       "1000.0"
      ]
     },
     "execution_count": 12,
     "metadata": {},
     "output_type": "execute_result"
    }
   ],
   "source": [
    "df1.credit_score.max()"
   ]
  },
  {
   "cell_type": "code",
   "execution_count": 13,
   "id": "1cbd7d4a",
   "metadata": {},
   "outputs": [
    {
     "data": {
      "text/plain": [
       "60.0"
      ]
     },
     "execution_count": 13,
     "metadata": {},
     "output_type": "execute_result"
    }
   ],
   "source": [
    "df1.credit_score.min()"
   ]
  },
  {
   "cell_type": "code",
   "execution_count": 14,
   "id": "f8e2641a",
   "metadata": {},
   "outputs": [
    {
     "data": {
      "text/plain": [
       "0.0"
      ]
     },
     "execution_count": 14,
     "metadata": {},
     "output_type": "execute_result"
    }
   ],
   "source": [
    "df1.yearly_income.min()"
   ]
  },
  {
   "cell_type": "code",
   "execution_count": 15,
   "id": "c29d3d83",
   "metadata": {},
   "outputs": [
    {
     "data": {
      "text/plain": [
       "array(['PRIVATEBUSINESS', 'FREELANCER', 'EARNEDINCOME', 'OTHERINCOME',\n",
       "       'EARNEDINCOME2', 'PRACTITIONER', nan], dtype=object)"
      ]
     },
     "execution_count": 15,
     "metadata": {},
     "output_type": "execute_result"
    }
   ],
   "source": [
    "df1.income_type.unique()"
   ]
  },
  {
   "cell_type": "code",
   "execution_count": 16,
   "id": "c79d0205",
   "metadata": {},
   "outputs": [
    {
     "data": {
      "text/plain": [
       "array(['기타', '정규직', '계약직', '일용직', nan], dtype=object)"
      ]
     },
     "execution_count": 16,
     "metadata": {},
     "output_type": "execute_result"
    }
   ],
   "source": [
    "df1.employment_type.unique()"
   ]
  },
  {
   "cell_type": "code",
   "execution_count": 17,
   "id": "d57833fb",
   "metadata": {},
   "outputs": [
    {
     "data": {
      "text/plain": [
       "array(['자가', '기타가족소유', '전월세', '배우자', nan], dtype=object)"
      ]
     },
     "execution_count": 17,
     "metadata": {},
     "output_type": "execute_result"
    }
   ],
   "source": [
    "df1.houseown_type.unique()"
   ]
  },
  {
   "cell_type": "code",
   "execution_count": 18,
   "id": "7feebea4",
   "metadata": {},
   "outputs": [
    {
     "data": {
      "text/plain": [
       "0.0"
      ]
     },
     "execution_count": 18,
     "metadata": {},
     "output_type": "execute_result"
    }
   ],
   "source": [
    "df1.desired_amount.min()"
   ]
  },
  {
   "cell_type": "code",
   "execution_count": 19,
   "id": "0aa2889d",
   "metadata": {},
   "outputs": [
    {
     "data": {
      "text/plain": [
       "array(['기타', '대환대출', '생활비', '사업자금', '주택구입', '전월세보증금', '투자', 'LIVING',\n",
       "       'SWITCHLOAN', 'ETC', 'INVEST', '자동차구입', 'BUSINESS', 'BUYCAR', nan,\n",
       "       'HOUSEDEPOSIT', 'BUYHOUSE'], dtype=object)"
      ]
     },
     "execution_count": 19,
     "metadata": {},
     "output_type": "execute_result"
    }
   ],
   "source": [
    "df1.purpose.unique()"
   ]
  },
  {
   "cell_type": "code",
   "execution_count": 20,
   "id": "7295aab0",
   "metadata": {},
   "outputs": [
    {
     "data": {
      "text/plain": [
       "2"
      ]
     },
     "execution_count": 20,
     "metadata": {},
     "output_type": "execute_result"
    }
   ],
   "source": [
    "df1.personal_rehabilitation_yn.nunique()"
   ]
  },
  {
   "cell_type": "code",
   "execution_count": 21,
   "id": "425a1c85",
   "metadata": {},
   "outputs": [
    {
     "data": {
      "text/plain": [
       "100"
      ]
     },
     "execution_count": 21,
     "metadata": {},
     "output_type": "execute_result"
    }
   ],
   "source": [
    "df1.existing_loan_cnt.nunique()"
   ]
  },
  {
   "cell_type": "code",
   "execution_count": 22,
   "id": "c763cf85",
   "metadata": {},
   "outputs": [
    {
     "data": {
      "text/plain": [
       "array([  4.,   1.,   5.,   7.,  nan,   3.,   2.,  10.,   6.,   8.,  14.,\n",
       "         9.,  15.,  12.,  11.,  22.,  13.,  21.,  32.,  44.,  23.,  16.,\n",
       "        17.,  18.,  25.,  70.,  20.,  24.,  76.,  50.,  27.,  35.,  48.,\n",
       "        19.,  40.,  38.,  29.,  79.,  41.,  33.,  31.,  84.,  45.,  37.,\n",
       "        26.,  30.,  28.,  43.,  34.,  97., 109.,  39.,  58.,  65.,  42.,\n",
       "        86., 103.,  60.,  63.,  59.,  55.,  46., 102., 178.,  53.,  36.,\n",
       "        51.,  54., 131.,  47.,  49., 157.,  89.,  52.,  62.,  57.,  56.,\n",
       "        66.,  74., 117., 107.,  61., 125.,  69.,  96.,  77.,  75., 142.,\n",
       "        85., 229.,  81., 278., 176.,  72., 128.,  73., 106.,  67.,  71.,\n",
       "       169., 156.])"
      ]
     },
     "execution_count": 22,
     "metadata": {},
     "output_type": "execute_result"
    }
   ],
   "source": [
    "df1.existing_loan_cnt.unique()"
   ]
  },
  {
   "cell_type": "code",
   "execution_count": 23,
   "id": "bed1ba7a",
   "metadata": {},
   "outputs": [
    {
     "data": {
      "text/plain": [
       "7512000000.0"
      ]
     },
     "execution_count": 23,
     "metadata": {},
     "output_type": "execute_result"
    }
   ],
   "source": [
    "df1.existing_loan_amt.max()"
   ]
  },
  {
   "cell_type": "code",
   "execution_count": 24,
   "id": "df14217a",
   "metadata": {},
   "outputs": [
    {
     "data": {
      "text/plain": [
       "0.0"
      ]
     },
     "execution_count": 24,
     "metadata": {},
     "output_type": "execute_result"
    }
   ],
   "source": [
    "df1.existing_loan_amt.min()"
   ]
  },
  {
   "cell_type": "markdown",
   "id": "5d9ad4d6",
   "metadata": {},
   "source": [
    "## Loan_result"
   ]
  },
  {
   "cell_type": "code",
   "execution_count": 25,
   "id": "18d4cb97",
   "metadata": {},
   "outputs": [
    {
     "name": "stdout",
     "output_type": "stream",
     "text": [
      "(13527363, 7)\n"
     ]
    },
    {
     "data": {
      "text/html": [
       "<div>\n",
       "<style scoped>\n",
       "    .dataframe tbody tr th:only-of-type {\n",
       "        vertical-align: middle;\n",
       "    }\n",
       "\n",
       "    .dataframe tbody tr th {\n",
       "        vertical-align: top;\n",
       "    }\n",
       "\n",
       "    .dataframe thead th {\n",
       "        text-align: right;\n",
       "    }\n",
       "</style>\n",
       "<table border=\"1\" class=\"dataframe\">\n",
       "  <thead>\n",
       "    <tr style=\"text-align: right;\">\n",
       "      <th></th>\n",
       "      <th>application_id</th>\n",
       "      <th>loanapply_insert_time</th>\n",
       "      <th>bank_id</th>\n",
       "      <th>product_id</th>\n",
       "      <th>loan_limit</th>\n",
       "      <th>loan_rate</th>\n",
       "      <th>is_applied</th>\n",
       "    </tr>\n",
       "  </thead>\n",
       "  <tbody>\n",
       "    <tr>\n",
       "      <th>0</th>\n",
       "      <td>1748340</td>\n",
       "      <td>2022-06-07 13:05:41</td>\n",
       "      <td>7</td>\n",
       "      <td>191</td>\n",
       "      <td>42000000.0</td>\n",
       "      <td>13.6</td>\n",
       "      <td>NaN</td>\n",
       "    </tr>\n",
       "    <tr>\n",
       "      <th>1</th>\n",
       "      <td>1748340</td>\n",
       "      <td>2022-06-07 13:05:41</td>\n",
       "      <td>25</td>\n",
       "      <td>169</td>\n",
       "      <td>24000000.0</td>\n",
       "      <td>17.9</td>\n",
       "      <td>NaN</td>\n",
       "    </tr>\n",
       "    <tr>\n",
       "      <th>2</th>\n",
       "      <td>1748340</td>\n",
       "      <td>2022-06-07 13:05:41</td>\n",
       "      <td>2</td>\n",
       "      <td>7</td>\n",
       "      <td>24000000.0</td>\n",
       "      <td>18.5</td>\n",
       "      <td>NaN</td>\n",
       "    </tr>\n",
       "    <tr>\n",
       "      <th>3</th>\n",
       "      <td>1748340</td>\n",
       "      <td>2022-06-07 13:05:41</td>\n",
       "      <td>4</td>\n",
       "      <td>268</td>\n",
       "      <td>29000000.0</td>\n",
       "      <td>10.8</td>\n",
       "      <td>NaN</td>\n",
       "    </tr>\n",
       "    <tr>\n",
       "      <th>4</th>\n",
       "      <td>1748340</td>\n",
       "      <td>2022-06-07 13:05:41</td>\n",
       "      <td>11</td>\n",
       "      <td>118</td>\n",
       "      <td>5000000.0</td>\n",
       "      <td>16.4</td>\n",
       "      <td>NaN</td>\n",
       "    </tr>\n",
       "  </tbody>\n",
       "</table>\n",
       "</div>"
      ],
      "text/plain": [
       "   application_id loanapply_insert_time  bank_id  product_id  loan_limit  \\\n",
       "0         1748340   2022-06-07 13:05:41        7         191  42000000.0   \n",
       "1         1748340   2022-06-07 13:05:41       25         169  24000000.0   \n",
       "2         1748340   2022-06-07 13:05:41        2           7  24000000.0   \n",
       "3         1748340   2022-06-07 13:05:41        4         268  29000000.0   \n",
       "4         1748340   2022-06-07 13:05:41       11         118   5000000.0   \n",
       "\n",
       "   loan_rate  is_applied  \n",
       "0       13.6         NaN  \n",
       "1       17.9         NaN  \n",
       "2       18.5         NaN  \n",
       "3       10.8         NaN  \n",
       "4       16.4         NaN  "
      ]
     },
     "metadata": {},
     "output_type": "display_data"
    }
   ],
   "source": [
    "print(df2.shape)\n",
    "display(df2.head())"
   ]
  },
  {
   "cell_type": "code",
   "execution_count": 26,
   "id": "dd3810a1",
   "metadata": {
    "scrolled": false
   },
   "outputs": [
    {
     "data": {
      "text/plain": [
       "application_id                 0\n",
       "loanapply_insert_time          0\n",
       "bank_id                        0\n",
       "product_id                     0\n",
       "loan_limit                  7495\n",
       "loan_rate                   7495\n",
       "is_applied               3257239\n",
       "dtype: int64"
      ]
     },
     "execution_count": 26,
     "metadata": {},
     "output_type": "execute_result"
    }
   ],
   "source": [
    "df2.isna().sum()"
   ]
  },
  {
   "cell_type": "code",
   "execution_count": 27,
   "id": "19589520",
   "metadata": {},
   "outputs": [
    {
     "data": {
      "text/plain": [
       "63"
      ]
     },
     "execution_count": 27,
     "metadata": {},
     "output_type": "execute_result"
    }
   ],
   "source": [
    "df2.bank_id.nunique()"
   ]
  },
  {
   "cell_type": "code",
   "execution_count": 28,
   "id": "5b4df2d0",
   "metadata": {},
   "outputs": [
    {
     "data": {
      "text/plain": [
       "array([ 7, 25,  2,  4, 11, 35, 44, 28, 47, 58, 59, 34, 10, 63, 54, 49, 57,\n",
       "       31, 52, 33, 37, 42, 51, 29, 19, 17, 15, 55, 61, 14, 38, 13, 21, 64,\n",
       "        1, 12, 36, 60, 24,  3, 30,  8, 32, 62, 22, 26, 40, 23, 27, 46, 43,\n",
       "       20, 50,  9,  6,  5, 45, 18, 39, 41, 48, 56, 16], dtype=int64)"
      ]
     },
     "execution_count": 28,
     "metadata": {},
     "output_type": "execute_result"
    }
   ],
   "source": [
    "df2.bank_id.unique()"
   ]
  },
  {
   "cell_type": "code",
   "execution_count": 29,
   "id": "f9d581b9",
   "metadata": {},
   "outputs": [
    {
     "data": {
      "text/plain": [
       "'2022-06-30 23:55:00'"
      ]
     },
     "execution_count": 29,
     "metadata": {},
     "output_type": "execute_result"
    }
   ],
   "source": [
    "df2.loanapply_insert_time.max()"
   ]
  },
  {
   "cell_type": "code",
   "execution_count": 30,
   "id": "ae7689dd",
   "metadata": {},
   "outputs": [
    {
     "data": {
      "text/plain": [
       "'2022-03-01 00:11:36'"
      ]
     },
     "execution_count": 30,
     "metadata": {},
     "output_type": "execute_result"
    }
   ],
   "source": [
    "df2.loanapply_insert_time.min()"
   ]
  },
  {
   "cell_type": "code",
   "execution_count": 31,
   "id": "f47e35a4",
   "metadata": {},
   "outputs": [
    {
     "data": {
      "text/plain": [
       "188"
      ]
     },
     "execution_count": 31,
     "metadata": {},
     "output_type": "execute_result"
    }
   ],
   "source": [
    "df2.product_id.nunique()"
   ]
  },
  {
   "cell_type": "code",
   "execution_count": 32,
   "id": "c5bbccc1",
   "metadata": {},
   "outputs": [
    {
     "data": {
      "text/plain": [
       "230800000000.0"
      ]
     },
     "execution_count": 32,
     "metadata": {},
     "output_type": "execute_result"
    }
   ],
   "source": [
    "df2.loan_limit.max()"
   ]
  },
  {
   "cell_type": "code",
   "execution_count": 33,
   "id": "54634877",
   "metadata": {},
   "outputs": [
    {
     "data": {
      "text/plain": [
       "0.0"
      ]
     },
     "execution_count": 33,
     "metadata": {},
     "output_type": "execute_result"
    }
   ],
   "source": [
    "df2.loan_limit.min()"
   ]
  },
  {
   "cell_type": "code",
   "execution_count": 34,
   "id": "3f202da5",
   "metadata": {},
   "outputs": [
    {
     "data": {
      "text/plain": [
       "173"
      ]
     },
     "execution_count": 34,
     "metadata": {},
     "output_type": "execute_result"
    }
   ],
   "source": [
    "df2.loan_rate.nunique()"
   ]
  },
  {
   "cell_type": "code",
   "execution_count": 35,
   "id": "3eccfbb5",
   "metadata": {},
   "outputs": [
    {
     "data": {
      "text/plain": [
       "20.0"
      ]
     },
     "execution_count": 35,
     "metadata": {},
     "output_type": "execute_result"
    }
   ],
   "source": [
    "df2.loan_rate.max()"
   ]
  },
  {
   "cell_type": "code",
   "execution_count": 36,
   "id": "6f899711",
   "metadata": {},
   "outputs": [
    {
     "data": {
      "text/plain": [
       "1.5"
      ]
     },
     "execution_count": 36,
     "metadata": {},
     "output_type": "execute_result"
    }
   ],
   "source": [
    "df2.loan_rate.min()"
   ]
  },
  {
   "cell_type": "code",
   "execution_count": 37,
   "id": "2abe0cb0",
   "metadata": {},
   "outputs": [
    {
     "data": {
      "text/plain": [
       "2"
      ]
     },
     "execution_count": 37,
     "metadata": {},
     "output_type": "execute_result"
    }
   ],
   "source": [
    "df2.is_applied.nunique()"
   ]
  },
  {
   "cell_type": "markdown",
   "id": "53060214",
   "metadata": {},
   "source": [
    "## Log_Data"
   ]
  },
  {
   "cell_type": "code",
   "execution_count": 38,
   "id": "c0c4460f",
   "metadata": {},
   "outputs": [
    {
     "name": "stdout",
     "output_type": "stream",
     "text": [
      "(17843993, 6)\n"
     ]
    },
    {
     "data": {
      "text/html": [
       "<div>\n",
       "<style scoped>\n",
       "    .dataframe tbody tr th:only-of-type {\n",
       "        vertical-align: middle;\n",
       "    }\n",
       "\n",
       "    .dataframe tbody tr th {\n",
       "        vertical-align: top;\n",
       "    }\n",
       "\n",
       "    .dataframe thead th {\n",
       "        text-align: right;\n",
       "    }\n",
       "</style>\n",
       "<table border=\"1\" class=\"dataframe\">\n",
       "  <thead>\n",
       "    <tr style=\"text-align: right;\">\n",
       "      <th></th>\n",
       "      <th>user_id</th>\n",
       "      <th>event</th>\n",
       "      <th>timestamp</th>\n",
       "      <th>mp_os</th>\n",
       "      <th>mp_app_version</th>\n",
       "      <th>date_cd</th>\n",
       "    </tr>\n",
       "  </thead>\n",
       "  <tbody>\n",
       "    <tr>\n",
       "      <th>0</th>\n",
       "      <td>576409</td>\n",
       "      <td>StartLoanApply</td>\n",
       "      <td>2022-03-25 11:12:09</td>\n",
       "      <td>Android</td>\n",
       "      <td>3.8.2</td>\n",
       "      <td>2022-03-25</td>\n",
       "    </tr>\n",
       "    <tr>\n",
       "      <th>1</th>\n",
       "      <td>576409</td>\n",
       "      <td>ViewLoanApplyIntro</td>\n",
       "      <td>2022-03-25 11:12:09</td>\n",
       "      <td>Android</td>\n",
       "      <td>3.8.2</td>\n",
       "      <td>2022-03-25</td>\n",
       "    </tr>\n",
       "    <tr>\n",
       "      <th>2</th>\n",
       "      <td>72878</td>\n",
       "      <td>EndLoanApply</td>\n",
       "      <td>2022-03-25 11:14:44</td>\n",
       "      <td>Android</td>\n",
       "      <td>3.8.4</td>\n",
       "      <td>2022-03-25</td>\n",
       "    </tr>\n",
       "    <tr>\n",
       "      <th>3</th>\n",
       "      <td>645317</td>\n",
       "      <td>OpenApp</td>\n",
       "      <td>2022-03-25 11:15:09</td>\n",
       "      <td>iOS</td>\n",
       "      <td>3.6.1</td>\n",
       "      <td>2022-03-25</td>\n",
       "    </tr>\n",
       "    <tr>\n",
       "      <th>4</th>\n",
       "      <td>645317</td>\n",
       "      <td>UseLoanManage</td>\n",
       "      <td>2022-03-25 11:15:11</td>\n",
       "      <td>iOS</td>\n",
       "      <td>3.6.1</td>\n",
       "      <td>2022-03-25</td>\n",
       "    </tr>\n",
       "  </tbody>\n",
       "</table>\n",
       "</div>"
      ],
      "text/plain": [
       "   user_id               event            timestamp    mp_os mp_app_version  \\\n",
       "0   576409      StartLoanApply  2022-03-25 11:12:09  Android          3.8.2   \n",
       "1   576409  ViewLoanApplyIntro  2022-03-25 11:12:09  Android          3.8.2   \n",
       "2    72878        EndLoanApply  2022-03-25 11:14:44  Android          3.8.4   \n",
       "3   645317             OpenApp  2022-03-25 11:15:09      iOS          3.6.1   \n",
       "4   645317       UseLoanManage  2022-03-25 11:15:11      iOS          3.6.1   \n",
       "\n",
       "      date_cd  \n",
       "0  2022-03-25  \n",
       "1  2022-03-25  \n",
       "2  2022-03-25  \n",
       "3  2022-03-25  \n",
       "4  2022-03-25  "
      ]
     },
     "metadata": {},
     "output_type": "display_data"
    }
   ],
   "source": [
    "print(df3.shape)\n",
    "display(df3.head())"
   ]
  },
  {
   "cell_type": "code",
   "execution_count": 39,
   "id": "0b43a948",
   "metadata": {},
   "outputs": [
    {
     "data": {
      "text/plain": [
       "user_id                0\n",
       "event                  0\n",
       "timestamp              0\n",
       "mp_os                980\n",
       "mp_app_version    660597\n",
       "date_cd                0\n",
       "dtype: int64"
      ]
     },
     "execution_count": 39,
     "metadata": {},
     "output_type": "execute_result"
    }
   ],
   "source": [
    "df3.isna().sum()"
   ]
  }
 ],
 "metadata": {
  "kernelspec": {
   "display_name": "Python 3 (ipykernel)",
   "language": "python",
   "name": "python3"
  },
  "language_info": {
   "codemirror_mode": {
    "name": "ipython",
    "version": 3
   },
   "file_extension": ".py",
   "mimetype": "text/x-python",
   "name": "python",
   "nbconvert_exporter": "python",
   "pygments_lexer": "ipython3",
   "version": "3.9.12"
  }
 },
 "nbformat": 4,
 "nbformat_minor": 5
}
