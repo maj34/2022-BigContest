{
 "cells": [
  {
   "cell_type": "markdown",
   "id": "71a9e675",
   "metadata": {},
   "source": [
    "# <font color='CC3D3D'> 0.5_6 Log_Extract_App_Path\n",
    "    \n",
    "- log_data.csv, loan_result.csv, user_spec.csv로부터 개별 유저가 하루 동안 앱에 머물면서 발생시킨 이벤트의 순서를 경로로 정의\n",
    "- 개별 유저가 방문한 경로 데이터를 집계한 뒤 리스트의 형태로 붙인 데이터\n",
    "- 대출 신청을 실제로 한 유저의 경로 데이터 <span style=\"color:blue\"> **app_path.csv** </span> 생성\n",
    "- 대출 신청을 실제로 하지 않은 유저의 경로 데이터 <span style=\"color:blue\"> **.noapp_path.csv** </span> 생성"
   ]
  },
  {
   "cell_type": "markdown",
   "id": "14f40a71",
   "metadata": {},
   "source": [
    "# Import"
   ]
  },
  {
   "cell_type": "code",
   "execution_count": null,
   "id": "2b3fc436",
   "metadata": {
    "execution": {
     "iopub.execute_input": "2022-09-30T12:35:51.217493Z",
     "iopub.status.busy": "2022-09-30T12:35:51.216761Z",
     "iopub.status.idle": "2022-09-30T12:35:52.446145Z",
     "shell.execute_reply": "2022-09-30T12:35:52.444889Z"
    },
    "id": "2b3fc436",
    "papermill": {
     "duration": 1.242223,
     "end_time": "2022-09-30T12:35:52.449077",
     "exception": false,
     "start_time": "2022-09-30T12:35:51.206854",
     "status": "completed"
    },
    "tags": []
   },
   "outputs": [],
   "source": [
    "import pandas as pd\n",
    "import numpy as np\n",
    "import matplotlib.pyplot as plt\n",
    "import seaborn as sns\n",
    "from tqdm import tqdm\n",
    "import pickle\n",
    "from IPython.display import display\n",
    "import gc\n",
    "\n",
    "pd.set_option('display.max_columns', None)\n",
    "\n",
    "# with open(f\"{PATH}/빅콘테스트/dtypes.pkl\", 'rb') as f:\n",
    "#     dtypes = pickle.load(f)"
   ]
  },
  {
   "cell_type": "code",
   "execution_count": null,
   "id": "3b0988ed",
   "metadata": {
    "execution": {
     "iopub.execute_input": "2022-09-30T12:35:52.466646Z",
     "iopub.status.busy": "2022-09-30T12:35:52.465756Z",
     "iopub.status.idle": "2022-09-30T12:35:52.471651Z",
     "shell.execute_reply": "2022-09-30T12:35:52.470499Z"
    },
    "id": "3b0988ed",
    "papermill": {
     "duration": 0.017206,
     "end_time": "2022-09-30T12:35:52.474089",
     "exception": false,
     "start_time": "2022-09-30T12:35:52.456883",
     "status": "completed"
    },
    "tags": []
   },
   "outputs": [],
   "source": [
    "def view_info(df:pd.DataFrame) -> None:\n",
    "    print(df.shape)\n",
    "    print()\n",
    "    df.info()\n",
    "    print()\n",
    "    display(df.head())"
   ]
  },
  {
   "cell_type": "markdown",
   "id": "f6e82083",
   "metadata": {},
   "source": [
    "# Data Load"
   ]
  },
  {
   "cell_type": "code",
   "execution_count": null,
   "id": "300e45ba",
   "metadata": {
    "execution": {
     "iopub.execute_input": "2022-09-30T12:35:52.491664Z",
     "iopub.status.busy": "2022-09-30T12:35:52.490925Z",
     "iopub.status.idle": "2022-09-30T12:36:58.907643Z",
     "shell.execute_reply": "2022-09-30T12:36:58.906202Z"
    },
    "id": "300e45ba",
    "outputId": "9661ef33-58df-43fc-96c9-3e60f316bf5f",
    "papermill": {
     "duration": 66.428224,
     "end_time": "2022-09-30T12:36:58.909914",
     "exception": false,
     "start_time": "2022-09-30T12:35:52.481690",
     "status": "completed"
    },
    "tags": []
   },
   "outputs": [
    {
     "name": "stdout",
     "output_type": "stream",
     "text": [
      "(13527363, 3)\n",
      "\n",
      "<class 'pandas.core.frame.DataFrame'>\n",
      "RangeIndex: 13527363 entries, 0 to 13527362\n",
      "Data columns (total 3 columns):\n",
      " #   Column                 Dtype         \n",
      "---  ------                 -----         \n",
      " 0   application_id         uint32        \n",
      " 1   loanapply_insert_time  datetime64[ns]\n",
      " 2   is_applied             float64       \n",
      "dtypes: datetime64[ns](1), float64(1), uint32(1)\n",
      "memory usage: 258.0 MB\n",
      "\n"
     ]
    },
    {
     "data": {
      "text/html": [
       "<div>\n",
       "<style scoped>\n",
       "    .dataframe tbody tr th:only-of-type {\n",
       "        vertical-align: middle;\n",
       "    }\n",
       "\n",
       "    .dataframe tbody tr th {\n",
       "        vertical-align: top;\n",
       "    }\n",
       "\n",
       "    .dataframe thead th {\n",
       "        text-align: right;\n",
       "    }\n",
       "</style>\n",
       "<table border=\"1\" class=\"dataframe\">\n",
       "  <thead>\n",
       "    <tr style=\"text-align: right;\">\n",
       "      <th></th>\n",
       "      <th>application_id</th>\n",
       "      <th>loanapply_insert_time</th>\n",
       "      <th>is_applied</th>\n",
       "    </tr>\n",
       "  </thead>\n",
       "  <tbody>\n",
       "    <tr>\n",
       "      <th>0</th>\n",
       "      <td>1748340</td>\n",
       "      <td>2022-06-07 13:05:41</td>\n",
       "      <td>NaN</td>\n",
       "    </tr>\n",
       "    <tr>\n",
       "      <th>1</th>\n",
       "      <td>1748340</td>\n",
       "      <td>2022-06-07 13:05:41</td>\n",
       "      <td>NaN</td>\n",
       "    </tr>\n",
       "    <tr>\n",
       "      <th>2</th>\n",
       "      <td>1748340</td>\n",
       "      <td>2022-06-07 13:05:41</td>\n",
       "      <td>NaN</td>\n",
       "    </tr>\n",
       "    <tr>\n",
       "      <th>3</th>\n",
       "      <td>1748340</td>\n",
       "      <td>2022-06-07 13:05:41</td>\n",
       "      <td>NaN</td>\n",
       "    </tr>\n",
       "    <tr>\n",
       "      <th>4</th>\n",
       "      <td>1748340</td>\n",
       "      <td>2022-06-07 13:05:41</td>\n",
       "      <td>NaN</td>\n",
       "    </tr>\n",
       "  </tbody>\n",
       "</table>\n",
       "</div>"
      ],
      "text/plain": [
       "   application_id loanapply_insert_time  is_applied\n",
       "0         1748340   2022-06-07 13:05:41         NaN\n",
       "1         1748340   2022-06-07 13:05:41         NaN\n",
       "2         1748340   2022-06-07 13:05:41         NaN\n",
       "3         1748340   2022-06-07 13:05:41         NaN\n",
       "4         1748340   2022-06-07 13:05:41         NaN"
      ]
     },
     "metadata": {},
     "output_type": "display_data"
    },
    {
     "name": "stdout",
     "output_type": "stream",
     "text": [
      "\n",
      "(17843993, 4)\n",
      "\n",
      "<class 'pandas.core.frame.DataFrame'>\n",
      "RangeIndex: 17843993 entries, 0 to 17843992\n",
      "Data columns (total 4 columns):\n",
      " #   Column     Dtype         \n",
      "---  ------     -----         \n",
      " 0   user_id    uint32        \n",
      " 1   event      object        \n",
      " 2   timestamp  datetime64[ns]\n",
      " 3   date_cd    datetime64[ns]\n",
      "dtypes: datetime64[ns](2), object(1), uint32(1)\n",
      "memory usage: 476.5+ MB\n",
      "\n"
     ]
    },
    {
     "data": {
      "text/html": [
       "<div>\n",
       "<style scoped>\n",
       "    .dataframe tbody tr th:only-of-type {\n",
       "        vertical-align: middle;\n",
       "    }\n",
       "\n",
       "    .dataframe tbody tr th {\n",
       "        vertical-align: top;\n",
       "    }\n",
       "\n",
       "    .dataframe thead th {\n",
       "        text-align: right;\n",
       "    }\n",
       "</style>\n",
       "<table border=\"1\" class=\"dataframe\">\n",
       "  <thead>\n",
       "    <tr style=\"text-align: right;\">\n",
       "      <th></th>\n",
       "      <th>user_id</th>\n",
       "      <th>event</th>\n",
       "      <th>timestamp</th>\n",
       "      <th>date_cd</th>\n",
       "    </tr>\n",
       "  </thead>\n",
       "  <tbody>\n",
       "    <tr>\n",
       "      <th>0</th>\n",
       "      <td>576409</td>\n",
       "      <td>StartLoanApply</td>\n",
       "      <td>2022-03-25 11:12:09</td>\n",
       "      <td>2022-03-25</td>\n",
       "    </tr>\n",
       "    <tr>\n",
       "      <th>1</th>\n",
       "      <td>576409</td>\n",
       "      <td>ViewLoanApplyIntro</td>\n",
       "      <td>2022-03-25 11:12:09</td>\n",
       "      <td>2022-03-25</td>\n",
       "    </tr>\n",
       "    <tr>\n",
       "      <th>2</th>\n",
       "      <td>72878</td>\n",
       "      <td>EndLoanApply</td>\n",
       "      <td>2022-03-25 11:14:44</td>\n",
       "      <td>2022-03-25</td>\n",
       "    </tr>\n",
       "    <tr>\n",
       "      <th>3</th>\n",
       "      <td>645317</td>\n",
       "      <td>OpenApp</td>\n",
       "      <td>2022-03-25 11:15:09</td>\n",
       "      <td>2022-03-25</td>\n",
       "    </tr>\n",
       "    <tr>\n",
       "      <th>4</th>\n",
       "      <td>645317</td>\n",
       "      <td>UseLoanManage</td>\n",
       "      <td>2022-03-25 11:15:11</td>\n",
       "      <td>2022-03-25</td>\n",
       "    </tr>\n",
       "  </tbody>\n",
       "</table>\n",
       "</div>"
      ],
      "text/plain": [
       "   user_id               event           timestamp    date_cd\n",
       "0   576409      StartLoanApply 2022-03-25 11:12:09 2022-03-25\n",
       "1   576409  ViewLoanApplyIntro 2022-03-25 11:12:09 2022-03-25\n",
       "2    72878        EndLoanApply 2022-03-25 11:14:44 2022-03-25\n",
       "3   645317             OpenApp 2022-03-25 11:15:09 2022-03-25\n",
       "4   645317       UseLoanManage 2022-03-25 11:15:11 2022-03-25"
      ]
     },
     "metadata": {},
     "output_type": "display_data"
    },
    {
     "name": "stdout",
     "output_type": "stream",
     "text": [
      "\n",
      "(1394216, 3)\n",
      "\n",
      "<class 'pandas.core.frame.DataFrame'>\n",
      "RangeIndex: 1394216 entries, 0 to 1394215\n",
      "Data columns (total 3 columns):\n",
      " #   Column          Non-Null Count    Dtype         \n",
      "---  ------          --------------    -----         \n",
      " 0   application_id  1394216 non-null  uint32        \n",
      " 1   user_id         1394216 non-null  uint32        \n",
      " 2   insert_time     1394216 non-null  datetime64[ns]\n",
      "dtypes: datetime64[ns](1), uint32(2)\n",
      "memory usage: 21.3 MB\n",
      "\n"
     ]
    },
    {
     "data": {
      "text/html": [
       "<div>\n",
       "<style scoped>\n",
       "    .dataframe tbody tr th:only-of-type {\n",
       "        vertical-align: middle;\n",
       "    }\n",
       "\n",
       "    .dataframe tbody tr th {\n",
       "        vertical-align: top;\n",
       "    }\n",
       "\n",
       "    .dataframe thead th {\n",
       "        text-align: right;\n",
       "    }\n",
       "</style>\n",
       "<table border=\"1\" class=\"dataframe\">\n",
       "  <thead>\n",
       "    <tr style=\"text-align: right;\">\n",
       "      <th></th>\n",
       "      <th>application_id</th>\n",
       "      <th>user_id</th>\n",
       "      <th>insert_time</th>\n",
       "    </tr>\n",
       "  </thead>\n",
       "  <tbody>\n",
       "    <tr>\n",
       "      <th>0</th>\n",
       "      <td>1249046</td>\n",
       "      <td>118218</td>\n",
       "      <td>2022-06-07 06:28:18</td>\n",
       "    </tr>\n",
       "    <tr>\n",
       "      <th>1</th>\n",
       "      <td>954900</td>\n",
       "      <td>553686</td>\n",
       "      <td>2022-06-07 14:29:03</td>\n",
       "    </tr>\n",
       "    <tr>\n",
       "      <th>2</th>\n",
       "      <td>137274</td>\n",
       "      <td>59516</td>\n",
       "      <td>2022-06-07 21:40:22</td>\n",
       "    </tr>\n",
       "    <tr>\n",
       "      <th>3</th>\n",
       "      <td>1570936</td>\n",
       "      <td>167320</td>\n",
       "      <td>2022-06-07 09:40:27</td>\n",
       "    </tr>\n",
       "    <tr>\n",
       "      <th>4</th>\n",
       "      <td>967833</td>\n",
       "      <td>33400</td>\n",
       "      <td>2022-06-07 08:55:07</td>\n",
       "    </tr>\n",
       "  </tbody>\n",
       "</table>\n",
       "</div>"
      ],
      "text/plain": [
       "   application_id  user_id         insert_time\n",
       "0         1249046   118218 2022-06-07 06:28:18\n",
       "1          954900   553686 2022-06-07 14:29:03\n",
       "2          137274    59516 2022-06-07 21:40:22\n",
       "3         1570936   167320 2022-06-07 09:40:27\n",
       "4          967833    33400 2022-06-07 08:55:07"
      ]
     },
     "metadata": {},
     "output_type": "display_data"
    }
   ],
   "source": [
    "loan = pd.read_csv(\"../Data/2022빅콘테스트_데이터분석리그_데이터분석분야_퓨처스부문_데이터셋_220908/loan_result.csv\", engine='c',\n",
    "                   low_memory=True,\n",
    "                   parse_dates=['loanapply_insert_time'],\n",
    "                   dtype={'application_id': 'uint32', 'bank_id': 'uint8', 'product_id': 'uint8'},\n",
    "                   usecols=['application_id', 'loanapply_insert_time', 'is_applied'])\n",
    "log = pd.read_csv(\"../Data/2022빅콘테스트_데이터분석리그_데이터분석분야_퓨처스부문_데이터셋_220908/log_data.csv\", engine='c', \n",
    "                  dtype={'user_id': 'uint32', 'event': 'object'},\n",
    "                  usecols=['user_id', 'event', 'timestamp', 'date_cd'], \n",
    "                  low_memory=True,\n",
    "                  parse_dates=['timestamp', 'date_cd'])\n",
    "user = pd.read_csv(\"../Data/2022빅콘테스트_데이터분석리그_데이터분석분야_퓨처스부문_데이터셋_220908/user_spec.csv\", engine='c',\n",
    "                   dtype={'application_id': 'uint32', 'user_id': 'uint32'},\n",
    "                   low_memory=True,\n",
    "                   parse_dates=['insert_time'],\n",
    "                   usecols=['application_id', 'user_id', 'insert_time'])\n",
    "\n",
    "view_info(loan)\n",
    "print()\n",
    "view_info(log)\n",
    "print()\n",
    "view_info(user)"
   ]
  },
  {
   "cell_type": "code",
   "execution_count": null,
   "id": "ece6d748",
   "metadata": {
    "execution": {
     "iopub.execute_input": "2022-09-30T12:36:58.931669Z",
     "iopub.status.busy": "2022-09-30T12:36:58.931235Z",
     "iopub.status.idle": "2022-09-30T12:36:59.011839Z",
     "shell.execute_reply": "2022-09-30T12:36:59.010576Z"
    },
    "id": "ece6d748",
    "outputId": "bc37e985-cf10-414f-e152-6463043b8d6a",
    "papermill": {
     "duration": 0.095428,
     "end_time": "2022-09-30T12:36:59.014473",
     "exception": false,
     "start_time": "2022-09-30T12:36:58.919045",
     "status": "completed"
    },
    "tags": []
   },
   "outputs": [
    {
     "data": {
      "text/plain": [
       "application_id                 0\n",
       "loanapply_insert_time          0\n",
       "is_applied               3257239\n",
       "dtype: int64"
      ]
     },
     "execution_count": 5,
     "metadata": {},
     "output_type": "execute_result"
    }
   ],
   "source": [
    "loan.isnull().sum()"
   ]
  },
  {
   "cell_type": "markdown",
   "id": "d83749a0",
   "metadata": {},
   "source": [
    "# Data Structure"
   ]
  },
  {
   "cell_type": "code",
   "execution_count": null,
   "id": "9e543d9c",
   "metadata": {
    "execution": {
     "iopub.execute_input": "2022-09-30T12:36:59.033684Z",
     "iopub.status.busy": "2022-09-30T12:36:59.033232Z",
     "iopub.status.idle": "2022-09-30T12:37:28.291419Z",
     "shell.execute_reply": "2022-09-30T12:37:28.290196Z"
    },
    "id": "9e543d9c",
    "papermill": {
     "duration": 29.271118,
     "end_time": "2022-09-30T12:37:28.294275",
     "exception": false,
     "start_time": "2022-09-30T12:36:59.023157",
     "status": "completed"
    },
    "tags": []
   },
   "outputs": [],
   "source": [
    "app_user = {user['application_id'].iloc[i]: user['user_id'].iloc[i] for i in range(user.shape[0])}\n",
    "# train = loan[loan['loanapply_insert_time'].dt.month < 6]\n",
    "# train['user_id'] = train['application_id'].map(app_user)\n",
    "# train.dropna(subset=['user_id'], inplace=True)\n",
    "# train['user_id'] = train['user_id'].astype(np.uint32)\n",
    "\n",
    "# view_info(train)"
   ]
  },
  {
   "cell_type": "code",
   "execution_count": null,
   "id": "2ef5ceca",
   "metadata": {
    "execution": {
     "iopub.execute_input": "2022-09-30T12:37:28.313939Z",
     "iopub.status.busy": "2022-09-30T12:37:28.313031Z",
     "iopub.status.idle": "2022-09-30T12:37:30.763471Z",
     "shell.execute_reply": "2022-09-30T12:37:30.762249Z"
    },
    "id": "2ef5ceca",
    "outputId": "720fd70a-2aad-4d83-83b1-7bf27f5cf3c4",
    "papermill": {
     "duration": 2.462831,
     "end_time": "2022-09-30T12:37:30.765865",
     "exception": false,
     "start_time": "2022-09-30T12:37:28.303034",
     "status": "completed"
    },
    "tags": []
   },
   "outputs": [
    {
     "name": "stdout",
     "output_type": "stream",
     "text": [
      "(728997, 2)\n",
      "\n",
      "<class 'pandas.core.frame.DataFrame'>\n",
      "RangeIndex: 728997 entries, 0 to 728996\n",
      "Data columns (total 2 columns):\n",
      " #   Column          Non-Null Count   Dtype  \n",
      "---  ------          --------------   -----  \n",
      " 0   application_id  728997 non-null  uint64 \n",
      " 1   total_applied   728997 non-null  float64\n",
      "dtypes: float64(1), uint64(1)\n",
      "memory usage: 11.1 MB\n",
      "\n"
     ]
    },
    {
     "data": {
      "text/html": [
       "<div>\n",
       "<style scoped>\n",
       "    .dataframe tbody tr th:only-of-type {\n",
       "        vertical-align: middle;\n",
       "    }\n",
       "\n",
       "    .dataframe tbody tr th {\n",
       "        vertical-align: top;\n",
       "    }\n",
       "\n",
       "    .dataframe thead th {\n",
       "        text-align: right;\n",
       "    }\n",
       "</style>\n",
       "<table border=\"1\" class=\"dataframe\">\n",
       "  <thead>\n",
       "    <tr style=\"text-align: right;\">\n",
       "      <th></th>\n",
       "      <th>application_id</th>\n",
       "      <th>total_applied</th>\n",
       "    </tr>\n",
       "  </thead>\n",
       "  <tbody>\n",
       "    <tr>\n",
       "      <th>0</th>\n",
       "      <td>1</td>\n",
       "      <td>0.0</td>\n",
       "    </tr>\n",
       "    <tr>\n",
       "      <th>1</th>\n",
       "      <td>2</td>\n",
       "      <td>0.0</td>\n",
       "    </tr>\n",
       "    <tr>\n",
       "      <th>2</th>\n",
       "      <td>6</td>\n",
       "      <td>0.0</td>\n",
       "    </tr>\n",
       "    <tr>\n",
       "      <th>3</th>\n",
       "      <td>14</td>\n",
       "      <td>3.0</td>\n",
       "    </tr>\n",
       "    <tr>\n",
       "      <th>4</th>\n",
       "      <td>17</td>\n",
       "      <td>1.0</td>\n",
       "    </tr>\n",
       "  </tbody>\n",
       "</table>\n",
       "</div>"
      ],
      "text/plain": [
       "   application_id  total_applied\n",
       "0               1            0.0\n",
       "1               2            0.0\n",
       "2               6            0.0\n",
       "3              14            3.0\n",
       "4              17            1.0"
      ]
     },
     "metadata": {},
     "output_type": "display_data"
    }
   ],
   "source": [
    "train = loan[loan['loanapply_insert_time'].dt.month < 6]\n",
    "apply_group = train[['application_id', 'is_applied']].groupby(by='application_id').sum()\n",
    "apply_group.reset_index(drop=False, inplace=True)\n",
    "apply_group.columns = ['application_id', 'total_applied']\n",
    "\n",
    "view_info(apply_group)"
   ]
  },
  {
   "cell_type": "code",
   "execution_count": null,
   "id": "91af470d",
   "metadata": {
    "execution": {
     "iopub.execute_input": "2022-09-30T12:37:30.786212Z",
     "iopub.status.busy": "2022-09-30T12:37:30.785019Z",
     "iopub.status.idle": "2022-09-30T12:37:30.859214Z",
     "shell.execute_reply": "2022-09-30T12:37:30.857860Z"
    },
    "id": "91af470d",
    "outputId": "341c7712-e205-43e8-f035-a831ad802e90",
    "papermill": {
     "duration": 0.086879,
     "end_time": "2022-09-30T12:37:30.861715",
     "exception": false,
     "start_time": "2022-09-30T12:37:30.774836",
     "status": "completed"
    },
    "tags": []
   },
   "outputs": [
    {
     "name": "stdout",
     "output_type": "stream",
     "text": [
      "# of application ids that applied: 377669\n",
      "# of application ids that not applied: 351328\n",
      "2167826\n",
      "2167819\n"
     ]
    }
   ],
   "source": [
    "app_id = apply_group[apply_group['total_applied'] != 0]['application_id'].unique().astype(np.uint32)\n",
    "noapp_id = apply_group[apply_group['total_applied'] == 0]['application_id'].unique().astype(np.uint32)\n",
    "\n",
    "print(f\"# of application ids that applied: {app_id.shape[0]}\")\n",
    "print(f\"# of application ids that not applied: {noapp_id.shape[0]}\")\n",
    "\n",
    "print(app_id.max())\n",
    "print(noapp_id.max())"
   ]
  },
  {
   "cell_type": "code",
   "execution_count": null,
   "id": "2cdaaff0",
   "metadata": {
    "execution": {
     "iopub.execute_input": "2022-09-30T12:37:30.881951Z",
     "iopub.status.busy": "2022-09-30T12:37:30.881261Z",
     "iopub.status.idle": "2022-09-30T12:37:32.225955Z",
     "shell.execute_reply": "2022-09-30T12:37:32.224554Z"
    },
    "id": "2cdaaff0",
    "outputId": "a8746bd1-da5e-4a3d-e9f0-bb9aea06c5e9",
    "papermill": {
     "duration": 1.357481,
     "end_time": "2022-09-30T12:37:32.228532",
     "exception": false,
     "start_time": "2022-09-30T12:37:30.871051",
     "status": "completed"
    },
    "tags": []
   },
   "outputs": [
    {
     "name": "stdout",
     "output_type": "stream",
     "text": [
      "(10270124, 4)\n",
      "\n",
      "<class 'pandas.core.frame.DataFrame'>\n",
      "Int64Index: 10270124 entries, 0 to 10270123\n",
      "Data columns (total 4 columns):\n",
      " #   Column                 Dtype         \n",
      "---  ------                 -----         \n",
      " 0   application_id         uint32        \n",
      " 1   loanapply_insert_time  datetime64[ns]\n",
      " 2   is_applied             float64       \n",
      " 3   total_applied          float64       \n",
      "dtypes: datetime64[ns](1), float64(2), uint32(1)\n",
      "memory usage: 352.6 MB\n",
      "\n"
     ]
    },
    {
     "data": {
      "text/html": [
       "<div>\n",
       "<style scoped>\n",
       "    .dataframe tbody tr th:only-of-type {\n",
       "        vertical-align: middle;\n",
       "    }\n",
       "\n",
       "    .dataframe tbody tr th {\n",
       "        vertical-align: top;\n",
       "    }\n",
       "\n",
       "    .dataframe thead th {\n",
       "        text-align: right;\n",
       "    }\n",
       "</style>\n",
       "<table border=\"1\" class=\"dataframe\">\n",
       "  <thead>\n",
       "    <tr style=\"text-align: right;\">\n",
       "      <th></th>\n",
       "      <th>application_id</th>\n",
       "      <th>loanapply_insert_time</th>\n",
       "      <th>is_applied</th>\n",
       "      <th>total_applied</th>\n",
       "    </tr>\n",
       "  </thead>\n",
       "  <tbody>\n",
       "    <tr>\n",
       "      <th>0</th>\n",
       "      <td>2157865</td>\n",
       "      <td>2022-05-09 08:44:59</td>\n",
       "      <td>1.0</td>\n",
       "      <td>1.0</td>\n",
       "    </tr>\n",
       "    <tr>\n",
       "      <th>1</th>\n",
       "      <td>576643</td>\n",
       "      <td>2022-05-09 10:54:53</td>\n",
       "      <td>0.0</td>\n",
       "      <td>0.0</td>\n",
       "    </tr>\n",
       "    <tr>\n",
       "      <th>2</th>\n",
       "      <td>576643</td>\n",
       "      <td>2022-05-09 10:54:53</td>\n",
       "      <td>0.0</td>\n",
       "      <td>0.0</td>\n",
       "    </tr>\n",
       "    <tr>\n",
       "      <th>3</th>\n",
       "      <td>2136706</td>\n",
       "      <td>2022-05-09 10:41:06</td>\n",
       "      <td>0.0</td>\n",
       "      <td>3.0</td>\n",
       "    </tr>\n",
       "    <tr>\n",
       "      <th>4</th>\n",
       "      <td>2136706</td>\n",
       "      <td>2022-05-09 10:41:07</td>\n",
       "      <td>0.0</td>\n",
       "      <td>3.0</td>\n",
       "    </tr>\n",
       "  </tbody>\n",
       "</table>\n",
       "</div>"
      ],
      "text/plain": [
       "   application_id loanapply_insert_time  is_applied  total_applied\n",
       "0         2157865   2022-05-09 08:44:59         1.0            1.0\n",
       "1          576643   2022-05-09 10:54:53         0.0            0.0\n",
       "2          576643   2022-05-09 10:54:53         0.0            0.0\n",
       "3         2136706   2022-05-09 10:41:06         0.0            3.0\n",
       "4         2136706   2022-05-09 10:41:07         0.0            3.0"
      ]
     },
     "metadata": {},
     "output_type": "display_data"
    }
   ],
   "source": [
    "total_loan = pd.merge(left=train, right=apply_group, on='application_id', how='inner')\n",
    "view_info(total_loan)"
   ]
  },
  {
   "cell_type": "code",
   "execution_count": null,
   "id": "1b7f28b1",
   "metadata": {
    "execution": {
     "iopub.execute_input": "2022-09-30T12:37:32.248884Z",
     "iopub.status.busy": "2022-09-30T12:37:32.248435Z",
     "iopub.status.idle": "2022-09-30T12:37:40.669743Z",
     "shell.execute_reply": "2022-09-30T12:37:40.668573Z"
    },
    "id": "1b7f28b1",
    "outputId": "bb78eb5a-976e-4033-8461-d6c61d7a637a",
    "papermill": {
     "duration": 8.433993,
     "end_time": "2022-09-30T12:37:40.671988",
     "exception": false,
     "start_time": "2022-09-30T12:37:32.237995",
     "status": "completed"
    },
    "tags": []
   },
   "outputs": [
    {
     "name": "stdout",
     "output_type": "stream",
     "text": [
      "(10270011, 6)\n",
      "\n",
      "<class 'pandas.core.frame.DataFrame'>\n",
      "Int64Index: 10270011 entries, 0 to 10270123\n",
      "Data columns (total 6 columns):\n",
      " #   Column                 Dtype         \n",
      "---  ------                 -----         \n",
      " 0   application_id         uint32        \n",
      " 1   loanapply_insert_time  datetime64[ns]\n",
      " 2   is_applied             float64       \n",
      " 3   total_applied          float64       \n",
      " 4   user_id                uint32        \n",
      " 5   date_cd                datetime64[ns]\n",
      "dtypes: datetime64[ns](2), float64(2), uint32(2)\n",
      "memory usage: 470.1 MB\n",
      "\n"
     ]
    },
    {
     "data": {
      "text/html": [
       "<div>\n",
       "<style scoped>\n",
       "    .dataframe tbody tr th:only-of-type {\n",
       "        vertical-align: middle;\n",
       "    }\n",
       "\n",
       "    .dataframe tbody tr th {\n",
       "        vertical-align: top;\n",
       "    }\n",
       "\n",
       "    .dataframe thead th {\n",
       "        text-align: right;\n",
       "    }\n",
       "</style>\n",
       "<table border=\"1\" class=\"dataframe\">\n",
       "  <thead>\n",
       "    <tr style=\"text-align: right;\">\n",
       "      <th></th>\n",
       "      <th>application_id</th>\n",
       "      <th>loanapply_insert_time</th>\n",
       "      <th>is_applied</th>\n",
       "      <th>total_applied</th>\n",
       "      <th>user_id</th>\n",
       "      <th>date_cd</th>\n",
       "    </tr>\n",
       "  </thead>\n",
       "  <tbody>\n",
       "    <tr>\n",
       "      <th>0</th>\n",
       "      <td>2157865</td>\n",
       "      <td>2022-05-09 08:44:59</td>\n",
       "      <td>1.0</td>\n",
       "      <td>1.0</td>\n",
       "      <td>346970</td>\n",
       "      <td>2022-05-09</td>\n",
       "    </tr>\n",
       "    <tr>\n",
       "      <th>1</th>\n",
       "      <td>576643</td>\n",
       "      <td>2022-05-09 10:54:53</td>\n",
       "      <td>0.0</td>\n",
       "      <td>0.0</td>\n",
       "      <td>545882</td>\n",
       "      <td>2022-05-09</td>\n",
       "    </tr>\n",
       "    <tr>\n",
       "      <th>2</th>\n",
       "      <td>576643</td>\n",
       "      <td>2022-05-09 10:54:53</td>\n",
       "      <td>0.0</td>\n",
       "      <td>0.0</td>\n",
       "      <td>545882</td>\n",
       "      <td>2022-05-09</td>\n",
       "    </tr>\n",
       "    <tr>\n",
       "      <th>3</th>\n",
       "      <td>2136706</td>\n",
       "      <td>2022-05-09 10:41:06</td>\n",
       "      <td>0.0</td>\n",
       "      <td>3.0</td>\n",
       "      <td>558819</td>\n",
       "      <td>2022-05-09</td>\n",
       "    </tr>\n",
       "    <tr>\n",
       "      <th>4</th>\n",
       "      <td>2136706</td>\n",
       "      <td>2022-05-09 10:41:07</td>\n",
       "      <td>0.0</td>\n",
       "      <td>3.0</td>\n",
       "      <td>558819</td>\n",
       "      <td>2022-05-09</td>\n",
       "    </tr>\n",
       "  </tbody>\n",
       "</table>\n",
       "</div>"
      ],
      "text/plain": [
       "   application_id loanapply_insert_time  is_applied  total_applied  user_id  \\\n",
       "0         2157865   2022-05-09 08:44:59         1.0            1.0   346970   \n",
       "1          576643   2022-05-09 10:54:53         0.0            0.0   545882   \n",
       "2          576643   2022-05-09 10:54:53         0.0            0.0   545882   \n",
       "3         2136706   2022-05-09 10:41:06         0.0            3.0   558819   \n",
       "4         2136706   2022-05-09 10:41:07         0.0            3.0   558819   \n",
       "\n",
       "     date_cd  \n",
       "0 2022-05-09  \n",
       "1 2022-05-09  \n",
       "2 2022-05-09  \n",
       "3 2022-05-09  \n",
       "4 2022-05-09  "
      ]
     },
     "metadata": {},
     "output_type": "display_data"
    }
   ],
   "source": [
    "total_loan['user_id'] = total_loan['application_id'].map(app_user)\n",
    "total_loan.dropna(subset=['user_id'], inplace=True)\n",
    "total_loan['user_id'] = total_loan['user_id'].astype(np.uint32)\n",
    "total_loan['date_cd'] = pd.to_datetime(total_loan['loanapply_insert_time'].dt.date)\n",
    "view_info(total_loan)"
   ]
  },
  {
   "cell_type": "code",
   "execution_count": null,
   "id": "ca7348b6",
   "metadata": {
    "execution": {
     "iopub.execute_input": "2022-09-30T12:37:40.692675Z",
     "iopub.status.busy": "2022-09-30T12:37:40.692241Z",
     "iopub.status.idle": "2022-09-30T12:37:43.075193Z",
     "shell.execute_reply": "2022-09-30T12:37:43.073898Z"
    },
    "id": "ca7348b6",
    "outputId": "53087c70-22f7-4e97-ac80-7dcf7944a48b",
    "papermill": {
     "duration": 2.396287,
     "end_time": "2022-09-30T12:37:43.077711",
     "exception": false,
     "start_time": "2022-09-30T12:37:40.681424",
     "status": "completed"
    },
    "tags": []
   },
   "outputs": [
    {
     "name": "stdout",
     "output_type": "stream",
     "text": [
      "(12907328, 4)\n",
      "\n",
      "<class 'pandas.core.frame.DataFrame'>\n",
      "Int64Index: 12907328 entries, 0 to 17843992\n",
      "Data columns (total 4 columns):\n",
      " #   Column     Dtype         \n",
      "---  ------     -----         \n",
      " 0   user_id    uint32        \n",
      " 1   event      object        \n",
      " 2   timestamp  datetime64[ns]\n",
      " 3   date_cd    datetime64[ns]\n",
      "dtypes: datetime64[ns](2), object(1), uint32(1)\n",
      "memory usage: 443.1+ MB\n",
      "\n"
     ]
    },
    {
     "data": {
      "text/html": [
       "<div>\n",
       "<style scoped>\n",
       "    .dataframe tbody tr th:only-of-type {\n",
       "        vertical-align: middle;\n",
       "    }\n",
       "\n",
       "    .dataframe tbody tr th {\n",
       "        vertical-align: top;\n",
       "    }\n",
       "\n",
       "    .dataframe thead th {\n",
       "        text-align: right;\n",
       "    }\n",
       "</style>\n",
       "<table border=\"1\" class=\"dataframe\">\n",
       "  <thead>\n",
       "    <tr style=\"text-align: right;\">\n",
       "      <th></th>\n",
       "      <th>user_id</th>\n",
       "      <th>event</th>\n",
       "      <th>timestamp</th>\n",
       "      <th>date_cd</th>\n",
       "    </tr>\n",
       "  </thead>\n",
       "  <tbody>\n",
       "    <tr>\n",
       "      <th>0</th>\n",
       "      <td>576409</td>\n",
       "      <td>StartLoanApply</td>\n",
       "      <td>2022-03-25 11:12:09</td>\n",
       "      <td>2022-03-25</td>\n",
       "    </tr>\n",
       "    <tr>\n",
       "      <th>1</th>\n",
       "      <td>576409</td>\n",
       "      <td>ViewLoanApplyIntro</td>\n",
       "      <td>2022-03-25 11:12:09</td>\n",
       "      <td>2022-03-25</td>\n",
       "    </tr>\n",
       "    <tr>\n",
       "      <th>2</th>\n",
       "      <td>72878</td>\n",
       "      <td>EndLoanApply</td>\n",
       "      <td>2022-03-25 11:14:44</td>\n",
       "      <td>2022-03-25</td>\n",
       "    </tr>\n",
       "    <tr>\n",
       "      <th>3</th>\n",
       "      <td>645317</td>\n",
       "      <td>OpenApp</td>\n",
       "      <td>2022-03-25 11:15:09</td>\n",
       "      <td>2022-03-25</td>\n",
       "    </tr>\n",
       "    <tr>\n",
       "      <th>4</th>\n",
       "      <td>645317</td>\n",
       "      <td>UseLoanManage</td>\n",
       "      <td>2022-03-25 11:15:11</td>\n",
       "      <td>2022-03-25</td>\n",
       "    </tr>\n",
       "  </tbody>\n",
       "</table>\n",
       "</div>"
      ],
      "text/plain": [
       "   user_id               event           timestamp    date_cd\n",
       "0   576409      StartLoanApply 2022-03-25 11:12:09 2022-03-25\n",
       "1   576409  ViewLoanApplyIntro 2022-03-25 11:12:09 2022-03-25\n",
       "2    72878        EndLoanApply 2022-03-25 11:14:44 2022-03-25\n",
       "3   645317             OpenApp 2022-03-25 11:15:09 2022-03-25\n",
       "4   645317       UseLoanManage 2022-03-25 11:15:11 2022-03-25"
      ]
     },
     "metadata": {},
     "output_type": "display_data"
    }
   ],
   "source": [
    "log_train = log[log['date_cd'].dt.month < 6]\n",
    "view_info(log_train)"
   ]
  },
  {
   "cell_type": "code",
   "execution_count": null,
   "id": "272516f4",
   "metadata": {
    "execution": {
     "iopub.execute_input": "2022-09-30T12:37:43.099870Z",
     "iopub.status.busy": "2022-09-30T12:37:43.098754Z",
     "iopub.status.idle": "2022-09-30T12:38:02.509919Z",
     "shell.execute_reply": "2022-09-30T12:38:02.507887Z"
    },
    "id": "272516f4",
    "outputId": "3caaefda-d085-4962-ffe6-d456858e4aff",
    "papermill": {
     "duration": 19.427266,
     "end_time": "2022-09-30T12:38:02.514725",
     "exception": false,
     "start_time": "2022-09-30T12:37:43.087459",
     "status": "completed"
    },
    "tags": []
   },
   "outputs": [
    {
     "name": "stdout",
     "output_type": "stream",
     "text": [
      "(105414947, 6)\n",
      "\n",
      "<class 'pandas.core.frame.DataFrame'>\n",
      "Int64Index: 105414947 entries, 0 to 105414946\n",
      "Data columns (total 6 columns):\n",
      " #   Column          Dtype         \n",
      "---  ------          -----         \n",
      " 0   user_id         uint32        \n",
      " 1   event           object        \n",
      " 2   timestamp       datetime64[ns]\n",
      " 3   date_cd         datetime64[ns]\n",
      " 4   application_id  uint32        \n",
      " 5   total_applied   uint8         \n",
      "dtypes: datetime64[ns](2), object(1), uint32(2), uint8(1)\n",
      "memory usage: 4.0+ GB\n",
      "\n"
     ]
    },
    {
     "data": {
      "text/html": [
       "<div>\n",
       "<style scoped>\n",
       "    .dataframe tbody tr th:only-of-type {\n",
       "        vertical-align: middle;\n",
       "    }\n",
       "\n",
       "    .dataframe tbody tr th {\n",
       "        vertical-align: top;\n",
       "    }\n",
       "\n",
       "    .dataframe thead th {\n",
       "        text-align: right;\n",
       "    }\n",
       "</style>\n",
       "<table border=\"1\" class=\"dataframe\">\n",
       "  <thead>\n",
       "    <tr style=\"text-align: right;\">\n",
       "      <th></th>\n",
       "      <th>user_id</th>\n",
       "      <th>event</th>\n",
       "      <th>timestamp</th>\n",
       "      <th>date_cd</th>\n",
       "      <th>application_id</th>\n",
       "      <th>total_applied</th>\n",
       "    </tr>\n",
       "  </thead>\n",
       "  <tbody>\n",
       "    <tr>\n",
       "      <th>0</th>\n",
       "      <td>576409</td>\n",
       "      <td>StartLoanApply</td>\n",
       "      <td>2022-03-25 11:12:09</td>\n",
       "      <td>2022-03-25</td>\n",
       "      <td>87171</td>\n",
       "      <td>0</td>\n",
       "    </tr>\n",
       "    <tr>\n",
       "      <th>1</th>\n",
       "      <td>576409</td>\n",
       "      <td>StartLoanApply</td>\n",
       "      <td>2022-03-25 11:12:09</td>\n",
       "      <td>2022-03-25</td>\n",
       "      <td>87171</td>\n",
       "      <td>0</td>\n",
       "    </tr>\n",
       "    <tr>\n",
       "      <th>2</th>\n",
       "      <td>576409</td>\n",
       "      <td>StartLoanApply</td>\n",
       "      <td>2022-03-25 11:12:09</td>\n",
       "      <td>2022-03-25</td>\n",
       "      <td>87171</td>\n",
       "      <td>0</td>\n",
       "    </tr>\n",
       "    <tr>\n",
       "      <th>3</th>\n",
       "      <td>576409</td>\n",
       "      <td>StartLoanApply</td>\n",
       "      <td>2022-03-25 11:12:09</td>\n",
       "      <td>2022-03-25</td>\n",
       "      <td>87171</td>\n",
       "      <td>0</td>\n",
       "    </tr>\n",
       "    <tr>\n",
       "      <th>4</th>\n",
       "      <td>576409</td>\n",
       "      <td>StartLoanApply</td>\n",
       "      <td>2022-03-25 11:12:09</td>\n",
       "      <td>2022-03-25</td>\n",
       "      <td>87171</td>\n",
       "      <td>0</td>\n",
       "    </tr>\n",
       "  </tbody>\n",
       "</table>\n",
       "</div>"
      ],
      "text/plain": [
       "   user_id           event           timestamp    date_cd  application_id  \\\n",
       "0   576409  StartLoanApply 2022-03-25 11:12:09 2022-03-25           87171   \n",
       "1   576409  StartLoanApply 2022-03-25 11:12:09 2022-03-25           87171   \n",
       "2   576409  StartLoanApply 2022-03-25 11:12:09 2022-03-25           87171   \n",
       "3   576409  StartLoanApply 2022-03-25 11:12:09 2022-03-25           87171   \n",
       "4   576409  StartLoanApply 2022-03-25 11:12:09 2022-03-25           87171   \n",
       "\n",
       "   total_applied  \n",
       "0              0  \n",
       "1              0  \n",
       "2              0  \n",
       "3              0  \n",
       "4              0  "
      ]
     },
     "metadata": {},
     "output_type": "display_data"
    }
   ],
   "source": [
    "app_log_merge = pd.merge(left=log_train, right=total_loan[['user_id', 'application_id', 'date_cd', 'total_applied']], on=['user_id', 'date_cd'], how='inner')\n",
    "app_log_merge['total_applied'] = app_log_merge['total_applied'].astype(np.uint8)\n",
    "view_info(app_log_merge)"
   ]
  },
  {
   "cell_type": "code",
   "execution_count": null,
   "id": "6cdb8816",
   "metadata": {
    "execution": {
     "iopub.execute_input": "2022-09-30T12:38:02.540251Z",
     "iopub.status.busy": "2022-09-30T12:38:02.539462Z",
     "iopub.status.idle": "2022-09-30T12:38:15.010418Z",
     "shell.execute_reply": "2022-09-30T12:38:15.009030Z"
    },
    "id": "6cdb8816",
    "papermill": {
     "duration": 12.487402,
     "end_time": "2022-09-30T12:38:15.014292",
     "exception": false,
     "start_time": "2022-09-30T12:38:02.526890",
     "status": "completed"
    },
    "tags": []
   },
   "outputs": [],
   "source": [
    "actual_log = app_log_merge[app_log_merge['application_id'].isin(app_id)]\n",
    "no_log = app_log_merge[app_log_merge['application_id'].isin(noapp_id)]"
   ]
  },
  {
   "cell_type": "code",
   "execution_count": null,
   "id": "87046816",
   "metadata": {
    "execution": {
     "iopub.execute_input": "2022-09-30T12:38:15.042322Z",
     "iopub.status.busy": "2022-09-30T12:38:15.041191Z",
     "iopub.status.idle": "2022-09-30T12:38:15.061140Z",
     "shell.execute_reply": "2022-09-30T12:38:15.059977Z"
    },
    "id": "87046816",
    "outputId": "78a60208-515e-46b2-fc96-f62ac10097eb",
    "papermill": {
     "duration": 0.034744,
     "end_time": "2022-09-30T12:38:15.063730",
     "exception": false,
     "start_time": "2022-09-30T12:38:15.028986",
     "status": "completed"
    },
    "tags": []
   },
   "outputs": [
    {
     "name": "stdout",
     "output_type": "stream",
     "text": [
      "(59026370, 6)\n",
      "\n",
      "<class 'pandas.core.frame.DataFrame'>\n",
      "Int64Index: 59026370 entries, 42 to 105414946\n",
      "Data columns (total 6 columns):\n",
      " #   Column          Dtype         \n",
      "---  ------          -----         \n",
      " 0   user_id         uint32        \n",
      " 1   event           object        \n",
      " 2   timestamp       datetime64[ns]\n",
      " 3   date_cd         datetime64[ns]\n",
      " 4   application_id  uint32        \n",
      " 5   total_applied   uint8         \n",
      "dtypes: datetime64[ns](2), object(1), uint32(2), uint8(1)\n",
      "memory usage: 2.3+ GB\n",
      "\n"
     ]
    },
    {
     "data": {
      "text/html": [
       "<div>\n",
       "<style scoped>\n",
       "    .dataframe tbody tr th:only-of-type {\n",
       "        vertical-align: middle;\n",
       "    }\n",
       "\n",
       "    .dataframe tbody tr th {\n",
       "        vertical-align: top;\n",
       "    }\n",
       "\n",
       "    .dataframe thead th {\n",
       "        text-align: right;\n",
       "    }\n",
       "</style>\n",
       "<table border=\"1\" class=\"dataframe\">\n",
       "  <thead>\n",
       "    <tr style=\"text-align: right;\">\n",
       "      <th></th>\n",
       "      <th>user_id</th>\n",
       "      <th>event</th>\n",
       "      <th>timestamp</th>\n",
       "      <th>date_cd</th>\n",
       "      <th>application_id</th>\n",
       "      <th>total_applied</th>\n",
       "    </tr>\n",
       "  </thead>\n",
       "  <tbody>\n",
       "    <tr>\n",
       "      <th>42</th>\n",
       "      <td>72878</td>\n",
       "      <td>EndLoanApply</td>\n",
       "      <td>2022-03-25 11:14:44</td>\n",
       "      <td>2022-03-25</td>\n",
       "      <td>871260</td>\n",
       "      <td>2</td>\n",
       "    </tr>\n",
       "    <tr>\n",
       "      <th>43</th>\n",
       "      <td>72878</td>\n",
       "      <td>EndLoanApply</td>\n",
       "      <td>2022-03-25 11:14:44</td>\n",
       "      <td>2022-03-25</td>\n",
       "      <td>871260</td>\n",
       "      <td>2</td>\n",
       "    </tr>\n",
       "    <tr>\n",
       "      <th>44</th>\n",
       "      <td>72878</td>\n",
       "      <td>EndLoanApply</td>\n",
       "      <td>2022-03-25 11:14:44</td>\n",
       "      <td>2022-03-25</td>\n",
       "      <td>871260</td>\n",
       "      <td>2</td>\n",
       "    </tr>\n",
       "    <tr>\n",
       "      <th>45</th>\n",
       "      <td>72878</td>\n",
       "      <td>EndLoanApply</td>\n",
       "      <td>2022-03-25 11:14:44</td>\n",
       "      <td>2022-03-25</td>\n",
       "      <td>871260</td>\n",
       "      <td>2</td>\n",
       "    </tr>\n",
       "    <tr>\n",
       "      <th>46</th>\n",
       "      <td>72878</td>\n",
       "      <td>EndLoanApply</td>\n",
       "      <td>2022-03-25 11:14:44</td>\n",
       "      <td>2022-03-25</td>\n",
       "      <td>871260</td>\n",
       "      <td>2</td>\n",
       "    </tr>\n",
       "  </tbody>\n",
       "</table>\n",
       "</div>"
      ],
      "text/plain": [
       "    user_id         event           timestamp    date_cd  application_id  \\\n",
       "42    72878  EndLoanApply 2022-03-25 11:14:44 2022-03-25          871260   \n",
       "43    72878  EndLoanApply 2022-03-25 11:14:44 2022-03-25          871260   \n",
       "44    72878  EndLoanApply 2022-03-25 11:14:44 2022-03-25          871260   \n",
       "45    72878  EndLoanApply 2022-03-25 11:14:44 2022-03-25          871260   \n",
       "46    72878  EndLoanApply 2022-03-25 11:14:44 2022-03-25          871260   \n",
       "\n",
       "    total_applied  \n",
       "42              2  \n",
       "43              2  \n",
       "44              2  \n",
       "45              2  \n",
       "46              2  "
      ]
     },
     "metadata": {},
     "output_type": "display_data"
    }
   ],
   "source": [
    "view_info(actual_log)"
   ]
  },
  {
   "cell_type": "code",
   "execution_count": null,
   "id": "56ae9457",
   "metadata": {
    "execution": {
     "iopub.execute_input": "2022-09-30T12:38:15.086900Z",
     "iopub.status.busy": "2022-09-30T12:38:15.085622Z",
     "iopub.status.idle": "2022-09-30T12:38:15.105849Z",
     "shell.execute_reply": "2022-09-30T12:38:15.104500Z"
    },
    "id": "56ae9457",
    "outputId": "5d2d9bf7-6181-4bd6-db31-6923c38de6d6",
    "papermill": {
     "duration": 0.034352,
     "end_time": "2022-09-30T12:38:15.108410",
     "exception": false,
     "start_time": "2022-09-30T12:38:15.074058",
     "status": "completed"
    },
    "tags": []
   },
   "outputs": [
    {
     "name": "stdout",
     "output_type": "stream",
     "text": [
      "(46388577, 6)\n",
      "\n",
      "<class 'pandas.core.frame.DataFrame'>\n",
      "Int64Index: 46388577 entries, 0 to 105414922\n",
      "Data columns (total 6 columns):\n",
      " #   Column          Dtype         \n",
      "---  ------          -----         \n",
      " 0   user_id         uint32        \n",
      " 1   event           object        \n",
      " 2   timestamp       datetime64[ns]\n",
      " 3   date_cd         datetime64[ns]\n",
      " 4   application_id  uint32        \n",
      " 5   total_applied   uint8         \n",
      "dtypes: datetime64[ns](2), object(1), uint32(2), uint8(1)\n",
      "memory usage: 1.8+ GB\n",
      "\n"
     ]
    },
    {
     "data": {
      "text/html": [
       "<div>\n",
       "<style scoped>\n",
       "    .dataframe tbody tr th:only-of-type {\n",
       "        vertical-align: middle;\n",
       "    }\n",
       "\n",
       "    .dataframe tbody tr th {\n",
       "        vertical-align: top;\n",
       "    }\n",
       "\n",
       "    .dataframe thead th {\n",
       "        text-align: right;\n",
       "    }\n",
       "</style>\n",
       "<table border=\"1\" class=\"dataframe\">\n",
       "  <thead>\n",
       "    <tr style=\"text-align: right;\">\n",
       "      <th></th>\n",
       "      <th>user_id</th>\n",
       "      <th>event</th>\n",
       "      <th>timestamp</th>\n",
       "      <th>date_cd</th>\n",
       "      <th>application_id</th>\n",
       "      <th>total_applied</th>\n",
       "    </tr>\n",
       "  </thead>\n",
       "  <tbody>\n",
       "    <tr>\n",
       "      <th>0</th>\n",
       "      <td>576409</td>\n",
       "      <td>StartLoanApply</td>\n",
       "      <td>2022-03-25 11:12:09</td>\n",
       "      <td>2022-03-25</td>\n",
       "      <td>87171</td>\n",
       "      <td>0</td>\n",
       "    </tr>\n",
       "    <tr>\n",
       "      <th>1</th>\n",
       "      <td>576409</td>\n",
       "      <td>StartLoanApply</td>\n",
       "      <td>2022-03-25 11:12:09</td>\n",
       "      <td>2022-03-25</td>\n",
       "      <td>87171</td>\n",
       "      <td>0</td>\n",
       "    </tr>\n",
       "    <tr>\n",
       "      <th>2</th>\n",
       "      <td>576409</td>\n",
       "      <td>StartLoanApply</td>\n",
       "      <td>2022-03-25 11:12:09</td>\n",
       "      <td>2022-03-25</td>\n",
       "      <td>87171</td>\n",
       "      <td>0</td>\n",
       "    </tr>\n",
       "    <tr>\n",
       "      <th>3</th>\n",
       "      <td>576409</td>\n",
       "      <td>StartLoanApply</td>\n",
       "      <td>2022-03-25 11:12:09</td>\n",
       "      <td>2022-03-25</td>\n",
       "      <td>87171</td>\n",
       "      <td>0</td>\n",
       "    </tr>\n",
       "    <tr>\n",
       "      <th>4</th>\n",
       "      <td>576409</td>\n",
       "      <td>StartLoanApply</td>\n",
       "      <td>2022-03-25 11:12:09</td>\n",
       "      <td>2022-03-25</td>\n",
       "      <td>87171</td>\n",
       "      <td>0</td>\n",
       "    </tr>\n",
       "  </tbody>\n",
       "</table>\n",
       "</div>"
      ],
      "text/plain": [
       "   user_id           event           timestamp    date_cd  application_id  \\\n",
       "0   576409  StartLoanApply 2022-03-25 11:12:09 2022-03-25           87171   \n",
       "1   576409  StartLoanApply 2022-03-25 11:12:09 2022-03-25           87171   \n",
       "2   576409  StartLoanApply 2022-03-25 11:12:09 2022-03-25           87171   \n",
       "3   576409  StartLoanApply 2022-03-25 11:12:09 2022-03-25           87171   \n",
       "4   576409  StartLoanApply 2022-03-25 11:12:09 2022-03-25           87171   \n",
       "\n",
       "   total_applied  \n",
       "0              0  \n",
       "1              0  \n",
       "2              0  \n",
       "3              0  \n",
       "4              0  "
      ]
     },
     "metadata": {},
     "output_type": "display_data"
    }
   ],
   "source": [
    "view_info(no_log)"
   ]
  },
  {
   "cell_type": "code",
   "execution_count": null,
   "id": "61406406",
   "metadata": {
    "execution": {
     "iopub.execute_input": "2022-09-30T12:38:15.132170Z",
     "iopub.status.busy": "2022-09-30T12:38:15.131728Z",
     "iopub.status.idle": "2022-09-30T12:38:15.722107Z",
     "shell.execute_reply": "2022-09-30T12:38:15.720941Z"
    },
    "id": "61406406",
    "outputId": "72c0f942-9d60-401f-b485-484ecbe1052b",
    "papermill": {
     "duration": 0.605054,
     "end_time": "2022-09-30T12:38:15.724607",
     "exception": false,
     "start_time": "2022-09-30T12:38:15.119553",
     "status": "completed"
    },
    "tags": []
   },
   "outputs": [
    {
     "data": {
      "text/plain": [
       "123"
      ]
     },
     "execution_count": 16,
     "metadata": {},
     "output_type": "execute_result"
    }
   ],
   "source": [
    "del app_log_merge\n",
    "gc.collect()"
   ]
  },
  {
   "cell_type": "code",
   "execution_count": null,
   "id": "334430d2",
   "metadata": {
    "execution": {
     "iopub.execute_input": "2022-09-30T12:38:15.749347Z",
     "iopub.status.busy": "2022-09-30T12:38:15.748412Z",
     "iopub.status.idle": "2022-09-30T12:38:15.757095Z",
     "shell.execute_reply": "2022-09-30T12:38:15.755877Z"
    },
    "id": "334430d2",
    "papermill": {
     "duration": 0.024145,
     "end_time": "2022-09-30T12:38:15.759757",
     "exception": false,
     "start_time": "2022-09-30T12:38:15.735612",
     "status": "completed"
    },
    "tags": []
   },
   "outputs": [],
   "source": [
    "def get_path(df:pd.DataFrame) -> pd.DataFrame:\n",
    "    df.sort_values(by=['application_id', 'timestamp'], inplace=True)\n",
    "    event_tuples = dict()\n",
    "    for appid in tqdm(df['application_id'].unique()):\n",
    "        subdf = df[df['application_id'] == appid]\n",
    "        for dt in subdf['date_cd'].unique():\n",
    "            subsubdf = subdf[subdf['date_cd'] == dt]\n",
    "            events = tuple(subsubdf['event'])\n",
    "            if events not in event_tuples:\n",
    "                event_tuples[events] = 1\n",
    "            else:\n",
    "                event_tuples[events] += 1\n",
    "\n",
    "    result = pd.DataFrame({'path': event_tuples.keys(), 'count': event_tuples.values()})\n",
    "\n",
    "    return result"
   ]
  },
  {
   "cell_type": "markdown",
   "id": "681b5d6b",
   "metadata": {},
   "source": [
    "## Deployment CSV"
   ]
  },
  {
   "cell_type": "code",
   "execution_count": null,
   "id": "fe8428b6",
   "metadata": {
    "execution": {
     "iopub.execute_input": "2022-09-30T12:38:15.783078Z",
     "iopub.status.busy": "2022-09-30T12:38:15.782633Z",
     "iopub.status.idle": "2022-09-30T18:47:47.692349Z",
     "shell.execute_reply": "2022-09-30T18:47:47.690627Z"
    },
    "id": "fe8428b6",
    "outputId": "ad165b95-d845-4793-f579-d0fdb30cb4ac",
    "papermill": {
     "duration": 22171.925097,
     "end_time": "2022-09-30T18:47:47.695616",
     "exception": false,
     "start_time": "2022-09-30T12:38:15.770519",
     "status": "completed"
    },
    "tags": []
   },
   "outputs": [
    {
     "name": "stderr",
     "output_type": "stream",
     "text": [
      "100%|██████████| 354998/354998 [6:08:59<00:00, 16.03it/s]\n"
     ]
    }
   ],
   "source": [
    "app_path = get_path(actual_log)\n",
    "app_path.to_csv(\"../Data/path_applied_user.csv\", index=False)"
   ]
  },
  {
   "cell_type": "code",
   "execution_count": null,
   "id": "654319ed",
   "metadata": {
    "execution": {
     "iopub.execute_input": "2022-09-30T18:48:11.451159Z",
     "iopub.status.busy": "2022-09-30T18:48:11.450659Z",
     "iopub.status.idle": "2022-09-30T23:22:03.159090Z",
     "shell.execute_reply": "2022-09-30T23:22:03.157590Z"
    },
    "id": "654319ed",
    "outputId": "3196d154-2a31-4982-df36-b8b89b223328",
    "papermill": {
     "duration": 16443.68457,
     "end_time": "2022-09-30T23:22:03.162515",
     "exception": false,
     "start_time": "2022-09-30T18:47:59.477945",
     "status": "completed"
    },
    "tags": []
   },
   "outputs": [
    {
     "name": "stderr",
     "output_type": "stream",
     "text": [
      "100%|██████████| 323291/323291 [4:33:21<00:00, 19.71it/s]\n"
     ]
    }
   ],
   "source": [
    "noapp_path = get_path(no_log)\n",
    "noapp_path.to_csv(\"../Data/path_no_applied_user.csv\", index=False)"
   ]
  },
  {
   "cell_type": "code",
   "execution_count": null,
   "id": "29c9307b",
   "metadata": {
    "execution": {
     "iopub.execute_input": "2022-09-30T23:22:46.031022Z",
     "iopub.status.busy": "2022-09-30T23:22:46.030494Z",
     "iopub.status.idle": "2022-09-30T23:22:46.057517Z",
     "shell.execute_reply": "2022-09-30T23:22:46.056366Z"
    },
    "id": "29c9307b",
    "outputId": "75c37307-9efd-49e6-c28b-b3e289928a7a",
    "papermill": {
     "duration": 21.287745,
     "end_time": "2022-09-30T23:22:46.060185",
     "exception": false,
     "start_time": "2022-09-30T23:22:24.772440",
     "status": "completed"
    },
    "tags": []
   },
   "outputs": [
    {
     "data": {
      "text/html": [
       "<div>\n",
       "<style scoped>\n",
       "    .dataframe tbody tr th:only-of-type {\n",
       "        vertical-align: middle;\n",
       "    }\n",
       "\n",
       "    .dataframe tbody tr th {\n",
       "        vertical-align: top;\n",
       "    }\n",
       "\n",
       "    .dataframe thead th {\n",
       "        text-align: right;\n",
       "    }\n",
       "</style>\n",
       "<table border=\"1\" class=\"dataframe\">\n",
       "  <thead>\n",
       "    <tr style=\"text-align: right;\">\n",
       "      <th></th>\n",
       "      <th>path</th>\n",
       "      <th>count</th>\n",
       "    </tr>\n",
       "  </thead>\n",
       "  <tbody>\n",
       "    <tr>\n",
       "      <th>0</th>\n",
       "      <td>(GetCreditInfo, GetCreditInfo, GetCreditInfo, ...</td>\n",
       "      <td>172</td>\n",
       "    </tr>\n",
       "    <tr>\n",
       "      <th>1</th>\n",
       "      <td>(OpenApp, ViewLoanApplyIntro, CompleteIDCertif...</td>\n",
       "      <td>1</td>\n",
       "    </tr>\n",
       "    <tr>\n",
       "      <th>2</th>\n",
       "      <td>(OpenApp, OpenApp, OpenApp, OpenApp, OpenApp, ...</td>\n",
       "      <td>27</td>\n",
       "    </tr>\n",
       "    <tr>\n",
       "      <th>3</th>\n",
       "      <td>(OpenApp, StartLoanApply, ViewLoanApplyIntro, ...</td>\n",
       "      <td>2526</td>\n",
       "    </tr>\n",
       "    <tr>\n",
       "      <th>4</th>\n",
       "      <td>(OpenApp, OpenApp, OpenApp, OpenApp, OpenApp, ...</td>\n",
       "      <td>4</td>\n",
       "    </tr>\n",
       "    <tr>\n",
       "      <th>5</th>\n",
       "      <td>(OpenApp, StartLoanApply, ViewLoanApplyIntro, ...</td>\n",
       "      <td>65</td>\n",
       "    </tr>\n",
       "    <tr>\n",
       "      <th>6</th>\n",
       "      <td>(OpenApp, OpenApp, OpenApp, OpenApp, OpenApp, ...</td>\n",
       "      <td>1</td>\n",
       "    </tr>\n",
       "    <tr>\n",
       "      <th>7</th>\n",
       "      <td>(Login, Login, Login, Login, Login, GetCreditI...</td>\n",
       "      <td>4</td>\n",
       "    </tr>\n",
       "    <tr>\n",
       "      <th>8</th>\n",
       "      <td>(OpenApp, OpenApp, Login, ViewLoanApplyIntro, ...</td>\n",
       "      <td>2</td>\n",
       "    </tr>\n",
       "    <tr>\n",
       "      <th>9</th>\n",
       "      <td>(OpenApp, OpenApp, OpenApp, OpenApp, OpenApp, ...</td>\n",
       "      <td>9</td>\n",
       "    </tr>\n",
       "  </tbody>\n",
       "</table>\n",
       "</div>"
      ],
      "text/plain": [
       "                                                path  count\n",
       "0  (GetCreditInfo, GetCreditInfo, GetCreditInfo, ...    172\n",
       "1  (OpenApp, ViewLoanApplyIntro, CompleteIDCertif...      1\n",
       "2  (OpenApp, OpenApp, OpenApp, OpenApp, OpenApp, ...     27\n",
       "3  (OpenApp, StartLoanApply, ViewLoanApplyIntro, ...   2526\n",
       "4  (OpenApp, OpenApp, OpenApp, OpenApp, OpenApp, ...      4\n",
       "5  (OpenApp, StartLoanApply, ViewLoanApplyIntro, ...     65\n",
       "6  (OpenApp, OpenApp, OpenApp, OpenApp, OpenApp, ...      1\n",
       "7  (Login, Login, Login, Login, Login, GetCreditI...      4\n",
       "8  (OpenApp, OpenApp, Login, ViewLoanApplyIntro, ...      2\n",
       "9  (OpenApp, OpenApp, OpenApp, OpenApp, OpenApp, ...      9"
      ]
     },
     "execution_count": 20,
     "metadata": {},
     "output_type": "execute_result"
    }
   ],
   "source": [
    "app_path.head(10)"
   ]
  },
  {
   "cell_type": "code",
   "execution_count": null,
   "id": "625112bc",
   "metadata": {
    "execution": {
     "iopub.execute_input": "2022-09-30T23:23:27.908801Z",
     "iopub.status.busy": "2022-09-30T23:23:27.908367Z",
     "iopub.status.idle": "2022-09-30T23:23:28.056418Z",
     "shell.execute_reply": "2022-09-30T23:23:28.054982Z"
    },
    "id": "625112bc",
    "outputId": "4c673721-fd63-4ebf-d262-92a19f8e25d3",
    "papermill": {
     "duration": 21.064014,
     "end_time": "2022-09-30T23:23:28.060229",
     "exception": false,
     "start_time": "2022-09-30T23:23:06.996215",
     "status": "completed"
    },
    "tags": []
   },
   "outputs": [
    {
     "name": "stdout",
     "output_type": "stream",
     "text": [
      "('OpenApp', 'Login', 'StartLoanApply', 'ViewLoanApplyIntro', 'CompleteIDCertification', 'EndLoanApply')\t6565\n",
      "('OpenApp', 'OpenApp', 'Login', 'Login', 'StartLoanApply', 'StartLoanApply', 'ViewLoanApplyIntro', 'ViewLoanApplyIntro', 'CompleteIDCertification', 'CompleteIDCertification', 'EndLoanApply', 'EndLoanApply')\t4169\n",
      "('OpenApp', 'OpenApp', 'OpenApp', 'Login', 'Login', 'Login', 'StartLoanApply', 'StartLoanApply', 'StartLoanApply', 'ViewLoanApplyIntro', 'ViewLoanApplyIntro', 'ViewLoanApplyIntro', 'CompleteIDCertification', 'CompleteIDCertification', 'CompleteIDCertification', 'EndLoanApply', 'EndLoanApply', 'EndLoanApply')\t2676\n",
      "('OpenApp', 'StartLoanApply', 'ViewLoanApplyIntro', 'CompleteIDCertification', 'EndLoanApply')\t2526\n",
      "('OpenApp', 'OpenApp', 'OpenApp', 'OpenApp', 'Login', 'Login', 'Login', 'Login', 'StartLoanApply', 'StartLoanApply', 'StartLoanApply', 'StartLoanApply', 'ViewLoanApplyIntro', 'ViewLoanApplyIntro', 'ViewLoanApplyIntro', 'ViewLoanApplyIntro', 'CompleteIDCertification', 'CompleteIDCertification', 'CompleteIDCertification', 'CompleteIDCertification', 'EndLoanApply', 'EndLoanApply', 'EndLoanApply', 'EndLoanApply')\t1968\n",
      "('OpenApp', 'OpenApp', 'StartLoanApply', 'StartLoanApply', 'ViewLoanApplyIntro', 'ViewLoanApplyIntro', 'CompleteIDCertification', 'CompleteIDCertification', 'EndLoanApply', 'EndLoanApply')\t1659\n",
      "('OpenApp', 'OpenApp', 'OpenApp', 'OpenApp', 'OpenApp', 'Login', 'Login', 'Login', 'Login', 'Login', 'StartLoanApply', 'StartLoanApply', 'StartLoanApply', 'StartLoanApply', 'StartLoanApply', 'ViewLoanApplyIntro', 'ViewLoanApplyIntro', 'ViewLoanApplyIntro', 'ViewLoanApplyIntro', 'ViewLoanApplyIntro', 'CompleteIDCertification', 'CompleteIDCertification', 'CompleteIDCertification', 'CompleteIDCertification', 'CompleteIDCertification', 'EndLoanApply', 'EndLoanApply', 'EndLoanApply', 'EndLoanApply', 'EndLoanApply')\t1563\n",
      "('GetCreditInfo', 'GetCreditInfo')\t1500\n",
      "('OpenApp', 'OpenApp', 'OpenApp', 'OpenApp', 'OpenApp', 'OpenApp', 'Login', 'Login', 'Login', 'Login', 'Login', 'Login', 'StartLoanApply', 'StartLoanApply', 'StartLoanApply', 'StartLoanApply', 'StartLoanApply', 'StartLoanApply', 'ViewLoanApplyIntro', 'ViewLoanApplyIntro', 'ViewLoanApplyIntro', 'ViewLoanApplyIntro', 'ViewLoanApplyIntro', 'ViewLoanApplyIntro', 'CompleteIDCertification', 'CompleteIDCertification', 'CompleteIDCertification', 'CompleteIDCertification', 'CompleteIDCertification', 'CompleteIDCertification', 'EndLoanApply', 'EndLoanApply', 'EndLoanApply', 'EndLoanApply', 'EndLoanApply', 'EndLoanApply')\t1338\n",
      "('GetCreditInfo',)\t1329\n",
      "('OpenApp', 'OpenApp', 'OpenApp', 'OpenApp', 'OpenApp', 'OpenApp', 'OpenApp', 'Login', 'Login', 'Login', 'Login', 'Login', 'Login', 'Login', 'StartLoanApply', 'StartLoanApply', 'StartLoanApply', 'StartLoanApply', 'StartLoanApply', 'StartLoanApply', 'StartLoanApply', 'ViewLoanApplyIntro', 'ViewLoanApplyIntro', 'ViewLoanApplyIntro', 'ViewLoanApplyIntro', 'ViewLoanApplyIntro', 'ViewLoanApplyIntro', 'ViewLoanApplyIntro', 'CompleteIDCertification', 'CompleteIDCertification', 'CompleteIDCertification', 'CompleteIDCertification', 'CompleteIDCertification', 'CompleteIDCertification', 'CompleteIDCertification', 'EndLoanApply', 'EndLoanApply', 'EndLoanApply', 'EndLoanApply', 'EndLoanApply', 'EndLoanApply', 'EndLoanApply')\t1192\n",
      "('OpenApp', 'OpenApp', 'OpenApp', 'StartLoanApply', 'StartLoanApply', 'StartLoanApply', 'ViewLoanApplyIntro', 'ViewLoanApplyIntro', 'ViewLoanApplyIntro', 'CompleteIDCertification', 'CompleteIDCertification', 'CompleteIDCertification', 'EndLoanApply', 'EndLoanApply', 'EndLoanApply')\t1167\n",
      "('OpenApp', 'OpenApp', 'OpenApp', 'OpenApp', 'OpenApp', 'OpenApp', 'OpenApp', 'OpenApp', 'Login', 'Login', 'Login', 'Login', 'Login', 'Login', 'Login', 'Login', 'StartLoanApply', 'StartLoanApply', 'StartLoanApply', 'StartLoanApply', 'StartLoanApply', 'StartLoanApply', 'StartLoanApply', 'StartLoanApply', 'ViewLoanApplyIntro', 'ViewLoanApplyIntro', 'ViewLoanApplyIntro', 'ViewLoanApplyIntro', 'ViewLoanApplyIntro', 'ViewLoanApplyIntro', 'ViewLoanApplyIntro', 'ViewLoanApplyIntro', 'CompleteIDCertification', 'CompleteIDCertification', 'CompleteIDCertification', 'CompleteIDCertification', 'CompleteIDCertification', 'CompleteIDCertification', 'CompleteIDCertification', 'CompleteIDCertification', 'EndLoanApply', 'EndLoanApply', 'EndLoanApply', 'EndLoanApply', 'EndLoanApply', 'EndLoanApply', 'EndLoanApply', 'EndLoanApply')\t1133\n",
      "('OpenApp', 'OpenApp', 'OpenApp', 'OpenApp', 'OpenApp', 'OpenApp', 'OpenApp', 'OpenApp', 'OpenApp', 'Login', 'Login', 'Login', 'Login', 'Login', 'Login', 'Login', 'Login', 'Login', 'StartLoanApply', 'StartLoanApply', 'StartLoanApply', 'StartLoanApply', 'StartLoanApply', 'StartLoanApply', 'StartLoanApply', 'StartLoanApply', 'StartLoanApply', 'ViewLoanApplyIntro', 'ViewLoanApplyIntro', 'ViewLoanApplyIntro', 'ViewLoanApplyIntro', 'ViewLoanApplyIntro', 'ViewLoanApplyIntro', 'ViewLoanApplyIntro', 'ViewLoanApplyIntro', 'ViewLoanApplyIntro', 'CompleteIDCertification', 'CompleteIDCertification', 'CompleteIDCertification', 'CompleteIDCertification', 'CompleteIDCertification', 'CompleteIDCertification', 'CompleteIDCertification', 'CompleteIDCertification', 'CompleteIDCertification', 'EndLoanApply', 'EndLoanApply', 'EndLoanApply', 'EndLoanApply', 'EndLoanApply', 'EndLoanApply', 'EndLoanApply', 'EndLoanApply', 'EndLoanApply')\t1031\n",
      "('GetCreditInfo', 'GetCreditInfo', 'GetCreditInfo', 'GetCreditInfo')\t989\n",
      "('StartLoanApply', 'ViewLoanApplyIntro', 'CompleteIDCertification', 'EndLoanApply')\t951\n",
      "('GetCreditInfo', 'GetCreditInfo', 'GetCreditInfo')\t902\n",
      "('OpenApp', 'OpenApp', 'OpenApp', 'OpenApp', 'OpenApp', 'OpenApp', 'OpenApp', 'OpenApp', 'OpenApp', 'OpenApp', 'OpenApp', 'Login', 'Login', 'Login', 'Login', 'Login', 'Login', 'Login', 'Login', 'Login', 'Login', 'Login', 'StartLoanApply', 'StartLoanApply', 'StartLoanApply', 'StartLoanApply', 'StartLoanApply', 'StartLoanApply', 'StartLoanApply', 'StartLoanApply', 'StartLoanApply', 'StartLoanApply', 'StartLoanApply', 'ViewLoanApplyIntro', 'ViewLoanApplyIntro', 'ViewLoanApplyIntro', 'ViewLoanApplyIntro', 'ViewLoanApplyIntro', 'ViewLoanApplyIntro', 'ViewLoanApplyIntro', 'ViewLoanApplyIntro', 'ViewLoanApplyIntro', 'ViewLoanApplyIntro', 'ViewLoanApplyIntro', 'CompleteIDCertification', 'CompleteIDCertification', 'CompleteIDCertification', 'CompleteIDCertification', 'CompleteIDCertification', 'CompleteIDCertification', 'CompleteIDCertification', 'CompleteIDCertification', 'CompleteIDCertification', 'CompleteIDCertification', 'CompleteIDCertification', 'EndLoanApply', 'EndLoanApply', 'EndLoanApply', 'EndLoanApply', 'EndLoanApply', 'EndLoanApply', 'EndLoanApply', 'EndLoanApply', 'EndLoanApply', 'EndLoanApply', 'EndLoanApply')\t878\n",
      "('GetCreditInfo', 'GetCreditInfo', 'GetCreditInfo', 'GetCreditInfo', 'GetCreditInfo', 'GetCreditInfo')\t864\n",
      "('OpenApp', 'OpenApp', 'OpenApp', 'OpenApp', 'OpenApp', 'OpenApp', 'OpenApp', 'OpenApp', 'OpenApp', 'OpenApp', 'Login', 'Login', 'Login', 'Login', 'Login', 'Login', 'Login', 'Login', 'Login', 'Login', 'StartLoanApply', 'StartLoanApply', 'StartLoanApply', 'StartLoanApply', 'StartLoanApply', 'StartLoanApply', 'StartLoanApply', 'StartLoanApply', 'StartLoanApply', 'StartLoanApply', 'ViewLoanApplyIntro', 'ViewLoanApplyIntro', 'ViewLoanApplyIntro', 'ViewLoanApplyIntro', 'ViewLoanApplyIntro', 'ViewLoanApplyIntro', 'ViewLoanApplyIntro', 'ViewLoanApplyIntro', 'ViewLoanApplyIntro', 'ViewLoanApplyIntro', 'CompleteIDCertification', 'CompleteIDCertification', 'CompleteIDCertification', 'CompleteIDCertification', 'CompleteIDCertification', 'CompleteIDCertification', 'CompleteIDCertification', 'CompleteIDCertification', 'CompleteIDCertification', 'CompleteIDCertification', 'EndLoanApply', 'EndLoanApply', 'EndLoanApply', 'EndLoanApply', 'EndLoanApply', 'EndLoanApply', 'EndLoanApply', 'EndLoanApply', 'EndLoanApply', 'EndLoanApply')\t860\n"
     ]
    }
   ],
   "source": [
    "app_path.sort_values(by='count', ascending=False, inplace=True)\n",
    "app_path.reset_index(drop=True, inplace=True)\n",
    "for i in range(20):\n",
    "    path, count = app_path.head(20).iloc[i]\n",
    "    print(f\"{path}\\t{count}\")"
   ]
  },
  {
   "cell_type": "code",
   "execution_count": null,
   "id": "3c3f3757",
   "metadata": {
    "execution": {
     "iopub.execute_input": "2022-09-30T23:24:10.110944Z",
     "iopub.status.busy": "2022-09-30T23:24:10.110108Z",
     "iopub.status.idle": "2022-09-30T23:24:10.128378Z",
     "shell.execute_reply": "2022-09-30T23:24:10.127223Z"
    },
    "id": "3c3f3757",
    "outputId": "262e0227-36db-42c0-f048-630548f58322",
    "papermill": {
     "duration": 21.260599,
     "end_time": "2022-09-30T23:24:10.130702",
     "exception": false,
     "start_time": "2022-09-30T23:23:48.870103",
     "status": "completed"
    },
    "tags": []
   },
   "outputs": [
    {
     "data": {
      "text/html": [
       "<div>\n",
       "<style scoped>\n",
       "    .dataframe tbody tr th:only-of-type {\n",
       "        vertical-align: middle;\n",
       "    }\n",
       "\n",
       "    .dataframe tbody tr th {\n",
       "        vertical-align: top;\n",
       "    }\n",
       "\n",
       "    .dataframe thead th {\n",
       "        text-align: right;\n",
       "    }\n",
       "</style>\n",
       "<table border=\"1\" class=\"dataframe\">\n",
       "  <thead>\n",
       "    <tr style=\"text-align: right;\">\n",
       "      <th></th>\n",
       "      <th>path</th>\n",
       "      <th>count</th>\n",
       "    </tr>\n",
       "  </thead>\n",
       "  <tbody>\n",
       "    <tr>\n",
       "      <th>0</th>\n",
       "      <td>(OpenApp, OpenApp, OpenApp, OpenApp, OpenApp, ...</td>\n",
       "      <td>20</td>\n",
       "    </tr>\n",
       "    <tr>\n",
       "      <th>1</th>\n",
       "      <td>(OpenApp, Login, StartLoanApply, ViewLoanApply...</td>\n",
       "      <td>105</td>\n",
       "    </tr>\n",
       "    <tr>\n",
       "      <th>2</th>\n",
       "      <td>(OpenApp, OpenApp, OpenApp, OpenApp, OpenApp, ...</td>\n",
       "      <td>2</td>\n",
       "    </tr>\n",
       "    <tr>\n",
       "      <th>3</th>\n",
       "      <td>(OpenApp, OpenApp, OpenApp, OpenApp, OpenApp, ...</td>\n",
       "      <td>2</td>\n",
       "    </tr>\n",
       "    <tr>\n",
       "      <th>4</th>\n",
       "      <td>(OpenApp, OpenApp, OpenApp, OpenApp, OpenApp, ...</td>\n",
       "      <td>318</td>\n",
       "    </tr>\n",
       "    <tr>\n",
       "      <th>5</th>\n",
       "      <td>(OpenApp, OpenApp, OpenApp, OpenApp, OpenApp, ...</td>\n",
       "      <td>13</td>\n",
       "    </tr>\n",
       "    <tr>\n",
       "      <th>6</th>\n",
       "      <td>(OpenApp, OpenApp, OpenApp, OpenApp, OpenApp, ...</td>\n",
       "      <td>1</td>\n",
       "    </tr>\n",
       "    <tr>\n",
       "      <th>7</th>\n",
       "      <td>(OpenApp, Login, StartLoanApply, ViewLoanApply...</td>\n",
       "      <td>1</td>\n",
       "    </tr>\n",
       "    <tr>\n",
       "      <th>8</th>\n",
       "      <td>(GetCreditInfo, GetCreditInfo, GetCreditInfo, ...</td>\n",
       "      <td>157</td>\n",
       "    </tr>\n",
       "    <tr>\n",
       "      <th>9</th>\n",
       "      <td>(OpenApp, OpenApp, OpenApp, OpenApp, Login, Lo...</td>\n",
       "      <td>2465</td>\n",
       "    </tr>\n",
       "  </tbody>\n",
       "</table>\n",
       "</div>"
      ],
      "text/plain": [
       "                                                path  count\n",
       "0  (OpenApp, OpenApp, OpenApp, OpenApp, OpenApp, ...     20\n",
       "1  (OpenApp, Login, StartLoanApply, ViewLoanApply...    105\n",
       "2  (OpenApp, OpenApp, OpenApp, OpenApp, OpenApp, ...      2\n",
       "3  (OpenApp, OpenApp, OpenApp, OpenApp, OpenApp, ...      2\n",
       "4  (OpenApp, OpenApp, OpenApp, OpenApp, OpenApp, ...    318\n",
       "5  (OpenApp, OpenApp, OpenApp, OpenApp, OpenApp, ...     13\n",
       "6  (OpenApp, OpenApp, OpenApp, OpenApp, OpenApp, ...      1\n",
       "7  (OpenApp, Login, StartLoanApply, ViewLoanApply...      1\n",
       "8  (GetCreditInfo, GetCreditInfo, GetCreditInfo, ...    157\n",
       "9  (OpenApp, OpenApp, OpenApp, OpenApp, Login, Lo...   2465"
      ]
     },
     "execution_count": 22,
     "metadata": {},
     "output_type": "execute_result"
    }
   ],
   "source": [
    "noapp_path.head(10)"
   ]
  },
  {
   "cell_type": "code",
   "execution_count": null,
   "id": "feb28d73",
   "metadata": {
    "execution": {
     "iopub.execute_input": "2022-09-30T23:24:52.128005Z",
     "iopub.status.busy": "2022-09-30T23:24:52.127513Z",
     "iopub.status.idle": "2022-09-30T23:24:52.169116Z",
     "shell.execute_reply": "2022-09-30T23:24:52.167916Z"
    },
    "id": "feb28d73",
    "outputId": "c183ab36-8027-4b0f-e9b5-469c86e00ea1",
    "papermill": {
     "duration": 21.121472,
     "end_time": "2022-09-30T23:24:52.171631",
     "exception": false,
     "start_time": "2022-09-30T23:24:31.050159",
     "status": "completed"
    },
    "tags": []
   },
   "outputs": [
    {
     "name": "stdout",
     "output_type": "stream",
     "text": [
      "('OpenApp', 'Login', 'StartLoanApply', 'ViewLoanApplyIntro', 'CompleteIDCertification', 'EndLoanApply')\t8376\n",
      "('OpenApp', 'OpenApp', 'Login', 'Login', 'StartLoanApply', 'StartLoanApply', 'ViewLoanApplyIntro', 'ViewLoanApplyIntro', 'CompleteIDCertification', 'CompleteIDCertification', 'EndLoanApply', 'EndLoanApply')\t4879\n",
      "('OpenApp', 'OpenApp', 'OpenApp', 'Login', 'Login', 'Login', 'StartLoanApply', 'StartLoanApply', 'StartLoanApply', 'ViewLoanApplyIntro', 'ViewLoanApplyIntro', 'ViewLoanApplyIntro', 'CompleteIDCertification', 'CompleteIDCertification', 'CompleteIDCertification', 'EndLoanApply', 'EndLoanApply', 'EndLoanApply')\t3319\n",
      "('OpenApp', 'StartLoanApply', 'ViewLoanApplyIntro', 'CompleteIDCertification', 'EndLoanApply')\t3031\n",
      "('OpenApp', 'OpenApp', 'OpenApp', 'OpenApp', 'Login', 'Login', 'Login', 'Login', 'StartLoanApply', 'StartLoanApply', 'StartLoanApply', 'StartLoanApply', 'ViewLoanApplyIntro', 'ViewLoanApplyIntro', 'ViewLoanApplyIntro', 'ViewLoanApplyIntro', 'CompleteIDCertification', 'CompleteIDCertification', 'CompleteIDCertification', 'CompleteIDCertification', 'EndLoanApply', 'EndLoanApply', 'EndLoanApply', 'EndLoanApply')\t2465\n",
      "('OpenApp', 'OpenApp', 'OpenApp', 'OpenApp', 'OpenApp', 'Login', 'Login', 'Login', 'Login', 'Login', 'StartLoanApply', 'StartLoanApply', 'StartLoanApply', 'StartLoanApply', 'StartLoanApply', 'ViewLoanApplyIntro', 'ViewLoanApplyIntro', 'ViewLoanApplyIntro', 'ViewLoanApplyIntro', 'ViewLoanApplyIntro', 'CompleteIDCertification', 'CompleteIDCertification', 'CompleteIDCertification', 'CompleteIDCertification', 'CompleteIDCertification', 'EndLoanApply', 'EndLoanApply', 'EndLoanApply', 'EndLoanApply', 'EndLoanApply')\t2015\n",
      "('OpenApp', 'OpenApp', 'OpenApp', 'OpenApp', 'OpenApp', 'OpenApp', 'Login', 'Login', 'Login', 'Login', 'Login', 'Login', 'StartLoanApply', 'StartLoanApply', 'StartLoanApply', 'StartLoanApply', 'StartLoanApply', 'StartLoanApply', 'ViewLoanApplyIntro', 'ViewLoanApplyIntro', 'ViewLoanApplyIntro', 'ViewLoanApplyIntro', 'ViewLoanApplyIntro', 'ViewLoanApplyIntro', 'CompleteIDCertification', 'CompleteIDCertification', 'CompleteIDCertification', 'CompleteIDCertification', 'CompleteIDCertification', 'CompleteIDCertification', 'EndLoanApply', 'EndLoanApply', 'EndLoanApply', 'EndLoanApply', 'EndLoanApply', 'EndLoanApply')\t1731\n",
      "('OpenApp', 'OpenApp', 'StartLoanApply', 'StartLoanApply', 'ViewLoanApplyIntro', 'ViewLoanApplyIntro', 'CompleteIDCertification', 'CompleteIDCertification', 'EndLoanApply', 'EndLoanApply')\t1642\n",
      "('OpenApp', 'OpenApp', 'OpenApp', 'OpenApp', 'OpenApp', 'OpenApp', 'OpenApp', 'Login', 'Login', 'Login', 'Login', 'Login', 'Login', 'Login', 'StartLoanApply', 'StartLoanApply', 'StartLoanApply', 'StartLoanApply', 'StartLoanApply', 'StartLoanApply', 'StartLoanApply', 'ViewLoanApplyIntro', 'ViewLoanApplyIntro', 'ViewLoanApplyIntro', 'ViewLoanApplyIntro', 'ViewLoanApplyIntro', 'ViewLoanApplyIntro', 'ViewLoanApplyIntro', 'CompleteIDCertification', 'CompleteIDCertification', 'CompleteIDCertification', 'CompleteIDCertification', 'CompleteIDCertification', 'CompleteIDCertification', 'CompleteIDCertification', 'EndLoanApply', 'EndLoanApply', 'EndLoanApply', 'EndLoanApply', 'EndLoanApply', 'EndLoanApply', 'EndLoanApply')\t1534\n",
      "('OpenApp', 'OpenApp', 'OpenApp', 'OpenApp', 'OpenApp', 'OpenApp', 'OpenApp', 'OpenApp', 'Login', 'Login', 'Login', 'Login', 'Login', 'Login', 'Login', 'Login', 'StartLoanApply', 'StartLoanApply', 'StartLoanApply', 'StartLoanApply', 'StartLoanApply', 'StartLoanApply', 'StartLoanApply', 'StartLoanApply', 'ViewLoanApplyIntro', 'ViewLoanApplyIntro', 'ViewLoanApplyIntro', 'ViewLoanApplyIntro', 'ViewLoanApplyIntro', 'ViewLoanApplyIntro', 'ViewLoanApplyIntro', 'ViewLoanApplyIntro', 'CompleteIDCertification', 'CompleteIDCertification', 'CompleteIDCertification', 'CompleteIDCertification', 'CompleteIDCertification', 'CompleteIDCertification', 'CompleteIDCertification', 'CompleteIDCertification', 'EndLoanApply', 'EndLoanApply', 'EndLoanApply', 'EndLoanApply', 'EndLoanApply', 'EndLoanApply', 'EndLoanApply', 'EndLoanApply')\t1443\n",
      "('GetCreditInfo', 'GetCreditInfo')\t1253\n",
      "('OpenApp', 'OpenApp', 'OpenApp', 'OpenApp', 'OpenApp', 'OpenApp', 'OpenApp', 'OpenApp', 'OpenApp', 'Login', 'Login', 'Login', 'Login', 'Login', 'Login', 'Login', 'Login', 'Login', 'StartLoanApply', 'StartLoanApply', 'StartLoanApply', 'StartLoanApply', 'StartLoanApply', 'StartLoanApply', 'StartLoanApply', 'StartLoanApply', 'StartLoanApply', 'ViewLoanApplyIntro', 'ViewLoanApplyIntro', 'ViewLoanApplyIntro', 'ViewLoanApplyIntro', 'ViewLoanApplyIntro', 'ViewLoanApplyIntro', 'ViewLoanApplyIntro', 'ViewLoanApplyIntro', 'ViewLoanApplyIntro', 'CompleteIDCertification', 'CompleteIDCertification', 'CompleteIDCertification', 'CompleteIDCertification', 'CompleteIDCertification', 'CompleteIDCertification', 'CompleteIDCertification', 'CompleteIDCertification', 'CompleteIDCertification', 'EndLoanApply', 'EndLoanApply', 'EndLoanApply', 'EndLoanApply', 'EndLoanApply', 'EndLoanApply', 'EndLoanApply', 'EndLoanApply', 'EndLoanApply')\t1243\n",
      "('OpenApp', 'OpenApp', 'OpenApp', 'OpenApp', 'OpenApp', 'OpenApp', 'OpenApp', 'OpenApp', 'OpenApp', 'OpenApp', 'Login', 'Login', 'Login', 'Login', 'Login', 'Login', 'Login', 'Login', 'Login', 'Login', 'StartLoanApply', 'StartLoanApply', 'StartLoanApply', 'StartLoanApply', 'StartLoanApply', 'StartLoanApply', 'StartLoanApply', 'StartLoanApply', 'StartLoanApply', 'StartLoanApply', 'ViewLoanApplyIntro', 'ViewLoanApplyIntro', 'ViewLoanApplyIntro', 'ViewLoanApplyIntro', 'ViewLoanApplyIntro', 'ViewLoanApplyIntro', 'ViewLoanApplyIntro', 'ViewLoanApplyIntro', 'ViewLoanApplyIntro', 'ViewLoanApplyIntro', 'CompleteIDCertification', 'CompleteIDCertification', 'CompleteIDCertification', 'CompleteIDCertification', 'CompleteIDCertification', 'CompleteIDCertification', 'CompleteIDCertification', 'CompleteIDCertification', 'CompleteIDCertification', 'CompleteIDCertification', 'EndLoanApply', 'EndLoanApply', 'EndLoanApply', 'EndLoanApply', 'EndLoanApply', 'EndLoanApply', 'EndLoanApply', 'EndLoanApply', 'EndLoanApply', 'EndLoanApply')\t1199\n",
      "('OpenApp', 'OpenApp', 'OpenApp', 'StartLoanApply', 'StartLoanApply', 'StartLoanApply', 'ViewLoanApplyIntro', 'ViewLoanApplyIntro', 'ViewLoanApplyIntro', 'CompleteIDCertification', 'CompleteIDCertification', 'CompleteIDCertification', 'EndLoanApply', 'EndLoanApply', 'EndLoanApply')\t1163\n",
      "('OpenApp', 'Login', 'GetCreditInfo', 'StartLoanApply', 'ViewLoanApplyIntro', 'CompleteIDCertification', 'EndLoanApply')\t1146\n",
      "('GetCreditInfo',)\t1093\n",
      "('OpenApp', 'OpenApp', 'OpenApp', 'OpenApp', 'OpenApp', 'OpenApp', 'OpenApp', 'OpenApp', 'OpenApp', 'OpenApp', 'OpenApp', 'Login', 'Login', 'Login', 'Login', 'Login', 'Login', 'Login', 'Login', 'Login', 'Login', 'Login', 'StartLoanApply', 'StartLoanApply', 'StartLoanApply', 'StartLoanApply', 'StartLoanApply', 'StartLoanApply', 'StartLoanApply', 'StartLoanApply', 'StartLoanApply', 'StartLoanApply', 'StartLoanApply', 'ViewLoanApplyIntro', 'ViewLoanApplyIntro', 'ViewLoanApplyIntro', 'ViewLoanApplyIntro', 'ViewLoanApplyIntro', 'ViewLoanApplyIntro', 'ViewLoanApplyIntro', 'ViewLoanApplyIntro', 'ViewLoanApplyIntro', 'ViewLoanApplyIntro', 'ViewLoanApplyIntro', 'CompleteIDCertification', 'CompleteIDCertification', 'CompleteIDCertification', 'CompleteIDCertification', 'CompleteIDCertification', 'CompleteIDCertification', 'CompleteIDCertification', 'CompleteIDCertification', 'CompleteIDCertification', 'CompleteIDCertification', 'CompleteIDCertification', 'EndLoanApply', 'EndLoanApply', 'EndLoanApply', 'EndLoanApply', 'EndLoanApply', 'EndLoanApply', 'EndLoanApply', 'EndLoanApply', 'EndLoanApply', 'EndLoanApply', 'EndLoanApply')\t1088\n",
      "('OpenApp', 'OpenApp', 'OpenApp', 'OpenApp', 'OpenApp', 'OpenApp', 'OpenApp', 'OpenApp', 'OpenApp', 'OpenApp', 'OpenApp', 'OpenApp', 'Login', 'Login', 'Login', 'Login', 'Login', 'Login', 'Login', 'Login', 'Login', 'Login', 'Login', 'Login', 'StartLoanApply', 'StartLoanApply', 'StartLoanApply', 'StartLoanApply', 'StartLoanApply', 'StartLoanApply', 'StartLoanApply', 'StartLoanApply', 'StartLoanApply', 'StartLoanApply', 'StartLoanApply', 'StartLoanApply', 'ViewLoanApplyIntro', 'ViewLoanApplyIntro', 'ViewLoanApplyIntro', 'ViewLoanApplyIntro', 'ViewLoanApplyIntro', 'ViewLoanApplyIntro', 'ViewLoanApplyIntro', 'ViewLoanApplyIntro', 'ViewLoanApplyIntro', 'ViewLoanApplyIntro', 'ViewLoanApplyIntro', 'ViewLoanApplyIntro', 'CompleteIDCertification', 'CompleteIDCertification', 'CompleteIDCertification', 'CompleteIDCertification', 'CompleteIDCertification', 'CompleteIDCertification', 'CompleteIDCertification', 'CompleteIDCertification', 'CompleteIDCertification', 'CompleteIDCertification', 'CompleteIDCertification', 'CompleteIDCertification', 'EndLoanApply', 'EndLoanApply', 'EndLoanApply', 'EndLoanApply', 'EndLoanApply', 'EndLoanApply', 'EndLoanApply', 'EndLoanApply', 'EndLoanApply', 'EndLoanApply', 'EndLoanApply', 'EndLoanApply')\t1008\n",
      "('OpenApp', 'OpenApp', 'OpenApp', 'OpenApp', 'StartLoanApply', 'StartLoanApply', 'StartLoanApply', 'StartLoanApply', 'ViewLoanApplyIntro', 'ViewLoanApplyIntro', 'ViewLoanApplyIntro', 'ViewLoanApplyIntro', 'CompleteIDCertification', 'CompleteIDCertification', 'CompleteIDCertification', 'CompleteIDCertification', 'EndLoanApply', 'EndLoanApply', 'EndLoanApply', 'EndLoanApply')\t889\n",
      "('OpenApp', 'OpenApp', 'OpenApp', 'OpenApp', 'OpenApp', 'OpenApp', 'OpenApp', 'OpenApp', 'OpenApp', 'OpenApp', 'OpenApp', 'OpenApp', 'OpenApp', 'Login', 'Login', 'Login', 'Login', 'Login', 'Login', 'Login', 'Login', 'Login', 'Login', 'Login', 'Login', 'Login', 'StartLoanApply', 'StartLoanApply', 'StartLoanApply', 'StartLoanApply', 'StartLoanApply', 'StartLoanApply', 'StartLoanApply', 'StartLoanApply', 'StartLoanApply', 'StartLoanApply', 'StartLoanApply', 'StartLoanApply', 'StartLoanApply', 'ViewLoanApplyIntro', 'ViewLoanApplyIntro', 'ViewLoanApplyIntro', 'ViewLoanApplyIntro', 'ViewLoanApplyIntro', 'ViewLoanApplyIntro', 'ViewLoanApplyIntro', 'ViewLoanApplyIntro', 'ViewLoanApplyIntro', 'ViewLoanApplyIntro', 'ViewLoanApplyIntro', 'ViewLoanApplyIntro', 'ViewLoanApplyIntro', 'CompleteIDCertification', 'CompleteIDCertification', 'CompleteIDCertification', 'CompleteIDCertification', 'CompleteIDCertification', 'CompleteIDCertification', 'CompleteIDCertification', 'CompleteIDCertification', 'CompleteIDCertification', 'CompleteIDCertification', 'CompleteIDCertification', 'CompleteIDCertification', 'CompleteIDCertification', 'EndLoanApply', 'EndLoanApply', 'EndLoanApply', 'EndLoanApply', 'EndLoanApply', 'EndLoanApply', 'EndLoanApply', 'EndLoanApply', 'EndLoanApply', 'EndLoanApply', 'EndLoanApply', 'EndLoanApply', 'EndLoanApply')\t865\n"
     ]
    }
   ],
   "source": [
    "noapp_path.sort_values(by='count', ascending=False, inplace=True)\n",
    "noapp_path.reset_index(drop=True, inplace=True)\n",
    "for i in range(20):\n",
    "    path, count = noapp_path.head(20).iloc[i]\n",
    "    print(f\"{path}\\t{count}\")"
   ]
  }
 ],
 "metadata": {
  "colab": {
   "collapsed_sections": [],
   "provenance": []
  },
  "kernelspec": {
   "display_name": "Python 3 (ipykernel)",
   "language": "python",
   "name": "python3"
  },
  "language_info": {
   "codemirror_mode": {
    "name": "ipython",
    "version": 3
   },
   "file_extension": ".py",
   "mimetype": "text/x-python",
   "name": "python",
   "nbconvert_exporter": "python",
   "pygments_lexer": "ipython3",
   "version": "3.9.12"
  },
  "papermill": {
   "default_parameters": {},
   "duration": 38975.718517,
   "end_time": "2022-09-30T23:25:16.133897",
   "environment_variables": {},
   "exception": null,
   "input_path": "__notebook__.ipynb",
   "output_path": "__notebook__.ipynb",
   "parameters": {},
   "start_time": "2022-09-30T12:35:40.415380",
   "version": "2.3.4"
  }
 },
 "nbformat": 4,
 "nbformat_minor": 5
}
