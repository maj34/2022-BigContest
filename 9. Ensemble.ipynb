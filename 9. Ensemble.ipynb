{
 "cells": [
  {
   "cell_type": "markdown",
   "id": "b0fee651",
   "metadata": {},
   "source": [
    "# Import"
   ]
  },
  {
   "cell_type": "code",
   "execution_count": 2,
   "id": "12df7d9b",
   "metadata": {},
   "outputs": [],
   "source": [
    "import pandas as pd\n",
    "import numpy as np\n",
    "import joblib\n",
    "import pickle\n",
    "\n",
    "from sklearn.ensemble import IsolationForest\n",
    "from pycaret import anomaly as py_an\n",
    "from pycaret import classification as py_cl\n",
    "from lightgbm import LGBMClassifier\n",
    "from catboost import CatBoostClassifier\n",
    "\n",
    "import torch\n",
    "from torch import nn\n",
    "from torch.utils.data import DataLoader, Dataset\n",
    "import torch.optim as optim\n",
    "import torch.nn.functional as F\n",
    "\n",
    "from pytorch_tabnet.tab_model import TabNetClassifier\n",
    "from pytorch_tabnet.metrics import Metric\n",
    "from pytorch_tabnet.pretraining import TabNetPretrainer\n",
    "from torch.optim.lr_scheduler import ReduceLROnPlateau\n",
    "\n",
    "from sklearn.metrics import f1_score\n",
    "\n",
    "DEVICE = torch.device('cuda') if torch.cuda.is_available() else torch.device('cpu')\n",
    "RANDOM_STATE = 4158"
   ]
  },
  {
   "cell_type": "markdown",
   "id": "6db4ec88",
   "metadata": {},
   "source": [
    "# Def"
   ]
  },
  {
   "cell_type": "code",
   "execution_count": 3,
   "id": "7986f7ab",
   "metadata": {},
   "outputs": [],
   "source": [
    "class F1Score(Metric):\n",
    "    def __init__(self):\n",
    "        self._name = \"f1\"\n",
    "        self._maximize = True\n",
    "    \n",
    "    def __call__(self, y_true, y_score):\n",
    "        y_score = (y_score[:, 1] >= 0.5).astype(np.uint8)\n",
    "        return f1_score(y_true, y_score)"
   ]
  },
  {
   "cell_type": "code",
   "execution_count": 4,
   "id": "7cec376a",
   "metadata": {},
   "outputs": [],
   "source": [
    "def get_pred_label(model_pred):\n",
    "    # IsolationForest 모델 출력 (1:정상, -1:불량(사기)) 이므로 (0:정상, 1:불량(사기))로 Label 변환\n",
    "    model_pred = np.where(model_pred == 1, 0, model_pred)\n",
    "    model_pred = np.where(model_pred == -1, 1, model_pred)\n",
    "    return model_pred"
   ]
  },
  {
   "cell_type": "markdown",
   "id": "e9147533",
   "metadata": {},
   "source": [
    "# Data Load"
   ]
  },
  {
   "cell_type": "code",
   "execution_count": 4,
   "id": "3c127b55",
   "metadata": {},
   "outputs": [],
   "source": [
    "public = pd.read_csv('../Data/master_public_data.csv',)\n",
    "private = pd.read_csv('../Data/master_private_data.csv')\n",
    "private_y = pd.read_csv('../Data/master_correct_answer_data.csv')['is_applied'].values\n",
    "test = pd.read_csv('../Data/master_test_data.csv')"
   ]
  },
  {
   "cell_type": "code",
   "execution_count": 5,
   "id": "1d107258",
   "metadata": {},
   "outputs": [
    {
     "name": "stdout",
     "output_type": "stream",
     "text": [
      "(924301, 72)\n",
      "(2156703, 71)\n",
      "(2156703,)\n",
      "(3255194, 72)\n"
     ]
    }
   ],
   "source": [
    "print(public.shape)\n",
    "print(private.shape)\n",
    "print(private_y.shape)\n",
    "print(test.shape)"
   ]
  },
  {
   "cell_type": "code",
   "execution_count": 6,
   "id": "08585dd4",
   "metadata": {},
   "outputs": [],
   "source": [
    "public_x = public.drop(['is_applied'],axis=1)\n",
    "public_y = public['is_applied'].values\n",
    "\n",
    "test_x = test.drop(['is_applied'],axis=1)\n",
    "test_y = test['is_applied'].values"
   ]
  },
  {
   "cell_type": "markdown",
   "id": "f46e02c4",
   "metadata": {},
   "source": [
    "# Model Load"
   ]
  },
  {
   "cell_type": "markdown",
   "id": "f6cf2cbd",
   "metadata": {},
   "source": [
    "## Anomaly"
   ]
  },
  {
   "cell_type": "code",
   "execution_count": null,
   "id": "3ac9bd23",
   "metadata": {},
   "outputs": [],
   "source": [
    "an_iforest_base = joblib.load('../Model/Isolationforest_base_1012.pkl')"
   ]
  },
  {
   "cell_type": "code",
   "execution_count": null,
   "id": "d5954bc4",
   "metadata": {},
   "outputs": [],
   "source": [
    "an_isolation_pycaret = py_an.load_model('../Model/pycaret_iforest')"
   ]
  },
  {
   "cell_type": "code",
   "execution_count": null,
   "id": "ab6d682f",
   "metadata": {},
   "outputs": [],
   "source": [
    "an_knn_pycaret = joblib.load('../Model/pycaret_knn.pkl')"
   ]
  },
  {
   "cell_type": "code",
   "execution_count": null,
   "id": "13b485da",
   "metadata": {},
   "outputs": [],
   "source": [
    "an_mcd_pycaret = py_an.load_model('../Model/pycaret_mcd')"
   ]
  },
  {
   "cell_type": "markdown",
   "id": "be023edd",
   "metadata": {},
   "source": [
    "## ML"
   ]
  },
  {
   "cell_type": "code",
   "execution_count": null,
   "id": "45c52d83",
   "metadata": {},
   "outputs": [],
   "source": [
    "ml_lgbm = joblib.load('../Model/LGBM_Optuna_model_0.44_WithLog.pkl')"
   ]
  },
  {
   "cell_type": "code",
   "execution_count": null,
   "id": "881de468",
   "metadata": {},
   "outputs": [],
   "source": [
    "ml_cat = joblib.load('../Model/Cat_Optuna_model_0.48_withLog.pkl')"
   ]
  },
  {
   "cell_type": "code",
   "execution_count": null,
   "id": "caf0df88",
   "metadata": {},
   "outputs": [],
   "source": [
    "ml_et = py_cl.load_model('../Model/pycaret_et')"
   ]
  },
  {
   "cell_type": "code",
   "execution_count": null,
   "id": "d3ab7f98",
   "metadata": {},
   "outputs": [],
   "source": [
    "ml_rf = py_cl.load_model('../Model/pycaret_rf')"
   ]
  },
  {
   "cell_type": "markdown",
   "id": "41795b05",
   "metadata": {},
   "source": [
    "# Anomaly"
   ]
  },
  {
   "cell_type": "code",
   "execution_count": null,
   "id": "a73e729b",
   "metadata": {},
   "outputs": [],
   "source": [
    "an_iforest_base_public_pred = an_iforest_base.predict(public_x)\n",
    "an_iforest_base_priate_pred = an_iforest_base.predict(private)\n",
    "an_iforest_base_test_pred = an_iforest_base.predict(test_x)"
   ]
  },
  {
   "cell_type": "code",
   "execution_count": null,
   "id": "eaae65c3",
   "metadata": {},
   "outputs": [],
   "source": [
    "an_isolation_pycaret_public_pred = py_an.predict_model(an_isolation_pycaret, data = public_x)\n",
    "an_isolation_pycaret_private_pred = py_an.predict_model(an_isolation_pycaret, data = private)\n",
    "an_isolation_pycaret_test_pred = py_an.predict_model(an_isolation_pycaret, data = test_x)"
   ]
  },
  {
   "cell_type": "code",
   "execution_count": null,
   "id": "8de05738",
   "metadata": {},
   "outputs": [],
   "source": [
    "an_knn_pycaret_public_pred = py_an.predict_model(an_knn_pycaret, data = public_x)\n",
    "an_knn_pycaret_private_pred = py_an.predict_model(an_knn_pycaret, data = private)\n",
    "an_knn_pycaret_test_pred = py_an.predict_model(an_knn_pycaret, data = test_x)"
   ]
  },
  {
   "cell_type": "code",
   "execution_count": null,
   "id": "43a2f2b5",
   "metadata": {},
   "outputs": [],
   "source": [
    "an_mcd_pycaret_public_pred = py_an.predict_model(an_mcd_pycaret, data = public_x)\n",
    "an_mcd_pycaret_private_pred = py_an.predict_model(an_mcd_pycaret, data = private)\n",
    "an_mcd_pycaret_test_pred = py_an.predict_model(an_mcd_pycaret, data = test_x)"
   ]
  },
  {
   "cell_type": "markdown",
   "id": "d7465b22",
   "metadata": {},
   "source": [
    "## ML"
   ]
  },
  {
   "cell_type": "code",
   "execution_count": null,
   "id": "e2d05ed6",
   "metadata": {},
   "outputs": [],
   "source": [
    "ml_lgbm_public_pred = ml_lgbm.predict(public_x)\n",
    "ml_lgbm_private_pred = ml_lgbm.predict(private)\n",
    "ml_lgbm_test_pred = ml_lgbm.predict(test_x)"
   ]
  },
  {
   "cell_type": "code",
   "execution_count": null,
   "id": "2f2b4995",
   "metadata": {},
   "outputs": [],
   "source": [
    "ml_cat_public_pred = ml_cat.predict(public_x)\n",
    "ml_cat_private_pred = ml_cat.predict(private)\n",
    "ml_cat_test_pred = ml_cat.predict(test_x)"
   ]
  },
  {
   "cell_type": "code",
   "execution_count": null,
   "id": "a1976708",
   "metadata": {},
   "outputs": [],
   "source": [
    "ml_et_public_pred = py_cl.predict_model(ml_et, data = public_x)\n",
    "ml_et_private_pred = py_cl.predict_model(ml_et, data = private)\n",
    "ml_et_test_pred = py_cl.predict_model(ml_et, data = test_x)"
   ]
  },
  {
   "cell_type": "code",
   "execution_count": null,
   "id": "bba3e6a1",
   "metadata": {},
   "outputs": [],
   "source": [
    "ml_rf_public_pred = py_cl.predict_model(ml_rf, data = public_x)\n",
    "ml_rf_private_pred = py_cl.predict_model(ml_rf, data = private)\n",
    "ml_rf_test_pred = py_cl.predict_model(ml_rf, data = test_x)"
   ]
  },
  {
   "cell_type": "markdown",
   "id": "a5107e78",
   "metadata": {},
   "source": [
    "## Deployment CSV"
   ]
  },
  {
   "cell_type": "markdown",
   "id": "545aaa2d",
   "metadata": {},
   "source": [
    "### Anomaly"
   ]
  },
  {
   "cell_type": "code",
   "execution_count": null,
   "id": "d6fee8bc",
   "metadata": {},
   "outputs": [],
   "source": [
    "pd.DataFrame(an_iforest_base_public_pred).to_csv('../Data/an_isolation_public_pred.csv',index=False)\n",
    "pd.DataFrame(an_iforest_base_priate_pred).to_csv('../Data/an_isolation_private.csv',index=False)\n",
    "pd.DataFrame(an_iforest_base_test_pred).to_csv('../Data/an_isolation_test.csv',index=False)"
   ]
  },
  {
   "cell_type": "code",
   "execution_count": null,
   "id": "667b46c5",
   "metadata": {},
   "outputs": [],
   "source": [
    "pd.DataFrame(an_isolation_pycaret_public_pred).to_csv('../Data/an_isolation_pycaret_public_pred.csv',index=False)\n",
    "pd.DataFrame(an_isolation_pycaret_private_pred).to_csv('../Data/an_isolation_pycaret_private_pred.csv',index=False)\n",
    "pd.DataFrame(an_isolation_pycaret_test_pred).to_csv('../Data/an_isolation_pycaret_test_pred.csv',index=False)"
   ]
  },
  {
   "cell_type": "code",
   "execution_count": null,
   "id": "2bfcbc6d",
   "metadata": {},
   "outputs": [],
   "source": [
    "pd.DataFrame(an_knn_pycaret_public_pred).to_csv('../Data/an_knn_pycaret_public_pred.csv',index=False)\n",
    "pd.DataFrame(an_knn_pycaret_private_pred).to_csv('../Data/an_knn_pycaret_private_pred.csv',index=False)\n",
    "pd.DataFrame(an_knn_pycaret_test_pred).to_csv('../Data/an_knn_pycaret_test_pred.csv',index=False)"
   ]
  },
  {
   "cell_type": "code",
   "execution_count": null,
   "id": "9cd7155f",
   "metadata": {},
   "outputs": [],
   "source": [
    "an_mcd_pycaret_public_pred.to_csv('../Data/an_mcd_ptcaret_public_pred.csv',index=False)\n",
    "an_mcd_pycaret_private_pred.to_csv('../Data/an_mcd_ptcaret_private_pred.csv',index=False)\n",
    "an_mcd_pycaret_test_pred.to_csv('../Data/an_mcd_ptcaret_tset_pred.csv',index=False)"
   ]
  },
  {
   "cell_type": "markdown",
   "id": "c8d21b7d",
   "metadata": {},
   "source": [
    "### ML"
   ]
  },
  {
   "cell_type": "code",
   "execution_count": null,
   "id": "0140d301",
   "metadata": {},
   "outputs": [],
   "source": [
    "pd.DataFrame(ml_lgbm_public_pred).to_csv('../Data/ml_lgbm_public_pred.csv',index=False)\n",
    "pd.DataFrame(ml_lgbm_private_pred).to_csv('../Data/ml_lgbm_private_pred.csv',index=False)\n",
    "pd.DataFrame(ml_lgbm_test_pred).to_csv('../Data/ml_lgbm_test_pred.csv',index=False)"
   ]
  },
  {
   "cell_type": "code",
   "execution_count": null,
   "id": "c36d9f87",
   "metadata": {},
   "outputs": [],
   "source": [
    "pd.DataFrame(ml_cat_public_pred).to_csv('../Data/ml_cat_public_pred_csv.',index=False)\n",
    "pd.DataFrame(ml_cat_private_pred).to_csv('../Data/ml_cat_private_pred_csv.',index=False)\n",
    "pd.DataFrame(ml_cat_test_pred).to_csv('../Data/ml_cat_test_pred_csv.',index=False)"
   ]
  },
  {
   "cell_type": "code",
   "execution_count": null,
   "id": "b260ab4b",
   "metadata": {},
   "outputs": [],
   "source": [
    "ml_et_public_pred.to_csv('../Data/ml_et_public_pred.csv',index=False)\n",
    "ml_et_priate_pred.to_csv('../Data/ml_et_private_pred.csv',index=False)\n",
    "ml_et_test_pred.to_csv('../Data/ml_et_test_pred.csv',index=False)"
   ]
  },
  {
   "cell_type": "code",
   "execution_count": null,
   "id": "da9b4073",
   "metadata": {},
   "outputs": [],
   "source": [
    "ml_rf_public_pred.to_csv('../Data/ml_rf_public_pred.csv',index=False)\n",
    "ml_rf_private_pred.to_csv('../Data/ml_rf_private_pred.csv',index=False)\n",
    "ml_rf_test_pred.to_csv('../Data/ml_rf_test_pred.csv',index=False)"
   ]
  },
  {
   "cell_type": "markdown",
   "id": "1ceea795",
   "metadata": {},
   "source": [
    "## Data Load"
   ]
  },
  {
   "cell_type": "markdown",
   "id": "2281181b",
   "metadata": {},
   "source": [
    "### Data"
   ]
  },
  {
   "cell_type": "code",
   "execution_count": 5,
   "id": "23909918",
   "metadata": {},
   "outputs": [],
   "source": [
    "public_y = pd.read_csv('../Data/master_public_data.csv',usecols=['is_applied'])\n",
    "private_y = pd.read_csv('../Data/master_correct_answer_data.csv')['is_applied'].values\n",
    "test = pd.read_csv('../Data/master_test_data.csv')"
   ]
  },
  {
   "cell_type": "markdown",
   "id": "efe3c9ae",
   "metadata": {},
   "source": [
    "### Anomaly"
   ]
  },
  {
   "cell_type": "code",
   "execution_count": 6,
   "id": "d53db8c8",
   "metadata": {},
   "outputs": [],
   "source": [
    "an_iforest_base_public_pred = pd.read_csv('../Data/an_isolation_public_pred.csv')\n",
    "an_iforest_base_private_pred = pd.read_csv('../Data/an_isolation_private.csv')\n",
    "an_iforest_base_test_pred = pd.read_csv('../Data/an_isolation_test.csv')"
   ]
  },
  {
   "cell_type": "code",
   "execution_count": 7,
   "id": "c9082532",
   "metadata": {},
   "outputs": [],
   "source": [
    "an_isolation_pycaret_public_pred = pd.read_csv('../Data/an_isolation_pycaret_public_pred.csv',usecols=['Anomaly'])\n",
    "an_isolation_pycaret_private_pred = pd.read_csv('../Data/an_isolation_pycaret_private_pred.csv',usecols=['Anomaly'])\n",
    "an_isolation_pycaret_test_pred = pd.read_csv('../Data/an_isolation_pycaret_test_pred.csv',usecols=['Anomaly'])"
   ]
  },
  {
   "cell_type": "code",
   "execution_count": 8,
   "id": "1757d14c",
   "metadata": {},
   "outputs": [],
   "source": [
    "an_knn_pycaret_public_pred = pd.read_csv('../Data/an_knn_pycaret_public_pred.csv',usecols=['Anomaly'])\n",
    "an_knn_pycaret_private_pred = pd.read_csv('../Data/an_knn_pycaret_private_pred.csv',usecols=['Anomaly'])\n",
    "an_knn_pycaret_test_pred = pd.read_csv('../Data/an_knn_pycaret_test_pred.csv',usecols=['Anomaly'])"
   ]
  },
  {
   "cell_type": "code",
   "execution_count": 9,
   "id": "d28226c7",
   "metadata": {},
   "outputs": [],
   "source": [
    "an_mcd_pycaret_public_pred = pd.read_csv('../Data/an_mcd_ptcaret_public_pred.csv',usecols=['Anomaly'])\n",
    "an_mcd_pycaret_private_pred = pd.read_csv('../Data/an_mcd_ptcaret_private_pred.csv',usecols=['Anomaly'])\n",
    "an_mcd_pycaret_test_pred = pd.read_csv('../Data/an_mcd_ptcaret_tset_pred.csv',usecols=['Anomaly'])"
   ]
  },
  {
   "cell_type": "markdown",
   "id": "1f35baf9",
   "metadata": {},
   "source": [
    "### ML"
   ]
  },
  {
   "cell_type": "code",
   "execution_count": 10,
   "id": "b14e6e7f",
   "metadata": {},
   "outputs": [],
   "source": [
    "ml_lgbm_public_pred = pd.read_csv('../Data/ml_lgbm_public_pred.csv')\n",
    "ml_lgbm_private_pred = pd.read_csv('../Data/ml_lgbm_private_pred.csv')\n",
    "ml_lgbm_test_pred = pd.read_csv('../Data/ml_lgbm_test_pred.csv')"
   ]
  },
  {
   "cell_type": "code",
   "execution_count": 11,
   "id": "838c95e9",
   "metadata": {},
   "outputs": [],
   "source": [
    "ml_cat_public_pred = pd.read_csv('../Data/ml_cat_public_pred_csv.')\n",
    "ml_cat_private_pred = pd.read_csv('../Data/ml_cat_private_pred_csv.')\n",
    "ml_cat_test_pred = pd.read_csv('../Data/ml_cat_test_pred_csv.')"
   ]
  },
  {
   "cell_type": "code",
   "execution_count": 12,
   "id": "f87106c2",
   "metadata": {},
   "outputs": [],
   "source": [
    "ml_et_public_pred = pd.read_csv('../Data/ml_et_public_pred.csv',usecols=['Label'])\n",
    "ml_et_priate_pred = pd.read_csv('../Data/ml_et_private_pred.csv',usecols=['Label'])\n",
    "ml_et_test_pred = pd.read_csv('../Data/ml_et_test_pred.csv',usecols=['Label'])"
   ]
  },
  {
   "cell_type": "code",
   "execution_count": 13,
   "id": "17ed7b37",
   "metadata": {},
   "outputs": [],
   "source": [
    "ml_rf_public_pred = pd.read_csv('../Data/ml_rf_public_pred.csv',usecols=['Label'])\n",
    "ml_rf_private_pred = pd.read_csv('../Data/ml_rf_private_pred.csv',usecols=['Label'])\n",
    "ml_rf_test_pred = pd.read_csv('../Data/ml_rf_test_pred.csv',usecols=['Label'])"
   ]
  },
  {
   "cell_type": "markdown",
   "id": "e601adc5",
   "metadata": {},
   "source": [
    "### Deep"
   ]
  },
  {
   "cell_type": "code",
   "execution_count": 14,
   "id": "fb01127f",
   "metadata": {},
   "outputs": [],
   "source": [
    "dp_tabnet_public_pred = pd.read_csv('../Data/tabnet_public_predict.csv')\n",
    "dp_tabnet_private_pred = pd.read_csv('../Data/tabnet_private_predict.csv')\n",
    "dp_tabnet_test_pred = pd.read_csv('../Data/tabnet_test_predict.csv')"
   ]
  },
  {
   "cell_type": "code",
   "execution_count": 15,
   "id": "bb389742",
   "metadata": {},
   "outputs": [],
   "source": [
    "dp_sam_tabnet_public_pred = pd.read_csv('../Data/tabnet_public_predict_sam.csv')\n",
    "dp_sam_tabnet_private_pred = pd.read_csv('../Data/tabnet_private_predict_sam.csv')\n",
    "dp_sam_tabnet_test_pred = pd.read_csv('../Data/tabnet_test_predict_sam.csv')"
   ]
  },
  {
   "cell_type": "markdown",
   "id": "ef37013e",
   "metadata": {},
   "source": [
    "# F1"
   ]
  },
  {
   "cell_type": "markdown",
   "id": "01f62a65",
   "metadata": {},
   "source": [
    "## Anomaly"
   ]
  },
  {
   "cell_type": "code",
   "execution_count": 15,
   "id": "ef2b6bf8",
   "metadata": {},
   "outputs": [],
   "source": [
    "an_iforest_base_public_pred = get_pred_label(an_iforest_base_public_pred)\n",
    "an_iforest_base_private_pred = get_pred_label(an_iforest_base_private_pred)"
   ]
  },
  {
   "cell_type": "code",
   "execution_count": 16,
   "id": "253ba583",
   "metadata": {},
   "outputs": [
    {
     "name": "stdout",
     "output_type": "stream",
     "text": [
      "0.0\n",
      "0.08205615021891398\n"
     ]
    }
   ],
   "source": [
    "print(f1_score(an_iforest_base_public_pred,public_y))\n",
    "print(f1_score(an_iforest_base_private_pred,private_y))"
   ]
  },
  {
   "cell_type": "code",
   "execution_count": 17,
   "id": "497309f6",
   "metadata": {},
   "outputs": [
    {
     "name": "stdout",
     "output_type": "stream",
     "text": [
      "0.11833081242359572\n",
      "0.11731823810366178\n"
     ]
    }
   ],
   "source": [
    "print(f1_score(an_isolation_pycaret_public_pred,public_y))\n",
    "print(f1_score(an_isolation_pycaret_private_pred,private_y))"
   ]
  },
  {
   "cell_type": "code",
   "execution_count": 18,
   "id": "74527462",
   "metadata": {},
   "outputs": [
    {
     "name": "stdout",
     "output_type": "stream",
     "text": [
      "0.0389665837073445\n",
      "0.03778003347936033\n"
     ]
    }
   ],
   "source": [
    "print(f1_score(an_knn_pycaret_public_pred,public_y))\n",
    "print(f1_score(an_knn_pycaret_private_pred,private_y))"
   ]
  },
  {
   "cell_type": "code",
   "execution_count": 19,
   "id": "40133ac5",
   "metadata": {},
   "outputs": [
    {
     "name": "stdout",
     "output_type": "stream",
     "text": [
      "0.08724184925044554\n",
      "0.08656207641619583\n"
     ]
    }
   ],
   "source": [
    "print(f1_score(an_mcd_pycaret_public_pred,public_y))\n",
    "print(f1_score(an_mcd_pycaret_private_pred,private_y))"
   ]
  },
  {
   "cell_type": "markdown",
   "id": "6979e39a",
   "metadata": {},
   "source": [
    "## ML"
   ]
  },
  {
   "cell_type": "code",
   "execution_count": 20,
   "id": "182a517d",
   "metadata": {},
   "outputs": [
    {
     "name": "stdout",
     "output_type": "stream",
     "text": [
      "0.44555071561916615\n",
      "0.44385501183717563\n"
     ]
    }
   ],
   "source": [
    "print(f1_score(ml_lgbm_public_pred,public_y))\n",
    "print(f1_score(ml_lgbm_private_pred,private_y))"
   ]
  },
  {
   "cell_type": "code",
   "execution_count": 21,
   "id": "0a862460",
   "metadata": {},
   "outputs": [
    {
     "name": "stdout",
     "output_type": "stream",
     "text": [
      "0.47830739028089203\n",
      "0.4792549631942895\n"
     ]
    }
   ],
   "source": [
    "print(f1_score(ml_cat_public_pred,public_y))\n",
    "print(f1_score(ml_cat_private_pred,private_y))"
   ]
  },
  {
   "cell_type": "code",
   "execution_count": 22,
   "id": "6f9e498b",
   "metadata": {},
   "outputs": [
    {
     "name": "stdout",
     "output_type": "stream",
     "text": [
      "0.32455996821018673\n",
      "0.32332320284055005\n"
     ]
    }
   ],
   "source": [
    "print(f1_score(pd.to_numeric(ml_et_public_pred['Label']),public_y))\n",
    "print(f1_score(pd.to_numeric(ml_et_priate_pred['Label']),private_y))"
   ]
  },
  {
   "cell_type": "code",
   "execution_count": 23,
   "id": "2fc2221a",
   "metadata": {},
   "outputs": [
    {
     "name": "stdout",
     "output_type": "stream",
     "text": [
      "0.2997562296858072\n",
      "0.2997724058045251\n"
     ]
    }
   ],
   "source": [
    "print(f1_score(pd.to_numeric(ml_rf_public_pred['Label']),public_y))\n",
    "print(f1_score(pd.to_numeric(ml_rf_private_pred['Label']),private_y))"
   ]
  },
  {
   "cell_type": "markdown",
   "id": "7a2aac68",
   "metadata": {},
   "source": [
    "## Deep"
   ]
  },
  {
   "cell_type": "code",
   "execution_count": 24,
   "id": "dfc966c1",
   "metadata": {},
   "outputs": [
    {
     "name": "stdout",
     "output_type": "stream",
     "text": [
      "0.3436995866844082\n",
      "0.3423446197715747\n"
     ]
    }
   ],
   "source": [
    "print(f1_score(dp_sam_tabnet_public_pred,public_y))\n",
    "print(f1_score(dp_sam_tabnet_private_pred,private_y))"
   ]
  },
  {
   "cell_type": "code",
   "execution_count": 25,
   "id": "9c905488",
   "metadata": {},
   "outputs": [
    {
     "name": "stdout",
     "output_type": "stream",
     "text": [
      "0.3426375969998442\n",
      "0.3430899055755012\n"
     ]
    }
   ],
   "source": [
    "print(f1_score(dp_tabnet_public_pred,public_y))\n",
    "print(f1_score(dp_tabnet_private_pred,private_y))"
   ]
  },
  {
   "cell_type": "markdown",
   "id": "4a5164c9",
   "metadata": {},
   "source": [
    "# Ensemble"
   ]
  },
  {
   "cell_type": "markdown",
   "id": "e3923453",
   "metadata": {},
   "source": [
    "## Public"
   ]
  },
  {
   "cell_type": "markdown",
   "id": "75cf2929",
   "metadata": {},
   "source": [
    "### Anomaly"
   ]
  },
  {
   "cell_type": "code",
   "execution_count": 26,
   "id": "3002df9d",
   "metadata": {},
   "outputs": [],
   "source": [
    "an_public_pred = an_iforest_base_public_pred | an_isolation_pycaret_public_pred | an_knn_pycaret_public_pred | an_mcd_pycaret_public_pred"
   ]
  },
  {
   "cell_type": "code",
   "execution_count": 27,
   "id": "b63badbf",
   "metadata": {},
   "outputs": [
    {
     "name": "stdout",
     "output_type": "stream",
     "text": [
      "0.12268745041951604\n"
     ]
    }
   ],
   "source": [
    "print(f1_score(an_public_pred,public_y))"
   ]
  },
  {
   "cell_type": "code",
   "execution_count": 41,
   "id": "c1062f4b",
   "metadata": {},
   "outputs": [],
   "source": [
    "an_public_pred = an_iforest_base_public_pred | an_isolation_pycaret_public_pred  | an_mcd_pycaret_public_pred"
   ]
  },
  {
   "cell_type": "code",
   "execution_count": 42,
   "id": "4e5f488e",
   "metadata": {},
   "outputs": [
    {
     "name": "stdout",
     "output_type": "stream",
     "text": [
      "0.13688655263044508\n"
     ]
    }
   ],
   "source": [
    "print(f1_score(an_public_pred,public_y))"
   ]
  },
  {
   "cell_type": "markdown",
   "id": "cdd00f19",
   "metadata": {},
   "source": [
    "### ML"
   ]
  },
  {
   "cell_type": "code",
   "execution_count": 28,
   "id": "b3644086",
   "metadata": {},
   "outputs": [],
   "source": [
    "ml_tree_public_pred = pd.to_numeric(ml_et_public_pred['Label']).astype(np.uint8) | pd.to_numeric(ml_rf_public_pred['Label']).astype(np.uint8)"
   ]
  },
  {
   "cell_type": "code",
   "execution_count": 29,
   "id": "88bb6e78",
   "metadata": {},
   "outputs": [
    {
     "name": "stdout",
     "output_type": "stream",
     "text": [
      "0.36087196647282416\n"
     ]
    }
   ],
   "source": [
    "print(f1_score(ml_tree_public_pred,public_y))"
   ]
  },
  {
   "cell_type": "code",
   "execution_count": 30,
   "id": "6141ac4f",
   "metadata": {},
   "outputs": [],
   "source": [
    "ml_boost_public_pred = pd.DataFrame(ml_lgbm_public_pred).astype(np.uint8) | pd.DataFrame(ml_cat_public_pred).astype(np.uint8)"
   ]
  },
  {
   "cell_type": "code",
   "execution_count": 31,
   "id": "81316e45",
   "metadata": {},
   "outputs": [
    {
     "name": "stdout",
     "output_type": "stream",
     "text": [
      "0.47903536214963927\n"
     ]
    }
   ],
   "source": [
    "print(f1_score(ml_boost_public_pred,public_y))"
   ]
  },
  {
   "cell_type": "code",
   "execution_count": 36,
   "id": "07341f7e",
   "metadata": {},
   "outputs": [],
   "source": [
    "ml_public_pred = np.zeros(shape=ml_tree_public_pred.shape)\n",
    "for i in range(len(ml_public_pred)):\n",
    "    ml_public_pred[i] = (ml_tree_public_pred[i] | ml_boost_public_pred.values[i]).astype(np.uint8)"
   ]
  },
  {
   "cell_type": "code",
   "execution_count": 38,
   "id": "a6b0fd8f",
   "metadata": {},
   "outputs": [
    {
     "name": "stdout",
     "output_type": "stream",
     "text": [
      "0.46400169480477155\n"
     ]
    }
   ],
   "source": [
    "print(f1_score(ml_public_pred,public_y))"
   ]
  },
  {
   "cell_type": "markdown",
   "id": "9a5e98a8",
   "metadata": {},
   "source": [
    "### Deep"
   ]
  },
  {
   "cell_type": "code",
   "execution_count": 39,
   "id": "ca675c7d",
   "metadata": {},
   "outputs": [],
   "source": [
    "dp_public_pred = dp_sam_tabnet_public_pred | dp_tabnet_public_pred"
   ]
  },
  {
   "cell_type": "code",
   "execution_count": 40,
   "id": "91c57c32",
   "metadata": {},
   "outputs": [
    {
     "name": "stdout",
     "output_type": "stream",
     "text": [
      "0.3424786000758226\n"
     ]
    }
   ],
   "source": [
    "print(f1_score(dp_public_pred,public_y))"
   ]
  },
  {
   "cell_type": "markdown",
   "id": "d82282be",
   "metadata": {},
   "source": [
    "### ALL"
   ]
  },
  {
   "cell_type": "code",
   "execution_count": 65,
   "id": "2eb5722f",
   "metadata": {},
   "outputs": [
    {
     "data": {
      "text/plain": [
       "array([0, 0, 0, ..., 0, 0, 0], dtype=int64)"
      ]
     },
     "execution_count": 65,
     "metadata": {},
     "output_type": "execute_result"
    }
   ],
   "source": [
    "an_isolation_pycaret_public_pred.values.flatten()"
   ]
  },
  {
   "cell_type": "code",
   "execution_count": 66,
   "id": "3a8a2a7b",
   "metadata": {},
   "outputs": [
    {
     "data": {
      "text/plain": [
       "array([0., 0., 0., ..., 0., 0., 0.])"
      ]
     },
     "execution_count": 66,
     "metadata": {},
     "output_type": "execute_result"
    }
   ],
   "source": [
    "ml_cat_public_pred.values.flatten()"
   ]
  },
  {
   "cell_type": "code",
   "execution_count": 67,
   "id": "dfd552bb",
   "metadata": {
    "scrolled": true
   },
   "outputs": [],
   "source": [
    "all_pred = an_isolation_pycaret_public_pred.values.flatten().astype(int) | ml_cat_public_pred.values.flatten().astype(int) | dp_sam_tabnet_public_pred.values.flatten().astype(int)"
   ]
  },
  {
   "cell_type": "code",
   "execution_count": 68,
   "id": "c7521e74",
   "metadata": {},
   "outputs": [
    {
     "name": "stdout",
     "output_type": "stream",
     "text": [
      "0.3767535330805601\n"
     ]
    }
   ],
   "source": [
    "print(f1_score(all_pred,public_y))"
   ]
  },
  {
   "cell_type": "code",
   "execution_count": 27,
   "id": "0ff09ee0",
   "metadata": {},
   "outputs": [],
   "source": [
    "pred_ens = []\n",
    "for a,b,c,d in zip(ml_lgbm_public_pred.values.flatten().astype(int),\n",
    "                      ml_cat_public_pred.values.flatten().astype(int), \n",
    "                      dp_tabnet_public_pred.values.flatten().astype(int),\n",
    "                      ml_et_public_pred['Label'].values.flatten().astype(int)):\n",
    "    if (a+b+c+d) >= 2:\n",
    "        pred_ens.append(1)\n",
    "    else:\n",
    "        pred_ens.append(0)"
   ]
  },
  {
   "cell_type": "code",
   "execution_count": 28,
   "id": "00803748",
   "metadata": {},
   "outputs": [
    {
     "data": {
      "text/plain": [
       "array([0, 0, 0, ..., 0, 0, 0])"
      ]
     },
     "execution_count": 28,
     "metadata": {},
     "output_type": "execute_result"
    }
   ],
   "source": [
    "np.array(pred_ens)"
   ]
  },
  {
   "cell_type": "code",
   "execution_count": 29,
   "id": "5f1ce420",
   "metadata": {},
   "outputs": [
    {
     "name": "stdout",
     "output_type": "stream",
     "text": [
      "0.4681613148887383\n"
     ]
    }
   ],
   "source": [
    "print(f1_score(np.array(pred_ens),public_y))"
   ]
  },
  {
   "cell_type": "markdown",
   "id": "ccccb24f",
   "metadata": {},
   "source": [
    "## Private"
   ]
  },
  {
   "cell_type": "code",
   "execution_count": 178,
   "id": "9946d4a3",
   "metadata": {},
   "outputs": [],
   "source": [
    "pred_ens = []\n",
    "for a,b,c in zip(ml_lgbm_private_pred.values.flatten().astype(int),\n",
    "                      ml_cat_private_pred.values.flatten().astype(int), \n",
    "                      dp_tabnet_private_pred.values.flatten().astype(int)):\n",
    "    if (a+b+c) >= 2:\n",
    "        pred_ens.append(1)\n",
    "    else:\n",
    "        pred_ens.append(0)"
   ]
  },
  {
   "cell_type": "code",
   "execution_count": 179,
   "id": "df9a8faa",
   "metadata": {},
   "outputs": [
    {
     "data": {
      "text/plain": [
       "array([0, 1, 0, ..., 0, 0, 0])"
      ]
     },
     "execution_count": 179,
     "metadata": {},
     "output_type": "execute_result"
    }
   ],
   "source": [
    "np.array(pred_ens)"
   ]
  },
  {
   "cell_type": "code",
   "execution_count": 180,
   "id": "a4de4ec2",
   "metadata": {
    "scrolled": true
   },
   "outputs": [
    {
     "name": "stdout",
     "output_type": "stream",
     "text": [
      "0.47940151109059104\n"
     ]
    }
   ],
   "source": [
    "print(f1_score(np.array(pred_ens),private_y))"
   ]
  },
  {
   "cell_type": "markdown",
   "id": "92ec3992",
   "metadata": {},
   "source": [
    "## Test"
   ]
  },
  {
   "cell_type": "code",
   "execution_count": 181,
   "id": "aa0d2cbc",
   "metadata": {},
   "outputs": [],
   "source": [
    "pred_ens = []\n",
    "for a,b,c in zip(ml_lgbm_test_pred.values.flatten().astype(int),\n",
    "                      ml_cat_test_pred.values.flatten().astype(int), \n",
    "                      dp_tabnet_test_pred.values.flatten().astype(int)):\n",
    "    if (a+b+c) >= 2:\n",
    "        pred_ens.append(1)\n",
    "    else:\n",
    "        pred_ens.append(0)"
   ]
  },
  {
   "cell_type": "code",
   "execution_count": 182,
   "id": "57319dce",
   "metadata": {},
   "outputs": [
    {
     "data": {
      "text/plain": [
       "array([0, 1, 1, ..., 1, 1, 0])"
      ]
     },
     "execution_count": 182,
     "metadata": {},
     "output_type": "execute_result"
    }
   ],
   "source": [
    "np.array(pred_ens)"
   ]
  },
  {
   "cell_type": "code",
   "execution_count": 185,
   "id": "b864428d",
   "metadata": {},
   "outputs": [
    {
     "data": {
      "text/plain": [
       "3255194"
      ]
     },
     "execution_count": 185,
     "metadata": {},
     "output_type": "execute_result"
    }
   ],
   "source": [
    "len(pred_ens)"
   ]
  },
  {
   "cell_type": "code",
   "execution_count": 184,
   "id": "c8175888",
   "metadata": {},
   "outputs": [
    {
     "data": {
      "text/plain": [
       "139929"
      ]
     },
     "execution_count": 184,
     "metadata": {},
     "output_type": "execute_result"
    }
   ],
   "source": [
    "sum(pred_ens)"
   ]
  },
  {
   "cell_type": "markdown",
   "id": "0f0830b0",
   "metadata": {},
   "source": [
    "## Deployment"
   ]
  },
  {
   "cell_type": "code",
   "execution_count": 188,
   "id": "13534e91",
   "metadata": {},
   "outputs": [],
   "source": [
    "submission = pd.read_csv('../Data/2022빅콘테스트_데이터분석리그_데이터분석분야_퓨처스부문_데이터셋_220908/데이터분석분야_퓨처스부문_평가데이터.csv')"
   ]
  },
  {
   "cell_type": "code",
   "execution_count": 189,
   "id": "f348b8c9",
   "metadata": {},
   "outputs": [
    {
     "data": {
      "text/html": [
       "<div>\n",
       "<style scoped>\n",
       "    .dataframe tbody tr th:only-of-type {\n",
       "        vertical-align: middle;\n",
       "    }\n",
       "\n",
       "    .dataframe tbody tr th {\n",
       "        vertical-align: top;\n",
       "    }\n",
       "\n",
       "    .dataframe thead th {\n",
       "        text-align: right;\n",
       "    }\n",
       "</style>\n",
       "<table border=\"1\" class=\"dataframe\">\n",
       "  <thead>\n",
       "    <tr style=\"text-align: right;\">\n",
       "      <th></th>\n",
       "      <th>application_id</th>\n",
       "      <th>product_id</th>\n",
       "      <th>is_applied</th>\n",
       "    </tr>\n",
       "  </thead>\n",
       "  <tbody>\n",
       "    <tr>\n",
       "      <th>0</th>\n",
       "      <td>4</td>\n",
       "      <td>220</td>\n",
       "      <td>NaN</td>\n",
       "    </tr>\n",
       "    <tr>\n",
       "      <th>1</th>\n",
       "      <td>4</td>\n",
       "      <td>191</td>\n",
       "      <td>NaN</td>\n",
       "    </tr>\n",
       "    <tr>\n",
       "      <th>2</th>\n",
       "      <td>8</td>\n",
       "      <td>29</td>\n",
       "      <td>NaN</td>\n",
       "    </tr>\n",
       "    <tr>\n",
       "      <th>3</th>\n",
       "      <td>8</td>\n",
       "      <td>159</td>\n",
       "      <td>NaN</td>\n",
       "    </tr>\n",
       "    <tr>\n",
       "      <th>4</th>\n",
       "      <td>8</td>\n",
       "      <td>85</td>\n",
       "      <td>NaN</td>\n",
       "    </tr>\n",
       "    <tr>\n",
       "      <th>...</th>\n",
       "      <td>...</td>\n",
       "      <td>...</td>\n",
       "      <td>...</td>\n",
       "    </tr>\n",
       "    <tr>\n",
       "      <th>3255189</th>\n",
       "      <td>2167778</td>\n",
       "      <td>258</td>\n",
       "      <td>NaN</td>\n",
       "    </tr>\n",
       "    <tr>\n",
       "      <th>3255190</th>\n",
       "      <td>2167791</td>\n",
       "      <td>29</td>\n",
       "      <td>NaN</td>\n",
       "    </tr>\n",
       "    <tr>\n",
       "      <th>3255191</th>\n",
       "      <td>2167822</td>\n",
       "      <td>149</td>\n",
       "      <td>NaN</td>\n",
       "    </tr>\n",
       "    <tr>\n",
       "      <th>3255192</th>\n",
       "      <td>2167822</td>\n",
       "      <td>157</td>\n",
       "      <td>NaN</td>\n",
       "    </tr>\n",
       "    <tr>\n",
       "      <th>3255193</th>\n",
       "      <td>2167822</td>\n",
       "      <td>65</td>\n",
       "      <td>NaN</td>\n",
       "    </tr>\n",
       "  </tbody>\n",
       "</table>\n",
       "<p>3255194 rows × 3 columns</p>\n",
       "</div>"
      ],
      "text/plain": [
       "         application_id  product_id  is_applied\n",
       "0                     4         220         NaN\n",
       "1                     4         191         NaN\n",
       "2                     8          29         NaN\n",
       "3                     8         159         NaN\n",
       "4                     8          85         NaN\n",
       "...                 ...         ...         ...\n",
       "3255189         2167778         258         NaN\n",
       "3255190         2167791          29         NaN\n",
       "3255191         2167822         149         NaN\n",
       "3255192         2167822         157         NaN\n",
       "3255193         2167822          65         NaN\n",
       "\n",
       "[3255194 rows x 3 columns]"
      ]
     },
     "execution_count": 189,
     "metadata": {},
     "output_type": "execute_result"
    }
   ],
   "source": [
    "submission"
   ]
  },
  {
   "cell_type": "code",
   "execution_count": 190,
   "id": "5e9371c9",
   "metadata": {},
   "outputs": [
    {
     "data": {
      "text/html": [
       "<div>\n",
       "<style scoped>\n",
       "    .dataframe tbody tr th:only-of-type {\n",
       "        vertical-align: middle;\n",
       "    }\n",
       "\n",
       "    .dataframe tbody tr th {\n",
       "        vertical-align: top;\n",
       "    }\n",
       "\n",
       "    .dataframe thead th {\n",
       "        text-align: right;\n",
       "    }\n",
       "</style>\n",
       "<table border=\"1\" class=\"dataframe\">\n",
       "  <thead>\n",
       "    <tr style=\"text-align: right;\">\n",
       "      <th></th>\n",
       "      <th>application_id</th>\n",
       "      <th>product_id</th>\n",
       "      <th>is_applied</th>\n",
       "    </tr>\n",
       "  </thead>\n",
       "  <tbody>\n",
       "    <tr>\n",
       "      <th>0</th>\n",
       "      <td>4</td>\n",
       "      <td>220</td>\n",
       "      <td>0</td>\n",
       "    </tr>\n",
       "    <tr>\n",
       "      <th>1</th>\n",
       "      <td>4</td>\n",
       "      <td>191</td>\n",
       "      <td>1</td>\n",
       "    </tr>\n",
       "    <tr>\n",
       "      <th>2</th>\n",
       "      <td>8</td>\n",
       "      <td>29</td>\n",
       "      <td>1</td>\n",
       "    </tr>\n",
       "    <tr>\n",
       "      <th>3</th>\n",
       "      <td>8</td>\n",
       "      <td>159</td>\n",
       "      <td>0</td>\n",
       "    </tr>\n",
       "    <tr>\n",
       "      <th>4</th>\n",
       "      <td>8</td>\n",
       "      <td>85</td>\n",
       "      <td>1</td>\n",
       "    </tr>\n",
       "    <tr>\n",
       "      <th>...</th>\n",
       "      <td>...</td>\n",
       "      <td>...</td>\n",
       "      <td>...</td>\n",
       "    </tr>\n",
       "    <tr>\n",
       "      <th>3255189</th>\n",
       "      <td>2167778</td>\n",
       "      <td>258</td>\n",
       "      <td>0</td>\n",
       "    </tr>\n",
       "    <tr>\n",
       "      <th>3255190</th>\n",
       "      <td>2167791</td>\n",
       "      <td>29</td>\n",
       "      <td>1</td>\n",
       "    </tr>\n",
       "    <tr>\n",
       "      <th>3255191</th>\n",
       "      <td>2167822</td>\n",
       "      <td>149</td>\n",
       "      <td>1</td>\n",
       "    </tr>\n",
       "    <tr>\n",
       "      <th>3255192</th>\n",
       "      <td>2167822</td>\n",
       "      <td>157</td>\n",
       "      <td>1</td>\n",
       "    </tr>\n",
       "    <tr>\n",
       "      <th>3255193</th>\n",
       "      <td>2167822</td>\n",
       "      <td>65</td>\n",
       "      <td>0</td>\n",
       "    </tr>\n",
       "  </tbody>\n",
       "</table>\n",
       "<p>3255194 rows × 3 columns</p>\n",
       "</div>"
      ],
      "text/plain": [
       "         application_id  product_id  is_applied\n",
       "0                     4         220           0\n",
       "1                     4         191           1\n",
       "2                     8          29           1\n",
       "3                     8         159           0\n",
       "4                     8          85           1\n",
       "...                 ...         ...         ...\n",
       "3255189         2167778         258           0\n",
       "3255190         2167791          29           1\n",
       "3255191         2167822         149           1\n",
       "3255192         2167822         157           1\n",
       "3255193         2167822          65           0\n",
       "\n",
       "[3255194 rows x 3 columns]"
      ]
     },
     "execution_count": 190,
     "metadata": {},
     "output_type": "execute_result"
    }
   ],
   "source": [
    "submission['is_applied'] = pred_ens\n",
    "submission"
   ]
  },
  {
   "cell_type": "code",
   "execution_count": 191,
   "id": "d9017a66",
   "metadata": {},
   "outputs": [],
   "source": [
    "submission.to_csv('../../평가데이터/데이터분석분야_퓨처스부문_롱Loan팀_평가데이터.csv',index=False)"
   ]
  }
 ],
 "metadata": {
  "kernelspec": {
   "display_name": "Python 3 (ipykernel)",
   "language": "python",
   "name": "python3"
  },
  "language_info": {
   "codemirror_mode": {
    "name": "ipython",
    "version": 3
   },
   "file_extension": ".py",
   "mimetype": "text/x-python",
   "name": "python",
   "nbconvert_exporter": "python",
   "pygments_lexer": "ipython3",
   "version": "3.9.12"
  }
 },
 "nbformat": 4,
 "nbformat_minor": 5
}
