{
 "cells": [
  {
   "cell_type": "markdown",
   "id": "b52e886e",
   "metadata": {},
   "source": [
    "# <font color='CC3D3D'> Feature Generation & Clansing2 Cluster\n",
    "    \n",
    "### 1. Feature Generation\n",
    "- <span style=\"color:green\">**Master_df.csv, user_spec.csv** </span>를 가지고 새로운 Feature 생성\n",
    "\n",
    "### 2. Drop Feature\n",
    "- ['loanapply_insert_time','user_id','insert_time', 'enter_year','enter_month','month','birth_year', 'month_day','연령대','소득수준',      '현재생활형편CSI_성별','현재생활형편CSI_나이', '현재생활형편CSI_소득']를 삭제\n",
    "\n",
    "### 3. Deployment CSV\n",
    "- 생성한 데이터를 포함한 <span style=\"color:blue\">**Master_df_v2_cluster.csv** </span>를 생성"
   ]
  },
  {
   "cell_type": "markdown",
   "id": "9d1b294f",
   "metadata": {
    "tags": []
   },
   "source": [
    "# Import"
   ]
  },
  {
   "cell_type": "code",
   "execution_count": 1,
   "id": "df037e3b",
   "metadata": {},
   "outputs": [],
   "source": [
    "import pandas as pd\n",
    "import numpy as np\n",
    "import re\n",
    "from datetime import datetime\n",
    "\n",
    "from sklearn.preprocessing import OneHotEncoder\n",
    "from sklearn.preprocessing import StandardScaler\n",
    "from sklearn.decomposition import PCA\n",
    "\n",
    "import matplotlib.pyplot as plt\n",
    "import seaborn as sns"
   ]
  },
  {
   "cell_type": "markdown",
   "id": "9f6d96f2",
   "metadata": {},
   "source": [
    "# Data Load"
   ]
  },
  {
   "cell_type": "code",
   "execution_count": 2,
   "id": "8bd93520",
   "metadata": {},
   "outputs": [],
   "source": [
    "tp_master = pd.read_csv('../Data/Master_df.csv')"
   ]
  },
  {
   "cell_type": "code",
   "execution_count": 3,
   "id": "3b33a98c",
   "metadata": {},
   "outputs": [],
   "source": [
    "user_spec = pd.read_csv('../Data/2022빅콘테스트_데이터분석리그_데이터분석분야_퓨처스부문_데이터셋_220908/user_spec.csv')"
   ]
  },
  {
   "cell_type": "markdown",
   "id": "79cc5638",
   "metadata": {},
   "source": [
    "# Feature Generation"
   ]
  },
  {
   "cell_type": "code",
   "execution_count": 4,
   "id": "07ece8bc",
   "metadata": {},
   "outputs": [],
   "source": [
    "# 1. feature engineering applicationID 안에서 loanapply_insert_time의 순위\n",
    "\n",
    "def loanapply_insert_time_rank(master_df):    \n",
    "    # 데이터 형태 변경\n",
    "    master_df.loanapply_insert_time = master_df.loanapply_insert_time.astype('datetime64')\n",
    "    master_df['loanapply_insert_time_rank'] = master_df.groupby('application_id')['loanapply_insert_time'].rank(method = 'min',ascending=False)\n",
    "    \n",
    "    return master_df"
   ]
  },
  {
   "cell_type": "code",
   "execution_count": 5,
   "id": "440e6c5c",
   "metadata": {},
   "outputs": [],
   "source": [
    "# 2. 한 applicationID 내에서 loan_limit 평균과 관측값의 차이 \n",
    "def loan_limit_avg_sub(master_df): \n",
    "    tp_df =  master_df.groupby('application_id')['loan_limit'].mean().reset_index().rename(columns = {'loan_limit': 'loan_limit_avg'})\n",
    "    master_df = pd.merge(master_df, tp_df, how = 'left')\n",
    "    master_df['loan_limit_avg_sub'] = master_df['loan_limit'] - master_df['loan_limit_avg']\n",
    "    master_df.drop('loan_limit_avg', axis = 1 ,inplace = True)\n",
    "    return master_df"
   ]
  },
  {
   "cell_type": "code",
   "execution_count": 6,
   "id": "8f63654a",
   "metadata": {},
   "outputs": [],
   "source": [
    "# 3. loan_rate 평균과 관측값의 차이\n",
    "def loan_rate_avg_sub(master_df):\n",
    "    tp_df =  master_df.groupby('application_id')['loan_rate'].mean().reset_index().rename(columns = {'loan_rate': 'loan_rate_avg'})\n",
    "    master_df = pd.merge(master_df, tp_df, how = 'left')\n",
    "    master_df['loan_rate_avg_sub'] = master_df['loan_rate'] - master_df['loan_rate_avg']\n",
    "    master_df.drop('loan_rate_avg', axis = 1 ,inplace = True)\n",
    "    return master_df"
   ]
  },
  {
   "cell_type": "code",
   "execution_count": 7,
   "id": "8b48a5b9",
   "metadata": {},
   "outputs": [],
   "source": [
    "# 4. 한 applicationID bank_id의 다양성\n",
    "def bankID_diversity(master_df):\n",
    "    tp_df = master_df.groupby('application_id')['bank_id'].nunique().reset_index().rename(columns = {'bank_id': 'bank_diversity'})\n",
    "    master_df = pd.merge(master_df, tp_df, how = 'left')\n",
    "    return master_df"
   ]
  },
  {
   "cell_type": "code",
   "execution_count": 8,
   "id": "750f721a",
   "metadata": {},
   "outputs": [],
   "source": [
    "# 5. 한 applicationID product_id의 다양성\n",
    "def productID_diversity(master_df):\n",
    "    tp_df = master_df.groupby('application_id')['product_id'].nunique().reset_index().rename(columns = {'product_id': 'product_diversity'})\n",
    "    master_df = pd.merge(master_df, tp_df, how = 'left')\n",
    "    return master_df"
   ]
  },
  {
   "cell_type": "code",
   "execution_count": 9,
   "id": "877a7eb8",
   "metadata": {},
   "outputs": [],
   "source": [
    "tp_master = loanapply_insert_time_rank(tp_master)\n",
    "tp_master = loan_limit_avg_sub(tp_master)\n",
    "tp_master = loan_rate_avg_sub(tp_master)\n",
    "tp_master = bankID_diversity(tp_master)\n",
    "tp_master = productID_diversity(tp_master)"
   ]
  },
  {
   "cell_type": "code",
   "execution_count": 10,
   "id": "026ee294",
   "metadata": {},
   "outputs": [],
   "source": [
    "# 1. Application 당 결측치 개수\n",
    "def missing_value_count(master_df):\n",
    "    tp_df = pd.concat([user_spec['application_id'], pd.DataFrame(user_spec.isnull().sum(axis=1))], axis=1).rename(columns = {0:'missing_value_cnt'})\n",
    "    master_df = pd.merge(master_df, tp_df, how='left', on='application_id')\n",
    "    return master_df"
   ]
  },
  {
   "cell_type": "code",
   "execution_count": 11,
   "id": "978bbca7",
   "metadata": {},
   "outputs": [],
   "source": [
    "# 2. 근속 연수\n",
    "def working_year(master_df):\n",
    "    current_year = 2022\n",
    "    company_enter_year = master_df['enter_year']\n",
    "    master_df['working_year'] = current_year - company_enter_year + 1\n",
    "    return master_df"
   ]
  },
  {
   "cell_type": "code",
   "execution_count": 12,
   "id": "c5037f7e",
   "metadata": {},
   "outputs": [],
   "source": [
    "# 3. 근속 개월 수 \n",
    "def working_month(master_df):\n",
    "    current_year = 2022\n",
    "    company_enter_year = master_df['enter_year']\n",
    "    working_year = current_year - company_enter_year\n",
    "    master_df['working_month'] = working_year * 12 + (6 - master_df['enter_month'] + 1)\n",
    "    master_df['working_month'] = master_df['working_month'].apply(lambda x : 0 if x<0 else x)\n",
    "    return master_df"
   ]
  },
  {
   "cell_type": "code",
   "execution_count": 13,
   "id": "aa3106c0",
   "metadata": {},
   "outputs": [],
   "source": [
    "# 4. 나이\n",
    "def age(master_df):\n",
    "    current_year = 2022\n",
    "    birth = master_df.birth_year\n",
    "    master_df['age'] = current_year - birth + 1\n",
    "    return master_df"
   ]
  },
  {
   "cell_type": "code",
   "execution_count": 14,
   "id": "83014dad",
   "metadata": {},
   "outputs": [],
   "source": [
    "tp_master = missing_value_count(tp_master)\n",
    "tp_master = working_year(tp_master)\n",
    "tp_master = working_month(tp_master)\n",
    "tp_master = age(tp_master)"
   ]
  },
  {
   "cell_type": "code",
   "execution_count": 15,
   "id": "dd9257f9",
   "metadata": {},
   "outputs": [],
   "source": [
    "# 공휴일\n",
    "def holiday(master_df):\n",
    "    holiday = ['2022-03-01', '2022-03-06', '2022-03-09', '2022-03-13', '2022-03-20', '2022-03-27',\n",
    "               '2022-04-03', '2022-04-10', '2022-04-17', '2022-04-24',\n",
    "               '2022-05-01', '2022-05-05', '2022-05-08', '2022-05-15', '2022-05-22', '2022-05-29']\n",
    "    master_df['holiday'] = master_df['loanapply_insert_time'].apply(lambda x : 1 if str(x)[:10] in holiday else 0)\n",
    "    return master_df"
   ]
  },
  {
   "cell_type": "code",
   "execution_count": 16,
   "id": "d0a08743",
   "metadata": {},
   "outputs": [],
   "source": [
    "tp_master = holiday(tp_master)"
   ]
  },
  {
   "cell_type": "code",
   "execution_count": 17,
   "id": "6b480de0",
   "metadata": {},
   "outputs": [],
   "source": [
    "tp_master['weekday'] = tp_master.loanapply_insert_time.dt.weekday \n",
    "tp_master['hour'] = tp_master.loanapply_insert_time.dt.hour # drop"
   ]
  },
  {
   "cell_type": "code",
   "execution_count": 18,
   "id": "06f2a7ad",
   "metadata": {},
   "outputs": [],
   "source": [
    "# WeekDay\n",
    "tp_master['weekday_sin'] = np.sin(tp_master.weekday*(2.*np.pi/7))\n",
    "tp_master['weekday_cos'] = np.cos(tp_master.weekday*(2.*np.pi/7))\n",
    "# Hour\n",
    "tp_master['hour_sin'] = np.sin(tp_master.hour*(2.*np.pi/24))\n",
    "tp_master['hour_cos'] = np.cos(tp_master.hour*(2.*np.pi/24))"
   ]
  },
  {
   "cell_type": "code",
   "execution_count": 19,
   "id": "01a10309",
   "metadata": {},
   "outputs": [],
   "source": [
    "# Purpose\n",
    "tp_master['foreign'] = 0\n",
    "\n",
    "tmp_dict = {'SWITCHLOAN':'대환대출', \n",
    "            'LIVING':'생활비',\n",
    "            'INVEST':'투자',\n",
    "            'ETC':'기타',\n",
    "            'HOUSEDEPOSIT':'전월세보증금', \n",
    "            'BUSINESS':'사업자금', \n",
    "            'BUYHOUSE':'주택구입',\n",
    "            'BUYCAR':'자동차구입'}\n",
    "for key in tmp_dict:\n",
    "    value = tmp_dict[key]\n",
    "    tp_master.loc[tp_master['purpose']==key,'foreign'] = 1\n",
    "    tp_master.loc[tp_master['purpose']==key,'purpose'] = value"
   ]
  },
  {
   "cell_type": "code",
   "execution_count": 20,
   "id": "6180da19",
   "metadata": {},
   "outputs": [],
   "source": [
    "tmp_purpose = pd.DataFrame(tp_master['purpose'].value_counts())\n",
    "tmp_purpose = tmp_purpose.reset_index()\n",
    "tmp_purpose = tmp_purpose.reset_index()\n",
    "tmp_purpose.columns = ['rank','purpose','count']"
   ]
  },
  {
   "cell_type": "code",
   "execution_count": 21,
   "id": "865952d1",
   "metadata": {},
   "outputs": [
    {
     "data": {
      "text/html": [
       "<div>\n",
       "<style scoped>\n",
       "    .dataframe tbody tr th:only-of-type {\n",
       "        vertical-align: middle;\n",
       "    }\n",
       "\n",
       "    .dataframe tbody tr th {\n",
       "        vertical-align: top;\n",
       "    }\n",
       "\n",
       "    .dataframe thead th {\n",
       "        text-align: right;\n",
       "    }\n",
       "</style>\n",
       "<table border=\"1\" class=\"dataframe\">\n",
       "  <thead>\n",
       "    <tr style=\"text-align: right;\">\n",
       "      <th></th>\n",
       "      <th>rank</th>\n",
       "      <th>purpose</th>\n",
       "      <th>count</th>\n",
       "    </tr>\n",
       "  </thead>\n",
       "  <tbody>\n",
       "    <tr>\n",
       "      <th>0</th>\n",
       "      <td>0</td>\n",
       "      <td>생활비</td>\n",
       "      <td>6936238</td>\n",
       "    </tr>\n",
       "    <tr>\n",
       "      <th>1</th>\n",
       "      <td>1</td>\n",
       "      <td>대환대출</td>\n",
       "      <td>4106977</td>\n",
       "    </tr>\n",
       "    <tr>\n",
       "      <th>2</th>\n",
       "      <td>2</td>\n",
       "      <td>전월세보증금</td>\n",
       "      <td>585196</td>\n",
       "    </tr>\n",
       "    <tr>\n",
       "      <th>3</th>\n",
       "      <td>3</td>\n",
       "      <td>주택구입</td>\n",
       "      <td>580668</td>\n",
       "    </tr>\n",
       "    <tr>\n",
       "      <th>4</th>\n",
       "      <td>4</td>\n",
       "      <td>사업자금</td>\n",
       "      <td>560083</td>\n",
       "    </tr>\n",
       "    <tr>\n",
       "      <th>5</th>\n",
       "      <td>5</td>\n",
       "      <td>기타</td>\n",
       "      <td>407458</td>\n",
       "    </tr>\n",
       "    <tr>\n",
       "      <th>6</th>\n",
       "      <td>6</td>\n",
       "      <td>투자</td>\n",
       "      <td>289304</td>\n",
       "    </tr>\n",
       "    <tr>\n",
       "      <th>7</th>\n",
       "      <td>7</td>\n",
       "      <td>자동차구입</td>\n",
       "      <td>61326</td>\n",
       "    </tr>\n",
       "  </tbody>\n",
       "</table>\n",
       "</div>"
      ],
      "text/plain": [
       "   rank purpose    count\n",
       "0     0     생활비  6936238\n",
       "1     1    대환대출  4106977\n",
       "2     2  전월세보증금   585196\n",
       "3     3    주택구입   580668\n",
       "4     4    사업자금   560083\n",
       "5     5      기타   407458\n",
       "6     6      투자   289304\n",
       "7     7   자동차구입    61326"
      ]
     },
     "execution_count": 21,
     "metadata": {},
     "output_type": "execute_result"
    }
   ],
   "source": [
    "tmp_purpose"
   ]
  },
  {
   "cell_type": "code",
   "execution_count": 22,
   "id": "c4a909ab",
   "metadata": {},
   "outputs": [],
   "source": [
    "tmp_dict = {'생활비':7, \n",
    "            '대환대출':6,\n",
    "            '전월세보증금':5,\n",
    "            '주택구입':4,\n",
    "            '사업자금':3,\n",
    "            '기타':2, \n",
    "            '투자':1, \n",
    "            '자동차구입':0}\n",
    "for key in tmp_dict:\n",
    "    value = tmp_dict[key]\n",
    "    tp_master.loc[tp_master['purpose']==key,'purpose'] = value"
   ]
  },
  {
   "cell_type": "code",
   "execution_count": 23,
   "id": "ef2a4ec9",
   "metadata": {},
   "outputs": [
    {
     "data": {
      "text/plain": [
       "7    6936238\n",
       "6    4106977\n",
       "5     585196\n",
       "4     580668\n",
       "3     560083\n",
       "2     407458\n",
       "1     289304\n",
       "0      61326\n",
       "Name: purpose, dtype: int64"
      ]
     },
     "execution_count": 23,
     "metadata": {},
     "output_type": "execute_result"
    }
   ],
   "source": [
    "tp_master['purpose'].value_counts()"
   ]
  },
  {
   "cell_type": "code",
   "execution_count": 24,
   "id": "8f40ef76",
   "metadata": {},
   "outputs": [],
   "source": [
    "target = tp_master['is_applied']\n",
    "tp_master.drop(['is_applied'],axis=1,inplace=True)\n",
    "tp_master['is_applied'] = target"
   ]
  },
  {
   "cell_type": "code",
   "execution_count": 25,
   "id": "543ac1a0",
   "metadata": {},
   "outputs": [
    {
     "data": {
      "text/plain": [
       "3257239"
      ]
     },
     "execution_count": 25,
     "metadata": {},
     "output_type": "execute_result"
    }
   ],
   "source": [
    "tp_master.isna().sum().sum() #3257239"
   ]
  },
  {
   "cell_type": "code",
   "execution_count": 26,
   "id": "996668af",
   "metadata": {},
   "outputs": [
    {
     "name": "stdout",
     "output_type": "stream",
     "text": [
      "<class 'pandas.core.frame.DataFrame'>\n",
      "Int64Index: 13527250 entries, 0 to 13527249\n",
      "Data columns (total 68 columns):\n",
      " #   Column                               Dtype         \n",
      "---  ------                               -----         \n",
      " 0   application_id                       int64         \n",
      " 1   loanapply_insert_time                datetime64[ns]\n",
      " 2   bank_id                              int64         \n",
      " 3   product_id                           int64         \n",
      " 4   loan_limit                           float64       \n",
      " 5   loan_rate                            float64       \n",
      " 6   user_id                              float64       \n",
      " 7   insert_time                          object        \n",
      " 8   credit_score                         float64       \n",
      " 9   yearly_income                        float64       \n",
      " 10  income_type                          object        \n",
      " 11  employment_type                      object        \n",
      " 12  houseown_type                        object        \n",
      " 13  desired_amount                       float64       \n",
      " 14  purpose                              object        \n",
      " 15  personal_rehabilitation_yn           float64       \n",
      " 16  personal_rehabilitation_complete_yn  float64       \n",
      " 17  existing_loan_cnt                    float64       \n",
      " 18  existing_loan_amt                    float64       \n",
      " 19  enter_year                           float64       \n",
      " 20  enter_month                          float64       \n",
      " 21  enter_birth                          float64       \n",
      " 22  month                                object        \n",
      " 23  birth_year                           float64       \n",
      " 24  gender                               float64       \n",
      " 25  month_day                            object        \n",
      " 26  k_lending_rate                       float64       \n",
      " 27  us_lending_rate                      float64       \n",
      " 28  btc_price                            float64       \n",
      " 29  btc_variance                         float64       \n",
      " 30  eth_price                            float64       \n",
      " 31  eth_variance                         float64       \n",
      " 32  lunc_price                           float64       \n",
      " 33  lunc_variance                        float64       \n",
      " 34  Close                                float64       \n",
      " 35  Open                                 float64       \n",
      " 36  High                                 float64       \n",
      " 37  Low                                  float64       \n",
      " 38  Volume                               int64         \n",
      " 39  Change                               float64       \n",
      " 40  실업자                                  int64         \n",
      " 41  실업률                                  float64       \n",
      " 42  연령대                                  object        \n",
      " 43  소득수준                                 object        \n",
      " 44  현재생활형편CSI_성별                         int64         \n",
      " 45  현재생활형편CSI_나이                         int64         \n",
      " 46  현재생활형편CSI_소득                         int64         \n",
      " 47  현재가계부채CSI                            float64       \n",
      " 48  가계부채전망CSI                            float64       \n",
      " 49  소비심리지수                               float64       \n",
      " 50  loanapply_insert_time_rank           float64       \n",
      " 51  loan_limit_avg_sub                   float64       \n",
      " 52  loan_rate_avg_sub                    float64       \n",
      " 53  bank_diversity                       int64         \n",
      " 54  product_diversity                    int64         \n",
      " 55  missing_value_cnt                    int64         \n",
      " 56  working_year                         float64       \n",
      " 57  working_month                        float64       \n",
      " 58  age                                  float64       \n",
      " 59  holiday                              int64         \n",
      " 60  weekday                              int64         \n",
      " 61  hour                                 int64         \n",
      " 62  weekday_sin                          float64       \n",
      " 63  weekday_cos                          float64       \n",
      " 64  hour_sin                             float64       \n",
      " 65  hour_cos                             float64       \n",
      " 66  foreign                              int64         \n",
      " 67  is_applied                           float64       \n",
      "dtypes: datetime64[ns](1), float64(43), int64(15), object(9)\n",
      "memory usage: 7.0+ GB\n"
     ]
    }
   ],
   "source": [
    "tp_master.info()"
   ]
  },
  {
   "cell_type": "markdown",
   "id": "68267a2c",
   "metadata": {},
   "source": [
    "# Drop Data 1st"
   ]
  },
  {
   "cell_type": "code",
   "execution_count": 27,
   "id": "d7f30a98",
   "metadata": {},
   "outputs": [],
   "source": [
    "drop_columns = ['loanapply_insert_time','insert_time',\n",
    "                'enter_year','enter_month','month','birth_year',\n",
    "                'month_day','연령대','소득수준',\n",
    "                '현재생활형편CSI_성별','현재생활형편CSI_나이',\n",
    "                '현재생활형편CSI_소득']"
   ]
  },
  {
   "cell_type": "code",
   "execution_count": 28,
   "id": "15f12db6",
   "metadata": {},
   "outputs": [],
   "source": [
    "tp_master.drop(drop_columns,axis=1,inplace=True)"
   ]
  },
  {
   "cell_type": "code",
   "execution_count": 29,
   "id": "615d31cc",
   "metadata": {},
   "outputs": [
    {
     "name": "stdout",
     "output_type": "stream",
     "text": [
      "<class 'pandas.core.frame.DataFrame'>\n",
      "Int64Index: 13527250 entries, 0 to 13527249\n",
      "Data columns (total 56 columns):\n",
      " #   Column                               Dtype  \n",
      "---  ------                               -----  \n",
      " 0   application_id                       int64  \n",
      " 1   bank_id                              int64  \n",
      " 2   product_id                           int64  \n",
      " 3   loan_limit                           float64\n",
      " 4   loan_rate                            float64\n",
      " 5   user_id                              float64\n",
      " 6   credit_score                         float64\n",
      " 7   yearly_income                        float64\n",
      " 8   income_type                          object \n",
      " 9   employment_type                      object \n",
      " 10  houseown_type                        object \n",
      " 11  desired_amount                       float64\n",
      " 12  purpose                              object \n",
      " 13  personal_rehabilitation_yn           float64\n",
      " 14  personal_rehabilitation_complete_yn  float64\n",
      " 15  existing_loan_cnt                    float64\n",
      " 16  existing_loan_amt                    float64\n",
      " 17  enter_birth                          float64\n",
      " 18  gender                               float64\n",
      " 19  k_lending_rate                       float64\n",
      " 20  us_lending_rate                      float64\n",
      " 21  btc_price                            float64\n",
      " 22  btc_variance                         float64\n",
      " 23  eth_price                            float64\n",
      " 24  eth_variance                         float64\n",
      " 25  lunc_price                           float64\n",
      " 26  lunc_variance                        float64\n",
      " 27  Close                                float64\n",
      " 28  Open                                 float64\n",
      " 29  High                                 float64\n",
      " 30  Low                                  float64\n",
      " 31  Volume                               int64  \n",
      " 32  Change                               float64\n",
      " 33  실업자                                  int64  \n",
      " 34  실업률                                  float64\n",
      " 35  현재가계부채CSI                            float64\n",
      " 36  가계부채전망CSI                            float64\n",
      " 37  소비심리지수                               float64\n",
      " 38  loanapply_insert_time_rank           float64\n",
      " 39  loan_limit_avg_sub                   float64\n",
      " 40  loan_rate_avg_sub                    float64\n",
      " 41  bank_diversity                       int64  \n",
      " 42  product_diversity                    int64  \n",
      " 43  missing_value_cnt                    int64  \n",
      " 44  working_year                         float64\n",
      " 45  working_month                        float64\n",
      " 46  age                                  float64\n",
      " 47  holiday                              int64  \n",
      " 48  weekday                              int64  \n",
      " 49  hour                                 int64  \n",
      " 50  weekday_sin                          float64\n",
      " 51  weekday_cos                          float64\n",
      " 52  hour_sin                             float64\n",
      " 53  hour_cos                             float64\n",
      " 54  foreign                              int64  \n",
      " 55  is_applied                           float64\n",
      "dtypes: float64(40), int64(12), object(4)\n",
      "memory usage: 5.7+ GB\n"
     ]
    }
   ],
   "source": [
    "tp_master.info()"
   ]
  },
  {
   "cell_type": "code",
   "execution_count": 30,
   "id": "ef4d4c0f",
   "metadata": {},
   "outputs": [
    {
     "data": {
      "text/plain": [
       "application_id                               0\n",
       "bank_id                                      0\n",
       "product_id                                   0\n",
       "loan_limit                                   0\n",
       "loan_rate                                    0\n",
       "user_id                                      0\n",
       "credit_score                                 0\n",
       "yearly_income                                0\n",
       "income_type                                  0\n",
       "employment_type                              0\n",
       "houseown_type                                0\n",
       "desired_amount                               0\n",
       "purpose                                      0\n",
       "personal_rehabilitation_yn                   0\n",
       "personal_rehabilitation_complete_yn          0\n",
       "existing_loan_cnt                            0\n",
       "existing_loan_amt                            0\n",
       "enter_birth                                  0\n",
       "gender                                       0\n",
       "k_lending_rate                               0\n",
       "us_lending_rate                              0\n",
       "btc_price                                    0\n",
       "btc_variance                                 0\n",
       "eth_price                                    0\n",
       "eth_variance                                 0\n",
       "lunc_price                                   0\n",
       "lunc_variance                                0\n",
       "Close                                        0\n",
       "Open                                         0\n",
       "High                                         0\n",
       "Low                                          0\n",
       "Volume                                       0\n",
       "Change                                       0\n",
       "실업자                                          0\n",
       "실업률                                          0\n",
       "현재가계부채CSI                                    0\n",
       "가계부채전망CSI                                    0\n",
       "소비심리지수                                       0\n",
       "loanapply_insert_time_rank                   0\n",
       "loan_limit_avg_sub                           0\n",
       "loan_rate_avg_sub                            0\n",
       "bank_diversity                               0\n",
       "product_diversity                            0\n",
       "missing_value_cnt                            0\n",
       "working_year                                 0\n",
       "working_month                                0\n",
       "age                                          0\n",
       "holiday                                      0\n",
       "weekday                                      0\n",
       "hour                                         0\n",
       "weekday_sin                                  0\n",
       "weekday_cos                                  0\n",
       "hour_sin                                     0\n",
       "hour_cos                                     0\n",
       "foreign                                      0\n",
       "is_applied                             3257239\n",
       "dtype: int64"
      ]
     },
     "execution_count": 30,
     "metadata": {},
     "output_type": "execute_result"
    }
   ],
   "source": [
    "tp_master.isna().sum()"
   ]
  },
  {
   "cell_type": "markdown",
   "id": "ae538ffe",
   "metadata": {},
   "source": [
    "# Data Check"
   ]
  },
  {
   "cell_type": "code",
   "execution_count": 31,
   "id": "eb93c95f",
   "metadata": {},
   "outputs": [
    {
     "data": {
      "text/plain": [
       "0    12505774\n",
       "1     1021476\n",
       "Name: holiday, dtype: int64"
      ]
     },
     "execution_count": 31,
     "metadata": {},
     "output_type": "execute_result"
    }
   ],
   "source": [
    "tp_master.holiday.value_counts()"
   ]
  },
  {
   "cell_type": "markdown",
   "id": "397689a8",
   "metadata": {},
   "source": [
    "# Deployment CSV"
   ]
  },
  {
   "cell_type": "code",
   "execution_count": 32,
   "id": "2fb7b925",
   "metadata": {},
   "outputs": [],
   "source": [
    "tp_master.to_csv('../Data/Master_df_v2_cluster.csv',index=False)"
   ]
  }
 ],
 "metadata": {
  "kernelspec": {
   "display_name": "Python 3 (ipykernel)",
   "language": "python",
   "name": "python3"
  },
  "language_info": {
   "codemirror_mode": {
    "name": "ipython",
    "version": 3
   },
   "file_extension": ".py",
   "mimetype": "text/x-python",
   "name": "python",
   "nbconvert_exporter": "python",
   "pygments_lexer": "ipython3",
   "version": "3.9.12"
  }
 },
 "nbformat": 4,
 "nbformat_minor": 5
}
